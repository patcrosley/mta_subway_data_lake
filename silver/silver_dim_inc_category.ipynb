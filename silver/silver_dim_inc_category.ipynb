{
 "cells": [
  {
   "cell_type": "code",
   "execution_count": 0,
   "metadata": {
    "application/vnd.databricks.v1+cell": {
     "cellMetadata": {
      "byteLimit": 2048000,
      "rowLimit": 10000
     },
     "inputWidgets": {},
     "nuid": "272a8853-8eaa-48cf-bcb9-8fbfd6356a23",
     "showTitle": false,
     "tableResultSettingsMap": {},
     "title": ""
    }
   },
   "outputs": [],
   "source": [
    "from pyspark.sql.functions import row_number, desc, md5, col\n",
    "from pyspark.sql.window import Window"
   ]
  },
  {
   "cell_type": "code",
   "execution_count": 0,
   "metadata": {
    "application/vnd.databricks.v1+cell": {
     "cellMetadata": {
      "byteLimit": 2048000,
      "rowLimit": 10000
     },
     "inputWidgets": {},
     "nuid": "4e51d5fc-3c41-42f9-9c72-0e75f2111f05",
     "showTitle": false,
     "tableResultSettingsMap": {},
     "title": ""
    }
   },
   "outputs": [],
   "source": [
    "major_incidents_df = spark.read \\\n",
    "    .table(\"mta_bronze.major_incident\")"
   ]
  },
  {
   "cell_type": "code",
   "execution_count": 0,
   "metadata": {
    "application/vnd.databricks.v1+cell": {
     "cellMetadata": {
      "byteLimit": 2048000,
      "rowLimit": 10000
     },
     "inputWidgets": {},
     "nuid": "fe6dc16d-a033-437b-91b7-72af36f7bf13",
     "showTitle": false,
     "tableResultSettingsMap": {},
     "title": ""
    }
   },
   "outputs": [],
   "source": [
    "inc_category_df = major_incidents_df \\\n",
    "    .select(\"inc_category\").distinct() \\\n",
    "    .orderBy(desc(\"inc_category\")) \\\n",
    "    .withColumn(\"ict_nk\", row_number().over(Window.orderBy(desc(\"inc_category\")))) \\\n",
    "    .withColumn(\"ict_sk\", md5(\"inc_category\"))"
   ]
  },
  {
   "cell_type": "code",
   "execution_count": 0,
   "metadata": {
    "application/vnd.databricks.v1+cell": {
     "cellMetadata": {
      "byteLimit": 2048000,
      "rowLimit": 10000
     },
     "inputWidgets": {},
     "nuid": "4b8bff25-7625-461a-9453-2a0eb58ab7b2",
     "showTitle": false,
     "tableResultSettingsMap": {},
     "title": ""
    }
   },
   "outputs": [],
   "source": [
    "inc_category_final_df = inc_category_df.select(\n",
    "    col(\"ict_sk\"),\n",
    "    col(\"ict_nk\"),\n",
    "    col(\"inc_category\").alias(\"ict_category\")\n",
    ")"
   ]
  },
  {
   "cell_type": "code",
   "execution_count": 0,
   "metadata": {
    "application/vnd.databricks.v1+cell": {
     "cellMetadata": {
      "byteLimit": 2048000,
      "rowLimit": 10000
     },
     "inputWidgets": {},
     "nuid": "e24ac46b-d196-457e-a69c-5f77d3092a08",
     "showTitle": false,
     "tableResultSettingsMap": {},
     "title": ""
    }
   },
   "outputs": [],
   "source": [
    "inc_category_final_df.write \\\n",
    "    .mode(\"overwrite\") \\\n",
    "    .format(\"delta\") \\\n",
    "    .option(\"mergeSchema\", \"true\") \\\n",
    "    .saveAsTable(\"mta_silver.dim_inc_category\")"
   ]
  },
  {
   "cell_type": "code",
   "execution_count": 0,
   "metadata": {
    "application/vnd.databricks.v1+cell": {
     "cellMetadata": {
      "byteLimit": 2048000,
      "implicitDf": true,
      "rowLimit": 10000
     },
     "inputWidgets": {},
     "nuid": "94e1f806-59db-47b3-8c75-929513490c27",
     "showTitle": false,
     "tableResultSettingsMap": {},
     "title": ""
    }
   },
   "outputs": [
    {
     "output_type": "display_data",
     "data": {
      "text/html": [
       "<style scoped>\n",
       "  .table-result-container {\n",
       "    max-height: 300px;\n",
       "    overflow: auto;\n",
       "  }\n",
       "  table, th, td {\n",
       "    border: 1px solid black;\n",
       "    border-collapse: collapse;\n",
       "  }\n",
       "  th, td {\n",
       "    padding: 5px;\n",
       "  }\n",
       "  th {\n",
       "    text-align: left;\n",
       "  }\n",
       "</style><div class='table-result-container'><table class='table-result'><thead style='background-color: white'><tr><th>ict_sk</th><th>ict_nk</th><th>ict_category</th></tr></thead><tbody><tr><td>92ea731d3af6677905303c88689f5d55</td><td>1</td><td>Track</td></tr><tr><td>97622cf2e8771871841450151d8f6c3b</td><td>2</td><td>Subway Car</td></tr><tr><td>3855e9349c45f9dd73c812e7d4fde893</td><td>3</td><td>Stations and Structure</td></tr><tr><td>cadd2b2ad06d8a0caee658e3c05e615a</td><td>4</td><td>Signals</td></tr><tr><td>5be0ee9a2a4d1ffddc897625771606ab</td><td>5</td><td>Persons on Trackbed/Police/Medical</td></tr><tr><td>6311ae17c1ee52b36e68aaf4ad066387</td><td>6</td><td>Other</td></tr></tbody></table></div>"
      ]
     },
     "metadata": {
      "application/vnd.databricks.v1+output": {
       "addedWidgets": {},
       "aggData": [],
       "aggError": "",
       "aggOverflow": false,
       "aggSchema": [],
       "aggSeriesLimitReached": false,
       "aggType": "",
       "arguments": {},
       "columnCustomDisplayInfos": {},
       "data": [
        [
         "92ea731d3af6677905303c88689f5d55",
         1,
         "Track"
        ],
        [
         "97622cf2e8771871841450151d8f6c3b",
         2,
         "Subway Car"
        ],
        [
         "3855e9349c45f9dd73c812e7d4fde893",
         3,
         "Stations and Structure"
        ],
        [
         "cadd2b2ad06d8a0caee658e3c05e615a",
         4,
         "Signals"
        ],
        [
         "5be0ee9a2a4d1ffddc897625771606ab",
         5,
         "Persons on Trackbed/Police/Medical"
        ],
        [
         "6311ae17c1ee52b36e68aaf4ad066387",
         6,
         "Other"
        ]
       ],
       "datasetInfos": [],
       "dbfsResultPath": null,
       "isJsonSchema": true,
       "metadata": {
        "createTempViewForImplicitDf": true,
        "dataframeName": "_sqldf",
        "executionCount": 13
       },
       "overflow": false,
       "plotOptions": {
        "customPlotOptions": {},
        "displayType": "table",
        "pivotAggregation": null,
        "pivotColumns": null,
        "xColumns": null,
        "yColumns": null
       },
       "removedWidgets": [],
       "schema": [
        {
         "metadata": "{}",
         "name": "ict_sk",
         "type": "\"string\""
        },
        {
         "metadata": "{}",
         "name": "ict_nk",
         "type": "\"integer\""
        },
        {
         "metadata": "{}",
         "name": "ict_category",
         "type": "\"string\""
        }
       ],
       "type": "table"
      }
     },
     "output_type": "display_data"
    }
   ],
   "source": [
    "%sql\n",
    "SELECT * FROM mta_silver.dim_inc_category LIMIT 10;"
   ]
  },
  {
   "cell_type": "code",
   "execution_count": 0,
   "metadata": {
    "application/vnd.databricks.v1+cell": {
     "cellMetadata": {
      "byteLimit": 2048000,
      "rowLimit": 10000
     },
     "inputWidgets": {},
     "nuid": "f86d1992-e3b1-4682-aaf5-637b43ea7a0b",
     "showTitle": false,
     "tableResultSettingsMap": {},
     "title": ""
    }
   },
   "outputs": [],
   "source": [
    "dbutils.notebook.exit(\"Success\")"
   ]
  }
 ],
 "metadata": {
  "application/vnd.databricks.v1+notebook": {
   "computePreferences": null,
   "dashboards": [],
   "environmentMetadata": {
    "base_environment": "",
    "environment_version": "2"
   },
   "language": "python",
   "notebookMetadata": {
    "mostRecentlyExecutedCommandWithImplicitDF": {
     "commandId": 4043720316056060,
     "dataframes": [
      "_sqldf"
     ]
    },
    "pythonIndentUnit": 4
   },
   "notebookName": "silver_dim_inc_category",
   "widgets": {}
  },
  "language_info": {
   "name": "python"
  }
 },
 "nbformat": 4,
 "nbformat_minor": 0
}
