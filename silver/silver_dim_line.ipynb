{
 "cells": [
  {
   "cell_type": "code",
   "execution_count": 0,
   "metadata": {
    "application/vnd.databricks.v1+cell": {
     "cellMetadata": {
      "byteLimit": 2048000,
      "rowLimit": 10000
     },
     "inputWidgets": {},
     "nuid": "91eff19e-cabf-4856-b2d1-b7b2efa67ef2",
     "showTitle": false,
     "tableResultSettingsMap": {},
     "title": ""
    }
   },
   "outputs": [],
   "source": [
    "from pyspark.sql.functions import md5, col"
   ]
  },
  {
   "cell_type": "code",
   "execution_count": 0,
   "metadata": {
    "application/vnd.databricks.v1+cell": {
     "cellMetadata": {
      "byteLimit": 2048000,
      "rowLimit": 10000
     },
     "inputWidgets": {},
     "nuid": "2c34dfd4-6fae-40d5-9f51-2cc12ad3f3f1",
     "showTitle": false,
     "tableResultSettingsMap": {},
     "title": ""
    }
   },
   "outputs": [],
   "source": [
    "lines_data = [\n",
    "    ('1', 'Broadway–Seventh Avenue Line', 'IRT', 'Local', 'A Division'),\n",
    "    ('2', 'Seventh Avenue Express', 'IRT', 'Express', 'A Division'),\n",
    "    ('3', 'Seventh Avenue Express', 'IRT', 'Express', 'A Division'),\n",
    "    ('4', 'Lexington Avenue Express', 'IRT', 'Express', 'A Division'),\n",
    "    ('5', 'Lexington Avenue Express', 'IRT', 'Express', 'A Division'),\n",
    "    ('6', 'Lexington Avenue Local', 'IRT', 'Local', 'A Division'),\n",
    "    ('7', 'Flushing Local/Express', 'IRT', 'Local/Express', 'A Division'),\n",
    "    ('A', 'Eighth Avenue Express', 'IND', 'Express', 'B Division'),\n",
    "    ('B', 'Sixth Avenue Express', 'IND', 'Express', 'B Division'),\n",
    "    ('C', 'Eighth Avenue Local', 'IND', 'Local', 'B Division'),\n",
    "    ('D', 'Sixth Avenue Express', 'IND', 'Express', 'B Division'),\n",
    "    ('E', 'Eighth Avenue Local', 'IND', 'Local', 'B Division'),\n",
    "    ('F', 'Sixth Avenue Local', 'IND', 'Local', 'B Division'),\n",
    "    ('G', 'Crosstown Line', 'IND', 'Local', 'B Division'),\n",
    "    ('JZ', 'Nassau Street Express/Local', 'BMT', 'Local/Express', 'B Division'),\n",
    "    ('L', 'Canarsie Line', 'BMT', 'Local', 'B Division'),\n",
    "    ('M', 'Sixth Avenue Local', 'BMT/IND', 'Local', 'B Division'),\n",
    "    ('N', 'Broadway Express', 'BMT', 'Express', 'B Division'),\n",
    "    ('Q', 'Broadway Express', 'BMT', 'Express', 'B Division'),\n",
    "    ('R', 'Broadway Local', 'BMT', 'Local', 'B Division'),\n",
    "    ('S 42nd', '42nd Street Shuttle', 'IRT', 'Shuttle', 'A Division'),\n",
    "    ('S Fkln', 'Franklin Avenue Shuttle', 'BMT', 'Shuttle', 'B Division'),\n",
    "    ('S Rock', 'Rockaway Park Shuttle', 'IND', 'Shuttle', 'B Division'),\n",
    "    ('W', 'Broadway Local', 'BMT', 'Local', 'B Division'),\n",
    "    ('V', 'Sixth Avenue Local', 'IND', 'Local', 'B Division'),\n",
    "    ('J', 'Nassau Street Local/Express', 'BMT', 'Local/Express', 'B Division'),\n",
    "    ('Z', 'Nassau Street Express', 'BMT', 'Express', 'B Division'),\n",
    "    ('S', 'Special Services Line', 'Various', 'Shuttle', 'A Division')\n",
    "]"
   ]
  },
  {
   "cell_type": "code",
   "execution_count": 0,
   "metadata": {
    "application/vnd.databricks.v1+cell": {
     "cellMetadata": {
      "byteLimit": 2048000,
      "rowLimit": 10000
     },
     "inputWidgets": {},
     "nuid": "92d0a784-10a3-4f53-b792-d53ca785f25d",
     "showTitle": false,
     "tableResultSettingsMap": {},
     "title": ""
    }
   },
   "outputs": [],
   "source": [
    "lines_columns = [\"lin_nk\", \"lin_name\", \"lin_operator\", \"lin_type\", \"lin_division\"]\n",
    "lines_df = spark.createDataFrame(lines_data, lines_columns) \\\n",
    "    .withColumn(\"lin_sk\", md5(col(\"lin_nk\")))"
   ]
  },
  {
   "cell_type": "code",
   "execution_count": 0,
   "metadata": {
    "application/vnd.databricks.v1+cell": {
     "cellMetadata": {
      "byteLimit": 2048000,
      "rowLimit": 10000
     },
     "inputWidgets": {},
     "nuid": "b4d38d2f-d0c1-49e2-aef8-a45c9601b9dc",
     "showTitle": false,
     "tableResultSettingsMap": {},
     "title": ""
    }
   },
   "outputs": [],
   "source": [
    "lines_final_df = lines_df.select(\n",
    "    \"lin_sk\",\n",
    "    \"lin_nk\", \n",
    "    \"lin_name\", \n",
    "    \"lin_operator\", \n",
    "    \"lin_type\", \n",
    "    \"lin_division\"\n",
    ")"
   ]
  },
  {
   "cell_type": "code",
   "execution_count": 0,
   "metadata": {
    "application/vnd.databricks.v1+cell": {
     "cellMetadata": {
      "byteLimit": 2048000,
      "rowLimit": 10000
     },
     "inputWidgets": {},
     "nuid": "22d47c71-6f1a-4a0e-9c49-32f654856e1a",
     "showTitle": false,
     "tableResultSettingsMap": {},
     "title": ""
    }
   },
   "outputs": [],
   "source": [
    "lines_final_df.write.format(\"delta\").mode(\"overwrite\").partitionBy(\"lin_type\").option(\"mergeSchema\", \"true\").saveAsTable(\"mta_silver.dim_line\")"
   ]
  },
  {
   "cell_type": "code",
   "execution_count": 0,
   "metadata": {
    "application/vnd.databricks.v1+cell": {
     "cellMetadata": {
      "byteLimit": 2048000,
      "implicitDf": true,
      "rowLimit": 10000
     },
     "inputWidgets": {},
     "nuid": "1a0c4c42-d843-4665-aa05-4e8cfbb69a82",
     "showTitle": false,
     "tableResultSettingsMap": {},
     "title": ""
    }
   },
   "outputs": [],
   "source": [
    "%sql\n",
    "SELECT * FROM mta_silver.dim_line;"
   ]
  },
  {
   "cell_type": "code",
   "execution_count": 0,
   "metadata": {
    "application/vnd.databricks.v1+cell": {
     "cellMetadata": {
      "byteLimit": 2048000,
      "rowLimit": 10000
     },
     "inputWidgets": {},
     "nuid": "6038dc65-10f3-40c9-a464-4cacb07e57ad",
     "showTitle": false,
     "tableResultSettingsMap": {},
     "title": ""
    }
   },
   "outputs": [],
   "source": [
    "dbutils.notebook.exit(\"Success\")"
   ]
  }
 ],
 "metadata": {
  "application/vnd.databricks.v1+notebook": {
   "computePreferences": null,
   "dashboards": [],
   "environmentMetadata": {
    "base_environment": "",
    "environment_version": "2"
   },
   "language": "python",
   "notebookMetadata": {
    "mostRecentlyExecutedCommandWithImplicitDF": {
     "commandId": 4043720316056089,
     "dataframes": [
      "_sqldf"
     ]
    },
    "pythonIndentUnit": 4
   },
   "notebookName": "silver_dim_line",
   "widgets": {}
  },
  "language_info": {
   "name": "python"
  }
 },
 "nbformat": 4,
 "nbformat_minor": 0
}
