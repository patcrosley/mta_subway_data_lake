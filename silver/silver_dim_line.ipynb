{
 "cells": [
  {
   "cell_type": "code",
   "execution_count": 0,
   "metadata": {
    "application/vnd.databricks.v1+cell": {
     "cellMetadata": {
      "byteLimit": 2048000,
      "rowLimit": 10000
     },
     "inputWidgets": {},
     "nuid": "91eff19e-cabf-4856-b2d1-b7b2efa67ef2",
     "showTitle": false,
     "tableResultSettingsMap": {},
     "title": ""
    }
   },
   "outputs": [],
   "source": [
    "from pyspark.sql.functions import md5, col"
   ]
  },
  {
   "cell_type": "code",
   "execution_count": 0,
   "metadata": {
    "application/vnd.databricks.v1+cell": {
     "cellMetadata": {
      "byteLimit": 2048000,
      "rowLimit": 10000
     },
     "inputWidgets": {},
     "nuid": "2c34dfd4-6fae-40d5-9f51-2cc12ad3f3f1",
     "showTitle": false,
     "tableResultSettingsMap": {},
     "title": ""
    }
   },
   "outputs": [],
   "source": [
    "lines_data = [\n",
    "    ('1', 'Broadway–Seventh Avenue Line', 'IRT', 'Local', 'A Division'),\n",
    "    ('2', 'Seventh Avenue Express', 'IRT', 'Express', 'A Division'),\n",
    "    ('3', 'Seventh Avenue Express', 'IRT', 'Express', 'A Division'),\n",
    "    ('4', 'Lexington Avenue Express', 'IRT', 'Express', 'A Division'),\n",
    "    ('5', 'Lexington Avenue Express', 'IRT', 'Express', 'A Division'),\n",
    "    ('6', 'Lexington Avenue Local', 'IRT', 'Local', 'A Division'),\n",
    "    ('7', 'Flushing Local/Express', 'IRT', 'Local/Express', 'A Division'),\n",
    "    ('A', 'Eighth Avenue Express', 'IND', 'Express', 'B Division'),\n",
    "    ('B', 'Sixth Avenue Express', 'IND', 'Express', 'B Division'),\n",
    "    ('C', 'Eighth Avenue Local', 'IND', 'Local', 'B Division'),\n",
    "    ('D', 'Sixth Avenue Express', 'IND', 'Express', 'B Division'),\n",
    "    ('E', 'Eighth Avenue Local', 'IND', 'Local', 'B Division'),\n",
    "    ('F', 'Sixth Avenue Local', 'IND', 'Local', 'B Division'),\n",
    "    ('G', 'Crosstown Line', 'IND', 'Local', 'B Division'),\n",
    "    ('JZ', 'Nassau Street Express/Local', 'BMT', 'Local/Express', 'B Division'),\n",
    "    ('L', 'Canarsie Line', 'BMT', 'Local', 'B Division'),\n",
    "    ('M', 'Sixth Avenue Local', 'BMT/IND', 'Local', 'B Division'),\n",
    "    ('N', 'Broadway Express', 'BMT', 'Express', 'B Division'),\n",
    "    ('Q', 'Broadway Express', 'BMT', 'Express', 'B Division'),\n",
    "    ('R', 'Broadway Local', 'BMT', 'Local', 'B Division'),\n",
    "    ('S 42nd', '42nd Street Shuttle', 'IRT', 'Shuttle', 'A Division'),\n",
    "    ('S Fkln', 'Franklin Avenue Shuttle', 'BMT', 'Shuttle', 'B Division'),\n",
    "    ('S Rock', 'Rockaway Park Shuttle', 'IND', 'Shuttle', 'B Division'),\n",
    "    ('W', 'Broadway Local', 'BMT', 'Local', 'B Division'),\n",
    "    ('V', 'Sixth Avenue Local', 'IND', 'Local', 'B Division'),\n",
    "    ('J', 'Nassau Street Local/Express', 'BMT', 'Local/Express', 'B Division'),\n",
    "    ('Z', 'Nassau Street Express', 'BMT', 'Express', 'B Division'),\n",
    "    ('S', 'Special Services Line', 'Various', 'Shuttle', 'A Division')\n",
    "]"
   ]
  },
  {
   "cell_type": "code",
   "execution_count": 0,
   "metadata": {
    "application/vnd.databricks.v1+cell": {
     "cellMetadata": {
      "byteLimit": 2048000,
      "rowLimit": 10000
     },
     "inputWidgets": {},
     "nuid": "92d0a784-10a3-4f53-b792-d53ca785f25d",
     "showTitle": false,
     "tableResultSettingsMap": {},
     "title": ""
    }
   },
   "outputs": [],
   "source": [
    "lines_columns = [\"lin_nk\", \"lin_name\", \"lin_operator\", \"lin_type\", \"lin_division\"]\n",
    "lines_df = spark.createDataFrame(lines_data, lines_columns) \\\n",
    "    .withColumn(\"lin_sk\", md5(col(\"lin_nk\")))"
   ]
  },
  {
   "cell_type": "code",
   "execution_count": 0,
   "metadata": {
    "application/vnd.databricks.v1+cell": {
     "cellMetadata": {
      "byteLimit": 2048000,
      "rowLimit": 10000
     },
     "inputWidgets": {},
     "nuid": "b4d38d2f-d0c1-49e2-aef8-a45c9601b9dc",
     "showTitle": false,
     "tableResultSettingsMap": {},
     "title": ""
    }
   },
   "outputs": [],
   "source": [
    "lines_final_df = lines_df.select(\n",
    "    \"lin_sk\",\n",
    "    \"lin_nk\", \n",
    "    \"lin_name\", \n",
    "    \"lin_operator\", \n",
    "    \"lin_type\", \n",
    "    \"lin_division\"\n",
    ")"
   ]
  },
  {
   "cell_type": "code",
   "execution_count": 0,
   "metadata": {
    "application/vnd.databricks.v1+cell": {
     "cellMetadata": {
      "byteLimit": 2048000,
      "rowLimit": 10000
     },
     "inputWidgets": {},
     "nuid": "22d47c71-6f1a-4a0e-9c49-32f654856e1a",
     "showTitle": false,
     "tableResultSettingsMap": {},
     "title": ""
    }
   },
   "outputs": [],
   "source": [
    "lines_final_df.write \\\n",
    "    .format(\"delta\") \\\n",
    "    .mode(\"overwrite\") \\\n",
    "    .partitionBy(\"lin_type\") \\\n",
    "    .option(\"mergeSchema\", \"true\") \\\n",
    "    .saveAsTable(\"mta_silver.dim_line\")"
   ]
  },
  {
   "cell_type": "code",
   "execution_count": 0,
   "metadata": {
    "application/vnd.databricks.v1+cell": {
     "cellMetadata": {
      "byteLimit": 2048000,
      "implicitDf": true,
      "rowLimit": 10000
     },
     "inputWidgets": {},
     "nuid": "1a0c4c42-d843-4665-aa05-4e8cfbb69a82",
     "showTitle": false,
     "tableResultSettingsMap": {},
     "title": ""
    }
   },
   "outputs": [
    {
     "output_type": "display_data",
     "data": {
      "text/html": [
       "<style scoped>\n",
       "  .table-result-container {\n",
       "    max-height: 300px;\n",
       "    overflow: auto;\n",
       "  }\n",
       "  table, th, td {\n",
       "    border: 1px solid black;\n",
       "    border-collapse: collapse;\n",
       "  }\n",
       "  th, td {\n",
       "    padding: 5px;\n",
       "  }\n",
       "  th {\n",
       "    text-align: left;\n",
       "  }\n",
       "</style><div class='table-result-container'><table class='table-result'><thead style='background-color: white'><tr><th>lin_sk</th><th>lin_nk</th><th>lin_name</th><th>lin_operator</th><th>lin_type</th><th>lin_division</th></tr></thead><tbody><tr><td>e4da3b7fbbce2345d7772b0674a318d5</td><td>5</td><td>Lexington Avenue Express</td><td>IRT</td><td>Express</td><td>A Division</td></tr><tr><td>a87ff679a2f3e71d9181a67b7542122c</td><td>4</td><td>Lexington Avenue Express</td><td>IRT</td><td>Express</td><td>A Division</td></tr><tr><td>eccbc87e4b5ce2fe28308fd9f2a7baf3</td><td>3</td><td>Seventh Avenue Express</td><td>IRT</td><td>Express</td><td>A Division</td></tr><tr><td>c81e728d9d4c2f636f067f89cc14862c</td><td>2</td><td>Seventh Avenue Express</td><td>IRT</td><td>Express</td><td>A Division</td></tr><tr><td>5dbc98dcc983a70728bd082d1a47546e</td><td>S</td><td>Special Services Line</td><td>Various</td><td>Shuttle</td><td>A Division</td></tr><tr><td>95f9989f9de07a9a64ee955d406e5de8</td><td>S Rock</td><td>Rockaway Park Shuttle</td><td>IND</td><td>Shuttle</td><td>B Division</td></tr><tr><td>ea7f8b5e0591956fc6458c1cee269be3</td><td>S Fkln</td><td>Franklin Avenue Shuttle</td><td>BMT</td><td>Shuttle</td><td>B Division</td></tr><tr><td>dfcf28d0734569a6a693bc8194de62bf</td><td>G</td><td>Crosstown Line</td><td>IND</td><td>Local</td><td>B Division</td></tr><tr><td>800618943025315f869e4e1f09471012</td><td>F</td><td>Sixth Avenue Local</td><td>IND</td><td>Local</td><td>B Division</td></tr><tr><td>3a3ea00cfc35332cedf6e5e9a32e94da</td><td>E</td><td>Eighth Avenue Local</td><td>IND</td><td>Local</td><td>B Division</td></tr><tr><td>0d61f8370cad1d412f80b84d143e1257</td><td>C</td><td>Eighth Avenue Local</td><td>IND</td><td>Local</td><td>B Division</td></tr><tr><td>f623e75af30e62bbd73d6df5b50bb7b5</td><td>D</td><td>Sixth Avenue Express</td><td>IND</td><td>Express</td><td>B Division</td></tr><tr><td>9d5ed678fe57bcca610140957afab571</td><td>B</td><td>Sixth Avenue Express</td><td>IND</td><td>Express</td><td>B Division</td></tr><tr><td>7fc56270e7a70fa81a5935b72eacbe29</td><td>A</td><td>Eighth Avenue Express</td><td>IND</td><td>Express</td><td>B Division</td></tr><tr><td>e1e1d3d40573127e9ee0480caf1283d6</td><td>R</td><td>Broadway Local</td><td>BMT</td><td>Local</td><td>B Division</td></tr><tr><td>69691c7bdcc3ce6d5d8a1361f22d04ac</td><td>M</td><td>Sixth Avenue Local</td><td>BMT/IND</td><td>Local</td><td>B Division</td></tr><tr><td>d20caec3b48a1eef164cb4ca81ba2587</td><td>L</td><td>Canarsie Line</td><td>BMT</td><td>Local</td><td>B Division</td></tr><tr><td>1679091c5a880faf6fb5e6087eb1b2dc</td><td>6</td><td>Lexington Avenue Local</td><td>IRT</td><td>Local</td><td>A Division</td></tr><tr><td>c4ca4238a0b923820dcc509a6f75849b</td><td>1</td><td>Broadway–Seventh Avenue Line</td><td>IRT</td><td>Local</td><td>A Division</td></tr><tr><td>f09564c9ca56850d4cd6b3319e541aee</td><td>Q</td><td>Broadway Express</td><td>BMT</td><td>Express</td><td>B Division</td></tr><tr><td>8d9c307cb7f3c4a32822a51922d1ceaa</td><td>N</td><td>Broadway Express</td><td>BMT</td><td>Express</td><td>B Division</td></tr><tr><td>5206560a306a2e085a437fd258eb57ce</td><td>V</td><td>Sixth Avenue Local</td><td>IND</td><td>Local</td><td>B Division</td></tr><tr><td>61e9c06ea9a85a5088a499df6458d276</td><td>W</td><td>Broadway Local</td><td>BMT</td><td>Local</td><td>B Division</td></tr><tr><td>743bda3a6098df4383907d7c772fca9c</td><td>JZ</td><td>Nassau Street Express/Local</td><td>BMT</td><td>Local/Express</td><td>B Division</td></tr><tr><td>ff44570aca8241914870afbc310cdb85</td><td>J</td><td>Nassau Street Local/Express</td><td>BMT</td><td>Local/Express</td><td>B Division</td></tr><tr><td>5d7775935e02a18a65fe7e5958adf53f</td><td>S 42nd</td><td>42nd Street Shuttle</td><td>IRT</td><td>Shuttle</td><td>A Division</td></tr><tr><td>8f14e45fceea167a5a36dedd4bea2543</td><td>7</td><td>Flushing Local/Express</td><td>IRT</td><td>Local/Express</td><td>A Division</td></tr><tr><td>21c2e59531c8710156d34a3c30ac81d5</td><td>Z</td><td>Nassau Street Express</td><td>BMT</td><td>Express</td><td>B Division</td></tr></tbody></table></div>"
      ]
     },
     "metadata": {
      "application/vnd.databricks.v1+output": {
       "addedWidgets": {},
       "aggData": [],
       "aggError": "",
       "aggOverflow": false,
       "aggSchema": [],
       "aggSeriesLimitReached": false,
       "aggType": "",
       "arguments": {},
       "columnCustomDisplayInfos": {},
       "data": [
        [
         "e4da3b7fbbce2345d7772b0674a318d5",
         "5",
         "Lexington Avenue Express",
         "IRT",
         "Express",
         "A Division"
        ],
        [
         "a87ff679a2f3e71d9181a67b7542122c",
         "4",
         "Lexington Avenue Express",
         "IRT",
         "Express",
         "A Division"
        ],
        [
         "eccbc87e4b5ce2fe28308fd9f2a7baf3",
         "3",
         "Seventh Avenue Express",
         "IRT",
         "Express",
         "A Division"
        ],
        [
         "c81e728d9d4c2f636f067f89cc14862c",
         "2",
         "Seventh Avenue Express",
         "IRT",
         "Express",
         "A Division"
        ],
        [
         "5dbc98dcc983a70728bd082d1a47546e",
         "S",
         "Special Services Line",
         "Various",
         "Shuttle",
         "A Division"
        ],
        [
         "95f9989f9de07a9a64ee955d406e5de8",
         "S Rock",
         "Rockaway Park Shuttle",
         "IND",
         "Shuttle",
         "B Division"
        ],
        [
         "ea7f8b5e0591956fc6458c1cee269be3",
         "S Fkln",
         "Franklin Avenue Shuttle",
         "BMT",
         "Shuttle",
         "B Division"
        ],
        [
         "dfcf28d0734569a6a693bc8194de62bf",
         "G",
         "Crosstown Line",
         "IND",
         "Local",
         "B Division"
        ],
        [
         "800618943025315f869e4e1f09471012",
         "F",
         "Sixth Avenue Local",
         "IND",
         "Local",
         "B Division"
        ],
        [
         "3a3ea00cfc35332cedf6e5e9a32e94da",
         "E",
         "Eighth Avenue Local",
         "IND",
         "Local",
         "B Division"
        ],
        [
         "0d61f8370cad1d412f80b84d143e1257",
         "C",
         "Eighth Avenue Local",
         "IND",
         "Local",
         "B Division"
        ],
        [
         "f623e75af30e62bbd73d6df5b50bb7b5",
         "D",
         "Sixth Avenue Express",
         "IND",
         "Express",
         "B Division"
        ],
        [
         "9d5ed678fe57bcca610140957afab571",
         "B",
         "Sixth Avenue Express",
         "IND",
         "Express",
         "B Division"
        ],
        [
         "7fc56270e7a70fa81a5935b72eacbe29",
         "A",
         "Eighth Avenue Express",
         "IND",
         "Express",
         "B Division"
        ],
        [
         "e1e1d3d40573127e9ee0480caf1283d6",
         "R",
         "Broadway Local",
         "BMT",
         "Local",
         "B Division"
        ],
        [
         "69691c7bdcc3ce6d5d8a1361f22d04ac",
         "M",
         "Sixth Avenue Local",
         "BMT/IND",
         "Local",
         "B Division"
        ],
        [
         "d20caec3b48a1eef164cb4ca81ba2587",
         "L",
         "Canarsie Line",
         "BMT",
         "Local",
         "B Division"
        ],
        [
         "1679091c5a880faf6fb5e6087eb1b2dc",
         "6",
         "Lexington Avenue Local",
         "IRT",
         "Local",
         "A Division"
        ],
        [
         "c4ca4238a0b923820dcc509a6f75849b",
         "1",
         "Broadway–Seventh Avenue Line",
         "IRT",
         "Local",
         "A Division"
        ],
        [
         "f09564c9ca56850d4cd6b3319e541aee",
         "Q",
         "Broadway Express",
         "BMT",
         "Express",
         "B Division"
        ],
        [
         "8d9c307cb7f3c4a32822a51922d1ceaa",
         "N",
         "Broadway Express",
         "BMT",
         "Express",
         "B Division"
        ],
        [
         "5206560a306a2e085a437fd258eb57ce",
         "V",
         "Sixth Avenue Local",
         "IND",
         "Local",
         "B Division"
        ],
        [
         "61e9c06ea9a85a5088a499df6458d276",
         "W",
         "Broadway Local",
         "BMT",
         "Local",
         "B Division"
        ],
        [
         "743bda3a6098df4383907d7c772fca9c",
         "JZ",
         "Nassau Street Express/Local",
         "BMT",
         "Local/Express",
         "B Division"
        ],
        [
         "ff44570aca8241914870afbc310cdb85",
         "J",
         "Nassau Street Local/Express",
         "BMT",
         "Local/Express",
         "B Division"
        ],
        [
         "5d7775935e02a18a65fe7e5958adf53f",
         "S 42nd",
         "42nd Street Shuttle",
         "IRT",
         "Shuttle",
         "A Division"
        ],
        [
         "8f14e45fceea167a5a36dedd4bea2543",
         "7",
         "Flushing Local/Express",
         "IRT",
         "Local/Express",
         "A Division"
        ],
        [
         "21c2e59531c8710156d34a3c30ac81d5",
         "Z",
         "Nassau Street Express",
         "BMT",
         "Express",
         "B Division"
        ]
       ],
       "datasetInfos": [],
       "dbfsResultPath": null,
       "isJsonSchema": true,
       "metadata": {
        "createTempViewForImplicitDf": true,
        "dataframeName": "_sqldf",
        "executionCount": 13
       },
       "overflow": false,
       "plotOptions": {
        "customPlotOptions": {},
        "displayType": "table",
        "pivotAggregation": null,
        "pivotColumns": null,
        "xColumns": null,
        "yColumns": null
       },
       "removedWidgets": [],
       "schema": [
        {
         "metadata": "{}",
         "name": "lin_sk",
         "type": "\"string\""
        },
        {
         "metadata": "{}",
         "name": "lin_nk",
         "type": "\"string\""
        },
        {
         "metadata": "{}",
         "name": "lin_name",
         "type": "\"string\""
        },
        {
         "metadata": "{}",
         "name": "lin_operator",
         "type": "\"string\""
        },
        {
         "metadata": "{}",
         "name": "lin_type",
         "type": "\"string\""
        },
        {
         "metadata": "{}",
         "name": "lin_division",
         "type": "\"string\""
        }
       ],
       "type": "table"
      }
     },
     "output_type": "display_data"
    }
   ],
   "source": [
    "%sql\n",
    "SELECT * FROM mta_silver.dim_line;"
   ]
  },
  {
   "cell_type": "code",
   "execution_count": 0,
   "metadata": {
    "application/vnd.databricks.v1+cell": {
     "cellMetadata": {
      "byteLimit": 2048000,
      "rowLimit": 10000
     },
     "inputWidgets": {},
     "nuid": "6038dc65-10f3-40c9-a464-4cacb07e57ad",
     "showTitle": false,
     "tableResultSettingsMap": {},
     "title": ""
    }
   },
   "outputs": [],
   "source": [
    "dbutils.notebook.exit(\"Success\")"
   ]
  }
 ],
 "metadata": {
  "application/vnd.databricks.v1+notebook": {
   "computePreferences": null,
   "dashboards": [],
   "environmentMetadata": {
    "base_environment": "",
    "environment_version": "2"
   },
   "language": "python",
   "notebookMetadata": {
    "mostRecentlyExecutedCommandWithImplicitDF": {
     "commandId": 4043720316056089,
     "dataframes": [
      "_sqldf"
     ]
    },
    "pythonIndentUnit": 4
   },
   "notebookName": "silver_dim_line",
   "widgets": {}
  },
  "language_info": {
   "name": "python"
  }
 },
 "nbformat": 4,
 "nbformat_minor": 0
}
