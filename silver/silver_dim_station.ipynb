{
 "cells": [
  {
   "cell_type": "code",
   "execution_count": 0,
   "metadata": {
    "application/vnd.databricks.v1+cell": {
     "cellMetadata": {
      "byteLimit": 2048000,
      "rowLimit": 10000
     },
     "inputWidgets": {},
     "nuid": "a3ba33dc-b234-4f1f-924a-918d1dfc3bac",
     "showTitle": false,
     "tableResultSettingsMap": {},
     "title": ""
    }
   },
   "outputs": [],
   "source": [
    "from pyspark.sql.types import BooleanType\n",
    "from pyspark.sql.functions import col, md5, concat_ws"
   ]
  },
  {
   "cell_type": "code",
   "execution_count": 0,
   "metadata": {
    "application/vnd.databricks.v1+cell": {
     "cellMetadata": {
      "byteLimit": 2048000,
      "rowLimit": 10000
     },
     "inputWidgets": {},
     "nuid": "a9ceaa56-c8ba-46b3-b43b-28991b19c0a3",
     "showTitle": false,
     "tableResultSettingsMap": {},
     "title": ""
    }
   },
   "outputs": [],
   "source": [
    "stations_df = spark.read \\\n",
    "    .table(\"mta_bronze.station\")\n",
    "\n",
    "dim_boroughs_df = spark.read \\\n",
    "    .table(\"mta_silver.dim_borough\")\n",
    "\n",
    "lkp_stations_df = spark.read \\\n",
    "    .table(\"mta_silver.lkp_station\")"
   ]
  },
  {
   "cell_type": "code",
   "execution_count": 0,
   "metadata": {
    "application/vnd.databricks.v1+cell": {
     "cellMetadata": {
      "byteLimit": 2048000,
      "rowLimit": 10000
     },
     "inputWidgets": {},
     "nuid": "555d7ab3-649b-480e-8195-0e53007282d4",
     "showTitle": false,
     "tableResultSettingsMap": {},
     "title": ""
    }
   },
   "outputs": [],
   "source": [
    "stations_trans_df = stations_df \\\n",
    "    .join(dim_boroughs_df, stations_df.stn_borough == dim_boroughs_df.brh_nk, \"left\") \\\n",
    "    .join(lkp_stations_df, stations_df.stn_stop_name == lkp_stations_df.lks_abbr, \"left\") \\\n",
    "    .withColumn(\"stn_borough\", col(\"brh_name\")) \\\n",
    "    .withColumn(\"stn_stop_name\", col(\"lks_name\")) \\\n",
    "    .withColumn(\"stn_sk\", md5(concat_ws(\"_\", col(\"stn_gtfs_stop_id\"), col(\"stn_id\"), ))) \\\n",
    "    .withColumn(\"stn_ada\", col(\"stn_ada\").cast(BooleanType())) \\\n",
    "    .withColumn(\"stn_ada_northbound\", col(\"stn_ada_northbound\").cast(BooleanType())) \\\n",
    "    .withColumn(\"stn_ada_southbound\", col(\"stn_ada_southbound\").cast(BooleanType()))"
   ]
  },
  {
   "cell_type": "code",
   "execution_count": 0,
   "metadata": {
    "application/vnd.databricks.v1+cell": {
     "cellMetadata": {
      "byteLimit": 2048000,
      "rowLimit": 10000
     },
     "inputWidgets": {},
     "nuid": "a6bb6a5f-48f2-4387-b9d8-9623ce723673",
     "showTitle": false,
     "tableResultSettingsMap": {},
     "title": ""
    }
   },
   "outputs": [],
   "source": [
    "stations_final_df = stations_trans_df.select(\n",
    "    'stn_sk',\n",
    "    col('stn_id').alias('stn_nk'),\n",
    "    'stn_gtfs_stop_id',\n",
    "    'stn_division',\n",
    "    'stn_stop_name',\n",
    "    'stn_borough',\n",
    "    'stn_structure',\n",
    "    'stn_gtfs_latitude',\n",
    "    'stn_gtfs_longitude',\n",
    "    'stn_north_direction_lbl',\n",
    "    'stn_south_direction_lbl',\n",
    "    'stn_ada',\n",
    "    'stn_ada_northbound',\n",
    "    'stn_ada_southbound',\n",
    "    'stn_ada_notes',\n",
    "    'stn_ingestion_date',\n",
    "    'stn_source'\n",
    ")"
   ]
  },
  {
   "cell_type": "code",
   "execution_count": 0,
   "metadata": {
    "application/vnd.databricks.v1+cell": {
     "cellMetadata": {
      "byteLimit": 2048000,
      "rowLimit": 10000
     },
     "inputWidgets": {},
     "nuid": "fa2f732d-739b-4d87-a46e-325fe7cde91a",
     "showTitle": false,
     "tableResultSettingsMap": {},
     "title": ""
    }
   },
   "outputs": [],
   "source": [
    "stations_final_df.write.mode(\"overwrite\").format(\"delta\").partitionBy(\"stn_borough\").option(\"mergeSchema\", \"true\").saveAsTable(\"mta_silver.dim_station\")"
   ]
  },
  {
   "cell_type": "code",
   "execution_count": 0,
   "metadata": {
    "application/vnd.databricks.v1+cell": {
     "cellMetadata": {
      "byteLimit": 2048000,
      "implicitDf": true,
      "rowLimit": 10000
     },
     "inputWidgets": {},
     "nuid": "754b7cb5-ac9b-423f-886e-3b3812089bd5",
     "showTitle": false,
     "tableResultSettingsMap": {},
     "title": ""
    }
   },
   "outputs": [],
   "source": [
    "%sql\n",
    "SELECT * FROM mta_silver.dim_station;"
   ]
  },
  {
   "cell_type": "code",
   "execution_count": 0,
   "metadata": {
    "application/vnd.databricks.v1+cell": {
     "cellMetadata": {
      "byteLimit": 2048000,
      "rowLimit": 10000
     },
     "inputWidgets": {},
     "nuid": "fce83d44-207a-4af5-8856-b84b25388f83",
     "showTitle": false,
     "tableResultSettingsMap": {},
     "title": ""
    }
   },
   "outputs": [],
   "source": [
    "dbutils.notebook.exit(\"Success\")"
   ]
  }
 ],
 "metadata": {
  "application/vnd.databricks.v1+notebook": {
   "computePreferences": null,
   "dashboards": [],
   "environmentMetadata": {
    "base_environment": "",
    "environment_version": "2"
   },
   "language": "python",
   "notebookMetadata": {
    "mostRecentlyExecutedCommandWithImplicitDF": {
     "commandId": 4043720316056103,
     "dataframes": [
      "_sqldf"
     ]
    },
    "pythonIndentUnit": 4
   },
   "notebookName": "silver_dim_station",
   "widgets": {}
  },
  "language_info": {
   "name": "python"
  }
 },
 "nbformat": 4,
 "nbformat_minor": 0
}
