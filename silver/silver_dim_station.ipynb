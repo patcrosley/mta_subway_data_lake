{
 "cells": [
  {
   "cell_type": "code",
   "execution_count": 0,
   "metadata": {
    "application/vnd.databricks.v1+cell": {
     "cellMetadata": {
      "byteLimit": 2048000,
      "rowLimit": 10000
     },
     "inputWidgets": {},
     "nuid": "a3ba33dc-b234-4f1f-924a-918d1dfc3bac",
     "showTitle": false,
     "tableResultSettingsMap": {},
     "title": ""
    }
   },
   "outputs": [],
   "source": [
    "from pyspark.sql.types import BooleanType\n",
    "from pyspark.sql.functions import col, md5, concat_ws"
   ]
  },
  {
   "cell_type": "code",
   "execution_count": 0,
   "metadata": {
    "application/vnd.databricks.v1+cell": {
     "cellMetadata": {
      "byteLimit": 2048000,
      "rowLimit": 10000
     },
     "inputWidgets": {},
     "nuid": "a9ceaa56-c8ba-46b3-b43b-28991b19c0a3",
     "showTitle": false,
     "tableResultSettingsMap": {},
     "title": ""
    }
   },
   "outputs": [],
   "source": [
    "stations_df = spark.read \\\n",
    "    .table(\"mta_bronze.station\")\n",
    "\n",
    "dim_boroughs_df = spark.read \\\n",
    "    .table(\"mta_silver.dim_borough\")\n",
    "\n",
    "lkp_stations_df = spark.read \\\n",
    "    .table(\"mta_silver.lkp_station\")"
   ]
  },
  {
   "cell_type": "code",
   "execution_count": 0,
   "metadata": {
    "application/vnd.databricks.v1+cell": {
     "cellMetadata": {
      "byteLimit": 2048000,
      "rowLimit": 10000
     },
     "inputWidgets": {},
     "nuid": "555d7ab3-649b-480e-8195-0e53007282d4",
     "showTitle": false,
     "tableResultSettingsMap": {},
     "title": ""
    }
   },
   "outputs": [],
   "source": [
    "stations_trans_df = stations_df \\\n",
    "    .join(dim_boroughs_df, stations_df.stn_borough == dim_boroughs_df.brh_nk, \"left\") \\\n",
    "    .join(lkp_stations_df, stations_df.stn_stop_name == lkp_stations_df.lks_abbr, \"left\") \\\n",
    "    .withColumn(\"stn_borough\", col(\"brh_name\")) \\\n",
    "    .withColumn(\"stn_stop_name\", col(\"lks_name\")) \\\n",
    "    .withColumn(\"stn_sk\", md5(concat_ws(\"_\", col(\"stn_gtfs_stop_id\"), col(\"stn_id\"), ))) \\\n",
    "    .withColumn(\"stn_ada\", col(\"stn_ada\").cast(BooleanType())) \\\n",
    "    .withColumn(\"stn_ada_northbound\", col(\"stn_ada_northbound\").cast(BooleanType())) \\\n",
    "    .withColumn(\"stn_ada_southbound\", col(\"stn_ada_southbound\").cast(BooleanType()))"
   ]
  },
  {
   "cell_type": "code",
   "execution_count": 0,
   "metadata": {
    "application/vnd.databricks.v1+cell": {
     "cellMetadata": {
      "byteLimit": 2048000,
      "rowLimit": 10000
     },
     "inputWidgets": {},
     "nuid": "a6bb6a5f-48f2-4387-b9d8-9623ce723673",
     "showTitle": false,
     "tableResultSettingsMap": {},
     "title": ""
    }
   },
   "outputs": [],
   "source": [
    "stations_final_df = stations_trans_df.select(\n",
    "    'stn_sk',\n",
    "    col('stn_id').alias('stn_nk'),\n",
    "    'stn_gtfs_stop_id',\n",
    "    'stn_division',\n",
    "    'stn_stop_name',\n",
    "    'stn_borough',\n",
    "    'stn_structure',\n",
    "    'stn_gtfs_latitude',\n",
    "    'stn_gtfs_longitude',\n",
    "    'stn_north_direction_lbl',\n",
    "    'stn_south_direction_lbl',\n",
    "    'stn_ada',\n",
    "    'stn_ada_northbound',\n",
    "    'stn_ada_southbound',\n",
    "    'stn_ada_notes',\n",
    "    'stn_ingestion_date',\n",
    "    'stn_source'\n",
    ")"
   ]
  },
  {
   "cell_type": "code",
   "execution_count": 0,
   "metadata": {
    "application/vnd.databricks.v1+cell": {
     "cellMetadata": {
      "byteLimit": 2048000,
      "rowLimit": 10000
     },
     "inputWidgets": {},
     "nuid": "fa2f732d-739b-4d87-a46e-325fe7cde91a",
     "showTitle": false,
     "tableResultSettingsMap": {},
     "title": ""
    }
   },
   "outputs": [],
   "source": [
    "stations_final_df.write \\\n",
    "    .mode(\"overwrite\") \\\n",
    "    .format(\"delta\") \\\n",
    "    .partitionBy(\"stn_borough\") \\\n",
    "    .option(\"mergeSchema\", \"true\") \\\n",
    "    .saveAsTable(\"mta_silver.dim_station\")"
   ]
  },
  {
   "cell_type": "code",
   "execution_count": 0,
   "metadata": {
    "application/vnd.databricks.v1+cell": {
     "cellMetadata": {
      "byteLimit": 2048000,
      "implicitDf": true,
      "rowLimit": 10000
     },
     "inputWidgets": {},
     "nuid": "754b7cb5-ac9b-423f-886e-3b3812089bd5",
     "showTitle": false,
     "tableResultSettingsMap": {},
     "title": ""
    }
   },
   "outputs": [
    {
     "output_type": "display_data",
     "data": {
      "text/html": [
       "<style scoped>\n",
       "  .table-result-container {\n",
       "    max-height: 300px;\n",
       "    overflow: auto;\n",
       "  }\n",
       "  table, th, td {\n",
       "    border: 1px solid black;\n",
       "    border-collapse: collapse;\n",
       "  }\n",
       "  th, td {\n",
       "    padding: 5px;\n",
       "  }\n",
       "  th {\n",
       "    text-align: left;\n",
       "  }\n",
       "</style><div class='table-result-container'><table class='table-result'><thead style='background-color: white'><tr><th>stn_sk</th><th>stn_nk</th><th>stn_gtfs_stop_id</th><th>stn_division</th><th>stn_stop_name</th><th>stn_borough</th><th>stn_structure</th><th>stn_gtfs_latitude</th><th>stn_gtfs_longitude</th><th>stn_north_direction_lbl</th><th>stn_south_direction_lbl</th><th>stn_ada</th><th>stn_ada_northbound</th><th>stn_ada_southbound</th><th>stn_ada_notes</th><th>stn_ingestion_date</th><th>stn_source</th></tr></thead><tbody><tr><td>c64eb990beffbc3efa5eba4734cbef5f</td><td>83</td><td>J15</td><td>BMT</td><td>Woodhaven Boulevard</td><td>Queens</td><td>Elevated</td><td>40.693879</td><td>-73.851576</td><td>Jamaica</td><td>Manhattan</td><td>true</td><td>true</td><td>true</td><td>null</td><td>2025-03-09T07:18:46.888Z</td><td>data.gov</td></tr><tr><td>021e260a93b31dfe25fdf0e6e32d259c</td><td>461</td><td>718</td><td>IRT</td><td>Queensboro Plaza</td><td>Queens</td><td>Elevated</td><td>40.750582</td><td>-73.940202</td><td>Outbound</td><td>Manhattan</td><td>true</td><td>true</td><td>true</td><td>null</td><td>2025-03-09T07:18:46.888Z</td><td>data.gov</td></tr><tr><td>d9f3db64cbb1b34ac8e18d1199619a70</td><td>200</td><td>H12</td><td>IND</td><td>Beach 90th Street</td><td>Queens</td><td>Viaduct</td><td>40.588034</td><td>-73.813641</td><td>Inbound</td><td>Rockaway Park</td><td>false</td><td>false</td><td>false</td><td>null</td><td>2025-03-09T07:18:46.888Z</td><td>data.gov</td></tr><tr><td>1db2272d25df1ee771b91f578e6badc9</td><td>263</td><td>G10</td><td>IND</td><td>63rd Drive-Rego Park</td><td>Queens</td><td>Subway</td><td>40.729846</td><td>-73.861604</td><td>Outbound</td><td>Manhattan</td><td>false</td><td>false</td><td>false</td><td>null</td><td>2025-03-09T07:18:46.888Z</td><td>data.gov</td></tr><tr><td>0a2836833e09a76e3d42a82c4ffd7714</td><td>456</td><td>712</td><td>IRT</td><td>61st Street-Woodside</td><td>Queens</td><td>Elevated</td><td>40.74563</td><td>-73.902984</td><td>Outbound</td><td>Manhattan</td><td>true</td><td>true</td><td>true</td><td>null</td><td>2025-03-09T07:18:46.888Z</td><td>data.gov</td></tr><tr><td>522c173bf3669a2745f9cfa06856ebb9</td><td>195</td><td>A65</td><td>IND</td><td>Ozone Park-Lefferts Boulevard</td><td>Queens</td><td>Elevated</td><td>40.685951</td><td>-73.825798</td><td>Manhattan</td><td>Last Stop</td><td>true</td><td>true</td><td>true</td><td>null</td><td>2025-03-09T07:18:46.888Z</td><td>data.gov</td></tr><tr><td>91eb445190fdea70eea263b2453805a5</td><td>464</td><td>721</td><td>IRT</td><td>Vernon Boulevard-Jackson Avenue</td><td>Queens</td><td>Subway</td><td>40.742626</td><td>-73.953581</td><td>Outbound</td><td>Manhattan</td><td>false</td><td>false</td><td>false</td><td>null</td><td>2025-03-09T07:18:46.888Z</td><td>data.gov</td></tr><tr><td>4ef9db701e4ae5f0dc165eeaff066a0b</td><td>450</td><td>706</td><td>IRT</td><td>103rd Street-Corona Plaza</td><td>Queens</td><td>Elevated</td><td>40.749865</td><td>-73.8627</td><td>Outbound</td><td>Manhattan</td><td>false</td><td>false</td><td>false</td><td>null</td><td>2025-03-09T07:18:46.888Z</td><td>data.gov</td></tr><tr><td>2533b5d6708a9cfdc4626ae1ba9fb11d</td><td>2</td><td>R03</td><td>BMT</td><td>Astoria Boulevard</td><td>Queens</td><td>Elevated</td><td>40.770258</td><td>-73.917843</td><td>Astoria</td><td>Manhattan</td><td>true</td><td>true</td><td>true</td><td>null</td><td>2025-03-09T07:18:46.888Z</td><td>data.gov</td></tr><tr><td>41972977409498617f22923d6bdd5a46</td><td>267</td><td>G14</td><td>IND</td><td>Jackson Heights-Roosevelt Avenue</td><td>Queens</td><td>Subway</td><td>40.746644</td><td>-73.891338</td><td>Outbound</td><td>Manhattan</td><td>true</td><td>true</td><td>true</td><td>null</td><td>2025-03-09T07:18:46.888Z</td><td>data.gov</td></tr></tbody></table></div>"
      ]
     },
     "metadata": {
      "application/vnd.databricks.v1+output": {
       "addedWidgets": {},
       "aggData": [],
       "aggError": "",
       "aggOverflow": false,
       "aggSchema": [],
       "aggSeriesLimitReached": false,
       "aggType": "",
       "arguments": {},
       "columnCustomDisplayInfos": {},
       "data": [
        [
         "c64eb990beffbc3efa5eba4734cbef5f",
         83,
         "J15",
         "BMT",
         "Woodhaven Boulevard",
         "Queens",
         "Elevated",
         40.693879,
         -73.851576,
         "Jamaica",
         "Manhattan",
         true,
         true,
         true,
         null,
         "2025-03-09T07:18:46.888Z",
         "data.gov"
        ],
        [
         "021e260a93b31dfe25fdf0e6e32d259c",
         461,
         "718",
         "IRT",
         "Queensboro Plaza",
         "Queens",
         "Elevated",
         40.750582,
         -73.940202,
         "Outbound",
         "Manhattan",
         true,
         true,
         true,
         null,
         "2025-03-09T07:18:46.888Z",
         "data.gov"
        ],
        [
         "d9f3db64cbb1b34ac8e18d1199619a70",
         200,
         "H12",
         "IND",
         "Beach 90th Street",
         "Queens",
         "Viaduct",
         40.588034,
         -73.813641,
         "Inbound",
         "Rockaway Park",
         false,
         false,
         false,
         null,
         "2025-03-09T07:18:46.888Z",
         "data.gov"
        ],
        [
         "1db2272d25df1ee771b91f578e6badc9",
         263,
         "G10",
         "IND",
         "63rd Drive-Rego Park",
         "Queens",
         "Subway",
         40.729846,
         -73.861604,
         "Outbound",
         "Manhattan",
         false,
         false,
         false,
         null,
         "2025-03-09T07:18:46.888Z",
         "data.gov"
        ],
        [
         "0a2836833e09a76e3d42a82c4ffd7714",
         456,
         "712",
         "IRT",
         "61st Street-Woodside",
         "Queens",
         "Elevated",
         40.74563,
         -73.902984,
         "Outbound",
         "Manhattan",
         true,
         true,
         true,
         null,
         "2025-03-09T07:18:46.888Z",
         "data.gov"
        ],
        [
         "522c173bf3669a2745f9cfa06856ebb9",
         195,
         "A65",
         "IND",
         "Ozone Park-Lefferts Boulevard",
         "Queens",
         "Elevated",
         40.685951,
         -73.825798,
         "Manhattan",
         "Last Stop",
         true,
         true,
         true,
         null,
         "2025-03-09T07:18:46.888Z",
         "data.gov"
        ],
        [
         "91eb445190fdea70eea263b2453805a5",
         464,
         "721",
         "IRT",
         "Vernon Boulevard-Jackson Avenue",
         "Queens",
         "Subway",
         40.742626,
         -73.953581,
         "Outbound",
         "Manhattan",
         false,
         false,
         false,
         null,
         "2025-03-09T07:18:46.888Z",
         "data.gov"
        ],
        [
         "4ef9db701e4ae5f0dc165eeaff066a0b",
         450,
         "706",
         "IRT",
         "103rd Street-Corona Plaza",
         "Queens",
         "Elevated",
         40.749865,
         -73.8627,
         "Outbound",
         "Manhattan",
         false,
         false,
         false,
         null,
         "2025-03-09T07:18:46.888Z",
         "data.gov"
        ],
        [
         "2533b5d6708a9cfdc4626ae1ba9fb11d",
         2,
         "R03",
         "BMT",
         "Astoria Boulevard",
         "Queens",
         "Elevated",
         40.770258,
         -73.917843,
         "Astoria",
         "Manhattan",
         true,
         true,
         true,
         null,
         "2025-03-09T07:18:46.888Z",
         "data.gov"
        ],
        [
         "41972977409498617f22923d6bdd5a46",
         267,
         "G14",
         "IND",
         "Jackson Heights-Roosevelt Avenue",
         "Queens",
         "Subway",
         40.746644,
         -73.891338,
         "Outbound",
         "Manhattan",
         true,
         true,
         true,
         null,
         "2025-03-09T07:18:46.888Z",
         "data.gov"
        ]
       ],
       "datasetInfos": [],
       "dbfsResultPath": null,
       "isJsonSchema": true,
       "metadata": {
        "createTempViewForImplicitDf": true,
        "dataframeName": "_sqldf",
        "executionCount": 13
       },
       "overflow": false,
       "plotOptions": {
        "customPlotOptions": {},
        "displayType": "table",
        "pivotAggregation": null,
        "pivotColumns": null,
        "xColumns": null,
        "yColumns": null
       },
       "removedWidgets": [],
       "schema": [
        {
         "metadata": "{}",
         "name": "stn_sk",
         "type": "\"string\""
        },
        {
         "metadata": "{}",
         "name": "stn_nk",
         "type": "\"integer\""
        },
        {
         "metadata": "{}",
         "name": "stn_gtfs_stop_id",
         "type": "\"string\""
        },
        {
         "metadata": "{}",
         "name": "stn_division",
         "type": "\"string\""
        },
        {
         "metadata": "{}",
         "name": "stn_stop_name",
         "type": "\"string\""
        },
        {
         "metadata": "{}",
         "name": "stn_borough",
         "type": "\"string\""
        },
        {
         "metadata": "{}",
         "name": "stn_structure",
         "type": "\"string\""
        },
        {
         "metadata": "{}",
         "name": "stn_gtfs_latitude",
         "type": "\"double\""
        },
        {
         "metadata": "{}",
         "name": "stn_gtfs_longitude",
         "type": "\"double\""
        },
        {
         "metadata": "{}",
         "name": "stn_north_direction_lbl",
         "type": "\"string\""
        },
        {
         "metadata": "{}",
         "name": "stn_south_direction_lbl",
         "type": "\"string\""
        },
        {
         "metadata": "{}",
         "name": "stn_ada",
         "type": "\"boolean\""
        },
        {
         "metadata": "{}",
         "name": "stn_ada_northbound",
         "type": "\"boolean\""
        },
        {
         "metadata": "{}",
         "name": "stn_ada_southbound",
         "type": "\"boolean\""
        },
        {
         "metadata": "{}",
         "name": "stn_ada_notes",
         "type": "\"string\""
        },
        {
         "metadata": "{}",
         "name": "stn_ingestion_date",
         "type": "\"timestamp\""
        },
        {
         "metadata": "{}",
         "name": "stn_source",
         "type": "\"string\""
        }
       ],
       "type": "table"
      }
     },
     "output_type": "display_data"
    }
   ],
   "source": [
    "%sql\n",
    "SELECT * FROM mta_silver.dim_station LIMIT 10;"
   ]
  },
  {
   "cell_type": "code",
   "execution_count": 0,
   "metadata": {
    "application/vnd.databricks.v1+cell": {
     "cellMetadata": {
      "byteLimit": 2048000,
      "rowLimit": 10000
     },
     "inputWidgets": {},
     "nuid": "fce83d44-207a-4af5-8856-b84b25388f83",
     "showTitle": false,
     "tableResultSettingsMap": {},
     "title": ""
    }
   },
   "outputs": [],
   "source": [
    "dbutils.notebook.exit(\"Success\")"
   ]
  }
 ],
 "metadata": {
  "application/vnd.databricks.v1+notebook": {
   "computePreferences": null,
   "dashboards": [],
   "environmentMetadata": {
    "base_environment": "",
    "environment_version": "2"
   },
   "language": "python",
   "notebookMetadata": {
    "mostRecentlyExecutedCommandWithImplicitDF": {
     "commandId": 4043720316056103,
     "dataframes": [
      "_sqldf"
     ]
    },
    "pythonIndentUnit": 4
   },
   "notebookName": "silver_dim_station",
   "widgets": {}
  },
  "language_info": {
   "name": "python"
  }
 },
 "nbformat": 4,
 "nbformat_minor": 0
}
