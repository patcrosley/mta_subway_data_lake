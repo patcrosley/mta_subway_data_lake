{
 "cells": [
  {
   "cell_type": "code",
   "execution_count": 0,
   "metadata": {
    "application/vnd.databricks.v1+cell": {
     "cellMetadata": {
      "byteLimit": 2048000,
      "rowLimit": 10000
     },
     "inputWidgets": {},
     "nuid": "b118f101-50a0-4825-8aa5-58e82152646b",
     "showTitle": false,
     "tableResultSettingsMap": {},
     "title": ""
    }
   },
   "outputs": [],
   "source": [
    "lkp_station_df = spark.read \\\n",
    "    .table(\"mta_bronze.lkp_station\")"
   ]
  },
  {
   "cell_type": "code",
   "execution_count": 0,
   "metadata": {
    "application/vnd.databricks.v1+cell": {
     "cellMetadata": {
      "byteLimit": 2048000,
      "rowLimit": 10000
     },
     "inputWidgets": {},
     "nuid": "4193dbdb-df5b-4da8-b3c9-c7d3cedfcb06",
     "showTitle": false,
     "tableResultSettingsMap": {},
     "title": ""
    }
   },
   "outputs": [],
   "source": [
    "lkp_station_df.write \\\n",
    "    .format(\"delta\") \\\n",
    "    .mode(\"overwrite\") \\\n",
    "    .option(\"mergeSchema\", \"true\") \\\n",
    "    .saveAsTable(\"mta_silver.lkp_station\")"
   ]
  },
  {
   "cell_type": "code",
   "execution_count": 0,
   "metadata": {
    "application/vnd.databricks.v1+cell": {
     "cellMetadata": {
      "byteLimit": 2048000,
      "implicitDf": true,
      "rowLimit": 10000
     },
     "inputWidgets": {},
     "nuid": "c8317214-3018-413e-a03a-c79fd7d2edc4",
     "showTitle": false,
     "tableResultSettingsMap": {},
     "title": ""
    }
   },
   "outputs": [
    {
     "output_type": "display_data",
     "data": {
      "text/html": [
       "<style scoped>\n",
       "  .table-result-container {\n",
       "    max-height: 300px;\n",
       "    overflow: auto;\n",
       "  }\n",
       "  table, th, td {\n",
       "    border: 1px solid black;\n",
       "    border-collapse: collapse;\n",
       "  }\n",
       "  th, td {\n",
       "    padding: 5px;\n",
       "  }\n",
       "  th {\n",
       "    text-align: left;\n",
       "  }\n",
       "</style><div class='table-result-container'><table class='table-result'><thead style='background-color: white'><tr><th>lks_abbr</th><th>lks_name</th><th>lks_ingestion_date</th><th>lks_source</th></tr></thead><tbody><tr><td>1 Av</td><td>1st Avenue</td><td>2025-03-09T06:35:36.788Z</td><td>data.gov</td></tr><tr><td>103 St</td><td>103rd Street</td><td>2025-03-09T06:35:36.788Z</td><td>data.gov</td></tr><tr><td>103 St-Corona Plaza</td><td>103rd Street-Corona Plaza</td><td>2025-03-09T06:35:36.788Z</td><td>data.gov</td></tr><tr><td>103rd St</td><td>103rd Street</td><td>2025-03-09T06:35:36.788Z</td><td>data.gov</td></tr><tr><td>104 St</td><td>104th Street</td><td>2025-03-09T06:35:36.788Z</td><td>data.gov</td></tr><tr><td>110 St</td><td>110th Street</td><td>2025-03-09T06:35:36.788Z</td><td>data.gov</td></tr><tr><td>110th St</td><td>110th Street</td><td>2025-03-09T06:35:36.788Z</td><td>data.gov</td></tr><tr><td>110th St/Central Park N</td><td>110th Street/Central Park North</td><td>2025-03-09T06:35:36.788Z</td><td>data.gov</td></tr><tr><td>110thSt</td><td>110th Street</td><td>2025-03-09T06:35:36.788Z</td><td>data.gov</td></tr><tr><td>111 St</td><td>111th Street</td><td>2025-03-09T06:35:36.788Z</td><td>data.gov</td></tr><tr><td>116 St</td><td>116th Street</td><td>2025-03-09T06:35:36.788Z</td><td>data.gov</td></tr><tr><td>116 St-Columbia University</td><td>116th Street-Columbia University</td><td>2025-03-09T06:35:36.788Z</td><td>data.gov</td></tr><tr><td>116th St</td><td>116th Street</td><td>2025-03-09T06:35:36.788Z</td><td>data.gov</td></tr><tr><td>121 St</td><td>121st Street</td><td>2025-03-09T06:35:36.788Z</td><td>data.gov</td></tr><tr><td>125 St</td><td>125th Street</td><td>2025-03-09T06:35:36.788Z</td><td>data.gov</td></tr><tr><td>125th St</td><td>125th Street</td><td>2025-03-09T06:35:36.788Z</td><td>data.gov</td></tr><tr><td>135 St</td><td>135th Street</td><td>2025-03-09T06:35:36.788Z</td><td>data.gov</td></tr><tr><td>135th St</td><td>135th Street</td><td>2025-03-09T06:35:36.788Z</td><td>data.gov</td></tr><tr><td>137 St-City College</td><td>137th Street-City College</td><td>2025-03-09T06:35:36.788Z</td><td>data.gov</td></tr><tr><td>137th St</td><td>137th Street</td><td>2025-03-09T06:35:36.788Z</td><td>data.gov</td></tr></tbody></table></div>"
      ]
     },
     "metadata": {
      "application/vnd.databricks.v1+output": {
       "addedWidgets": {},
       "aggData": [],
       "aggError": "",
       "aggOverflow": false,
       "aggSchema": [],
       "aggSeriesLimitReached": false,
       "aggType": "",
       "arguments": {},
       "columnCustomDisplayInfos": {},
       "data": [
        [
         "1 Av",
         "1st Avenue",
         "2025-03-09T06:35:36.788Z",
         "data.gov"
        ],
        [
         "103 St",
         "103rd Street",
         "2025-03-09T06:35:36.788Z",
         "data.gov"
        ],
        [
         "103 St-Corona Plaza",
         "103rd Street-Corona Plaza",
         "2025-03-09T06:35:36.788Z",
         "data.gov"
        ],
        [
         "103rd St",
         "103rd Street",
         "2025-03-09T06:35:36.788Z",
         "data.gov"
        ],
        [
         "104 St",
         "104th Street",
         "2025-03-09T06:35:36.788Z",
         "data.gov"
        ],
        [
         "110 St",
         "110th Street",
         "2025-03-09T06:35:36.788Z",
         "data.gov"
        ],
        [
         "110th St",
         "110th Street",
         "2025-03-09T06:35:36.788Z",
         "data.gov"
        ],
        [
         "110th St/Central Park N",
         "110th Street/Central Park North",
         "2025-03-09T06:35:36.788Z",
         "data.gov"
        ],
        [
         "110thSt",
         "110th Street",
         "2025-03-09T06:35:36.788Z",
         "data.gov"
        ],
        [
         "111 St",
         "111th Street",
         "2025-03-09T06:35:36.788Z",
         "data.gov"
        ],
        [
         "116 St",
         "116th Street",
         "2025-03-09T06:35:36.788Z",
         "data.gov"
        ],
        [
         "116 St-Columbia University",
         "116th Street-Columbia University",
         "2025-03-09T06:35:36.788Z",
         "data.gov"
        ],
        [
         "116th St",
         "116th Street",
         "2025-03-09T06:35:36.788Z",
         "data.gov"
        ],
        [
         "121 St",
         "121st Street",
         "2025-03-09T06:35:36.788Z",
         "data.gov"
        ],
        [
         "125 St",
         "125th Street",
         "2025-03-09T06:35:36.788Z",
         "data.gov"
        ],
        [
         "125th St",
         "125th Street",
         "2025-03-09T06:35:36.788Z",
         "data.gov"
        ],
        [
         "135 St",
         "135th Street",
         "2025-03-09T06:35:36.788Z",
         "data.gov"
        ],
        [
         "135th St",
         "135th Street",
         "2025-03-09T06:35:36.788Z",
         "data.gov"
        ],
        [
         "137 St-City College",
         "137th Street-City College",
         "2025-03-09T06:35:36.788Z",
         "data.gov"
        ],
        [
         "137th St",
         "137th Street",
         "2025-03-09T06:35:36.788Z",
         "data.gov"
        ]
       ],
       "datasetInfos": [],
       "dbfsResultPath": null,
       "isJsonSchema": true,
       "metadata": {
        "createTempViewForImplicitDf": true,
        "dataframeName": "_sqldf",
        "executionCount": 3
       },
       "overflow": false,
       "plotOptions": {
        "customPlotOptions": {},
        "displayType": "table",
        "pivotAggregation": null,
        "pivotColumns": null,
        "xColumns": null,
        "yColumns": null
       },
       "removedWidgets": [],
       "schema": [
        {
         "metadata": "{}",
         "name": "lks_abbr",
         "type": "\"string\""
        },
        {
         "metadata": "{}",
         "name": "lks_name",
         "type": "\"string\""
        },
        {
         "metadata": "{}",
         "name": "lks_ingestion_date",
         "type": "\"timestamp\""
        },
        {
         "metadata": "{}",
         "name": "lks_source",
         "type": "\"string\""
        }
       ],
       "type": "table"
      }
     },
     "output_type": "display_data"
    }
   ],
   "source": [
    "%sql\n",
    "SELECT * FROM mta_silver.lkp_station LIMIT 20;"
   ]
  },
  {
   "cell_type": "code",
   "execution_count": 0,
   "metadata": {
    "application/vnd.databricks.v1+cell": {
     "cellMetadata": {
      "byteLimit": 2048000,
      "rowLimit": 10000
     },
     "inputWidgets": {},
     "nuid": "b4aee203-0705-4cce-8b39-4708b5d8b083",
     "showTitle": false,
     "tableResultSettingsMap": {},
     "title": ""
    }
   },
   "outputs": [],
   "source": [
    "dbutils.notebook.exit(\"Success\")"
   ]
  }
 ],
 "metadata": {
  "application/vnd.databricks.v1+notebook": {
   "computePreferences": null,
   "dashboards": [],
   "environmentMetadata": {
    "base_environment": "",
    "environment_version": "2"
   },
   "language": "python",
   "notebookMetadata": {
    "mostRecentlyExecutedCommandWithImplicitDF": {
     "commandId": 4043720316056077,
     "dataframes": [
      "_sqldf"
     ]
    },
    "pythonIndentUnit": 4
   },
   "notebookName": "silver_lkp_station",
   "widgets": {}
  },
  "language_info": {
   "name": "python"
  }
 },
 "nbformat": 4,
 "nbformat_minor": 0
}
