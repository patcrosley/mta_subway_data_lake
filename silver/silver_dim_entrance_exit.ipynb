{
 "cells": [
  {
   "cell_type": "code",
   "execution_count": 0,
   "metadata": {
    "application/vnd.databricks.v1+cell": {
     "cellMetadata": {
      "byteLimit": 2048000,
      "rowLimit": 10000
     },
     "inputWidgets": {},
     "nuid": "b4ee407e-8f6b-40a9-8d3e-312cf7edf768",
     "showTitle": false,
     "tableResultSettingsMap": {},
     "title": ""
    }
   },
   "outputs": [],
   "source": [
    "from pyspark.sql.types import IntegerType\n",
    "from pyspark.sql.functions import col, when, md5, concat_ws"
   ]
  },
  {
   "cell_type": "code",
   "execution_count": 0,
   "metadata": {
    "application/vnd.databricks.v1+cell": {
     "cellMetadata": {
      "byteLimit": 2048000,
      "rowLimit": 10000
     },
     "inputWidgets": {},
     "nuid": "25ccaadd-9543-4f9c-94a7-3c0b477e1626",
     "showTitle": false,
     "tableResultSettingsMap": {},
     "title": ""
    }
   },
   "outputs": [],
   "source": [
    "entrance_exit_df = spark.read \\\n",
    "    .table(\"mta_bronze.entrance_exit\")\n",
    "\n",
    "dim_borough_df = spark.read \\\n",
    "    .table(\"mta_silver.dim_borough\")\n",
    "\n",
    "lkp_stations_df = spark.read \\\n",
    "    .table(\"mta_silver.lkp_station\")"
   ]
  },
  {
   "cell_type": "code",
   "execution_count": 0,
   "metadata": {
    "application/vnd.databricks.v1+cell": {
     "cellMetadata": {
      "byteLimit": 2048000,
      "rowLimit": 10000
     },
     "inputWidgets": {},
     "nuid": "0c5f46cf-fa24-4a9b-a3d2-e4289ec73ead",
     "showTitle": false,
     "tableResultSettingsMap": {},
     "title": ""
    }
   },
   "outputs": [],
   "source": [
    "entrance_exit_trans_df = entrance_exit_df \\\n",
    "    .withColumn(\"eex_complex_id\", col(\"eex_complex_id\").cast(IntegerType())) \\\n",
    "    .withColumn(\"eex_entry_allowed\", when(col(\"eex_entry_allowed\") == \"YES\", True).otherwise(False)) \\\n",
    "    .withColumn(\"eex_exit_allowed\", when(col(\"eex_exit_allowed\") == \"YES\", True).otherwise(False)) \\\n",
    "    .withColumn(\"eex_sk\", md5(concat_ws(\"_\", \"eex_entrance_latitude\", \"eex_entrance_longitude\", \"eex_entrance_type\")))\n",
    "    "
   ]
  },
  {
   "cell_type": "code",
   "execution_count": 0,
   "metadata": {
    "application/vnd.databricks.v1+cell": {
     "cellMetadata": {
      "byteLimit": 2048000,
      "rowLimit": 10000
     },
     "inputWidgets": {},
     "nuid": "df458ac5-26b3-47c8-a3f1-67b1e315ab3e",
     "showTitle": false,
     "tableResultSettingsMap": {},
     "title": ""
    }
   },
   "outputs": [],
   "source": [
    "entrance_exit_final_df = entrance_exit_trans_df.select(\n",
    "    'eex_sk',\n",
    "    'eex_station_id',\n",
    "    'eex_gtfs_stop_id',\n",
    "    'eex_entrance_type',\n",
    "    'eex_entry_allowed',\n",
    "    'eex_exit_allowed',\n",
    "    'eex_entrance_latitude',\n",
    "    'eex_entrance_longitude',\n",
    "    'eex_ingestion_date',\n",
    "    'eex_source'\n",
    ")"
   ]
  },
  {
   "cell_type": "code",
   "execution_count": 0,
   "metadata": {
    "application/vnd.databricks.v1+cell": {
     "cellMetadata": {
      "byteLimit": 2048000,
      "rowLimit": 10000
     },
     "inputWidgets": {},
     "nuid": "2198c044-d2d5-42ed-852d-ca306a064ff4",
     "showTitle": false,
     "tableResultSettingsMap": {},
     "title": ""
    }
   },
   "outputs": [],
   "source": [
    "entrance_exit_final_df.write \\\n",
    "  .mode(\"overwrite\") \\\n",
    "  .format(\"delta\") \\\n",
    "  .partitionBy(\"eex_entrance_type\") \\\n",
    "  .option(\"mergeSchema\", \"true\") \\\n",
    "  .saveAsTable(\"mta_silver.dim_entrance_exit\")"
   ]
  },
  {
   "cell_type": "code",
   "execution_count": 0,
   "metadata": {
    "application/vnd.databricks.v1+cell": {
     "cellMetadata": {
      "byteLimit": 2048000,
      "implicitDf": true,
      "rowLimit": 10000
     },
     "inputWidgets": {},
     "nuid": "7b1c1ed8-b1a3-46b8-a5e8-7a74732abed2",
     "showTitle": false,
     "tableResultSettingsMap": {},
     "title": ""
    }
   },
   "outputs": [
    {
     "output_type": "display_data",
     "data": {
      "text/html": [
       "<style scoped>\n",
       "  .table-result-container {\n",
       "    max-height: 300px;\n",
       "    overflow: auto;\n",
       "  }\n",
       "  table, th, td {\n",
       "    border: 1px solid black;\n",
       "    border-collapse: collapse;\n",
       "  }\n",
       "  th, td {\n",
       "    padding: 5px;\n",
       "  }\n",
       "  th {\n",
       "    text-align: left;\n",
       "  }\n",
       "</style><div class='table-result-container'><table class='table-result'><thead style='background-color: white'><tr><th>eex_sk</th><th>eex_station_id</th><th>eex_gtfs_stop_id</th><th>eex_entrance_type</th><th>eex_entry_allowed</th><th>eex_exit_allowed</th><th>eex_entrance_latitude</th><th>eex_entrance_longitude</th><th>eex_ingestion_date</th><th>eex_source</th></tr></thead><tbody><tr><td>560b83760f2e88ac515931cf99fc084f</td><td>255</td><td>F02</td><td>Easement - Street</td><td>true</td><td>true</td><td>40.7109796</td><td>-73.7927502</td><td>2025-03-09T07:17:34.45Z</td><td>data.gov</td></tr><tr><td>58642c209c8564fd0b7b39dc1fd82e6e</td><td>263</td><td>G10</td><td>Easement - Street</td><td>true</td><td>true</td><td>40.7296038</td><td>-73.8617722</td><td>2025-03-09T07:17:34.45Z</td><td>data.gov</td></tr><tr><td>f5115e6d874b2ba61303f188f48436a9</td><td>266</td><td>G13</td><td>Easement - Street</td><td>true</td><td>true</td><td>40.742052</td><td>-73.8810756</td><td>2025-03-09T07:17:34.45Z</td><td>data.gov</td></tr><tr><td>2c6d07d8d57034e3c7d6d1e94c680693</td><td>267</td><td>G14</td><td>Easement - Street</td><td>true</td><td>true</td><td>40.7472534</td><td>-73.8921113</td><td>2025-03-09T07:17:34.45Z</td><td>data.gov</td></tr><tr><td>550cca4af223001687ca36fbc9163c42</td><td>274</td><td>F09</td><td>Easement - Street</td><td>true</td><td>true</td><td>40.7477378</td><td>-73.9446888</td><td>2025-03-09T07:17:34.45Z</td><td>data.gov</td></tr><tr><td>d25de6fe96b3ce8bce240b5d823f5c1a</td><td>274</td><td>F09</td><td>Easement - Street</td><td>true</td><td>true</td><td>40.7473711</td><td>-73.9442712</td><td>2025-03-09T07:17:34.45Z</td><td>data.gov</td></tr><tr><td>b40437b6c5be061b88f850de310de780</td><td>281</td><td>G22</td><td>Easement - Street</td><td>true</td><td>true</td><td>40.7468858</td><td>-73.9435169</td><td>2025-03-09T07:17:34.45Z</td><td>data.gov</td></tr><tr><td>67cad54532d5164304e88a881aeaf79b</td><td>461</td><td>718; R09</td><td>Easement - Street</td><td>true</td><td>true</td><td>40.750835</td><td>-73.939671</td><td>2025-03-09T07:17:34.45Z</td><td>data.gov</td></tr><tr><td>21d49bf52fe3c0660212f8ed454368ce</td><td>48</td><td>D32</td><td>Walkway</td><td>false</td><td>true</td><td>40.6298896</td><td>-73.9618253</td><td>2025-03-09T07:17:34.45Z</td><td>data.gov</td></tr><tr><td>0562ee329cd33ac8d6c19a6679639bc4</td><td>48</td><td>D32</td><td>Walkway</td><td>false</td><td>true</td><td>40.6299239</td><td>-73.9615842</td><td>2025-03-09T07:17:34.45Z</td><td>data.gov</td></tr></tbody></table></div>"
      ]
     },
     "metadata": {
      "application/vnd.databricks.v1+output": {
       "addedWidgets": {},
       "aggData": [],
       "aggError": "",
       "aggOverflow": false,
       "aggSchema": [],
       "aggSeriesLimitReached": false,
       "aggType": "",
       "arguments": {},
       "columnCustomDisplayInfos": {},
       "data": [
        [
         "560b83760f2e88ac515931cf99fc084f",
         255,
         "F02",
         "Easement - Street",
         true,
         true,
         40.7109796,
         -73.7927502,
         "2025-03-09T07:17:34.45Z",
         "data.gov"
        ],
        [
         "58642c209c8564fd0b7b39dc1fd82e6e",
         263,
         "G10",
         "Easement - Street",
         true,
         true,
         40.7296038,
         -73.8617722,
         "2025-03-09T07:17:34.45Z",
         "data.gov"
        ],
        [
         "f5115e6d874b2ba61303f188f48436a9",
         266,
         "G13",
         "Easement - Street",
         true,
         true,
         40.742052,
         -73.8810756,
         "2025-03-09T07:17:34.45Z",
         "data.gov"
        ],
        [
         "2c6d07d8d57034e3c7d6d1e94c680693",
         267,
         "G14",
         "Easement - Street",
         true,
         true,
         40.7472534,
         -73.8921113,
         "2025-03-09T07:17:34.45Z",
         "data.gov"
        ],
        [
         "550cca4af223001687ca36fbc9163c42",
         274,
         "F09",
         "Easement - Street",
         true,
         true,
         40.7477378,
         -73.9446888,
         "2025-03-09T07:17:34.45Z",
         "data.gov"
        ],
        [
         "d25de6fe96b3ce8bce240b5d823f5c1a",
         274,
         "F09",
         "Easement - Street",
         true,
         true,
         40.7473711,
         -73.9442712,
         "2025-03-09T07:17:34.45Z",
         "data.gov"
        ],
        [
         "b40437b6c5be061b88f850de310de780",
         281,
         "G22",
         "Easement - Street",
         true,
         true,
         40.7468858,
         -73.9435169,
         "2025-03-09T07:17:34.45Z",
         "data.gov"
        ],
        [
         "67cad54532d5164304e88a881aeaf79b",
         461,
         "718; R09",
         "Easement - Street",
         true,
         true,
         40.750835,
         -73.939671,
         "2025-03-09T07:17:34.45Z",
         "data.gov"
        ],
        [
         "21d49bf52fe3c0660212f8ed454368ce",
         48,
         "D32",
         "Walkway",
         false,
         true,
         40.6298896,
         -73.9618253,
         "2025-03-09T07:17:34.45Z",
         "data.gov"
        ],
        [
         "0562ee329cd33ac8d6c19a6679639bc4",
         48,
         "D32",
         "Walkway",
         false,
         true,
         40.6299239,
         -73.9615842,
         "2025-03-09T07:17:34.45Z",
         "data.gov"
        ]
       ],
       "datasetInfos": [],
       "dbfsResultPath": null,
       "isJsonSchema": true,
       "metadata": {
        "createTempViewForImplicitDf": true,
        "dataframeName": "_sqldf",
        "executionCount": 13
       },
       "overflow": false,
       "plotOptions": {
        "customPlotOptions": {},
        "displayType": "table",
        "pivotAggregation": null,
        "pivotColumns": null,
        "xColumns": null,
        "yColumns": null
       },
       "removedWidgets": [],
       "schema": [
        {
         "metadata": "{}",
         "name": "eex_sk",
         "type": "\"string\""
        },
        {
         "metadata": "{}",
         "name": "eex_station_id",
         "type": "\"integer\""
        },
        {
         "metadata": "{}",
         "name": "eex_gtfs_stop_id",
         "type": "\"string\""
        },
        {
         "metadata": "{}",
         "name": "eex_entrance_type",
         "type": "\"string\""
        },
        {
         "metadata": "{}",
         "name": "eex_entry_allowed",
         "type": "\"boolean\""
        },
        {
         "metadata": "{}",
         "name": "eex_exit_allowed",
         "type": "\"boolean\""
        },
        {
         "metadata": "{}",
         "name": "eex_entrance_latitude",
         "type": "\"double\""
        },
        {
         "metadata": "{}",
         "name": "eex_entrance_longitude",
         "type": "\"double\""
        },
        {
         "metadata": "{}",
         "name": "eex_ingestion_date",
         "type": "\"timestamp\""
        },
        {
         "metadata": "{}",
         "name": "eex_source",
         "type": "\"string\""
        }
       ],
       "type": "table"
      }
     },
     "output_type": "display_data"
    }
   ],
   "source": [
    "%sql\n",
    "SELECT * FROM mta_silver.dim_entrance_exit LIMIT 10;"
   ]
  },
  {
   "cell_type": "code",
   "execution_count": 0,
   "metadata": {
    "application/vnd.databricks.v1+cell": {
     "cellMetadata": {
      "byteLimit": 2048000,
      "rowLimit": 10000
     },
     "inputWidgets": {},
     "nuid": "0e0f9542-565b-45d6-a605-109f92ef32c8",
     "showTitle": false,
     "tableResultSettingsMap": {},
     "title": ""
    }
   },
   "outputs": [],
   "source": [
    "dbutils.notebook.exit(\"Success\")"
   ]
  }
 ],
 "metadata": {
  "application/vnd.databricks.v1+notebook": {
   "computePreferences": null,
   "dashboards": [],
   "environmentMetadata": {
    "base_environment": "",
    "environment_version": "2"
   },
   "language": "python",
   "notebookMetadata": {
    "mostRecentlyExecutedCommandWithImplicitDF": {
     "commandId": 4043720316056105,
     "dataframes": [
      "_sqldf"
     ]
    },
    "pythonIndentUnit": 4
   },
   "notebookName": "silver_dim_entrance_exit",
   "widgets": {}
  },
  "language_info": {
   "name": "python"
  }
 },
 "nbformat": 4,
 "nbformat_minor": 0
}
