{
 "cells": [
  {
   "cell_type": "code",
   "execution_count": 0,
   "metadata": {
    "application/vnd.databricks.v1+cell": {
     "cellMetadata": {
      "byteLimit": 2048000,
      "rowLimit": 10000
     },
     "inputWidgets": {},
     "nuid": "b4ee407e-8f6b-40a9-8d3e-312cf7edf768",
     "showTitle": false,
     "tableResultSettingsMap": {},
     "title": ""
    }
   },
   "outputs": [],
   "source": [
    "from pyspark.sql.types import IntegerType\n",
    "from pyspark.sql.functions import col, when, md5, concat_ws"
   ]
  },
  {
   "cell_type": "code",
   "execution_count": 0,
   "metadata": {
    "application/vnd.databricks.v1+cell": {
     "cellMetadata": {
      "byteLimit": 2048000,
      "rowLimit": 10000
     },
     "inputWidgets": {},
     "nuid": "25ccaadd-9543-4f9c-94a7-3c0b477e1626",
     "showTitle": false,
     "tableResultSettingsMap": {},
     "title": ""
    }
   },
   "outputs": [],
   "source": [
    "entrance_exit_df = spark.read \\\n",
    "    .table(\"mta_bronze.entrance_exit\")\n",
    "\n",
    "dim_borough_df = spark.read \\\n",
    "    .table(\"mta_silver.dim_borough\")\n",
    "\n",
    "lkp_stations_df = spark.read \\\n",
    "    .table(\"mta_silver.lkp_station\")"
   ]
  },
  {
   "cell_type": "code",
   "execution_count": 0,
   "metadata": {
    "application/vnd.databricks.v1+cell": {
     "cellMetadata": {
      "byteLimit": 2048000,
      "rowLimit": 10000
     },
     "inputWidgets": {},
     "nuid": "0c5f46cf-fa24-4a9b-a3d2-e4289ec73ead",
     "showTitle": false,
     "tableResultSettingsMap": {},
     "title": ""
    }
   },
   "outputs": [],
   "source": [
    "entrance_exit_trans_df = entrance_exit_df \\\n",
    "    .withColumn(\"eex_complex_id\", col(\"eex_complex_id\").cast(IntegerType())) \\\n",
    "    .withColumn(\"eex_entry_allowed\", when(col(\"eex_entry_allowed\") == \"YES\", True).otherwise(False)) \\\n",
    "    .withColumn(\"eex_exit_allowed\", when(col(\"eex_exit_allowed\") == \"YES\", True).otherwise(False)) \\\n",
    "    .withColumn(\"eex_sk\", md5(concat_ws(\"_\", \"eex_entrance_latitude\", \"eex_entrance_longitude\", \"eex_entrance_type\")))\n",
    "    "
   ]
  },
  {
   "cell_type": "code",
   "execution_count": 0,
   "metadata": {
    "application/vnd.databricks.v1+cell": {
     "cellMetadata": {
      "byteLimit": 2048000,
      "rowLimit": 10000
     },
     "inputWidgets": {},
     "nuid": "df458ac5-26b3-47c8-a3f1-67b1e315ab3e",
     "showTitle": false,
     "tableResultSettingsMap": {},
     "title": ""
    }
   },
   "outputs": [],
   "source": [
    "entrance_exit_final_df = entrance_exit_trans_df.select(\n",
    "    'eex_sk',\n",
    "    'eex_station_id',\n",
    "    'eex_gtfs_stop_id',\n",
    "    'eex_entrance_type',\n",
    "    'eex_entry_allowed',\n",
    "    'eex_exit_allowed',\n",
    "    'eex_entrance_latitude',\n",
    "    'eex_entrance_longitude',\n",
    "    'eex_ingestion_date',\n",
    "    'eex_source'\n",
    ")"
   ]
  },
  {
   "cell_type": "code",
   "execution_count": 0,
   "metadata": {
    "application/vnd.databricks.v1+cell": {
     "cellMetadata": {
      "byteLimit": 2048000,
      "rowLimit": 10000
     },
     "inputWidgets": {},
     "nuid": "2198c044-d2d5-42ed-852d-ca306a064ff4",
     "showTitle": false,
     "tableResultSettingsMap": {},
     "title": ""
    }
   },
   "outputs": [],
   "source": [
    "entrance_exit_final_df.write.mode(\"overwrite\").format(\"delta\").partitionBy(\"eex_entrance_type\").option(\"mergeSchema\", \"true\").saveAsTable(\"mta_silver.dim_entrance_exit\")"
   ]
  },
  {
   "cell_type": "code",
   "execution_count": 0,
   "metadata": {
    "application/vnd.databricks.v1+cell": {
     "cellMetadata": {
      "byteLimit": 2048000,
      "implicitDf": true,
      "rowLimit": 10000
     },
     "inputWidgets": {},
     "nuid": "7b1c1ed8-b1a3-46b8-a5e8-7a74732abed2",
     "showTitle": false,
     "tableResultSettingsMap": {},
     "title": ""
    }
   },
   "outputs": [],
   "source": [
    "%sql\n",
    "SELECT * FROM mta_silver.dim_entrance_exit LIMIT 20;"
   ]
  },
  {
   "cell_type": "code",
   "execution_count": 0,
   "metadata": {
    "application/vnd.databricks.v1+cell": {
     "cellMetadata": {
      "byteLimit": 2048000,
      "rowLimit": 10000
     },
     "inputWidgets": {},
     "nuid": "0e0f9542-565b-45d6-a605-109f92ef32c8",
     "showTitle": false,
     "tableResultSettingsMap": {},
     "title": ""
    }
   },
   "outputs": [],
   "source": [
    "dbutils.notebook.exit(\"Success\")"
   ]
  }
 ],
 "metadata": {
  "application/vnd.databricks.v1+notebook": {
   "computePreferences": null,
   "dashboards": [],
   "environmentMetadata": {
    "base_environment": "",
    "environment_version": "2"
   },
   "language": "python",
   "notebookMetadata": {
    "mostRecentlyExecutedCommandWithImplicitDF": {
     "commandId": 4043720316056105,
     "dataframes": [
      "_sqldf"
     ]
    },
    "pythonIndentUnit": 4
   },
   "notebookName": "silver_dim_entrance_exit",
   "widgets": {}
  },
  "language_info": {
   "name": "python"
  }
 },
 "nbformat": 4,
 "nbformat_minor": 0
}
