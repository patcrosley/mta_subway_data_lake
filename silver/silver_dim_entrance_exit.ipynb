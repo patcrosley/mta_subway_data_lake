{
 "cells": [
  {
   "cell_type": "code",
   "execution_count": 0,
   "metadata": {
    "application/vnd.databricks.v1+cell": {
     "cellMetadata": {
      "byteLimit": 2048000,
      "rowLimit": 10000
     },
     "inputWidgets": {},
     "nuid": "b4ee407e-8f6b-40a9-8d3e-312cf7edf768",
     "showTitle": false,
     "tableResultSettingsMap": {},
     "title": ""
    }
   },
   "outputs": [],
   "source": [
    "from pyspark.sql.types import IntegerType\n",
    "from pyspark.sql.functions import col, when, md5, concat_ws"
   ]
  },
  {
   "cell_type": "code",
   "execution_count": 0,
   "metadata": {
    "application/vnd.databricks.v1+cell": {
     "cellMetadata": {
      "byteLimit": 2048000,
      "rowLimit": 10000
     },
     "inputWidgets": {},
     "nuid": "25ccaadd-9543-4f9c-94a7-3c0b477e1626",
     "showTitle": false,
     "tableResultSettingsMap": {},
     "title": ""
    }
   },
   "outputs": [],
   "source": [
    "entrance_exit_df = spark.read \\\n",
    "    .table(\"mta_bronze.entrance_exit\")\n",
    "\n",
    "dim_borough_df = spark.read \\\n",
    "    .table(\"mta_silver.dim_borough\")\n",
    "\n",
    "lkp_stations_df = spark.read \\\n",
    "    .table(\"mta_silver.lkp_station\")"
   ]
  },
  {
   "cell_type": "code",
   "execution_count": 0,
   "metadata": {
    "application/vnd.databricks.v1+cell": {
     "cellMetadata": {
      "byteLimit": 2048000,
      "rowLimit": 10000
     },
     "inputWidgets": {},
     "nuid": "0c5f46cf-fa24-4a9b-a3d2-e4289ec73ead",
     "showTitle": false,
     "tableResultSettingsMap": {},
     "title": ""
    }
   },
   "outputs": [],
   "source": [
    "entrance_exit_trans_df = entrance_exit_df \\\n",
    "    .withColumn(\"eex_complex_id\", col(\"eex_complex_id\").cast(IntegerType())) \\\n",
    "    .withColumn(\"eex_entry_allowed\", when(col(\"eex_entry_allowed\") == \"YES\", True).otherwise(False)) \\\n",
    "    .withColumn(\"eex_exit_allowed\", when(col(\"eex_exit_allowed\") == \"YES\", True).otherwise(False)) \\\n",
    "    .withColumn(\"eex_sk\", md5(concat_ws(\"_\", \"eex_entrance_latitude\", \"eex_entrance_longitude\", \"eex_entrance_type\")))\n",
    "    "
   ]
  },
  {
   "cell_type": "code",
   "execution_count": 0,
   "metadata": {
    "application/vnd.databricks.v1+cell": {
     "cellMetadata": {
      "byteLimit": 2048000,
      "rowLimit": 10000
     },
     "inputWidgets": {},
     "nuid": "df458ac5-26b3-47c8-a3f1-67b1e315ab3e",
     "showTitle": false,
     "tableResultSettingsMap": {},
     "title": ""
    }
   },
   "outputs": [],
   "source": [
    "entrance_exit_final_df = entrance_exit_trans_df.select(\n",
    "    'eex_sk',\n",
    "    'eex_station_id',\n",
    "    'eex_gtfs_stop_id',\n",
    "    'eex_entrance_type',\n",
    "    'eex_entry_allowed',\n",
    "    'eex_exit_allowed',\n",
    "    'eex_entrance_latitude',\n",
    "    'eex_entrance_longitude',\n",
    "    'eex_ingestion_date',\n",
    "    'eex_source'\n",
    ")"
   ]
  },
  {
   "cell_type": "code",
   "execution_count": 0,
   "metadata": {
    "application/vnd.databricks.v1+cell": {
     "cellMetadata": {
      "byteLimit": 2048000,
      "rowLimit": 10000
     },
     "inputWidgets": {},
     "nuid": "2198c044-d2d5-42ed-852d-ca306a064ff4",
     "showTitle": false,
     "tableResultSettingsMap": {},
     "title": ""
    }
   },
   "outputs": [],
   "source": [
    "entrance_exit_final_df.write \\\n",
    "  .mode(\"overwrite\") \\\n",
    "  .format(\"delta\") \\\n",
    "  .partitionBy(\"eex_entrance_type\") \\\n",
    "  .option(\"mergeSchema\", \"true\") \\\n",
    "  .saveAsTable(\"mta_silver.dim_entrance_exit\")"
   ]
  },
  {
   "cell_type": "code",
   "execution_count": 0,
   "metadata": {
    "application/vnd.databricks.v1+cell": {
     "cellMetadata": {
      "byteLimit": 2048000,
      "implicitDf": true,
      "rowLimit": 10000
     },
     "inputWidgets": {},
     "nuid": "7b1c1ed8-b1a3-46b8-a5e8-7a74732abed2",
     "showTitle": false,
     "tableResultSettingsMap": {},
     "title": ""
    }
   },
   "outputs": [
    {
     "output_type": "display_data",
     "data": {
      "text/html": [
       "<style scoped>\n",
       "  .table-result-container {\n",
       "    max-height: 300px;\n",
       "    overflow: auto;\n",
       "  }\n",
       "  table, th, td {\n",
       "    border: 1px solid black;\n",
       "    border-collapse: collapse;\n",
       "  }\n",
       "  th, td {\n",
       "    padding: 5px;\n",
       "  }\n",
       "  th {\n",
       "    text-align: left;\n",
       "  }\n",
       "</style><div class='table-result-container'><table class='table-result'><thead style='background-color: white'><tr><th>eex_sk</th><th>eex_station_id</th><th>eex_gtfs_stop_id</th><th>eex_entrance_type</th><th>eex_entry_allowed</th><th>eex_exit_allowed</th><th>eex_entrance_latitude</th><th>eex_entrance_longitude</th><th>eex_ingestion_date</th><th>eex_source</th></tr></thead><tbody><tr><td>1dd375f0153da976f710858417059601</td><td>25</td><td>R29</td><td>Easement - Street</td><td>true</td><td>true</td><td>40.6920651</td><td>-73.9851702</td><td>2025-03-09T06:16:21.961Z</td><td>data.gov</td></tr><tr><td>617dd237c968e87f501fdcd99e6c5f12</td><td>26</td><td>R30</td><td>Easement - Street</td><td>true</td><td>true</td><td>40.6912625</td><td>-73.9823804</td><td>2025-03-09T06:16:21.961Z</td><td>data.gov</td></tr><tr><td>7362e91ef628b4cec03d0a173ccafa52</td><td>26</td><td>R30</td><td>Easement - Street</td><td>true</td><td>true</td><td>40.68981</td><td>-73.981651</td><td>2025-03-09T06:16:21.961Z</td><td>data.gov</td></tr><tr><td>4745be3a51fc84c2c768c06d7ac9633b</td><td>26</td><td>R30</td><td>Easement - Street</td><td>true</td><td>true</td><td>40.689804</td><td>-73.981164</td><td>2025-03-09T06:16:21.961Z</td><td>data.gov</td></tr><tr><td>73a9ce65ba295285b8a0ed2e3fd638a8</td><td>26</td><td>R30</td><td>Easement - Street</td><td>true</td><td>true</td><td>40.68974</td><td>-73.981156</td><td>2025-03-09T06:16:21.961Z</td><td>data.gov</td></tr><tr><td>b0ece91fddc5f99f0a9591eaf8560b7d</td><td>26</td><td>R30</td><td>Easement - Street</td><td>true</td><td>true</td><td>40.689817</td><td>-73.981082</td><td>2025-03-09T06:16:21.961Z</td><td>data.gov</td></tr><tr><td>17516fb345fd9d9ed15d9a59687eef88</td><td>39</td><td>R45</td><td>Easement - Street</td><td>true</td><td>true</td><td>40.6159342</td><td>-74.0308333</td><td>2025-03-09T06:16:21.961Z</td><td>data.gov</td></tr><tr><td>1bce0906054ddd4fa9f57619669c3ab7</td><td>40</td><td>D24</td><td>Easement - Street</td><td>true</td><td>true</td><td>40.6852595</td><td>-73.9775209</td><td>2025-03-09T06:16:21.961Z</td><td>data.gov</td></tr><tr><td>0c0c47128504902bd37147a0166009f9</td><td>40</td><td>D24</td><td>Easement - Street</td><td>true</td><td>true</td><td>40.6834124</td><td>-73.9765033</td><td>2025-03-09T06:16:21.961Z</td><td>data.gov</td></tr><tr><td>d048b898f25a3a7546db19cfd42cb182</td><td>174</td><td>A41</td><td>Easement - Street</td><td>true</td><td>true</td><td>40.6924743</td><td>-73.9875859</td><td>2025-03-09T06:16:21.961Z</td><td>data.gov</td></tr><tr><td>92acc63953c12c984acd23e9fb17e026</td><td>174</td><td>A41</td><td>Easement - Street</td><td>true</td><td>true</td><td>40.6932155</td><td>-73.9874899</td><td>2025-03-09T06:16:21.961Z</td><td>data.gov</td></tr><tr><td>99fc15f036700c3ce3ae6d2aa29b9d8c</td><td>174</td><td>A41</td><td>Easement - Street</td><td>true</td><td>true</td><td>40.6925106</td><td>-73.9874814</td><td>2025-03-09T06:16:21.961Z</td><td>data.gov</td></tr><tr><td>e756a9ff7b0299fd8bcd9fe9e343690c</td><td>174</td><td>A41</td><td>Easement - Street</td><td>true</td><td>true</td><td>40.6923538</td><td>-73.9874579</td><td>2025-03-09T06:16:21.961Z</td><td>data.gov</td></tr><tr><td>03a7cda07c6f53eb0d7d839b3914711c</td><td>174</td><td>A41</td><td>Easement - Street</td><td>true</td><td>true</td><td>40.6931779</td><td>-73.9874487</td><td>2025-03-09T06:16:21.961Z</td><td>data.gov</td></tr><tr><td>bdb2a1ae1f8e9ab4602bccbc3eade0ad</td><td>174</td><td>A41</td><td>Easement - Street</td><td>true</td><td>true</td><td>40.693582</td><td>-73.9870075</td><td>2025-03-09T06:16:21.961Z</td><td>data.gov</td></tr><tr><td>30c079e908072fd0976da5825709a68f</td><td>175</td><td>A42</td><td>Easement - Street</td><td>true</td><td>true</td><td>40.6890314</td><td>-73.9858587</td><td>2025-03-09T06:16:21.961Z</td><td>data.gov</td></tr><tr><td>26debcf4cebadc3e6d07b27d6502ab8f</td><td>175</td><td>A42</td><td>Easement - Street</td><td>true</td><td>true</td><td>40.6884333</td><td>-73.9843016</td><td>2025-03-09T06:16:21.961Z</td><td>data.gov</td></tr><tr><td>97e10c6c848558e8f6a76b2831a2dda4</td><td>237</td><td>F21</td><td>Easement - Street</td><td>true</td><td>true</td><td>40.6792701</td><td>-73.9957771</td><td>2025-03-09T06:16:21.961Z</td><td>data.gov</td></tr><tr><td>3108c28efa065067c1afbbc34d1eeac3</td><td>334</td><td>231</td><td>Easement - Street</td><td>true</td><td>true</td><td>40.6976131</td><td>-73.9933883</td><td>2025-03-09T06:16:21.961Z</td><td>data.gov</td></tr><tr><td>658346c4c3ee34254871a44474316ceb</td><td>334</td><td>231</td><td>Easement - Street</td><td>true</td><td>true</td><td>40.6976945</td><td>-73.993039</td><td>2025-03-09T06:16:21.961Z</td><td>data.gov</td></tr></tbody></table></div>"
      ]
     },
     "metadata": {
      "application/vnd.databricks.v1+output": {
       "addedWidgets": {},
       "aggData": [],
       "aggError": "",
       "aggOverflow": false,
       "aggSchema": [],
       "aggSeriesLimitReached": false,
       "aggType": "",
       "arguments": {},
       "columnCustomDisplayInfos": {},
       "data": [
        [
         "1dd375f0153da976f710858417059601",
         25,
         "R29",
         "Easement - Street",
         true,
         true,
         40.6920651,
         -73.9851702,
         "2025-03-09T06:16:21.961Z",
         "data.gov"
        ],
        [
         "617dd237c968e87f501fdcd99e6c5f12",
         26,
         "R30",
         "Easement - Street",
         true,
         true,
         40.6912625,
         -73.9823804,
         "2025-03-09T06:16:21.961Z",
         "data.gov"
        ],
        [
         "7362e91ef628b4cec03d0a173ccafa52",
         26,
         "R30",
         "Easement - Street",
         true,
         true,
         40.68981,
         -73.981651,
         "2025-03-09T06:16:21.961Z",
         "data.gov"
        ],
        [
         "4745be3a51fc84c2c768c06d7ac9633b",
         26,
         "R30",
         "Easement - Street",
         true,
         true,
         40.689804,
         -73.981164,
         "2025-03-09T06:16:21.961Z",
         "data.gov"
        ],
        [
         "73a9ce65ba295285b8a0ed2e3fd638a8",
         26,
         "R30",
         "Easement - Street",
         true,
         true,
         40.68974,
         -73.981156,
         "2025-03-09T06:16:21.961Z",
         "data.gov"
        ],
        [
         "b0ece91fddc5f99f0a9591eaf8560b7d",
         26,
         "R30",
         "Easement - Street",
         true,
         true,
         40.689817,
         -73.981082,
         "2025-03-09T06:16:21.961Z",
         "data.gov"
        ],
        [
         "17516fb345fd9d9ed15d9a59687eef88",
         39,
         "R45",
         "Easement - Street",
         true,
         true,
         40.6159342,
         -74.0308333,
         "2025-03-09T06:16:21.961Z",
         "data.gov"
        ],
        [
         "1bce0906054ddd4fa9f57619669c3ab7",
         40,
         "D24",
         "Easement - Street",
         true,
         true,
         40.6852595,
         -73.9775209,
         "2025-03-09T06:16:21.961Z",
         "data.gov"
        ],
        [
         "0c0c47128504902bd37147a0166009f9",
         40,
         "D24",
         "Easement - Street",
         true,
         true,
         40.6834124,
         -73.9765033,
         "2025-03-09T06:16:21.961Z",
         "data.gov"
        ],
        [
         "d048b898f25a3a7546db19cfd42cb182",
         174,
         "A41",
         "Easement - Street",
         true,
         true,
         40.6924743,
         -73.9875859,
         "2025-03-09T06:16:21.961Z",
         "data.gov"
        ],
        [
         "92acc63953c12c984acd23e9fb17e026",
         174,
         "A41",
         "Easement - Street",
         true,
         true,
         40.6932155,
         -73.9874899,
         "2025-03-09T06:16:21.961Z",
         "data.gov"
        ],
        [
         "99fc15f036700c3ce3ae6d2aa29b9d8c",
         174,
         "A41",
         "Easement - Street",
         true,
         true,
         40.6925106,
         -73.9874814,
         "2025-03-09T06:16:21.961Z",
         "data.gov"
        ],
        [
         "e756a9ff7b0299fd8bcd9fe9e343690c",
         174,
         "A41",
         "Easement - Street",
         true,
         true,
         40.6923538,
         -73.9874579,
         "2025-03-09T06:16:21.961Z",
         "data.gov"
        ],
        [
         "03a7cda07c6f53eb0d7d839b3914711c",
         174,
         "A41",
         "Easement - Street",
         true,
         true,
         40.6931779,
         -73.9874487,
         "2025-03-09T06:16:21.961Z",
         "data.gov"
        ],
        [
         "bdb2a1ae1f8e9ab4602bccbc3eade0ad",
         174,
         "A41",
         "Easement - Street",
         true,
         true,
         40.693582,
         -73.9870075,
         "2025-03-09T06:16:21.961Z",
         "data.gov"
        ],
        [
         "30c079e908072fd0976da5825709a68f",
         175,
         "A42",
         "Easement - Street",
         true,
         true,
         40.6890314,
         -73.9858587,
         "2025-03-09T06:16:21.961Z",
         "data.gov"
        ],
        [
         "26debcf4cebadc3e6d07b27d6502ab8f",
         175,
         "A42",
         "Easement - Street",
         true,
         true,
         40.6884333,
         -73.9843016,
         "2025-03-09T06:16:21.961Z",
         "data.gov"
        ],
        [
         "97e10c6c848558e8f6a76b2831a2dda4",
         237,
         "F21",
         "Easement - Street",
         true,
         true,
         40.6792701,
         -73.9957771,
         "2025-03-09T06:16:21.961Z",
         "data.gov"
        ],
        [
         "3108c28efa065067c1afbbc34d1eeac3",
         334,
         "231",
         "Easement - Street",
         true,
         true,
         40.6976131,
         -73.9933883,
         "2025-03-09T06:16:21.961Z",
         "data.gov"
        ],
        [
         "658346c4c3ee34254871a44474316ceb",
         334,
         "231",
         "Easement - Street",
         true,
         true,
         40.6976945,
         -73.993039,
         "2025-03-09T06:16:21.961Z",
         "data.gov"
        ]
       ],
       "datasetInfos": [],
       "dbfsResultPath": null,
       "isJsonSchema": true,
       "metadata": {
        "createTempViewForImplicitDf": true,
        "dataframeName": "_sqldf",
        "executionCount": 6
       },
       "overflow": false,
       "plotOptions": {
        "customPlotOptions": {},
        "displayType": "table",
        "pivotAggregation": null,
        "pivotColumns": null,
        "xColumns": null,
        "yColumns": null
       },
       "removedWidgets": [],
       "schema": [
        {
         "metadata": "{}",
         "name": "eex_sk",
         "type": "\"string\""
        },
        {
         "metadata": "{}",
         "name": "eex_station_id",
         "type": "\"integer\""
        },
        {
         "metadata": "{}",
         "name": "eex_gtfs_stop_id",
         "type": "\"string\""
        },
        {
         "metadata": "{}",
         "name": "eex_entrance_type",
         "type": "\"string\""
        },
        {
         "metadata": "{}",
         "name": "eex_entry_allowed",
         "type": "\"boolean\""
        },
        {
         "metadata": "{}",
         "name": "eex_exit_allowed",
         "type": "\"boolean\""
        },
        {
         "metadata": "{}",
         "name": "eex_entrance_latitude",
         "type": "\"double\""
        },
        {
         "metadata": "{}",
         "name": "eex_entrance_longitude",
         "type": "\"double\""
        },
        {
         "metadata": "{}",
         "name": "eex_ingestion_date",
         "type": "\"timestamp\""
        },
        {
         "metadata": "{}",
         "name": "eex_source",
         "type": "\"string\""
        }
       ],
       "type": "table"
      }
     },
     "output_type": "display_data"
    }
   ],
   "source": [
    "%sql\n",
    "SELECT * FROM mta_silver.dim_entrance_exit LIMIT 20;"
   ]
  },
  {
   "cell_type": "code",
   "execution_count": 0,
   "metadata": {
    "application/vnd.databricks.v1+cell": {
     "cellMetadata": {
      "byteLimit": 2048000,
      "rowLimit": 10000
     },
     "inputWidgets": {},
     "nuid": "0e0f9542-565b-45d6-a605-109f92ef32c8",
     "showTitle": false,
     "tableResultSettingsMap": {},
     "title": ""
    }
   },
   "outputs": [],
   "source": [
    "dbutils.notebook.exit(\"Success\")"
   ]
  }
 ],
 "metadata": {
  "application/vnd.databricks.v1+notebook": {
   "computePreferences": null,
   "dashboards": [],
   "environmentMetadata": {
    "base_environment": "",
    "environment_version": "2"
   },
   "language": "python",
   "notebookMetadata": {
    "mostRecentlyExecutedCommandWithImplicitDF": {
     "commandId": 4043720316056105,
     "dataframes": [
      "_sqldf"
     ]
    },
    "pythonIndentUnit": 4
   },
   "notebookName": "silver_dim_entrance_exit",
   "widgets": {}
  },
  "language_info": {
   "name": "python"
  }
 },
 "nbformat": 4,
 "nbformat_minor": 0
}
