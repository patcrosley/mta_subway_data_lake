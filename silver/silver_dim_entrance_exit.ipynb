{
 "cells": [
  {
   "cell_type": "code",
   "execution_count": 0,
   "metadata": {
    "application/vnd.databricks.v1+cell": {
     "cellMetadata": {
      "byteLimit": 2048000,
      "rowLimit": 10000
     },
     "inputWidgets": {},
     "nuid": "b4ee407e-8f6b-40a9-8d3e-312cf7edf768",
     "showTitle": false,
     "tableResultSettingsMap": {},
     "title": ""
    }
   },
   "outputs": [],
   "source": [
    "from pyspark.sql.types import IntegerType\n",
    "from pyspark.sql.functions import col, when, md5, concat_ws"
   ]
  },
  {
   "cell_type": "code",
   "execution_count": 0,
   "metadata": {
    "application/vnd.databricks.v1+cell": {
     "cellMetadata": {
      "byteLimit": 2048000,
      "rowLimit": 10000
     },
     "inputWidgets": {},
     "nuid": "25ccaadd-9543-4f9c-94a7-3c0b477e1626",
     "showTitle": false,
     "tableResultSettingsMap": {},
     "title": ""
    }
   },
   "outputs": [],
   "source": [
    "entrance_exit_df = spark.read \\\n",
    "    .table(\"mta_bronze.entrance_exit\")"
   ]
  },
  {
   "cell_type": "code",
   "execution_count": 0,
   "metadata": {
    "application/vnd.databricks.v1+cell": {
     "cellMetadata": {
      "byteLimit": 2048000,
      "rowLimit": 10000
     },
     "inputWidgets": {},
     "nuid": "0c5f46cf-fa24-4a9b-a3d2-e4289ec73ead",
     "showTitle": false,
     "tableResultSettingsMap": {},
     "title": ""
    }
   },
   "outputs": [],
   "source": [
    "entrance_exit_trans_df = entrance_exit_df \\\n",
    "    .withColumn(\"eex_complex_id\", col(\"eex_complex_id\").cast(IntegerType())) \\\n",
    "    .withColumn(\"eex_entry_allowed\", when(col(\"eex_entry_allowed\") == \"YES\", True).otherwise(False)) \\\n",
    "    .withColumn(\"eex_exit_allowed\", when(col(\"eex_exit_allowed\") == \"YES\", True).otherwise(False)) \\\n",
    "    .withColumn(\"eex_sk\", md5(concat_ws(\"_\", \"eex_entrance_latitude\", \"eex_entrance_longitude\", \"eex_entrance_type\")))\n",
    "    "
   ]
  },
  {
   "cell_type": "code",
   "execution_count": 0,
   "metadata": {
    "application/vnd.databricks.v1+cell": {
     "cellMetadata": {
      "byteLimit": 2048000,
      "rowLimit": 10000
     },
     "inputWidgets": {},
     "nuid": "df458ac5-26b3-47c8-a3f1-67b1e315ab3e",
     "showTitle": false,
     "tableResultSettingsMap": {},
     "title": ""
    }
   },
   "outputs": [],
   "source": [
    "entrance_exit_final_df = entrance_exit_trans_df.select(\n",
    "    'eex_sk',\n",
    "    'eex_station_id',\n",
    "    'eex_gtfs_stop_id',\n",
    "    'eex_entrance_type',\n",
    "    'eex_entry_allowed',\n",
    "    'eex_exit_allowed',\n",
    "    'eex_entrance_latitude',\n",
    "    'eex_entrance_longitude',\n",
    "    'eex_ingestion_date',\n",
    "    'eex_source'\n",
    ")"
   ]
  },
  {
   "cell_type": "code",
   "execution_count": 0,
   "metadata": {
    "application/vnd.databricks.v1+cell": {
     "cellMetadata": {
      "byteLimit": 2048000,
      "rowLimit": 10000
     },
     "inputWidgets": {},
     "nuid": "2198c044-d2d5-42ed-852d-ca306a064ff4",
     "showTitle": false,
     "tableResultSettingsMap": {},
     "title": ""
    }
   },
   "outputs": [],
   "source": [
    "entrance_exit_final_df.write \\\n",
    "  .mode(\"overwrite\") \\\n",
    "  .format(\"delta\") \\\n",
    "  .partitionBy(\"eex_entrance_type\") \\\n",
    "  .option(\"mergeSchema\", \"true\") \\\n",
    "  .saveAsTable(\"mta_silver.dim_entrance_exit\")"
   ]
  },
  {
   "cell_type": "code",
   "execution_count": 0,
   "metadata": {
    "application/vnd.databricks.v1+cell": {
     "cellMetadata": {
      "byteLimit": 2048000,
      "implicitDf": true,
      "rowLimit": 10000
     },
     "inputWidgets": {},
     "nuid": "7b1c1ed8-b1a3-46b8-a5e8-7a74732abed2",
     "showTitle": false,
     "tableResultSettingsMap": {},
     "title": ""
    }
   },
   "outputs": [
    {
     "output_type": "display_data",
     "data": {
      "text/html": [
       "<style scoped>\n",
       "  .table-result-container {\n",
       "    max-height: 300px;\n",
       "    overflow: auto;\n",
       "  }\n",
       "  table, th, td {\n",
       "    border: 1px solid black;\n",
       "    border-collapse: collapse;\n",
       "  }\n",
       "  th, td {\n",
       "    padding: 5px;\n",
       "  }\n",
       "  th {\n",
       "    text-align: left;\n",
       "  }\n",
       "</style><div class='table-result-container'><table class='table-result'><thead style='background-color: white'><tr><th>eex_sk</th><th>eex_station_id</th><th>eex_gtfs_stop_id</th><th>eex_entrance_type</th><th>eex_entry_allowed</th><th>eex_exit_allowed</th><th>eex_entrance_latitude</th><th>eex_entrance_longitude</th><th>eex_ingestion_date</th><th>eex_source</th></tr></thead><tbody><tr><td>5a707c192dfeb4f129be90de376c0906</td><td>503</td><td>S29</td><td>Stair</td><td>true</td><td>true</td><td>40.6273214</td><td>-74.075095</td><td>2025-03-09T14:02:24.58Z</td><td>data.gov</td></tr><tr><td>1344766b20fc6194f33d13f00f8f2fb1</td><td>503</td><td>S29</td><td>Stair</td><td>true</td><td>true</td><td>40.6286019</td><td>-74.0752482</td><td>2025-03-09T14:02:24.58Z</td><td>data.gov</td></tr><tr><td>123c530b3542c9ff5ea11ce80d342eef</td><td>504</td><td>S28</td><td>Stair</td><td>true</td><td>true</td><td>40.6207463</td><td>-74.0710103</td><td>2025-03-09T14:02:24.58Z</td><td>data.gov</td></tr><tr><td>03646af8ca1f715f2c55485aabca9bf3</td><td>504</td><td>S28</td><td>Stair</td><td>true</td><td>true</td><td>40.6216363</td><td>-74.0717437</td><td>2025-03-09T14:02:24.58Z</td><td>data.gov</td></tr><tr><td>64ef37ef509962ba828a190d0ccec911</td><td>504</td><td>S28</td><td>Stair</td><td>true</td><td>true</td><td>40.6215752</td><td>-74.0717062</td><td>2025-03-09T14:02:24.58Z</td><td>data.gov</td></tr><tr><td>71fbd95a207c080b789491614a801801</td><td>504</td><td>S28</td><td>Stair</td><td>true</td><td>true</td><td>40.6218984</td><td>-74.0716411</td><td>2025-03-09T14:02:24.58Z</td><td>data.gov</td></tr><tr><td>dc3021ebe6156b6685ebf19585be122d</td><td>505</td><td>S27</td><td>Stair</td><td>true</td><td>true</td><td>40.6036771</td><td>-74.0836629</td><td>2025-03-09T14:02:24.58Z</td><td>data.gov</td></tr><tr><td>bbb6aa090e53a938366ad08536e6fd8a</td><td>506</td><td>S26</td><td>Stair</td><td>true</td><td>true</td><td>40.5963353</td><td>-74.0874145</td><td>2025-03-09T14:02:24.58Z</td><td>data.gov</td></tr><tr><td>c9bc95127ee55afd823fce4a231fe2fe</td><td>506</td><td>S26</td><td>Stair</td><td>true</td><td>true</td><td>40.5960874</td><td>-74.0875644</td><td>2025-03-09T14:02:24.58Z</td><td>data.gov</td></tr><tr><td>e99062fd40419344983cacfa1b31ac05</td><td>506</td><td>S26</td><td>Stair</td><td>true</td><td>true</td><td>40.5961168</td><td>-74.087835</td><td>2025-03-09T14:02:24.58Z</td><td>data.gov</td></tr></tbody></table></div>"
      ]
     },
     "metadata": {
      "application/vnd.databricks.v1+output": {
       "addedWidgets": {},
       "aggData": [],
       "aggError": "",
       "aggOverflow": false,
       "aggSchema": [],
       "aggSeriesLimitReached": false,
       "aggType": "",
       "arguments": {},
       "columnCustomDisplayInfos": {},
       "data": [
        [
         "5a707c192dfeb4f129be90de376c0906",
         503,
         "S29",
         "Stair",
         true,
         true,
         40.6273214,
         -74.075095,
         "2025-03-09T14:02:24.58Z",
         "data.gov"
        ],
        [
         "1344766b20fc6194f33d13f00f8f2fb1",
         503,
         "S29",
         "Stair",
         true,
         true,
         40.6286019,
         -74.0752482,
         "2025-03-09T14:02:24.58Z",
         "data.gov"
        ],
        [
         "123c530b3542c9ff5ea11ce80d342eef",
         504,
         "S28",
         "Stair",
         true,
         true,
         40.6207463,
         -74.0710103,
         "2025-03-09T14:02:24.58Z",
         "data.gov"
        ],
        [
         "03646af8ca1f715f2c55485aabca9bf3",
         504,
         "S28",
         "Stair",
         true,
         true,
         40.6216363,
         -74.0717437,
         "2025-03-09T14:02:24.58Z",
         "data.gov"
        ],
        [
         "64ef37ef509962ba828a190d0ccec911",
         504,
         "S28",
         "Stair",
         true,
         true,
         40.6215752,
         -74.0717062,
         "2025-03-09T14:02:24.58Z",
         "data.gov"
        ],
        [
         "71fbd95a207c080b789491614a801801",
         504,
         "S28",
         "Stair",
         true,
         true,
         40.6218984,
         -74.0716411,
         "2025-03-09T14:02:24.58Z",
         "data.gov"
        ],
        [
         "dc3021ebe6156b6685ebf19585be122d",
         505,
         "S27",
         "Stair",
         true,
         true,
         40.6036771,
         -74.0836629,
         "2025-03-09T14:02:24.58Z",
         "data.gov"
        ],
        [
         "bbb6aa090e53a938366ad08536e6fd8a",
         506,
         "S26",
         "Stair",
         true,
         true,
         40.5963353,
         -74.0874145,
         "2025-03-09T14:02:24.58Z",
         "data.gov"
        ],
        [
         "c9bc95127ee55afd823fce4a231fe2fe",
         506,
         "S26",
         "Stair",
         true,
         true,
         40.5960874,
         -74.0875644,
         "2025-03-09T14:02:24.58Z",
         "data.gov"
        ],
        [
         "e99062fd40419344983cacfa1b31ac05",
         506,
         "S26",
         "Stair",
         true,
         true,
         40.5961168,
         -74.087835,
         "2025-03-09T14:02:24.58Z",
         "data.gov"
        ]
       ],
       "datasetInfos": [],
       "dbfsResultPath": null,
       "isJsonSchema": true,
       "metadata": {
        "createTempViewForImplicitDf": true,
        "dataframeName": "_sqldf",
        "executionCount": 6
       },
       "overflow": false,
       "plotOptions": {
        "customPlotOptions": {},
        "displayType": "table",
        "pivotAggregation": null,
        "pivotColumns": null,
        "xColumns": null,
        "yColumns": null
       },
       "removedWidgets": [],
       "schema": [
        {
         "metadata": "{}",
         "name": "eex_sk",
         "type": "\"string\""
        },
        {
         "metadata": "{}",
         "name": "eex_station_id",
         "type": "\"integer\""
        },
        {
         "metadata": "{}",
         "name": "eex_gtfs_stop_id",
         "type": "\"string\""
        },
        {
         "metadata": "{}",
         "name": "eex_entrance_type",
         "type": "\"string\""
        },
        {
         "metadata": "{}",
         "name": "eex_entry_allowed",
         "type": "\"boolean\""
        },
        {
         "metadata": "{}",
         "name": "eex_exit_allowed",
         "type": "\"boolean\""
        },
        {
         "metadata": "{}",
         "name": "eex_entrance_latitude",
         "type": "\"double\""
        },
        {
         "metadata": "{}",
         "name": "eex_entrance_longitude",
         "type": "\"double\""
        },
        {
         "metadata": "{}",
         "name": "eex_ingestion_date",
         "type": "\"timestamp\""
        },
        {
         "metadata": "{}",
         "name": "eex_source",
         "type": "\"string\""
        }
       ],
       "type": "table"
      }
     },
     "output_type": "display_data"
    }
   ],
   "source": [
    "%sql\n",
    "SELECT * FROM mta_silver.dim_entrance_exit LIMIT 10;"
   ]
  },
  {
   "cell_type": "code",
   "execution_count": 0,
   "metadata": {
    "application/vnd.databricks.v1+cell": {
     "cellMetadata": {
      "byteLimit": 2048000,
      "rowLimit": 10000
     },
     "inputWidgets": {},
     "nuid": "0e0f9542-565b-45d6-a605-109f92ef32c8",
     "showTitle": false,
     "tableResultSettingsMap": {},
     "title": ""
    }
   },
   "outputs": [],
   "source": [
    "dbutils.notebook.exit(\"Success\")"
   ]
  }
 ],
 "metadata": {
  "application/vnd.databricks.v1+notebook": {
   "computePreferences": null,
   "dashboards": [],
   "environmentMetadata": {
    "base_environment": "",
    "environment_version": "2"
   },
   "language": "python",
   "notebookMetadata": {
    "mostRecentlyExecutedCommandWithImplicitDF": {
     "commandId": 4043720316056105,
     "dataframes": [
      "_sqldf"
     ]
    },
    "pythonIndentUnit": 4
   },
   "notebookName": "silver_dim_entrance_exit",
   "widgets": {}
  },
  "language_info": {
   "name": "python"
  }
 },
 "nbformat": 4,
 "nbformat_minor": 0
}
