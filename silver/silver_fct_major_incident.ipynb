{
 "cells": [
  {
   "cell_type": "code",
   "execution_count": 0,
   "metadata": {
    "application/vnd.databricks.v1+cell": {
     "cellMetadata": {
      "byteLimit": 2048000,
      "rowLimit": 10000
     },
     "inputWidgets": {},
     "nuid": "81fec540-979b-4250-b1d7-1c63eaed52c7",
     "showTitle": false,
     "tableResultSettingsMap": {},
     "title": ""
    }
   },
   "outputs": [],
   "source": [
    "from pyspark.sql.types import DateType\n",
    "from pyspark.sql.functions import md5, concat_ws, col, initcap, when"
   ]
  },
  {
   "cell_type": "code",
   "execution_count": 0,
   "metadata": {
    "application/vnd.databricks.v1+cell": {
     "cellMetadata": {
      "byteLimit": 2048000,
      "rowLimit": 10000
     },
     "inputWidgets": {},
     "nuid": "7331c051-2d26-4c15-b574-c7732feff068",
     "showTitle": false,
     "tableResultSettingsMap": {},
     "title": ""
    }
   },
   "outputs": [],
   "source": [
    "major_incident_df = spark.read \\\n",
    "    .table(\"mta_bronze.major_incident\")\n",
    "\n",
    "dim_lines_df = spark.read \\\n",
    "    .table(\"mta_silver.dim_line\")\n",
    "\n",
    "dim_inc_category_df = spark.read \\\n",
    "    .table(\"mta_silver.dim_inc_category\")"
   ]
  },
  {
   "cell_type": "code",
   "execution_count": 0,
   "metadata": {
    "application/vnd.databricks.v1+cell": {
     "cellMetadata": {
      "byteLimit": 2048000,
      "rowLimit": 10000
     },
     "inputWidgets": {},
     "nuid": "2ae2c18a-a754-4433-b669-48810a25b119",
     "showTitle": false,
     "tableResultSettingsMap": {},
     "title": ""
    }
   },
   "outputs": [],
   "source": [
    "major_incidents_transform_df = major_incident_df \\\n",
    "    .join(dim_lines_df, major_incident_df.inc_line == dim_lines_df.lin_nk, \"inner\") \\\n",
    "    .join(dim_inc_category_df, major_incident_df.inc_category == dim_inc_category_df.ict_category, \"inner\") \\\n",
    "    .withColumn(\"inc_sk\", md5(concat_ws(\"_\", \"inc_month\", \"inc_division\", \"inc_line\", \"inc_day_type\", \"inc_category\"))) \\\n",
    "    .withColumn(\"inc_division\", initcap(col(\"inc_division\"))) \\\n",
    "    .withColumn(\"dte_sk\", col(\"inc_month\").cast(DateType())) \\\n",
    "    .drop(\"inc_month\") \\\n",
    "    .withColumn(\"inc_day_type\", when(col(\"inc_day_type\") == 1, \"Weekday\").otherwise(\"Weekend\"))"
   ]
  },
  {
   "cell_type": "code",
   "execution_count": 0,
   "metadata": {
    "application/vnd.databricks.v1+cell": {
     "cellMetadata": {
      "byteLimit": 2048000,
      "rowLimit": 10000
     },
     "inputWidgets": {},
     "nuid": "515f1be5-63bb-4ada-a6a6-7dc98a88b32b",
     "showTitle": false,
     "tableResultSettingsMap": {},
     "title": ""
    }
   },
   "outputs": [],
   "source": [
    "major_incident_final_df = major_incidents_transform_df.select(\n",
    "    'inc_sk',\n",
    "    'lin_sk',\n",
    "    'ict_sk',\n",
    "    'dte_sk',\n",
    "    'inc_count',\n",
    "    'inc_ingestion_date',\n",
    "    'inc_source',\n",
    ")"
   ]
  },
  {
   "cell_type": "code",
   "execution_count": 0,
   "metadata": {
    "application/vnd.databricks.v1+cell": {
     "cellMetadata": {
      "byteLimit": 2048000,
      "rowLimit": 10000
     },
     "inputWidgets": {},
     "nuid": "78a4bae6-1f3d-4450-9ea3-660d07daf297",
     "showTitle": false,
     "tableResultSettingsMap": {},
     "title": ""
    }
   },
   "outputs": [],
   "source": [
    "major_incident_final_df.write.mode(\"overwrite\").format(\"delta\").partitionBy(\"dte_sk\").option(\"mergeSchema\", \"true\").saveAsTable(\"mta_silver.fct_major_incident\")"
   ]
  },
  {
   "cell_type": "code",
   "execution_count": 0,
   "metadata": {
    "application/vnd.databricks.v1+cell": {
     "cellMetadata": {
      "byteLimit": 2048000,
      "implicitDf": true,
      "rowLimit": 10000
     },
     "inputWidgets": {},
     "nuid": "7c04a600-6618-4906-913c-a7544eabe334",
     "showTitle": false,
     "tableResultSettingsMap": {},
     "title": ""
    }
   },
   "outputs": [],
   "source": [
    "%sql\n",
    "SELECT * FROM mta_silver.fct_major_incident LIMIT 20;"
   ]
  },
  {
   "cell_type": "code",
   "execution_count": 0,
   "metadata": {
    "application/vnd.databricks.v1+cell": {
     "cellMetadata": {
      "byteLimit": 2048000,
      "rowLimit": 10000
     },
     "inputWidgets": {},
     "nuid": "33b23171-b34d-4360-a755-8e479934f119",
     "showTitle": false,
     "tableResultSettingsMap": {},
     "title": ""
    }
   },
   "outputs": [],
   "source": [
    "dbutils.notebook.exit(\"Success\")"
   ]
  }
 ],
 "metadata": {
  "application/vnd.databricks.v1+notebook": {
   "computePreferences": null,
   "dashboards": [],
   "environmentMetadata": {
    "base_environment": "",
    "environment_version": "2"
   },
   "language": "python",
   "notebookMetadata": {
    "mostRecentlyExecutedCommandWithImplicitDF": {
     "commandId": 4043720316056064,
     "dataframes": [
      "_sqldf"
     ]
    },
    "pythonIndentUnit": 4
   },
   "notebookName": "silver_fct_major_incident",
   "widgets": {}
  },
  "language_info": {
   "name": "python"
  }
 },
 "nbformat": 4,
 "nbformat_minor": 0
}
