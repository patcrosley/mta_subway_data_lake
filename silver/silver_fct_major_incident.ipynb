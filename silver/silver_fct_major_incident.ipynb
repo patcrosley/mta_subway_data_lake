{
 "cells": [
  {
   "cell_type": "code",
   "execution_count": 0,
   "metadata": {
    "application/vnd.databricks.v1+cell": {
     "cellMetadata": {
      "byteLimit": 2048000,
      "rowLimit": 10000
     },
     "inputWidgets": {},
     "nuid": "81fec540-979b-4250-b1d7-1c63eaed52c7",
     "showTitle": false,
     "tableResultSettingsMap": {},
     "title": ""
    }
   },
   "outputs": [],
   "source": [
    "from pyspark.sql.types import DateType\n",
    "from pyspark.sql.functions import md5, concat_ws, col, initcap, when"
   ]
  },
  {
   "cell_type": "code",
   "execution_count": 0,
   "metadata": {
    "application/vnd.databricks.v1+cell": {
     "cellMetadata": {
      "byteLimit": 2048000,
      "rowLimit": 10000
     },
     "inputWidgets": {},
     "nuid": "7331c051-2d26-4c15-b574-c7732feff068",
     "showTitle": false,
     "tableResultSettingsMap": {},
     "title": ""
    }
   },
   "outputs": [],
   "source": [
    "major_incident_df = spark.read \\\n",
    "    .table(\"mta_bronze.major_incident\")\n",
    "\n",
    "dim_lines_df = spark.read \\\n",
    "    .table(\"mta_silver.dim_line\")\n",
    "\n",
    "dim_inc_category_df = spark.read \\\n",
    "    .table(\"mta_silver.dim_inc_category\")"
   ]
  },
  {
   "cell_type": "code",
   "execution_count": 0,
   "metadata": {
    "application/vnd.databricks.v1+cell": {
     "cellMetadata": {
      "byteLimit": 2048000,
      "rowLimit": 10000
     },
     "inputWidgets": {},
     "nuid": "2ae2c18a-a754-4433-b669-48810a25b119",
     "showTitle": false,
     "tableResultSettingsMap": {},
     "title": ""
    }
   },
   "outputs": [],
   "source": [
    "major_incidents_transform_df = major_incident_df \\\n",
    "    .join(dim_lines_df, major_incident_df.inc_line == dim_lines_df.lin_nk, \"inner\") \\\n",
    "    .join(dim_inc_category_df, major_incident_df.inc_category == dim_inc_category_df.ict_category, \"inner\") \\\n",
    "    .withColumn(\"inc_sk\", md5(concat_ws(\"_\", \"inc_month\", \"inc_division\", \"inc_line\", \"inc_day_type\", \"inc_category\"))) \\\n",
    "    .withColumn(\"inc_division\", initcap(col(\"inc_division\"))) \\\n",
    "    .withColumn(\"dte_sk\", col(\"inc_month\").cast(DateType())) \\\n",
    "    .drop(\"inc_month\") \\\n",
    "    .withColumn(\"inc_day_type\", when(col(\"inc_day_type\") == 1, \"Weekday\").otherwise(\"Weekend\"))"
   ]
  },
  {
   "cell_type": "code",
   "execution_count": 0,
   "metadata": {
    "application/vnd.databricks.v1+cell": {
     "cellMetadata": {
      "byteLimit": 2048000,
      "rowLimit": 10000
     },
     "inputWidgets": {},
     "nuid": "515f1be5-63bb-4ada-a6a6-7dc98a88b32b",
     "showTitle": false,
     "tableResultSettingsMap": {},
     "title": ""
    }
   },
   "outputs": [],
   "source": [
    "major_incident_final_df = major_incidents_transform_df.select(\n",
    "    'inc_sk',\n",
    "    'lin_sk',\n",
    "    'ict_sk',\n",
    "    'dte_sk',\n",
    "    'inc_count',\n",
    "    'inc_ingestion_date',\n",
    "    'inc_source',\n",
    ")"
   ]
  },
  {
   "cell_type": "code",
   "execution_count": 0,
   "metadata": {
    "application/vnd.databricks.v1+cell": {
     "cellMetadata": {
      "byteLimit": 2048000,
      "rowLimit": 10000
     },
     "inputWidgets": {},
     "nuid": "78a4bae6-1f3d-4450-9ea3-660d07daf297",
     "showTitle": false,
     "tableResultSettingsMap": {},
     "title": ""
    }
   },
   "outputs": [],
   "source": [
    "major_incident_final_df.write \\\n",
    "  .mode(\"overwrite\") \\\n",
    "  .format(\"delta\") \\\n",
    "  .partitionBy(\"dte_sk\") \\\n",
    "  .option(\"mergeSchema\", \"true\") \\\n",
    "  .saveAsTable(\"mta_silver.fct_major_incident\")"
   ]
  },
  {
   "cell_type": "code",
   "execution_count": 0,
   "metadata": {
    "application/vnd.databricks.v1+cell": {
     "cellMetadata": {
      "byteLimit": 2048000,
      "implicitDf": true,
      "rowLimit": 10000
     },
     "inputWidgets": {},
     "nuid": "7c04a600-6618-4906-913c-a7544eabe334",
     "showTitle": false,
     "tableResultSettingsMap": {},
     "title": ""
    }
   },
   "outputs": [
    {
     "output_type": "display_data",
     "data": {
      "text/html": [
       "<style scoped>\n",
       "  .table-result-container {\n",
       "    max-height: 300px;\n",
       "    overflow: auto;\n",
       "  }\n",
       "  table, th, td {\n",
       "    border: 1px solid black;\n",
       "    border-collapse: collapse;\n",
       "  }\n",
       "  th, td {\n",
       "    padding: 5px;\n",
       "  }\n",
       "  th {\n",
       "    text-align: left;\n",
       "  }\n",
       "</style><div class='table-result-container'><table class='table-result'><thead style='background-color: white'><tr><th>inc_sk</th><th>lin_sk</th><th>ict_sk</th><th>dte_sk</th><th>inc_count</th><th>inc_ingestion_date</th><th>inc_source</th></tr></thead><tbody><tr><td>6d8741eaab3385d84a71630652c3b251</td><td>e1e1d3d40573127e9ee0480caf1283d6</td><td>97622cf2e8771871841450151d8f6c3b</td><td>2018-01-01</td><td>1</td><td>2025-03-09T07:18:20.256Z</td><td>data.gov</td></tr><tr><td>6bfc27e4ac49b8ee61e93f5a3cc43e45</td><td>e1e1d3d40573127e9ee0480caf1283d6</td><td>3855e9349c45f9dd73c812e7d4fde893</td><td>2018-01-01</td><td>1</td><td>2025-03-09T07:18:20.256Z</td><td>data.gov</td></tr><tr><td>4572d0f63e5dc2c96b3b428caff3ec9d</td><td>e1e1d3d40573127e9ee0480caf1283d6</td><td>cadd2b2ad06d8a0caee658e3c05e615a</td><td>2018-01-01</td><td>1</td><td>2025-03-09T07:18:20.256Z</td><td>data.gov</td></tr><tr><td>47bdc42ad9153558b19e939cb425e2cc</td><td>e1e1d3d40573127e9ee0480caf1283d6</td><td>5be0ee9a2a4d1ffddc897625771606ab</td><td>2018-01-01</td><td>3</td><td>2025-03-09T07:18:20.256Z</td><td>data.gov</td></tr><tr><td>457bf6e2a3e7d7aa952c9909c4ac7944</td><td>f09564c9ca56850d4cd6b3319e541aee</td><td>cadd2b2ad06d8a0caee658e3c05e615a</td><td>2018-01-01</td><td>1</td><td>2025-03-09T07:18:20.256Z</td><td>data.gov</td></tr><tr><td>ad6df157c08a8115633cdd3aa79c5dba</td><td>f09564c9ca56850d4cd6b3319e541aee</td><td>92ea731d3af6677905303c88689f5d55</td><td>2018-01-01</td><td>1</td><td>2025-03-09T07:18:20.256Z</td><td>data.gov</td></tr><tr><td>51f899816c3fc682831b0c7c65f34bcc</td><td>f09564c9ca56850d4cd6b3319e541aee</td><td>5be0ee9a2a4d1ffddc897625771606ab</td><td>2018-01-01</td><td>1</td><td>2025-03-09T07:18:20.256Z</td><td>data.gov</td></tr><tr><td>8d13b70eb01726be726dddcccbbcd4b0</td><td>f09564c9ca56850d4cd6b3319e541aee</td><td>6311ae17c1ee52b36e68aaf4ad066387</td><td>2018-01-01</td><td>1</td><td>2025-03-09T07:18:20.256Z</td><td>data.gov</td></tr><tr><td>e30a222edea6f897ff1a2f239a0e04a4</td><td>8d9c307cb7f3c4a32822a51922d1ceaa</td><td>92ea731d3af6677905303c88689f5d55</td><td>2018-01-01</td><td>1</td><td>2025-03-09T07:18:20.256Z</td><td>data.gov</td></tr><tr><td>0c0dcbe95a31db04432e8d075b708341</td><td>8d9c307cb7f3c4a32822a51922d1ceaa</td><td>cadd2b2ad06d8a0caee658e3c05e615a</td><td>2018-01-01</td><td>1</td><td>2025-03-09T07:18:20.256Z</td><td>data.gov</td></tr></tbody></table></div>"
      ]
     },
     "metadata": {
      "application/vnd.databricks.v1+output": {
       "addedWidgets": {},
       "aggData": [],
       "aggError": "",
       "aggOverflow": false,
       "aggSchema": [],
       "aggSeriesLimitReached": false,
       "aggType": "",
       "arguments": {},
       "columnCustomDisplayInfos": {},
       "data": [
        [
         "6d8741eaab3385d84a71630652c3b251",
         "e1e1d3d40573127e9ee0480caf1283d6",
         "97622cf2e8771871841450151d8f6c3b",
         "2018-01-01",
         1,
         "2025-03-09T07:18:20.256Z",
         "data.gov"
        ],
        [
         "6bfc27e4ac49b8ee61e93f5a3cc43e45",
         "e1e1d3d40573127e9ee0480caf1283d6",
         "3855e9349c45f9dd73c812e7d4fde893",
         "2018-01-01",
         1,
         "2025-03-09T07:18:20.256Z",
         "data.gov"
        ],
        [
         "4572d0f63e5dc2c96b3b428caff3ec9d",
         "e1e1d3d40573127e9ee0480caf1283d6",
         "cadd2b2ad06d8a0caee658e3c05e615a",
         "2018-01-01",
         1,
         "2025-03-09T07:18:20.256Z",
         "data.gov"
        ],
        [
         "47bdc42ad9153558b19e939cb425e2cc",
         "e1e1d3d40573127e9ee0480caf1283d6",
         "5be0ee9a2a4d1ffddc897625771606ab",
         "2018-01-01",
         3,
         "2025-03-09T07:18:20.256Z",
         "data.gov"
        ],
        [
         "457bf6e2a3e7d7aa952c9909c4ac7944",
         "f09564c9ca56850d4cd6b3319e541aee",
         "cadd2b2ad06d8a0caee658e3c05e615a",
         "2018-01-01",
         1,
         "2025-03-09T07:18:20.256Z",
         "data.gov"
        ],
        [
         "ad6df157c08a8115633cdd3aa79c5dba",
         "f09564c9ca56850d4cd6b3319e541aee",
         "92ea731d3af6677905303c88689f5d55",
         "2018-01-01",
         1,
         "2025-03-09T07:18:20.256Z",
         "data.gov"
        ],
        [
         "51f899816c3fc682831b0c7c65f34bcc",
         "f09564c9ca56850d4cd6b3319e541aee",
         "5be0ee9a2a4d1ffddc897625771606ab",
         "2018-01-01",
         1,
         "2025-03-09T07:18:20.256Z",
         "data.gov"
        ],
        [
         "8d13b70eb01726be726dddcccbbcd4b0",
         "f09564c9ca56850d4cd6b3319e541aee",
         "6311ae17c1ee52b36e68aaf4ad066387",
         "2018-01-01",
         1,
         "2025-03-09T07:18:20.256Z",
         "data.gov"
        ],
        [
         "e30a222edea6f897ff1a2f239a0e04a4",
         "8d9c307cb7f3c4a32822a51922d1ceaa",
         "92ea731d3af6677905303c88689f5d55",
         "2018-01-01",
         1,
         "2025-03-09T07:18:20.256Z",
         "data.gov"
        ],
        [
         "0c0dcbe95a31db04432e8d075b708341",
         "8d9c307cb7f3c4a32822a51922d1ceaa",
         "cadd2b2ad06d8a0caee658e3c05e615a",
         "2018-01-01",
         1,
         "2025-03-09T07:18:20.256Z",
         "data.gov"
        ]
       ],
       "datasetInfos": [],
       "dbfsResultPath": null,
       "isJsonSchema": true,
       "metadata": {
        "createTempViewForImplicitDf": true,
        "dataframeName": "_sqldf",
        "executionCount": 13
       },
       "overflow": false,
       "plotOptions": {
        "customPlotOptions": {},
        "displayType": "table",
        "pivotAggregation": null,
        "pivotColumns": null,
        "xColumns": null,
        "yColumns": null
       },
       "removedWidgets": [],
       "schema": [
        {
         "metadata": "{}",
         "name": "inc_sk",
         "type": "\"string\""
        },
        {
         "metadata": "{}",
         "name": "lin_sk",
         "type": "\"string\""
        },
        {
         "metadata": "{}",
         "name": "ict_sk",
         "type": "\"string\""
        },
        {
         "metadata": "{}",
         "name": "dte_sk",
         "type": "\"date\""
        },
        {
         "metadata": "{}",
         "name": "inc_count",
         "type": "\"integer\""
        },
        {
         "metadata": "{}",
         "name": "inc_ingestion_date",
         "type": "\"timestamp\""
        },
        {
         "metadata": "{}",
         "name": "inc_source",
         "type": "\"string\""
        }
       ],
       "type": "table"
      }
     },
     "output_type": "display_data"
    }
   ],
   "source": [
    "%sql\n",
    "SELECT * FROM mta_silver.fct_major_incident LIMIT 10;"
   ]
  },
  {
   "cell_type": "code",
   "execution_count": 0,
   "metadata": {
    "application/vnd.databricks.v1+cell": {
     "cellMetadata": {
      "byteLimit": 2048000,
      "rowLimit": 10000
     },
     "inputWidgets": {},
     "nuid": "33b23171-b34d-4360-a755-8e479934f119",
     "showTitle": false,
     "tableResultSettingsMap": {},
     "title": ""
    }
   },
   "outputs": [],
   "source": [
    "dbutils.notebook.exit(\"Success\")"
   ]
  }
 ],
 "metadata": {
  "application/vnd.databricks.v1+notebook": {
   "computePreferences": null,
   "dashboards": [],
   "environmentMetadata": {
    "base_environment": "",
    "environment_version": "2"
   },
   "language": "python",
   "notebookMetadata": {
    "mostRecentlyExecutedCommandWithImplicitDF": {
     "commandId": 4043720316056064,
     "dataframes": [
      "_sqldf"
     ]
    },
    "pythonIndentUnit": 4
   },
   "notebookName": "silver_fct_major_incident",
   "widgets": {}
  },
  "language_info": {
   "name": "python"
  }
 },
 "nbformat": 4,
 "nbformat_minor": 0
}
