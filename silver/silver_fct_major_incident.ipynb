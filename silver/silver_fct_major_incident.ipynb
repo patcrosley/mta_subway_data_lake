{
 "cells": [
  {
   "cell_type": "code",
   "execution_count": 0,
   "metadata": {
    "application/vnd.databricks.v1+cell": {
     "cellMetadata": {
      "byteLimit": 2048000,
      "rowLimit": 10000
     },
     "inputWidgets": {},
     "nuid": "0d2a565d-89d2-4182-8864-fa5d74c520a5",
     "showTitle": false,
     "tableResultSettingsMap": {},
     "title": ""
    }
   },
   "outputs": [],
   "source": [
    "%run \"../utils/custom_functions\""
   ]
  },
  {
   "cell_type": "code",
   "execution_count": 0,
   "metadata": {
    "application/vnd.databricks.v1+cell": {
     "cellMetadata": {
      "byteLimit": 2048000,
      "rowLimit": 10000
     },
     "inputWidgets": {},
     "nuid": "81fec540-979b-4250-b1d7-1c63eaed52c7",
     "showTitle": false,
     "tableResultSettingsMap": {},
     "title": ""
    }
   },
   "outputs": [],
   "source": [
    "from pyspark.sql.types import DateType\n",
    "from pyspark.sql.functions import md5, concat_ws, col, initcap, when"
   ]
  },
  {
   "cell_type": "code",
   "execution_count": 0,
   "metadata": {
    "application/vnd.databricks.v1+cell": {
     "cellMetadata": {
      "byteLimit": 2048000,
      "rowLimit": 10000
     },
     "inputWidgets": {},
     "nuid": "7331c051-2d26-4c15-b574-c7732feff068",
     "showTitle": false,
     "tableResultSettingsMap": {},
     "title": ""
    }
   },
   "outputs": [],
   "source": [
    "major_incident_df = spark.read \\\n",
    "    .table(\"mta_bronze.major_incident\")\n",
    "\n",
    "dim_lines_df = spark.read \\\n",
    "    .table(\"mta_silver.dim_line\")\n",
    "\n",
    "dim_inc_category_df = spark.read \\\n",
    "    .table(\"mta_silver.dim_inc_category\")"
   ]
  },
  {
   "cell_type": "code",
   "execution_count": 0,
   "metadata": {
    "application/vnd.databricks.v1+cell": {
     "cellMetadata": {
      "byteLimit": 2048000,
      "rowLimit": 10000
     },
     "inputWidgets": {},
     "nuid": "2ae2c18a-a754-4433-b669-48810a25b119",
     "showTitle": false,
     "tableResultSettingsMap": {},
     "title": ""
    }
   },
   "outputs": [],
   "source": [
    "major_incidents_transform_df = major_incident_df \\\n",
    "    .join(dim_lines_df, major_incident_df.inc_line == dim_lines_df.lin_nk, \"inner\") \\\n",
    "    .join(dim_inc_category_df, major_incident_df.inc_category == dim_inc_category_df.ict_category, \"inner\") \\\n",
    "    .withColumn(\"inc_sk\", md5(concat_ws(\"_\", \"inc_month\", \"inc_division\", \"inc_line\", \"inc_day_type\", \"inc_category\"))) \\\n",
    "    .withColumn(\"inc_division\", initcap(col(\"inc_division\"))) \\\n",
    "    .withColumn(\"dte_sk\", col(\"inc_month\").cast(DateType())) \\\n",
    "    .drop(\"inc_month\") \\\n",
    "    .withColumn(\"inc_day_type\", when(col(\"inc_day_type\") == 1, \"Weekday\").otherwise(\"Weekend\")) \\\n",
    "    .dropDuplicates([\"inc_sk\"])"
   ]
  },
  {
   "cell_type": "code",
   "execution_count": 0,
   "metadata": {
    "application/vnd.databricks.v1+cell": {
     "cellMetadata": {
      "byteLimit": 2048000,
      "rowLimit": 10000
     },
     "inputWidgets": {},
     "nuid": "515f1be5-63bb-4ada-a6a6-7dc98a88b32b",
     "showTitle": false,
     "tableResultSettingsMap": {},
     "title": ""
    }
   },
   "outputs": [],
   "source": [
    "#final select\n",
    "\n",
    "major_incident_final_df = major_incidents_transform_df.select(\n",
    "    'inc_sk',\n",
    "    'lin_sk',\n",
    "    'ict_sk',\n",
    "    'dte_sk',\n",
    "    'inc_count',\n",
    "    'inc_ingestion_date',\n",
    "    'inc_source',\n",
    ")"
   ]
  },
  {
   "cell_type": "code",
   "execution_count": 0,
   "metadata": {
    "application/vnd.databricks.v1+cell": {
     "cellMetadata": {
      "byteLimit": 2048000,
      "rowLimit": 10000
     },
     "inputWidgets": {},
     "nuid": "78a4bae6-1f3d-4450-9ea3-660d07daf297",
     "showTitle": false,
     "tableResultSettingsMap": {},
     "title": ""
    }
   },
   "outputs": [],
   "source": [
    "if not spark._jsparkSession.catalog().tableExists(\"mta_silver.fct_major_incident\"):\n",
    "\n",
    "  major_incident_final_df.write \\\n",
    "    .mode(\"overwrite\") \\\n",
    "    .format(\"delta\") \\\n",
    "    .partitionBy(\"dte_sk\") \\\n",
    "    .option(\"mergeSchema\", \"true\") \\\n",
    "    .saveAsTable(\"mta_silver.fct_major_incident\")\n",
    "\n",
    "else:\n",
    "  merge_delta_data(\n",
    "    major_incident_final_df,\n",
    "    db_name=\"mta_silver\",\n",
    "    table_name=\"fct_major_incident\",\n",
    "    merge_condition=\"tgt.inc_sk = src.inc_sk\",\n",
    "    partition_column=\"dte_sk\"\n",
    ")"
   ]
  },
  {
   "cell_type": "code",
   "execution_count": 0,
   "metadata": {
    "application/vnd.databricks.v1+cell": {
     "cellMetadata": {
      "byteLimit": 2048000,
      "implicitDf": true,
      "rowLimit": 10000
     },
     "inputWidgets": {},
     "nuid": "7c04a600-6618-4906-913c-a7544eabe334",
     "showTitle": false,
     "tableResultSettingsMap": {},
     "title": ""
    }
   },
   "outputs": [
    {
     "output_type": "display_data",
     "data": {
      "text/html": [
       "<style scoped>\n",
       "  .table-result-container {\n",
       "    max-height: 300px;\n",
       "    overflow: auto;\n",
       "  }\n",
       "  table, th, td {\n",
       "    border: 1px solid black;\n",
       "    border-collapse: collapse;\n",
       "  }\n",
       "  th, td {\n",
       "    padding: 5px;\n",
       "  }\n",
       "  th {\n",
       "    text-align: left;\n",
       "  }\n",
       "</style><div class='table-result-container'><table class='table-result'><thead style='background-color: white'><tr><th>inc_sk</th><th>lin_sk</th><th>ict_sk</th><th>dte_sk</th><th>inc_count</th><th>inc_ingestion_date</th><th>inc_source</th></tr></thead><tbody><tr><td>00baede46423b1801a9e694370383634</td><td>7fc56270e7a70fa81a5935b72eacbe29</td><td>5be0ee9a2a4d1ffddc897625771606ab</td><td>2015-01-01</td><td>1</td><td>2025-03-09T07:18:20.256Z</td><td>data.gov</td></tr><tr><td>06b1afa40ad40e60de6fee56650ffb11</td><td>7fc56270e7a70fa81a5935b72eacbe29</td><td>92ea731d3af6677905303c88689f5d55</td><td>2015-01-01</td><td>2</td><td>2025-03-09T07:18:20.256Z</td><td>data.gov</td></tr><tr><td>0ca62e1f8cd26c5450c5498be0ca2cdb</td><td>800618943025315f869e4e1f09471012</td><td>cadd2b2ad06d8a0caee658e3c05e615a</td><td>2015-01-01</td><td>3</td><td>2025-03-09T07:18:20.256Z</td><td>data.gov</td></tr><tr><td>0ec3a6451dc12188e5dc5b1887878681</td><td>8d9c307cb7f3c4a32822a51922d1ceaa</td><td>cadd2b2ad06d8a0caee658e3c05e615a</td><td>2015-01-01</td><td>1</td><td>2025-03-09T07:18:20.256Z</td><td>data.gov</td></tr><tr><td>10ff7adc1f6b9f1ec80a943896fb495c</td><td>e4da3b7fbbce2345d7772b0674a318d5</td><td>97622cf2e8771871841450151d8f6c3b</td><td>2015-01-01</td><td>1</td><td>2025-03-09T07:18:20.256Z</td><td>data.gov</td></tr><tr><td>196cdb1392dece8594fff0452ee32820</td><td>1679091c5a880faf6fb5e6087eb1b2dc</td><td>5be0ee9a2a4d1ffddc897625771606ab</td><td>2015-01-01</td><td>4</td><td>2025-03-09T07:18:20.256Z</td><td>data.gov</td></tr><tr><td>1974487506a44045ab8b64c482c22926</td><td>e4da3b7fbbce2345d7772b0674a318d5</td><td>6311ae17c1ee52b36e68aaf4ad066387</td><td>2015-01-01</td><td>1</td><td>2025-03-09T07:18:20.256Z</td><td>data.gov</td></tr><tr><td>1ddf6920a583ca91726bc24200a9caea</td><td>69691c7bdcc3ce6d5d8a1361f22d04ac</td><td>6311ae17c1ee52b36e68aaf4ad066387</td><td>2015-01-01</td><td>2</td><td>2025-03-09T07:18:20.256Z</td><td>data.gov</td></tr><tr><td>1df39c0d75906410f8485cb47c371f27</td><td>1679091c5a880faf6fb5e6087eb1b2dc</td><td>5be0ee9a2a4d1ffddc897625771606ab</td><td>2015-01-01</td><td>1</td><td>2025-03-09T07:18:20.256Z</td><td>data.gov</td></tr><tr><td>31262797830bf4a595d4f545dc39e8f2</td><td>c4ca4238a0b923820dcc509a6f75849b</td><td>92ea731d3af6677905303c88689f5d55</td><td>2015-01-01</td><td>1</td><td>2025-03-09T07:18:20.256Z</td><td>data.gov</td></tr></tbody></table></div>"
      ]
     },
     "metadata": {
      "application/vnd.databricks.v1+output": {
       "addedWidgets": {},
       "aggData": [],
       "aggError": "",
       "aggOverflow": false,
       "aggSchema": [],
       "aggSeriesLimitReached": false,
       "aggType": "",
       "arguments": {},
       "columnCustomDisplayInfos": {},
       "data": [
        [
         "00baede46423b1801a9e694370383634",
         "7fc56270e7a70fa81a5935b72eacbe29",
         "5be0ee9a2a4d1ffddc897625771606ab",
         "2015-01-01",
         1,
         "2025-03-09T07:18:20.256Z",
         "data.gov"
        ],
        [
         "06b1afa40ad40e60de6fee56650ffb11",
         "7fc56270e7a70fa81a5935b72eacbe29",
         "92ea731d3af6677905303c88689f5d55",
         "2015-01-01",
         2,
         "2025-03-09T07:18:20.256Z",
         "data.gov"
        ],
        [
         "0ca62e1f8cd26c5450c5498be0ca2cdb",
         "800618943025315f869e4e1f09471012",
         "cadd2b2ad06d8a0caee658e3c05e615a",
         "2015-01-01",
         3,
         "2025-03-09T07:18:20.256Z",
         "data.gov"
        ],
        [
         "0ec3a6451dc12188e5dc5b1887878681",
         "8d9c307cb7f3c4a32822a51922d1ceaa",
         "cadd2b2ad06d8a0caee658e3c05e615a",
         "2015-01-01",
         1,
         "2025-03-09T07:18:20.256Z",
         "data.gov"
        ],
        [
         "10ff7adc1f6b9f1ec80a943896fb495c",
         "e4da3b7fbbce2345d7772b0674a318d5",
         "97622cf2e8771871841450151d8f6c3b",
         "2015-01-01",
         1,
         "2025-03-09T07:18:20.256Z",
         "data.gov"
        ],
        [
         "196cdb1392dece8594fff0452ee32820",
         "1679091c5a880faf6fb5e6087eb1b2dc",
         "5be0ee9a2a4d1ffddc897625771606ab",
         "2015-01-01",
         4,
         "2025-03-09T07:18:20.256Z",
         "data.gov"
        ],
        [
         "1974487506a44045ab8b64c482c22926",
         "e4da3b7fbbce2345d7772b0674a318d5",
         "6311ae17c1ee52b36e68aaf4ad066387",
         "2015-01-01",
         1,
         "2025-03-09T07:18:20.256Z",
         "data.gov"
        ],
        [
         "1ddf6920a583ca91726bc24200a9caea",
         "69691c7bdcc3ce6d5d8a1361f22d04ac",
         "6311ae17c1ee52b36e68aaf4ad066387",
         "2015-01-01",
         2,
         "2025-03-09T07:18:20.256Z",
         "data.gov"
        ],
        [
         "1df39c0d75906410f8485cb47c371f27",
         "1679091c5a880faf6fb5e6087eb1b2dc",
         "5be0ee9a2a4d1ffddc897625771606ab",
         "2015-01-01",
         1,
         "2025-03-09T07:18:20.256Z",
         "data.gov"
        ],
        [
         "31262797830bf4a595d4f545dc39e8f2",
         "c4ca4238a0b923820dcc509a6f75849b",
         "92ea731d3af6677905303c88689f5d55",
         "2015-01-01",
         1,
         "2025-03-09T07:18:20.256Z",
         "data.gov"
        ]
       ],
       "datasetInfos": [],
       "dbfsResultPath": null,
       "isJsonSchema": true,
       "metadata": {
        "createTempViewForImplicitDf": true,
        "dataframeName": "_sqldf",
        "executionCount": 19
       },
       "overflow": false,
       "plotOptions": {
        "customPlotOptions": {},
        "displayType": "table",
        "pivotAggregation": null,
        "pivotColumns": null,
        "xColumns": null,
        "yColumns": null
       },
       "removedWidgets": [],
       "schema": [
        {
         "metadata": "{}",
         "name": "inc_sk",
         "type": "\"string\""
        },
        {
         "metadata": "{}",
         "name": "lin_sk",
         "type": "\"string\""
        },
        {
         "metadata": "{}",
         "name": "ict_sk",
         "type": "\"string\""
        },
        {
         "metadata": "{}",
         "name": "dte_sk",
         "type": "\"date\""
        },
        {
         "metadata": "{}",
         "name": "inc_count",
         "type": "\"integer\""
        },
        {
         "metadata": "{}",
         "name": "inc_ingestion_date",
         "type": "\"timestamp\""
        },
        {
         "metadata": "{}",
         "name": "inc_source",
         "type": "\"string\""
        }
       ],
       "type": "table"
      }
     },
     "output_type": "display_data"
    }
   ],
   "source": [
    "%sql\n",
    "SELECT * FROM mta_silver.fct_major_incident LIMIT 10;"
   ]
  },
  {
   "cell_type": "code",
   "execution_count": 0,
   "metadata": {
    "application/vnd.databricks.v1+cell": {
     "cellMetadata": {
      "byteLimit": 2048000,
      "rowLimit": 10000
     },
     "inputWidgets": {},
     "nuid": "33b23171-b34d-4360-a755-8e479934f119",
     "showTitle": false,
     "tableResultSettingsMap": {},
     "title": ""
    }
   },
   "outputs": [],
   "source": [
    "dbutils.notebook.exit(\"Success\")"
   ]
  }
 ],
 "metadata": {
  "application/vnd.databricks.v1+notebook": {
   "computePreferences": null,
   "dashboards": [],
   "environmentMetadata": {
    "base_environment": "",
    "environment_version": "2"
   },
   "language": "python",
   "notebookMetadata": {
    "mostRecentlyExecutedCommandWithImplicitDF": {
     "commandId": 1089650661455205,
     "dataframes": [
      "_sqldf"
     ]
    },
    "pythonIndentUnit": 4
   },
   "notebookName": "silver_fct_major_incident",
   "widgets": {}
  },
  "language_info": {
   "name": "python"
  }
 },
 "nbformat": 4,
 "nbformat_minor": 0
}
