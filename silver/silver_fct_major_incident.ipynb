{
 "cells": [
  {
   "cell_type": "code",
   "execution_count": 0,
   "metadata": {
    "application/vnd.databricks.v1+cell": {
     "cellMetadata": {
      "byteLimit": 2048000,
      "rowLimit": 10000
     },
     "inputWidgets": {},
     "nuid": "0d2a565d-89d2-4182-8864-fa5d74c520a5",
     "showTitle": false,
     "tableResultSettingsMap": {},
     "title": ""
    }
   },
   "outputs": [],
   "source": [
    "%run \"../utils/custom_functions\""
   ]
  },
  {
   "cell_type": "code",
   "execution_count": 0,
   "metadata": {
    "application/vnd.databricks.v1+cell": {
     "cellMetadata": {
      "byteLimit": 2048000,
      "rowLimit": 10000
     },
     "inputWidgets": {},
     "nuid": "81fec540-979b-4250-b1d7-1c63eaed52c7",
     "showTitle": false,
     "tableResultSettingsMap": {},
     "title": ""
    }
   },
   "outputs": [],
   "source": [
    "from pyspark.sql.types import DateType\n",
    "from pyspark.sql.functions import md5, concat_ws, col, initcap, when"
   ]
  },
  {
   "cell_type": "code",
   "execution_count": 0,
   "metadata": {
    "application/vnd.databricks.v1+cell": {
     "cellMetadata": {
      "byteLimit": 2048000,
      "rowLimit": 10000
     },
     "inputWidgets": {},
     "nuid": "7331c051-2d26-4c15-b574-c7732feff068",
     "showTitle": false,
     "tableResultSettingsMap": {},
     "title": ""
    }
   },
   "outputs": [],
   "source": [
    "major_incident_df = spark.read \\\n",
    "    .table(\"mta_bronze.major_incident\")\n",
    "\n",
    "dim_lines_df = spark.read \\\n",
    "    .table(\"mta_silver.dim_line\")\n",
    "\n",
    "dim_inc_category_df = spark.read \\\n",
    "    .table(\"mta_silver.dim_inc_category\")"
   ]
  },
  {
   "cell_type": "code",
   "execution_count": 0,
   "metadata": {
    "application/vnd.databricks.v1+cell": {
     "cellMetadata": {
      "byteLimit": 2048000,
      "rowLimit": 10000
     },
     "inputWidgets": {},
     "nuid": "2ae2c18a-a754-4433-b669-48810a25b119",
     "showTitle": false,
     "tableResultSettingsMap": {},
     "title": ""
    }
   },
   "outputs": [],
   "source": [
    "major_incidents_transform_df = major_incident_df \\\n",
    "    .join(dim_lines_df, major_incident_df.inc_line == dim_lines_df.lin_nk, \"inner\") \\\n",
    "    .join(dim_inc_category_df, major_incident_df.inc_category == dim_inc_category_df.ict_category, \"inner\") \\\n",
    "    .withColumn(\"inc_sk\", md5(concat_ws(\"_\", \"inc_month\", \"inc_division\", \"inc_line\", \"inc_day_type\", \"inc_category\"))) \\\n",
    "    .withColumn(\"inc_division\", initcap(col(\"inc_division\"))) \\\n",
    "    .withColumn(\"dte_sk\", col(\"inc_month\").cast(DateType())) \\\n",
    "    .drop(\"inc_month\") \\\n",
    "    .withColumn(\"inc_day_type\", when(col(\"inc_day_type\") == 1, \"Weekday\").otherwise(\"Weekend\")) \\\n",
    "    .dropDuplicates([\"inc_sk\"])"
   ]
  },
  {
   "cell_type": "code",
   "execution_count": 0,
   "metadata": {
    "application/vnd.databricks.v1+cell": {
     "cellMetadata": {
      "byteLimit": 2048000,
      "rowLimit": 10000
     },
     "inputWidgets": {},
     "nuid": "515f1be5-63bb-4ada-a6a6-7dc98a88b32b",
     "showTitle": false,
     "tableResultSettingsMap": {},
     "title": ""
    }
   },
   "outputs": [],
   "source": [
    "major_incident_final_df = major_incidents_transform_df.select(\n",
    "    'inc_sk',\n",
    "    'lin_sk',\n",
    "    'ict_sk',\n",
    "    'dte_sk',\n",
    "    'inc_count',\n",
    "    'inc_ingestion_date',\n",
    "    'inc_source',\n",
    ")"
   ]
  },
  {
   "cell_type": "code",
   "execution_count": 0,
   "metadata": {
    "application/vnd.databricks.v1+cell": {
     "cellMetadata": {
      "byteLimit": 2048000,
      "rowLimit": 10000
     },
     "inputWidgets": {},
     "nuid": "78a4bae6-1f3d-4450-9ea3-660d07daf297",
     "showTitle": false,
     "tableResultSettingsMap": {},
     "title": ""
    }
   },
   "outputs": [],
   "source": [
    "if not spark._jsparkSession.catalog().tableExists(\"mta_silver.fct_major_incident\"):\n",
    "\n",
    "  major_incident_final_df.write \\\n",
    "    .mode(\"overwrite\") \\\n",
    "    .format(\"delta\") \\\n",
    "    .partitionBy(\"dte_sk\") \\\n",
    "    .option(\"mergeSchema\", \"true\") \\\n",
    "    .saveAsTable(\"mta_silver.fct_major_incident\")\n",
    "\n",
    "else:\n",
    "  merge_delta_data(\n",
    "    major_incident_final_df,\n",
    "    db_name=\"mta_silver\",\n",
    "    table_name=\"fct_major_incident\",\n",
    "    merge_condition=\"tgt.inc_sk = src.inc_sk\",\n",
    "    partition_column=\"dte_sk\"\n",
    ")"
   ]
  },
  {
   "cell_type": "code",
   "execution_count": 0,
   "metadata": {
    "application/vnd.databricks.v1+cell": {
     "cellMetadata": {
      "byteLimit": 2048000,
      "implicitDf": true,
      "rowLimit": 10000
     },
     "inputWidgets": {},
     "nuid": "7c04a600-6618-4906-913c-a7544eabe334",
     "showTitle": false,
     "tableResultSettingsMap": {},
     "title": ""
    }
   },
   "outputs": [
    {
     "output_type": "display_data",
     "data": {
      "text/html": [
       "<style scoped>\n",
       "  .table-result-container {\n",
       "    max-height: 300px;\n",
       "    overflow: auto;\n",
       "  }\n",
       "  table, th, td {\n",
       "    border: 1px solid black;\n",
       "    border-collapse: collapse;\n",
       "  }\n",
       "  th, td {\n",
       "    padding: 5px;\n",
       "  }\n",
       "  th {\n",
       "    text-align: left;\n",
       "  }\n",
       "</style><div class='table-result-container'><table class='table-result'><thead style='background-color: white'><tr><th>inc_sk</th><th>lin_sk</th><th>ict_sk</th><th>dte_sk</th><th>inc_count</th><th>inc_ingestion_date</th><th>inc_source</th></tr></thead><tbody><tr><td>00bad539aec1c157891ef4805b273acb</td><td>c81e728d9d4c2f636f067f89cc14862c</td><td>cadd2b2ad06d8a0caee658e3c05e615a</td><td>2015-04-01</td><td>1</td><td>2025-03-09T07:18:20.256Z</td><td>data.gov</td></tr><tr><td>09ff33c97fb597aa7f42775d187f7bb7</td><td>743bda3a6098df4383907d7c772fca9c</td><td>92ea731d3af6677905303c88689f5d55</td><td>2015-04-01</td><td>1</td><td>2025-03-09T07:18:20.256Z</td><td>data.gov</td></tr><tr><td>1d21c39cbeca2b6798a0294fea2492d0</td><td>eccbc87e4b5ce2fe28308fd9f2a7baf3</td><td>92ea731d3af6677905303c88689f5d55</td><td>2015-04-01</td><td>1</td><td>2025-03-09T07:18:20.256Z</td><td>data.gov</td></tr><tr><td>1e696fe50f75feb5dba9d7893228bd9b</td><td>1679091c5a880faf6fb5e6087eb1b2dc</td><td>97622cf2e8771871841450151d8f6c3b</td><td>2015-04-01</td><td>1</td><td>2025-03-09T07:18:20.256Z</td><td>data.gov</td></tr><tr><td>29a4d7a753b4fc1b4464612709c26d2e</td><td>f09564c9ca56850d4cd6b3319e541aee</td><td>cadd2b2ad06d8a0caee658e3c05e615a</td><td>2015-04-01</td><td>1</td><td>2025-03-09T07:18:20.256Z</td><td>data.gov</td></tr><tr><td>3c184868736471f186fa05cae2f32101</td><td>1679091c5a880faf6fb5e6087eb1b2dc</td><td>5be0ee9a2a4d1ffddc897625771606ab</td><td>2015-04-01</td><td>1</td><td>2025-03-09T07:18:20.256Z</td><td>data.gov</td></tr><tr><td>3ca21362601b5b6ff936710bb6801678</td><td>d20caec3b48a1eef164cb4ca81ba2587</td><td>92ea731d3af6677905303c88689f5d55</td><td>2015-04-01</td><td>1</td><td>2025-03-09T07:18:20.256Z</td><td>data.gov</td></tr><tr><td>419f8558da87355b90b7ff8c3ec87383</td><td>3a3ea00cfc35332cedf6e5e9a32e94da</td><td>5be0ee9a2a4d1ffddc897625771606ab</td><td>2015-04-01</td><td>1</td><td>2025-03-09T07:18:20.256Z</td><td>data.gov</td></tr><tr><td>463402e39fba1013cc84837b214e0c09</td><td>e1e1d3d40573127e9ee0480caf1283d6</td><td>92ea731d3af6677905303c88689f5d55</td><td>2015-04-01</td><td>1</td><td>2025-03-09T07:18:20.256Z</td><td>data.gov</td></tr><tr><td>487eec14d084afc1f169c06da53cab27</td><td>1679091c5a880faf6fb5e6087eb1b2dc</td><td>92ea731d3af6677905303c88689f5d55</td><td>2015-04-01</td><td>1</td><td>2025-03-09T07:18:20.256Z</td><td>data.gov</td></tr></tbody></table></div>"
      ]
     },
     "metadata": {
      "application/vnd.databricks.v1+output": {
       "addedWidgets": {},
       "aggData": [],
       "aggError": "",
       "aggOverflow": false,
       "aggSchema": [],
       "aggSeriesLimitReached": false,
       "aggType": "",
       "arguments": {},
       "columnCustomDisplayInfos": {},
       "data": [
        [
         "00bad539aec1c157891ef4805b273acb",
         "c81e728d9d4c2f636f067f89cc14862c",
         "cadd2b2ad06d8a0caee658e3c05e615a",
         "2015-04-01",
         1,
         "2025-03-09T07:18:20.256Z",
         "data.gov"
        ],
        [
         "09ff33c97fb597aa7f42775d187f7bb7",
         "743bda3a6098df4383907d7c772fca9c",
         "92ea731d3af6677905303c88689f5d55",
         "2015-04-01",
         1,
         "2025-03-09T07:18:20.256Z",
         "data.gov"
        ],
        [
         "1d21c39cbeca2b6798a0294fea2492d0",
         "eccbc87e4b5ce2fe28308fd9f2a7baf3",
         "92ea731d3af6677905303c88689f5d55",
         "2015-04-01",
         1,
         "2025-03-09T07:18:20.256Z",
         "data.gov"
        ],
        [
         "1e696fe50f75feb5dba9d7893228bd9b",
         "1679091c5a880faf6fb5e6087eb1b2dc",
         "97622cf2e8771871841450151d8f6c3b",
         "2015-04-01",
         1,
         "2025-03-09T07:18:20.256Z",
         "data.gov"
        ],
        [
         "29a4d7a753b4fc1b4464612709c26d2e",
         "f09564c9ca56850d4cd6b3319e541aee",
         "cadd2b2ad06d8a0caee658e3c05e615a",
         "2015-04-01",
         1,
         "2025-03-09T07:18:20.256Z",
         "data.gov"
        ],
        [
         "3c184868736471f186fa05cae2f32101",
         "1679091c5a880faf6fb5e6087eb1b2dc",
         "5be0ee9a2a4d1ffddc897625771606ab",
         "2015-04-01",
         1,
         "2025-03-09T07:18:20.256Z",
         "data.gov"
        ],
        [
         "3ca21362601b5b6ff936710bb6801678",
         "d20caec3b48a1eef164cb4ca81ba2587",
         "92ea731d3af6677905303c88689f5d55",
         "2015-04-01",
         1,
         "2025-03-09T07:18:20.256Z",
         "data.gov"
        ],
        [
         "419f8558da87355b90b7ff8c3ec87383",
         "3a3ea00cfc35332cedf6e5e9a32e94da",
         "5be0ee9a2a4d1ffddc897625771606ab",
         "2015-04-01",
         1,
         "2025-03-09T07:18:20.256Z",
         "data.gov"
        ],
        [
         "463402e39fba1013cc84837b214e0c09",
         "e1e1d3d40573127e9ee0480caf1283d6",
         "92ea731d3af6677905303c88689f5d55",
         "2015-04-01",
         1,
         "2025-03-09T07:18:20.256Z",
         "data.gov"
        ],
        [
         "487eec14d084afc1f169c06da53cab27",
         "1679091c5a880faf6fb5e6087eb1b2dc",
         "92ea731d3af6677905303c88689f5d55",
         "2015-04-01",
         1,
         "2025-03-09T07:18:20.256Z",
         "data.gov"
        ]
       ],
       "datasetInfos": [],
       "dbfsResultPath": null,
       "isJsonSchema": true,
       "metadata": {
        "createTempViewForImplicitDf": true,
        "dataframeName": "_sqldf",
        "executionCount": 41
       },
       "overflow": false,
       "plotOptions": {
        "customPlotOptions": {},
        "displayType": "table",
        "pivotAggregation": null,
        "pivotColumns": null,
        "xColumns": null,
        "yColumns": null
       },
       "removedWidgets": [],
       "schema": [
        {
         "metadata": "{}",
         "name": "inc_sk",
         "type": "\"string\""
        },
        {
         "metadata": "{}",
         "name": "lin_sk",
         "type": "\"string\""
        },
        {
         "metadata": "{}",
         "name": "ict_sk",
         "type": "\"string\""
        },
        {
         "metadata": "{}",
         "name": "dte_sk",
         "type": "\"date\""
        },
        {
         "metadata": "{}",
         "name": "inc_count",
         "type": "\"integer\""
        },
        {
         "metadata": "{}",
         "name": "inc_ingestion_date",
         "type": "\"timestamp\""
        },
        {
         "metadata": "{}",
         "name": "inc_source",
         "type": "\"string\""
        }
       ],
       "type": "table"
      }
     },
     "output_type": "display_data"
    }
   ],
   "source": [
    "%sql\n",
    "SELECT * FROM mta_silver.fct_major_incident LIMIT 10;"
   ]
  },
  {
   "cell_type": "code",
   "execution_count": 0,
   "metadata": {
    "application/vnd.databricks.v1+cell": {
     "cellMetadata": {
      "byteLimit": 2048000,
      "rowLimit": 10000
     },
     "inputWidgets": {},
     "nuid": "33b23171-b34d-4360-a755-8e479934f119",
     "showTitle": false,
     "tableResultSettingsMap": {},
     "title": ""
    }
   },
   "outputs": [],
   "source": [
    "dbutils.notebook.exit(\"Success\")"
   ]
  }
 ],
 "metadata": {
  "application/vnd.databricks.v1+notebook": {
   "computePreferences": null,
   "dashboards": [],
   "environmentMetadata": {
    "base_environment": "",
    "environment_version": "2"
   },
   "language": "python",
   "notebookMetadata": {
    "mostRecentlyExecutedCommandWithImplicitDF": {
     "commandId": 4043720316056064,
     "dataframes": [
      "_sqldf"
     ]
    },
    "pythonIndentUnit": 4
   },
   "notebookName": "silver_fct_major_incident",
   "widgets": {}
  },
  "language_info": {
   "name": "python"
  }
 },
 "nbformat": 4,
 "nbformat_minor": 0
}
