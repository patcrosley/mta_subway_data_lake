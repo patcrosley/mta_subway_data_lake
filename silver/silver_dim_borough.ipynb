{
 "cells": [
  {
   "cell_type": "code",
   "execution_count": 0,
   "metadata": {
    "application/vnd.databricks.v1+cell": {
     "cellMetadata": {
      "byteLimit": 2048000,
      "rowLimit": 10000
     },
     "inputWidgets": {},
     "nuid": "adaae026-0b7b-46cc-94a5-78742bd5a89f",
     "showTitle": false,
     "tableResultSettingsMap": {},
     "title": ""
    }
   },
   "outputs": [],
   "source": [
    "from pyspark.sql.functions import md5"
   ]
  },
  {
   "cell_type": "code",
   "execution_count": 0,
   "metadata": {
    "application/vnd.databricks.v1+cell": {
     "cellMetadata": {
      "byteLimit": 2048000,
      "rowLimit": 10000
     },
     "inputWidgets": {},
     "nuid": "5065dd21-4293-4021-833d-c57da3eb0e82",
     "showTitle": false,
     "tableResultSettingsMap": {},
     "title": ""
    }
   },
   "outputs": [],
   "source": [
    "borough_data = [\n",
    "    (\"M\", \"Manhattan\", \"New York County\", \"100xx-102xx\"),\n",
    "    (\"Q\", \"Queens\", \"Queens County\", \"110xx-114xx\"),\n",
    "    (\"Bk\", \"Brooklyn\", \"Kings County\", \"112xx\"),\n",
    "    (\"Bx\", \"Bronx\", \"Bronx County\", \"104xx\"),\n",
    "    (\"SI\", \"Staten Island\", \"Richmond County\", \"103xx\")\n",
    "]"
   ]
  },
  {
   "cell_type": "code",
   "execution_count": 0,
   "metadata": {
    "application/vnd.databricks.v1+cell": {
     "cellMetadata": {
      "byteLimit": 2048000,
      "rowLimit": 10000
     },
     "inputWidgets": {},
     "nuid": "20c95c65-d541-4ac4-84a6-494e3e50c66a",
     "showTitle": false,
     "tableResultSettingsMap": {},
     "title": ""
    }
   },
   "outputs": [],
   "source": [
    "borough_columns = [\"brh_nk\", \"brh_name\", \"brh_county\", \"brh_zip_range\"]\n",
    "borough_df = spark.createDataFrame(borough_data, borough_columns) \\\n",
    "    .withColumn(\"brh_sk\", md5(\"brh_nk\"))"
   ]
  },
  {
   "cell_type": "code",
   "execution_count": 0,
   "metadata": {
    "application/vnd.databricks.v1+cell": {
     "cellMetadata": {
      "byteLimit": 2048000,
      "rowLimit": 10000
     },
     "inputWidgets": {},
     "nuid": "c3097c59-8e0f-4975-a9d1-5460e854c9c9",
     "showTitle": false,
     "tableResultSettingsMap": {},
     "title": ""
    }
   },
   "outputs": [],
   "source": [
    "borough_final_df = borough_df.select(\n",
    "    \"brh_sk\",\n",
    "    \"brh_nk\",\n",
    "    \"brh_name\",\n",
    "    \"brh_county\",\n",
    "    \"brh_zip_range\"\n",
    ")"
   ]
  },
  {
   "cell_type": "code",
   "execution_count": 0,
   "metadata": {
    "application/vnd.databricks.v1+cell": {
     "cellMetadata": {
      "byteLimit": 2048000,
      "rowLimit": 10000
     },
     "inputWidgets": {},
     "nuid": "aeb594f5-f1e4-4d65-bbe3-942db32a7ad9",
     "showTitle": false,
     "tableResultSettingsMap": {},
     "title": ""
    }
   },
   "outputs": [],
   "source": [
    "borough_final_df.write \\\n",
    "    .format(\"delta\") \\\n",
    "    .mode(\"overwrite\") \\\n",
    "    .option(\"mergeSchema\", \"true\") \\\n",
    "    .saveAsTable(\"mta_silver.dim_borough\")"
   ]
  },
  {
   "cell_type": "code",
   "execution_count": 0,
   "metadata": {
    "application/vnd.databricks.v1+cell": {
     "cellMetadata": {
      "byteLimit": 2048000,
      "implicitDf": true,
      "rowLimit": 10000
     },
     "inputWidgets": {},
     "nuid": "8e0fc8b0-4017-4cc0-b847-4f3db597f55b",
     "showTitle": false,
     "tableResultSettingsMap": {},
     "title": ""
    }
   },
   "outputs": [
    {
     "output_type": "display_data",
     "data": {
      "text/html": [
       "<style scoped>\n",
       "  .table-result-container {\n",
       "    max-height: 300px;\n",
       "    overflow: auto;\n",
       "  }\n",
       "  table, th, td {\n",
       "    border: 1px solid black;\n",
       "    border-collapse: collapse;\n",
       "  }\n",
       "  th, td {\n",
       "    padding: 5px;\n",
       "  }\n",
       "  th {\n",
       "    text-align: left;\n",
       "  }\n",
       "</style><div class='table-result-container'><table class='table-result'><thead style='background-color: white'><tr><th>brh_sk</th><th>brh_nk</th><th>brh_name</th><th>brh_county</th><th>brh_zip_range</th></tr></thead><tbody><tr><td>73bf6a94cbb822129396b68f05534c1e</td><td>Bx</td><td>Bronx</td><td>Bronx County</td><td>104xx</td></tr><tr><td>ce774d9cab3ae0bdf522cd0839bed364</td><td>SI</td><td>Staten Island</td><td>Richmond County</td><td>103xx</td></tr><tr><td>69691c7bdcc3ce6d5d8a1361f22d04ac</td><td>M</td><td>Manhattan</td><td>New York County</td><td>100xx-102xx</td></tr><tr><td>f09564c9ca56850d4cd6b3319e541aee</td><td>Q</td><td>Queens</td><td>Queens County</td><td>110xx-114xx</td></tr><tr><td>c64a5dae48f04e16deab001d4b9dbd80</td><td>Bk</td><td>Brooklyn</td><td>Kings County</td><td>112xx</td></tr></tbody></table></div>"
      ]
     },
     "metadata": {
      "application/vnd.databricks.v1+output": {
       "addedWidgets": {},
       "aggData": [],
       "aggError": "",
       "aggOverflow": false,
       "aggSchema": [],
       "aggSeriesLimitReached": false,
       "aggType": "",
       "arguments": {},
       "columnCustomDisplayInfos": {},
       "data": [
        [
         "73bf6a94cbb822129396b68f05534c1e",
         "Bx",
         "Bronx",
         "Bronx County",
         "104xx"
        ],
        [
         "ce774d9cab3ae0bdf522cd0839bed364",
         "SI",
         "Staten Island",
         "Richmond County",
         "103xx"
        ],
        [
         "69691c7bdcc3ce6d5d8a1361f22d04ac",
         "M",
         "Manhattan",
         "New York County",
         "100xx-102xx"
        ],
        [
         "f09564c9ca56850d4cd6b3319e541aee",
         "Q",
         "Queens",
         "Queens County",
         "110xx-114xx"
        ],
        [
         "c64a5dae48f04e16deab001d4b9dbd80",
         "Bk",
         "Brooklyn",
         "Kings County",
         "112xx"
        ]
       ],
       "datasetInfos": [],
       "dbfsResultPath": null,
       "isJsonSchema": true,
       "metadata": {
        "createTempViewForImplicitDf": true,
        "dataframeName": "_sqldf",
        "executionCount": 6
       },
       "overflow": false,
       "plotOptions": {
        "customPlotOptions": {},
        "displayType": "table",
        "pivotAggregation": null,
        "pivotColumns": null,
        "xColumns": null,
        "yColumns": null
       },
       "removedWidgets": [],
       "schema": [
        {
         "metadata": "{}",
         "name": "brh_sk",
         "type": "\"string\""
        },
        {
         "metadata": "{}",
         "name": "brh_nk",
         "type": "\"string\""
        },
        {
         "metadata": "{}",
         "name": "brh_name",
         "type": "\"string\""
        },
        {
         "metadata": "{}",
         "name": "brh_county",
         "type": "\"string\""
        },
        {
         "metadata": "{}",
         "name": "brh_zip_range",
         "type": "\"string\""
        }
       ],
       "type": "table"
      }
     },
     "output_type": "display_data"
    }
   ],
   "source": [
    "%sql\n",
    "SELECT * FROM mta_silver.dim_borough;"
   ]
  },
  {
   "cell_type": "code",
   "execution_count": 0,
   "metadata": {
    "application/vnd.databricks.v1+cell": {
     "cellMetadata": {
      "byteLimit": 2048000,
      "rowLimit": 10000
     },
     "inputWidgets": {},
     "nuid": "65d47037-d3a9-4779-81d1-7156bf413042",
     "showTitle": false,
     "tableResultSettingsMap": {},
     "title": ""
    }
   },
   "outputs": [],
   "source": [
    "dbutils.notebook.exit(\"Success\")"
   ]
  }
 ],
 "metadata": {
  "application/vnd.databricks.v1+notebook": {
   "computePreferences": null,
   "dashboards": [],
   "environmentMetadata": {
    "base_environment": "",
    "environment_version": "2"
   },
   "language": "python",
   "notebookMetadata": {
    "mostRecentlyExecutedCommandWithImplicitDF": {
     "commandId": 4043720316056067,
     "dataframes": [
      "_sqldf"
     ]
    },
    "pythonIndentUnit": 4
   },
   "notebookName": "silver_dim_borough",
   "widgets": {}
  },
  "language_info": {
   "name": "python"
  }
 },
 "nbformat": 4,
 "nbformat_minor": 0
}
