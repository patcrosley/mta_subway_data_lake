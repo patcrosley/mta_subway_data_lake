{
 "cells": [
  {
   "cell_type": "code",
   "execution_count": 0,
   "metadata": {
    "application/vnd.databricks.v1+cell": {
     "cellMetadata": {
      "byteLimit": 2048000,
      "rowLimit": 10000
     },
     "inputWidgets": {},
     "nuid": "6629b607-6a8a-4d1d-a040-0810877fb435",
     "showTitle": false,
     "tableResultSettingsMap": {},
     "title": ""
    }
   },
   "outputs": [],
   "source": [
    "from pyspark.sql.functions import md5, concat_ws, col, explode, split"
   ]
  },
  {
   "cell_type": "code",
   "execution_count": 0,
   "metadata": {
    "application/vnd.databricks.v1+cell": {
     "cellMetadata": {
      "byteLimit": 2048000,
      "rowLimit": 10000
     },
     "inputWidgets": {},
     "nuid": "6fc34059-b9dc-4241-91c7-e2dec2c654b5",
     "showTitle": false,
     "tableResultSettingsMap": {},
     "title": ""
    }
   },
   "outputs": [],
   "source": [
    "wifi_locations_df = spark.read \\\n",
    "    .table(\"mta_bronze.wifi_location\")\n",
    "\n",
    "dim_lines_df = spark.read \\\n",
    "    .table(\"mta_silver.dim_line\")"
   ]
  },
  {
   "cell_type": "code",
   "execution_count": 0,
   "metadata": {
    "application/vnd.databricks.v1+cell": {
     "cellMetadata": {
      "byteLimit": 2048000,
      "rowLimit": 10000
     },
     "inputWidgets": {},
     "nuid": "6d1c7138-9508-4fd4-8022-f75d8cc38756",
     "showTitle": false,
     "tableResultSettingsMap": {},
     "title": ""
    }
   },
   "outputs": [],
   "source": [
    "wifi_line_df = wifi_locations_df.select(\n",
    "    'wfi_station',\n",
    "    'wfi_station_complex',\n",
    "    'wfi_lines') \\\n",
    "    .withColumn(\"wfi_sk\", md5(concat_ws(\"_\", col(\"wfi_station\"), col(\"wfi_station_complex\"), col(\"wfi_lines\")))) \\\n",
    "    .withColumn(\"wfi_lines\", explode(split(wifi_locations_df[\"wfi_lines\"], \"\"))) \\\n",
    "    .select(\n",
    "        \"wfi_sk\",\n",
    "        \"wfi_lines\"\n",
    "    )"
   ]
  },
  {
   "cell_type": "code",
   "execution_count": 0,
   "metadata": {
    "application/vnd.databricks.v1+cell": {
     "cellMetadata": {
      "byteLimit": 2048000,
      "rowLimit": 10000
     },
     "inputWidgets": {},
     "nuid": "2f2eec1e-bc3f-4504-af63-2ecfdca5879a",
     "showTitle": false,
     "tableResultSettingsMap": {},
     "title": ""
    }
   },
   "outputs": [],
   "source": [
    "wifi_line_final_df = wifi_line_df \\\n",
    "    .join(dim_lines_df, wifi_line_df.wfi_lines == dim_lines_df.lin_nk, \"left\") \\\n",
    "    .select(\n",
    "        \"wfi_sk\",\n",
    "        \"lin_sk\"\n",
    "    )"
   ]
  },
  {
   "cell_type": "code",
   "execution_count": 0,
   "metadata": {
    "application/vnd.databricks.v1+cell": {
     "cellMetadata": {
      "byteLimit": 2048000,
      "rowLimit": 10000
     },
     "inputWidgets": {},
     "nuid": "e6129fd7-0007-44c9-a375-38e7a48c0712",
     "showTitle": false,
     "tableResultSettingsMap": {},
     "title": ""
    }
   },
   "outputs": [],
   "source": [
    "wifi_line_final_df.write.mode(\"overwrite\").format(\"delta\").option(\"mergeSchema\", \"true\").saveAsTable(\"mta_silver.lkp_wifi_line\")"
   ]
  },
  {
   "cell_type": "code",
   "execution_count": 0,
   "metadata": {
    "application/vnd.databricks.v1+cell": {
     "cellMetadata": {
      "byteLimit": 2048000,
      "implicitDf": true,
      "rowLimit": 10000
     },
     "inputWidgets": {},
     "nuid": "ac7fe27a-edef-47dc-8ae7-2887c42a918a",
     "showTitle": false,
     "tableResultSettingsMap": {},
     "title": ""
    }
   },
   "outputs": [],
   "source": [
    "%sql\n",
    "SELECT * FROM mta_silver.lkp_wifi_line;"
   ]
  },
  {
   "cell_type": "code",
   "execution_count": 0,
   "metadata": {
    "application/vnd.databricks.v1+cell": {
     "cellMetadata": {
      "byteLimit": 2048000,
      "rowLimit": 10000
     },
     "inputWidgets": {},
     "nuid": "d602ddb3-ce36-4cfb-878f-7ca02ee63e70",
     "showTitle": false,
     "tableResultSettingsMap": {},
     "title": ""
    }
   },
   "outputs": [],
   "source": [
    "dbutils.notebook.exit(\"Success\")"
   ]
  }
 ],
 "metadata": {
  "application/vnd.databricks.v1+notebook": {
   "computePreferences": null,
   "dashboards": [],
   "environmentMetadata": {
    "base_environment": "",
    "environment_version": "2"
   },
   "language": "python",
   "notebookMetadata": {
    "mostRecentlyExecutedCommandWithImplicitDF": {
     "commandId": 4043720316056092,
     "dataframes": [
      "_sqldf"
     ]
    },
    "pythonIndentUnit": 4
   },
   "notebookName": "silver_lkp_wifi_line",
   "widgets": {}
  },
  "language_info": {
   "name": "python"
  }
 },
 "nbformat": 4,
 "nbformat_minor": 0
}
