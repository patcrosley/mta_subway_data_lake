{
 "cells": [
  {
   "cell_type": "code",
   "execution_count": 0,
   "metadata": {
    "application/vnd.databricks.v1+cell": {
     "cellMetadata": {
      "byteLimit": 2048000,
      "rowLimit": 10000
     },
     "inputWidgets": {},
     "nuid": "6629b607-6a8a-4d1d-a040-0810877fb435",
     "showTitle": false,
     "tableResultSettingsMap": {},
     "title": ""
    }
   },
   "outputs": [],
   "source": [
    "from pyspark.sql.functions import md5, concat_ws, col, explode, split"
   ]
  },
  {
   "cell_type": "code",
   "execution_count": 0,
   "metadata": {
    "application/vnd.databricks.v1+cell": {
     "cellMetadata": {
      "byteLimit": 2048000,
      "rowLimit": 10000
     },
     "inputWidgets": {},
     "nuid": "6fc34059-b9dc-4241-91c7-e2dec2c654b5",
     "showTitle": false,
     "tableResultSettingsMap": {},
     "title": ""
    }
   },
   "outputs": [],
   "source": [
    "wifi_locations_df = spark.read \\\n",
    "    .table(\"mta_bronze.wifi_location\")\n",
    "\n",
    "dim_lines_df = spark.read \\\n",
    "    .table(\"mta_silver.dim_line\")"
   ]
  },
  {
   "cell_type": "code",
   "execution_count": 0,
   "metadata": {
    "application/vnd.databricks.v1+cell": {
     "cellMetadata": {
      "byteLimit": 2048000,
      "rowLimit": 10000
     },
     "inputWidgets": {},
     "nuid": "6d1c7138-9508-4fd4-8022-f75d8cc38756",
     "showTitle": false,
     "tableResultSettingsMap": {},
     "title": ""
    }
   },
   "outputs": [],
   "source": [
    "wifi_line_df = wifi_locations_df.select(\n",
    "    'wfi_station',\n",
    "    'wfi_station_complex',\n",
    "    'wfi_lines') \\\n",
    "    .withColumn(\"wfi_sk\", md5(concat_ws(\"_\", col(\"wfi_station\"), col(\"wfi_station_complex\"), col(\"wfi_lines\")))) \\\n",
    "    .withColumn(\"wfi_lines\", explode(split(wifi_locations_df[\"wfi_lines\"], \"\"))) \\\n",
    "    .select(\n",
    "        \"wfi_sk\",\n",
    "        \"wfi_lines\"\n",
    "    )"
   ]
  },
  {
   "cell_type": "code",
   "execution_count": 0,
   "metadata": {
    "application/vnd.databricks.v1+cell": {
     "cellMetadata": {
      "byteLimit": 2048000,
      "rowLimit": 10000
     },
     "inputWidgets": {},
     "nuid": "2f2eec1e-bc3f-4504-af63-2ecfdca5879a",
     "showTitle": false,
     "tableResultSettingsMap": {},
     "title": ""
    }
   },
   "outputs": [],
   "source": [
    "wifi_line_final_df = wifi_line_df \\\n",
    "    .join(dim_lines_df, wifi_line_df.wfi_lines == dim_lines_df.lin_nk, \"left\") \\\n",
    "    .select(\n",
    "        \"wfi_sk\",\n",
    "        \"lin_sk\"\n",
    "    )"
   ]
  },
  {
   "cell_type": "code",
   "execution_count": 0,
   "metadata": {
    "application/vnd.databricks.v1+cell": {
     "cellMetadata": {
      "byteLimit": 2048000,
      "rowLimit": 10000
     },
     "inputWidgets": {},
     "nuid": "e6129fd7-0007-44c9-a375-38e7a48c0712",
     "showTitle": false,
     "tableResultSettingsMap": {},
     "title": ""
    }
   },
   "outputs": [],
   "source": [
    "wifi_line_final_df.write \\\n",
    "    .mode(\"overwrite\") \\\n",
    "    .format(\"delta\") \\\n",
    "    .option(\"mergeSchema\", \"true\") \\\n",
    "    .saveAsTable(\"mta_silver.lkp_wifi_line\")"
   ]
  },
  {
   "cell_type": "code",
   "execution_count": 0,
   "metadata": {
    "application/vnd.databricks.v1+cell": {
     "cellMetadata": {
      "byteLimit": 2048000,
      "implicitDf": true,
      "rowLimit": 10000
     },
     "inputWidgets": {},
     "nuid": "ac7fe27a-edef-47dc-8ae7-2887c42a918a",
     "showTitle": false,
     "tableResultSettingsMap": {},
     "title": ""
    }
   },
   "outputs": [
    {
     "output_type": "display_data",
     "data": {
      "text/html": [
       "<style scoped>\n",
       "  .table-result-container {\n",
       "    max-height: 300px;\n",
       "    overflow: auto;\n",
       "  }\n",
       "  table, th, td {\n",
       "    border: 1px solid black;\n",
       "    border-collapse: collapse;\n",
       "  }\n",
       "  th, td {\n",
       "    padding: 5px;\n",
       "  }\n",
       "  th {\n",
       "    text-align: left;\n",
       "  }\n",
       "</style><div class='table-result-container'><table class='table-result'><thead style='background-color: white'><tr><th>wfi_sk</th><th>lin_sk</th></tr></thead><tbody><tr><td>a7707dd7765cb454e09efa86d46fef95</td><td>dfcf28d0734569a6a693bc8194de62bf</td></tr><tr><td>f510bc5509ee070031b4c645bc05d70a</td><td>3a3ea00cfc35332cedf6e5e9a32e94da</td></tr><tr><td>f510bc5509ee070031b4c645bc05d70a</td><td>800618943025315f869e4e1f09471012</td></tr><tr><td>79bceca414d3e33c3ec11a0d0747bd6e</td><td>3a3ea00cfc35332cedf6e5e9a32e94da</td></tr><tr><td>79bceca414d3e33c3ec11a0d0747bd6e</td><td>800618943025315f869e4e1f09471012</td></tr><tr><td>79bceca414d3e33c3ec11a0d0747bd6e</td><td>69691c7bdcc3ce6d5d8a1361f22d04ac</td></tr><tr><td>79bceca414d3e33c3ec11a0d0747bd6e</td><td>e1e1d3d40573127e9ee0480caf1283d6</td></tr><tr><td>4b4eb79d0671cfd3b9747363c0aed70b</td><td>800618943025315f869e4e1f09471012</td></tr><tr><td>07d28580235bc37a78f7d0ede7364665</td><td>800618943025315f869e4e1f09471012</td></tr><tr><td>c63e4538a48dafaeb4e53db882c379a3</td><td>8f14e45fceea167a5a36dedd4bea2543</td></tr></tbody></table></div>"
      ]
     },
     "metadata": {
      "application/vnd.databricks.v1+output": {
       "addedWidgets": {},
       "aggData": [],
       "aggError": "",
       "aggOverflow": false,
       "aggSchema": [],
       "aggSeriesLimitReached": false,
       "aggType": "",
       "arguments": {},
       "columnCustomDisplayInfos": {},
       "data": [
        [
         "a7707dd7765cb454e09efa86d46fef95",
         "dfcf28d0734569a6a693bc8194de62bf"
        ],
        [
         "f510bc5509ee070031b4c645bc05d70a",
         "3a3ea00cfc35332cedf6e5e9a32e94da"
        ],
        [
         "f510bc5509ee070031b4c645bc05d70a",
         "800618943025315f869e4e1f09471012"
        ],
        [
         "79bceca414d3e33c3ec11a0d0747bd6e",
         "3a3ea00cfc35332cedf6e5e9a32e94da"
        ],
        [
         "79bceca414d3e33c3ec11a0d0747bd6e",
         "800618943025315f869e4e1f09471012"
        ],
        [
         "79bceca414d3e33c3ec11a0d0747bd6e",
         "69691c7bdcc3ce6d5d8a1361f22d04ac"
        ],
        [
         "79bceca414d3e33c3ec11a0d0747bd6e",
         "e1e1d3d40573127e9ee0480caf1283d6"
        ],
        [
         "4b4eb79d0671cfd3b9747363c0aed70b",
         "800618943025315f869e4e1f09471012"
        ],
        [
         "07d28580235bc37a78f7d0ede7364665",
         "800618943025315f869e4e1f09471012"
        ],
        [
         "c63e4538a48dafaeb4e53db882c379a3",
         "8f14e45fceea167a5a36dedd4bea2543"
        ]
       ],
       "datasetInfos": [],
       "dbfsResultPath": null,
       "isJsonSchema": true,
       "metadata": {
        "createTempViewForImplicitDf": true,
        "dataframeName": "_sqldf",
        "executionCount": 13
       },
       "overflow": false,
       "plotOptions": {
        "customPlotOptions": {},
        "displayType": "table",
        "pivotAggregation": null,
        "pivotColumns": null,
        "xColumns": null,
        "yColumns": null
       },
       "removedWidgets": [],
       "schema": [
        {
         "metadata": "{}",
         "name": "wfi_sk",
         "type": "\"string\""
        },
        {
         "metadata": "{}",
         "name": "lin_sk",
         "type": "\"string\""
        }
       ],
       "type": "table"
      }
     },
     "output_type": "display_data"
    }
   ],
   "source": [
    "%sql\n",
    "SELECT * FROM mta_silver.lkp_wifi_line LIMIT 10;"
   ]
  },
  {
   "cell_type": "code",
   "execution_count": 0,
   "metadata": {
    "application/vnd.databricks.v1+cell": {
     "cellMetadata": {
      "byteLimit": 2048000,
      "rowLimit": 10000
     },
     "inputWidgets": {},
     "nuid": "d602ddb3-ce36-4cfb-878f-7ca02ee63e70",
     "showTitle": false,
     "tableResultSettingsMap": {},
     "title": ""
    }
   },
   "outputs": [],
   "source": [
    "dbutils.notebook.exit(\"Success\")"
   ]
  }
 ],
 "metadata": {
  "application/vnd.databricks.v1+notebook": {
   "computePreferences": null,
   "dashboards": [],
   "environmentMetadata": {
    "base_environment": "",
    "environment_version": "2"
   },
   "language": "python",
   "notebookMetadata": {
    "mostRecentlyExecutedCommandWithImplicitDF": {
     "commandId": 4043720316056092,
     "dataframes": [
      "_sqldf"
     ]
    },
    "pythonIndentUnit": 4
   },
   "notebookName": "silver_lkp_wifi_line",
   "widgets": {}
  },
  "language_info": {
   "name": "python"
  }
 },
 "nbformat": 4,
 "nbformat_minor": 0
}
