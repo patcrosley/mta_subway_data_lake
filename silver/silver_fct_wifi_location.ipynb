{
 "cells": [
  {
   "cell_type": "code",
   "execution_count": 0,
   "metadata": {
    "application/vnd.databricks.v1+cell": {
     "cellMetadata": {
      "byteLimit": 2048000,
      "rowLimit": 10000
     },
     "inputWidgets": {},
     "nuid": "34f25330-2a1b-4e5c-a7f0-e52230693dd0",
     "showTitle": false,
     "tableResultSettingsMap": {},
     "title": ""
    }
   },
   "outputs": [],
   "source": [
    "from pyspark.sql.functions import md5, concat_ws, col, when"
   ]
  },
  {
   "cell_type": "code",
   "execution_count": 0,
   "metadata": {
    "application/vnd.databricks.v1+cell": {
     "cellMetadata": {
      "byteLimit": 2048000,
      "rowLimit": 10000
     },
     "inputWidgets": {},
     "nuid": "9bc3b875-2847-4df9-ad98-1f841fc78891",
     "showTitle": false,
     "tableResultSettingsMap": {},
     "title": ""
    }
   },
   "outputs": [],
   "source": [
    "wifi_location_df = spark.read \\\n",
    "    .table(\"mta_bronze.wifi_location\")\n",
    "\n",
    "dim_boroughs_df = spark.read \\\n",
    "    .table(\"mta_silver.dim_borough\")\n",
    "\n",
    "lkp_stations_df = spark.read \\\n",
    "    .table(\"mta_silver.lkp_station\")\n",
    "\n",
    "stations_df = spark.read \\\n",
    "    .table(\"mta_silver.dim_station\")"
   ]
  },
  {
   "cell_type": "code",
   "execution_count": 0,
   "metadata": {
    "application/vnd.databricks.v1+cell": {
     "cellMetadata": {
      "byteLimit": 2048000,
      "rowLimit": 10000
     },
     "inputWidgets": {},
     "nuid": "756b716a-5a22-4e56-9c85-eb5a81fe6da4",
     "showTitle": false,
     "tableResultSettingsMap": {},
     "title": ""
    }
   },
   "outputs": [],
   "source": [
    "wifi_location_transform_df = wifi_location_df \\\n",
    "    .where(\"wfi_station is not null\") \\\n",
    "    .join(dim_boroughs_df, wifi_location_df.wfi_borough == dim_boroughs_df.brh_name, \"inner\") \\\n",
    "    .join(lkp_stations_df, wifi_location_df.wfi_station == lkp_stations_df.lks_abbr, \"inner\") \\\n",
    "    .join(stations_df, \\\n",
    "        (wifi_location_df.wfi_longitude == stations_df.stn_gtfs_longitude) & \\\n",
    "        (wifi_location_df.wfi_latitude == stations_df.stn_gtfs_latitude), \"left\") \\\n",
    "    .withColumn(\"wfi_sk\", md5(concat_ws(\"_\", col(\"wfi_station\"), col(\"wfi_station_complex\"), col(\"wfi_lines\")))) \\\n",
    "    .withColumn(\"wfi_is_historical\", when(col(\"wfi_is_historical\") == \"Yes\", True).otherwise(False)) \\\n",
    "    .withColumn(\"wfi_wifi_available\", when(col(\"wfi_wifi_available\") == \"Yes\", True).otherwise(False)) \\\n",
    "    .withColumn(\"wfi_att\", when(col(\"wfi_att\") == \"Yes\", True).otherwise(False)) \\\n",
    "    .withColumn(\"wfi_sprint\", when(col(\"wfi_sprint\") == \"Yes\", True).otherwise(False)) \\\n",
    "    .withColumn(\"wfi_tmobile\", when(col(\"wfi_tmobile\") == \"Yes\", True).otherwise(False)) \\\n",
    "    .withColumn(\"wfi_verizon\", when(col(\"wfi_verizon\") == \"Yes\", True).otherwise(False)) \\\n",
    "    .withColumn(\"wfi_connectivity_score\", \\\n",
    "        (col(\"wfi_wifi_available\").cast(\"int\") + col('wfi_att').cast(\"int\") + col('wfi_sprint').cast(\"int\") + col('wfi_tmobile').cast(\"int\") + col('wfi_verizon').cast(\"int\"))) \\\n",
    "    .dropDuplicates([\"wfi_sk\"])\n"
   ]
  },
  {
   "cell_type": "code",
   "execution_count": 0,
   "metadata": {
    "application/vnd.databricks.v1+cell": {
     "cellMetadata": {
      "byteLimit": 2048000,
      "rowLimit": 10000
     },
     "inputWidgets": {},
     "nuid": "12cb330c-c23d-4870-8897-a2dc4bca9012",
     "showTitle": false,
     "tableResultSettingsMap": {},
     "title": ""
    }
   },
   "outputs": [],
   "source": [
    "wifi_location_final_df = wifi_location_transform_df.select(\n",
    "    \"wfi_sk\",\n",
    "    \"brh_sk\",\n",
    "    \"stn_sk\",\n",
    "    \"wfi_wifi_available\",\n",
    "    \"wfi_att\",\n",
    "    \"wfi_sprint\",\n",
    "    \"wfi_tmobile\",\n",
    "    \"wfi_verizon\",\n",
    "    \"wfi_connectivity_score\",\n",
    "    \"wfi_ingestion_date\",\n",
    "    \"wfi_source\"\n",
    ")"
   ]
  },
  {
   "cell_type": "code",
   "execution_count": 0,
   "metadata": {
    "application/vnd.databricks.v1+cell": {
     "cellMetadata": {
      "byteLimit": 2048000,
      "rowLimit": 10000
     },
     "inputWidgets": {},
     "nuid": "8c2705d2-e71d-4816-b047-8207f1582833",
     "showTitle": false,
     "tableResultSettingsMap": {},
     "title": ""
    }
   },
   "outputs": [],
   "source": [
    "wifi_location_final_df.write.mode(\"overwrite\").format(\"delta\").option(\"mergeSchema\", \"true\").saveAsTable(\"mta_silver.fct_wifi_location\")"
   ]
  },
  {
   "cell_type": "code",
   "execution_count": 0,
   "metadata": {
    "application/vnd.databricks.v1+cell": {
     "cellMetadata": {
      "byteLimit": 2048000,
      "implicitDf": true,
      "rowLimit": 10000
     },
     "inputWidgets": {},
     "nuid": "30886129-e4d1-4e43-ad5d-51e271eb0ccf",
     "showTitle": false,
     "tableResultSettingsMap": {},
     "title": ""
    }
   },
   "outputs": [],
   "source": [
    "%sql\n",
    "SELECT * FROM mta_silver.fct_wifi_location;"
   ]
  },
  {
   "cell_type": "code",
   "execution_count": 0,
   "metadata": {
    "application/vnd.databricks.v1+cell": {
     "cellMetadata": {
      "byteLimit": 2048000,
      "rowLimit": 10000
     },
     "inputWidgets": {},
     "nuid": "e7c40548-7253-4a20-a569-a06b95aad1a7",
     "showTitle": false,
     "tableResultSettingsMap": {},
     "title": ""
    }
   },
   "outputs": [],
   "source": [
    "dbutils.notebook.exit(\"Success\")"
   ]
  }
 ],
 "metadata": {
  "application/vnd.databricks.v1+notebook": {
   "computePreferences": null,
   "dashboards": [],
   "environmentMetadata": {
    "base_environment": "",
    "environment_version": "2"
   },
   "language": "python",
   "notebookMetadata": {
    "mostRecentlyExecutedCommandWithImplicitDF": {
     "commandId": 4043720316056087,
     "dataframes": [
      "_sqldf"
     ]
    },
    "pythonIndentUnit": 4
   },
   "notebookName": "silver_fct_wifi_location",
   "widgets": {}
  },
  "language_info": {
   "name": "python"
  }
 },
 "nbformat": 4,
 "nbformat_minor": 0
}
