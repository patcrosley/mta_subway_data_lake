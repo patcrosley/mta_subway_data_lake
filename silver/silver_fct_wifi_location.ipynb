{
 "cells": [
  {
   "cell_type": "code",
   "execution_count": 0,
   "metadata": {
    "application/vnd.databricks.v1+cell": {
     "cellMetadata": {
      "byteLimit": 2048000,
      "rowLimit": 10000
     },
     "inputWidgets": {},
     "nuid": "558b62f8-9be9-4e28-961f-0186460856ec",
     "showTitle": false,
     "tableResultSettingsMap": {},
     "title": ""
    }
   },
   "outputs": [],
   "source": [
    "%run \"../utils/custom_functions\""
   ]
  },
  {
   "cell_type": "code",
   "execution_count": 0,
   "metadata": {
    "application/vnd.databricks.v1+cell": {
     "cellMetadata": {
      "byteLimit": 2048000,
      "rowLimit": 10000
     },
     "inputWidgets": {},
     "nuid": "34f25330-2a1b-4e5c-a7f0-e52230693dd0",
     "showTitle": false,
     "tableResultSettingsMap": {},
     "title": ""
    }
   },
   "outputs": [],
   "source": [
    "from pyspark.sql.functions import md5, concat_ws, col, when"
   ]
  },
  {
   "cell_type": "code",
   "execution_count": 0,
   "metadata": {
    "application/vnd.databricks.v1+cell": {
     "cellMetadata": {
      "byteLimit": 2048000,
      "rowLimit": 10000
     },
     "inputWidgets": {},
     "nuid": "9bc3b875-2847-4df9-ad98-1f841fc78891",
     "showTitle": false,
     "tableResultSettingsMap": {},
     "title": ""
    }
   },
   "outputs": [],
   "source": [
    "wifi_location_df = spark.read \\\n",
    "    .table(\"mta_bronze.wifi_location\")\n",
    "\n",
    "dim_boroughs_df = spark.read \\\n",
    "    .table(\"mta_silver.dim_borough\")\n",
    "\n",
    "lkp_stations_df = spark.read \\\n",
    "    .table(\"mta_silver.lkp_station\")\n",
    "\n",
    "stations_df = spark.read \\\n",
    "    .table(\"mta_silver.dim_station\")"
   ]
  },
  {
   "cell_type": "code",
   "execution_count": 0,
   "metadata": {
    "application/vnd.databricks.v1+cell": {
     "cellMetadata": {
      "byteLimit": 2048000,
      "rowLimit": 10000
     },
     "inputWidgets": {},
     "nuid": "756b716a-5a22-4e56-9c85-eb5a81fe6da4",
     "showTitle": false,
     "tableResultSettingsMap": {},
     "title": ""
    }
   },
   "outputs": [],
   "source": [
    "wifi_location_transform_df = wifi_location_df \\\n",
    "    .where(\"wfi_station is not null\") \\\n",
    "    .join(dim_boroughs_df, wifi_location_df.wfi_borough == dim_boroughs_df.brh_name, \"inner\") \\\n",
    "    .join(lkp_stations_df, wifi_location_df.wfi_station == lkp_stations_df.lks_abbr, \"inner\") \\\n",
    "    .join(stations_df, \\\n",
    "        (wifi_location_df.wfi_longitude == stations_df.stn_gtfs_longitude) & \\\n",
    "        (wifi_location_df.wfi_latitude == stations_df.stn_gtfs_latitude), \"left\") \\\n",
    "    .withColumn(\"wfi_sk\", md5(concat_ws(\"_\", col(\"wfi_station\"), col(\"wfi_station_complex\"), col(\"wfi_lines\")))) \\\n",
    "    .withColumn(\"wfi_is_historical\", when(col(\"wfi_is_historical\") == \"Yes\", True).otherwise(False)) \\\n",
    "    .withColumn(\"wfi_wifi_available\", when(col(\"wfi_wifi_available\") == \"Yes\", True).otherwise(False)) \\\n",
    "    .withColumn(\"wfi_att\", when(col(\"wfi_att\") == \"Yes\", True).otherwise(False)) \\\n",
    "    .withColumn(\"wfi_sprint\", when(col(\"wfi_sprint\") == \"Yes\", True).otherwise(False)) \\\n",
    "    .withColumn(\"wfi_tmobile\", when(col(\"wfi_tmobile\") == \"Yes\", True).otherwise(False)) \\\n",
    "    .withColumn(\"wfi_verizon\", when(col(\"wfi_verizon\") == \"Yes\", True).otherwise(False)) \\\n",
    "    .withColumn(\"wfi_connectivity_score\", \\\n",
    "        (col(\"wfi_wifi_available\").cast(\"int\") + col('wfi_att').cast(\"int\") + col('wfi_sprint').cast(\"int\") + col('wfi_tmobile').cast(\"int\") + col('wfi_verizon').cast(\"int\"))) \\\n",
    "    .dropDuplicates([\"wfi_sk\"])\n"
   ]
  },
  {
   "cell_type": "code",
   "execution_count": 0,
   "metadata": {
    "application/vnd.databricks.v1+cell": {
     "cellMetadata": {
      "byteLimit": 2048000,
      "rowLimit": 10000
     },
     "inputWidgets": {},
     "nuid": "12cb330c-c23d-4870-8897-a2dc4bca9012",
     "showTitle": false,
     "tableResultSettingsMap": {},
     "title": ""
    }
   },
   "outputs": [],
   "source": [
    "wifi_location_final_df = wifi_location_transform_df.select(\n",
    "    \"wfi_sk\",\n",
    "    \"brh_sk\",\n",
    "    \"stn_sk\",\n",
    "    \"wfi_wifi_available\",\n",
    "    \"wfi_att\",\n",
    "    \"wfi_sprint\",\n",
    "    \"wfi_tmobile\",\n",
    "    \"wfi_verizon\",\n",
    "    \"wfi_connectivity_score\",\n",
    "    \"wfi_ingestion_date\",\n",
    "    \"wfi_source\"\n",
    ")"
   ]
  },
  {
   "cell_type": "code",
   "execution_count": 0,
   "metadata": {
    "application/vnd.databricks.v1+cell": {
     "cellMetadata": {
      "byteLimit": 2048000,
      "rowLimit": 10000
     },
     "inputWidgets": {},
     "nuid": "8c2705d2-e71d-4816-b047-8207f1582833",
     "showTitle": false,
     "tableResultSettingsMap": {},
     "title": ""
    }
   },
   "outputs": [],
   "source": [
    "if not spark._jsparkSession.catalog().tableExists(\"mta_silver.fct_wifi_location\"):\n",
    "\n",
    "    wifi_location_final_df.write \\\n",
    "        .mode(\"overwrite\") \\\n",
    "        .format(\"delta\") \\\n",
    "        .partitionBy(\"wfi_ingestion_date\") \\\n",
    "        .option(\"mergeSchema\", \"true\") \\\n",
    "        .saveAsTable(\"mta_silver.fct_wifi_location\")\n",
    "\n",
    "else:\n",
    "    merge_delta_data(\n",
    "        wifi_location_final_df,\n",
    "        db_name=\"mta_silver\",\n",
    "        table_name=\"fct_wifi_location\",\n",
    "        merge_condition=\"tgt.wfi_sk = src.wfi_sk\",\n",
    "        partition_column=\"wfi_ingestion_date\"\n",
    "    )"
   ]
  },
  {
   "cell_type": "code",
   "execution_count": 0,
   "metadata": {
    "application/vnd.databricks.v1+cell": {
     "cellMetadata": {
      "byteLimit": 2048000,
      "implicitDf": true,
      "rowLimit": 10000
     },
     "inputWidgets": {},
     "nuid": "30886129-e4d1-4e43-ad5d-51e271eb0ccf",
     "showTitle": false,
     "tableResultSettingsMap": {},
     "title": ""
    }
   },
   "outputs": [
    {
     "output_type": "display_data",
     "data": {
      "text/html": [
       "<style scoped>\n",
       "  .table-result-container {\n",
       "    max-height: 300px;\n",
       "    overflow: auto;\n",
       "  }\n",
       "  table, th, td {\n",
       "    border: 1px solid black;\n",
       "    border-collapse: collapse;\n",
       "  }\n",
       "  th, td {\n",
       "    padding: 5px;\n",
       "  }\n",
       "  th {\n",
       "    text-align: left;\n",
       "  }\n",
       "</style><div class='table-result-container'><table class='table-result'><thead style='background-color: white'><tr><th>wfi_sk</th><th>brh_sk</th><th>stn_sk</th><th>wfi_wifi_available</th><th>wfi_att</th><th>wfi_sprint</th><th>wfi_tmobile</th><th>wfi_verizon</th><th>wfi_connectivity_score</th><th>wfi_ingestion_date</th><th>wfi_source</th></tr></thead><tbody><tr><td>00a2b29e1211cdedf218905bb04e1374</td><td>69691c7bdcc3ce6d5d8a1361f22d04ac</td><td>57b34d206a27be9b82be83eba7f59e74</td><td>false</td><td>true</td><td>true</td><td>false</td><td>true</td><td>3</td><td>2025-03-09T07:19:09.019Z</td><td>data.gov</td></tr><tr><td>02d809f20f61da3c34c7da30a2dd48ed</td><td>69691c7bdcc3ce6d5d8a1361f22d04ac</td><td>9f9646a27e60ac1c2060dfa761905216</td><td>false</td><td>true</td><td>true</td><td>true</td><td>true</td><td>4</td><td>2025-03-09T07:19:09.019Z</td><td>data.gov</td></tr><tr><td>030bd69c59dc33a2bbdd3cb981364bf8</td><td>69691c7bdcc3ce6d5d8a1361f22d04ac</td><td>355a45687e4d90030e80e3785c3d0381</td><td>false</td><td>true</td><td>true</td><td>true</td><td>true</td><td>4</td><td>2025-03-09T07:19:09.019Z</td><td>data.gov</td></tr><tr><td>033b83800e3d395ffff037bdc8963b91</td><td>c64a5dae48f04e16deab001d4b9dbd80</td><td>317a5d87ce142d46def1294db194daf7</td><td>false</td><td>true</td><td>true</td><td>false</td><td>true</td><td>3</td><td>2025-03-09T07:19:09.019Z</td><td>data.gov</td></tr><tr><td>033d08d64cd3b13c2f364099244dc81f</td><td>c64a5dae48f04e16deab001d4b9dbd80</td><td>22cf8f810d2d2ab5c81a14b1da753bec</td><td>false</td><td>true</td><td>true</td><td>false</td><td>true</td><td>3</td><td>2025-03-09T07:19:09.019Z</td><td>data.gov</td></tr><tr><td>03fcb27ad916dd7b79180fcdc7e4dabe</td><td>69691c7bdcc3ce6d5d8a1361f22d04ac</td><td>f744f598228967b3fddd45959fff2119</td><td>false</td><td>false</td><td>true</td><td>false</td><td>false</td><td>1</td><td>2025-03-09T07:19:09.019Z</td><td>data.gov</td></tr><tr><td>050cc9136c40efe0053d4b72c8da0362</td><td>c64a5dae48f04e16deab001d4b9dbd80</td><td>a9e263f1430f8a2ab5376a6cc7dea694</td><td>false</td><td>false</td><td>false</td><td>false</td><td>false</td><td>0</td><td>2025-03-09T07:19:09.019Z</td><td>data.gov</td></tr><tr><td>0574de353d8ac4321b6bed4b7bcdec8b</td><td>c64a5dae48f04e16deab001d4b9dbd80</td><td>f523bf78dfd57229f45c64d3a8624897</td><td>false</td><td>false</td><td>false</td><td>false</td><td>false</td><td>0</td><td>2025-03-09T07:19:09.019Z</td><td>data.gov</td></tr><tr><td>05d152a8ca51a3944d8f7a90a06c6cc1</td><td>69691c7bdcc3ce6d5d8a1361f22d04ac</td><td>0e36fb16b83fcfd99df4659120ccdfe2</td><td>false</td><td>true</td><td>true</td><td>true</td><td>true</td><td>4</td><td>2025-03-09T07:19:09.019Z</td><td>data.gov</td></tr><tr><td>0637b73c1f625330f1416508db51a3b2</td><td>69691c7bdcc3ce6d5d8a1361f22d04ac</td><td>f6033621ef759c209be196d036ef6b96</td><td>false</td><td>true</td><td>true</td><td>true</td><td>true</td><td>4</td><td>2025-03-09T07:19:09.019Z</td><td>data.gov</td></tr></tbody></table></div>"
      ]
     },
     "metadata": {
      "application/vnd.databricks.v1+output": {
       "addedWidgets": {},
       "aggData": [],
       "aggError": "",
       "aggOverflow": false,
       "aggSchema": [],
       "aggSeriesLimitReached": false,
       "aggType": "",
       "arguments": {},
       "columnCustomDisplayInfos": {},
       "data": [
        [
         "00a2b29e1211cdedf218905bb04e1374",
         "69691c7bdcc3ce6d5d8a1361f22d04ac",
         "57b34d206a27be9b82be83eba7f59e74",
         false,
         true,
         true,
         false,
         true,
         3,
         "2025-03-09T07:19:09.019Z",
         "data.gov"
        ],
        [
         "02d809f20f61da3c34c7da30a2dd48ed",
         "69691c7bdcc3ce6d5d8a1361f22d04ac",
         "9f9646a27e60ac1c2060dfa761905216",
         false,
         true,
         true,
         true,
         true,
         4,
         "2025-03-09T07:19:09.019Z",
         "data.gov"
        ],
        [
         "030bd69c59dc33a2bbdd3cb981364bf8",
         "69691c7bdcc3ce6d5d8a1361f22d04ac",
         "355a45687e4d90030e80e3785c3d0381",
         false,
         true,
         true,
         true,
         true,
         4,
         "2025-03-09T07:19:09.019Z",
         "data.gov"
        ],
        [
         "033b83800e3d395ffff037bdc8963b91",
         "c64a5dae48f04e16deab001d4b9dbd80",
         "317a5d87ce142d46def1294db194daf7",
         false,
         true,
         true,
         false,
         true,
         3,
         "2025-03-09T07:19:09.019Z",
         "data.gov"
        ],
        [
         "033d08d64cd3b13c2f364099244dc81f",
         "c64a5dae48f04e16deab001d4b9dbd80",
         "22cf8f810d2d2ab5c81a14b1da753bec",
         false,
         true,
         true,
         false,
         true,
         3,
         "2025-03-09T07:19:09.019Z",
         "data.gov"
        ],
        [
         "03fcb27ad916dd7b79180fcdc7e4dabe",
         "69691c7bdcc3ce6d5d8a1361f22d04ac",
         "f744f598228967b3fddd45959fff2119",
         false,
         false,
         true,
         false,
         false,
         1,
         "2025-03-09T07:19:09.019Z",
         "data.gov"
        ],
        [
         "050cc9136c40efe0053d4b72c8da0362",
         "c64a5dae48f04e16deab001d4b9dbd80",
         "a9e263f1430f8a2ab5376a6cc7dea694",
         false,
         false,
         false,
         false,
         false,
         0,
         "2025-03-09T07:19:09.019Z",
         "data.gov"
        ],
        [
         "0574de353d8ac4321b6bed4b7bcdec8b",
         "c64a5dae48f04e16deab001d4b9dbd80",
         "f523bf78dfd57229f45c64d3a8624897",
         false,
         false,
         false,
         false,
         false,
         0,
         "2025-03-09T07:19:09.019Z",
         "data.gov"
        ],
        [
         "05d152a8ca51a3944d8f7a90a06c6cc1",
         "69691c7bdcc3ce6d5d8a1361f22d04ac",
         "0e36fb16b83fcfd99df4659120ccdfe2",
         false,
         true,
         true,
         true,
         true,
         4,
         "2025-03-09T07:19:09.019Z",
         "data.gov"
        ],
        [
         "0637b73c1f625330f1416508db51a3b2",
         "69691c7bdcc3ce6d5d8a1361f22d04ac",
         "f6033621ef759c209be196d036ef6b96",
         false,
         true,
         true,
         true,
         true,
         4,
         "2025-03-09T07:19:09.019Z",
         "data.gov"
        ]
       ],
       "datasetInfos": [],
       "dbfsResultPath": null,
       "isJsonSchema": true,
       "metadata": {
        "createTempViewForImplicitDf": true,
        "dataframeName": "_sqldf",
        "executionCount": 19
       },
       "overflow": false,
       "plotOptions": {
        "customPlotOptions": {},
        "displayType": "table",
        "pivotAggregation": null,
        "pivotColumns": null,
        "xColumns": null,
        "yColumns": null
       },
       "removedWidgets": [],
       "schema": [
        {
         "metadata": "{}",
         "name": "wfi_sk",
         "type": "\"string\""
        },
        {
         "metadata": "{}",
         "name": "brh_sk",
         "type": "\"string\""
        },
        {
         "metadata": "{}",
         "name": "stn_sk",
         "type": "\"string\""
        },
        {
         "metadata": "{}",
         "name": "wfi_wifi_available",
         "type": "\"boolean\""
        },
        {
         "metadata": "{}",
         "name": "wfi_att",
         "type": "\"boolean\""
        },
        {
         "metadata": "{}",
         "name": "wfi_sprint",
         "type": "\"boolean\""
        },
        {
         "metadata": "{}",
         "name": "wfi_tmobile",
         "type": "\"boolean\""
        },
        {
         "metadata": "{}",
         "name": "wfi_verizon",
         "type": "\"boolean\""
        },
        {
         "metadata": "{}",
         "name": "wfi_connectivity_score",
         "type": "\"integer\""
        },
        {
         "metadata": "{}",
         "name": "wfi_ingestion_date",
         "type": "\"timestamp\""
        },
        {
         "metadata": "{}",
         "name": "wfi_source",
         "type": "\"string\""
        }
       ],
       "type": "table"
      }
     },
     "output_type": "display_data"
    }
   ],
   "source": [
    "%sql\n",
    "SELECT * FROM mta_silver.fct_wifi_location LIMIT 10;"
   ]
  },
  {
   "cell_type": "code",
   "execution_count": 0,
   "metadata": {
    "application/vnd.databricks.v1+cell": {
     "cellMetadata": {
      "byteLimit": 2048000,
      "rowLimit": 10000
     },
     "inputWidgets": {},
     "nuid": "e7c40548-7253-4a20-a569-a06b95aad1a7",
     "showTitle": false,
     "tableResultSettingsMap": {},
     "title": ""
    }
   },
   "outputs": [],
   "source": [
    "dbutils.notebook.exit(\"Success\")"
   ]
  }
 ],
 "metadata": {
  "application/vnd.databricks.v1+notebook": {
   "computePreferences": null,
   "dashboards": [],
   "environmentMetadata": {
    "base_environment": "",
    "environment_version": "2"
   },
   "language": "python",
   "notebookMetadata": {
    "mostRecentlyExecutedCommandWithImplicitDF": {
     "commandId": 1089650661455186,
     "dataframes": [
      "_sqldf"
     ]
    },
    "pythonIndentUnit": 4
   },
   "notebookName": "silver_fct_wifi_location",
   "widgets": {}
  },
  "language_info": {
   "name": "python"
  }
 },
 "nbformat": 4,
 "nbformat_minor": 0
}
