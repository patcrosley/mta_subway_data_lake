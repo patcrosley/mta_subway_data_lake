{
 "cells": [
  {
   "cell_type": "code",
   "execution_count": 0,
   "metadata": {
    "application/vnd.databricks.v1+cell": {
     "cellMetadata": {
      "byteLimit": 2048000,
      "rowLimit": 10000
     },
     "inputWidgets": {},
     "nuid": "34f25330-2a1b-4e5c-a7f0-e52230693dd0",
     "showTitle": false,
     "tableResultSettingsMap": {},
     "title": ""
    }
   },
   "outputs": [],
   "source": [
    "from pyspark.sql.functions import md5, concat_ws, col, when"
   ]
  },
  {
   "cell_type": "code",
   "execution_count": 0,
   "metadata": {
    "application/vnd.databricks.v1+cell": {
     "cellMetadata": {
      "byteLimit": 2048000,
      "rowLimit": 10000
     },
     "inputWidgets": {},
     "nuid": "9bc3b875-2847-4df9-ad98-1f841fc78891",
     "showTitle": false,
     "tableResultSettingsMap": {},
     "title": ""
    }
   },
   "outputs": [],
   "source": [
    "wifi_location_df = spark.read \\\n",
    "    .table(\"mta_bronze.wifi_location\")\n",
    "\n",
    "dim_boroughs_df = spark.read \\\n",
    "    .table(\"mta_silver.dim_borough\")\n",
    "\n",
    "lkp_stations_df = spark.read \\\n",
    "    .table(\"mta_silver.lkp_station\")\n",
    "\n",
    "stations_df = spark.read \\\n",
    "    .table(\"mta_silver.dim_station\")"
   ]
  },
  {
   "cell_type": "code",
   "execution_count": 0,
   "metadata": {
    "application/vnd.databricks.v1+cell": {
     "cellMetadata": {
      "byteLimit": 2048000,
      "rowLimit": 10000
     },
     "inputWidgets": {},
     "nuid": "756b716a-5a22-4e56-9c85-eb5a81fe6da4",
     "showTitle": false,
     "tableResultSettingsMap": {},
     "title": ""
    }
   },
   "outputs": [],
   "source": [
    "wifi_location_transform_df = wifi_location_df \\\n",
    "    .where(\"wfi_station is not null\") \\\n",
    "    .join(dim_boroughs_df, wifi_location_df.wfi_borough == dim_boroughs_df.brh_name, \"inner\") \\\n",
    "    .join(lkp_stations_df, wifi_location_df.wfi_station == lkp_stations_df.lks_abbr, \"inner\") \\\n",
    "    .join(stations_df, \\\n",
    "        (wifi_location_df.wfi_longitude == stations_df.stn_gtfs_longitude) & \\\n",
    "        (wifi_location_df.wfi_latitude == stations_df.stn_gtfs_latitude), \"left\") \\\n",
    "    .withColumn(\"wfi_sk\", md5(concat_ws(\"_\", col(\"wfi_station\"), col(\"wfi_station_complex\"), col(\"wfi_lines\")))) \\\n",
    "    .withColumn(\"wfi_is_historical\", when(col(\"wfi_is_historical\") == \"Yes\", True).otherwise(False)) \\\n",
    "    .withColumn(\"wfi_wifi_available\", when(col(\"wfi_wifi_available\") == \"Yes\", True).otherwise(False)) \\\n",
    "    .withColumn(\"wfi_att\", when(col(\"wfi_att\") == \"Yes\", True).otherwise(False)) \\\n",
    "    .withColumn(\"wfi_sprint\", when(col(\"wfi_sprint\") == \"Yes\", True).otherwise(False)) \\\n",
    "    .withColumn(\"wfi_tmobile\", when(col(\"wfi_tmobile\") == \"Yes\", True).otherwise(False)) \\\n",
    "    .withColumn(\"wfi_verizon\", when(col(\"wfi_verizon\") == \"Yes\", True).otherwise(False)) \\\n",
    "    .withColumn(\"wfi_connectivity_score\", \\\n",
    "        (col(\"wfi_wifi_available\").cast(\"int\") + col('wfi_att').cast(\"int\") + col('wfi_sprint').cast(\"int\") + col('wfi_tmobile').cast(\"int\") + col('wfi_verizon').cast(\"int\"))) \\\n",
    "    .dropDuplicates([\"wfi_sk\"])\n"
   ]
  },
  {
   "cell_type": "code",
   "execution_count": 0,
   "metadata": {
    "application/vnd.databricks.v1+cell": {
     "cellMetadata": {
      "byteLimit": 2048000,
      "rowLimit": 10000
     },
     "inputWidgets": {},
     "nuid": "12cb330c-c23d-4870-8897-a2dc4bca9012",
     "showTitle": false,
     "tableResultSettingsMap": {},
     "title": ""
    }
   },
   "outputs": [],
   "source": [
    "wifi_location_final_df = wifi_location_transform_df.select(\n",
    "    \"wfi_sk\",\n",
    "    \"brh_sk\",\n",
    "    \"stn_sk\",\n",
    "    \"wfi_wifi_available\",\n",
    "    \"wfi_att\",\n",
    "    \"wfi_sprint\",\n",
    "    \"wfi_tmobile\",\n",
    "    \"wfi_verizon\",\n",
    "    \"wfi_connectivity_score\",\n",
    "    \"wfi_ingestion_date\",\n",
    "    \"wfi_source\"\n",
    ")"
   ]
  },
  {
   "cell_type": "code",
   "execution_count": 0,
   "metadata": {
    "application/vnd.databricks.v1+cell": {
     "cellMetadata": {
      "byteLimit": 2048000,
      "rowLimit": 10000
     },
     "inputWidgets": {},
     "nuid": "8c2705d2-e71d-4816-b047-8207f1582833",
     "showTitle": false,
     "tableResultSettingsMap": {},
     "title": ""
    }
   },
   "outputs": [],
   "source": [
    "wifi_location_final_df.write \\\n",
    "    .mode(\"overwrite\") \\\n",
    "    .format(\"delta\") \\\n",
    "    .option(\"mergeSchema\", \"true\") \\\n",
    "    .saveAsTable(\"mta_silver.fct_wifi_location\")"
   ]
  },
  {
   "cell_type": "code",
   "execution_count": 0,
   "metadata": {
    "application/vnd.databricks.v1+cell": {
     "cellMetadata": {
      "byteLimit": 2048000,
      "implicitDf": true,
      "rowLimit": 10000
     },
     "inputWidgets": {},
     "nuid": "30886129-e4d1-4e43-ad5d-51e271eb0ccf",
     "showTitle": false,
     "tableResultSettingsMap": {},
     "title": ""
    }
   },
   "outputs": [
    {
     "output_type": "display_data",
     "data": {
      "text/html": [
       "<style scoped>\n",
       "  .table-result-container {\n",
       "    max-height: 300px;\n",
       "    overflow: auto;\n",
       "  }\n",
       "  table, th, td {\n",
       "    border: 1px solid black;\n",
       "    border-collapse: collapse;\n",
       "  }\n",
       "  th, td {\n",
       "    padding: 5px;\n",
       "  }\n",
       "  th {\n",
       "    text-align: left;\n",
       "  }\n",
       "</style><div class='table-result-container'><table class='table-result'><thead style='background-color: white'><tr><th>wfi_sk</th><th>brh_sk</th><th>stn_sk</th><th>wfi_wifi_available</th><th>wfi_att</th><th>wfi_sprint</th><th>wfi_tmobile</th><th>wfi_verizon</th><th>wfi_connectivity_score</th><th>wfi_ingestion_date</th><th>wfi_source</th></tr></thead><tbody><tr><td>aed5060b271313610349a1a5d6f556f7</td><td>69691c7bdcc3ce6d5d8a1361f22d04ac</td><td>5250fa53ec8a4a9ab0bff2a85bc79ab2</td><td>false</td><td>false</td><td>true</td><td>false</td><td>false</td><td>1</td><td>2025-03-09T07:19:09.019Z</td><td>data.gov</td></tr><tr><td>ba697363cfc0a8da78d3da51fed21d24</td><td>69691c7bdcc3ce6d5d8a1361f22d04ac</td><td>null</td><td>false</td><td>true</td><td>true</td><td>true</td><td>true</td><td>4</td><td>2025-03-09T07:19:09.019Z</td><td>data.gov</td></tr><tr><td>ad85c0c097c601c641760bf86e4b5337</td><td>69691c7bdcc3ce6d5d8a1361f22d04ac</td><td>ba52fd5950b5da54590e28f94b4c643a</td><td>false</td><td>false</td><td>true</td><td>false</td><td>false</td><td>1</td><td>2025-03-09T07:19:09.019Z</td><td>data.gov</td></tr><tr><td>e48ac383cf8feea7a1e01b9bfd8f6f58</td><td>69691c7bdcc3ce6d5d8a1361f22d04ac</td><td>f9b69c04a62ca9a82d1db7ab2cf4b38e</td><td>false</td><td>true</td><td>true</td><td>true</td><td>true</td><td>4</td><td>2025-03-09T07:19:09.019Z</td><td>data.gov</td></tr><tr><td>adef4acc7b2591a9a63707aede05f874</td><td>69691c7bdcc3ce6d5d8a1361f22d04ac</td><td>bf6194f5fa763f187367eb2eb5ab573c</td><td>false</td><td>false</td><td>true</td><td>false</td><td>false</td><td>1</td><td>2025-03-09T07:19:09.019Z</td><td>data.gov</td></tr><tr><td>de40bab4d8c83381fcb73043a483ea9a</td><td>69691c7bdcc3ce6d5d8a1361f22d04ac</td><td>a3f2302c797e5415e26722ed5bc9cec7</td><td>false</td><td>false</td><td>true</td><td>false</td><td>false</td><td>1</td><td>2025-03-09T07:19:09.019Z</td><td>data.gov</td></tr><tr><td>12029b21b92eff67a1c2d2a822be5181</td><td>69691c7bdcc3ce6d5d8a1361f22d04ac</td><td>77c47ce92ce9d71771795af337dc5917</td><td>false</td><td>true</td><td>true</td><td>true</td><td>true</td><td>4</td><td>2025-03-09T07:19:09.019Z</td><td>data.gov</td></tr><tr><td>1e57aff4eb475ba9108c44adadd325a2</td><td>69691c7bdcc3ce6d5d8a1361f22d04ac</td><td>a67ebaa92593889589c917ab6e423781</td><td>false</td><td>false</td><td>true</td><td>false</td><td>false</td><td>1</td><td>2025-03-09T07:19:09.019Z</td><td>data.gov</td></tr><tr><td>f50b831576d5fccf367dca326b404291</td><td>69691c7bdcc3ce6d5d8a1361f22d04ac</td><td>0ce2e82ea41d08c001a3fc3576d14b53</td><td>false</td><td>true</td><td>true</td><td>true</td><td>true</td><td>4</td><td>2025-03-09T07:19:09.019Z</td><td>data.gov</td></tr><tr><td>c50c9ca66d09a1e08310718557563388</td><td>69691c7bdcc3ce6d5d8a1361f22d04ac</td><td>null</td><td>false</td><td>true</td><td>true</td><td>true</td><td>true</td><td>4</td><td>2025-03-09T07:19:09.019Z</td><td>data.gov</td></tr></tbody></table></div>"
      ]
     },
     "metadata": {
      "application/vnd.databricks.v1+output": {
       "addedWidgets": {},
       "aggData": [],
       "aggError": "",
       "aggOverflow": false,
       "aggSchema": [],
       "aggSeriesLimitReached": false,
       "aggType": "",
       "arguments": {},
       "columnCustomDisplayInfos": {},
       "data": [
        [
         "aed5060b271313610349a1a5d6f556f7",
         "69691c7bdcc3ce6d5d8a1361f22d04ac",
         "5250fa53ec8a4a9ab0bff2a85bc79ab2",
         false,
         false,
         true,
         false,
         false,
         1,
         "2025-03-09T07:19:09.019Z",
         "data.gov"
        ],
        [
         "ba697363cfc0a8da78d3da51fed21d24",
         "69691c7bdcc3ce6d5d8a1361f22d04ac",
         null,
         false,
         true,
         true,
         true,
         true,
         4,
         "2025-03-09T07:19:09.019Z",
         "data.gov"
        ],
        [
         "ad85c0c097c601c641760bf86e4b5337",
         "69691c7bdcc3ce6d5d8a1361f22d04ac",
         "ba52fd5950b5da54590e28f94b4c643a",
         false,
         false,
         true,
         false,
         false,
         1,
         "2025-03-09T07:19:09.019Z",
         "data.gov"
        ],
        [
         "e48ac383cf8feea7a1e01b9bfd8f6f58",
         "69691c7bdcc3ce6d5d8a1361f22d04ac",
         "f9b69c04a62ca9a82d1db7ab2cf4b38e",
         false,
         true,
         true,
         true,
         true,
         4,
         "2025-03-09T07:19:09.019Z",
         "data.gov"
        ],
        [
         "adef4acc7b2591a9a63707aede05f874",
         "69691c7bdcc3ce6d5d8a1361f22d04ac",
         "bf6194f5fa763f187367eb2eb5ab573c",
         false,
         false,
         true,
         false,
         false,
         1,
         "2025-03-09T07:19:09.019Z",
         "data.gov"
        ],
        [
         "de40bab4d8c83381fcb73043a483ea9a",
         "69691c7bdcc3ce6d5d8a1361f22d04ac",
         "a3f2302c797e5415e26722ed5bc9cec7",
         false,
         false,
         true,
         false,
         false,
         1,
         "2025-03-09T07:19:09.019Z",
         "data.gov"
        ],
        [
         "12029b21b92eff67a1c2d2a822be5181",
         "69691c7bdcc3ce6d5d8a1361f22d04ac",
         "77c47ce92ce9d71771795af337dc5917",
         false,
         true,
         true,
         true,
         true,
         4,
         "2025-03-09T07:19:09.019Z",
         "data.gov"
        ],
        [
         "1e57aff4eb475ba9108c44adadd325a2",
         "69691c7bdcc3ce6d5d8a1361f22d04ac",
         "a67ebaa92593889589c917ab6e423781",
         false,
         false,
         true,
         false,
         false,
         1,
         "2025-03-09T07:19:09.019Z",
         "data.gov"
        ],
        [
         "f50b831576d5fccf367dca326b404291",
         "69691c7bdcc3ce6d5d8a1361f22d04ac",
         "0ce2e82ea41d08c001a3fc3576d14b53",
         false,
         true,
         true,
         true,
         true,
         4,
         "2025-03-09T07:19:09.019Z",
         "data.gov"
        ],
        [
         "c50c9ca66d09a1e08310718557563388",
         "69691c7bdcc3ce6d5d8a1361f22d04ac",
         null,
         false,
         true,
         true,
         true,
         true,
         4,
         "2025-03-09T07:19:09.019Z",
         "data.gov"
        ]
       ],
       "datasetInfos": [],
       "dbfsResultPath": null,
       "isJsonSchema": true,
       "metadata": {
        "createTempViewForImplicitDf": true,
        "dataframeName": "_sqldf",
        "executionCount": 13
       },
       "overflow": false,
       "plotOptions": {
        "customPlotOptions": {},
        "displayType": "table",
        "pivotAggregation": null,
        "pivotColumns": null,
        "xColumns": null,
        "yColumns": null
       },
       "removedWidgets": [],
       "schema": [
        {
         "metadata": "{}",
         "name": "wfi_sk",
         "type": "\"string\""
        },
        {
         "metadata": "{}",
         "name": "brh_sk",
         "type": "\"string\""
        },
        {
         "metadata": "{}",
         "name": "stn_sk",
         "type": "\"string\""
        },
        {
         "metadata": "{}",
         "name": "wfi_wifi_available",
         "type": "\"boolean\""
        },
        {
         "metadata": "{}",
         "name": "wfi_att",
         "type": "\"boolean\""
        },
        {
         "metadata": "{}",
         "name": "wfi_sprint",
         "type": "\"boolean\""
        },
        {
         "metadata": "{}",
         "name": "wfi_tmobile",
         "type": "\"boolean\""
        },
        {
         "metadata": "{}",
         "name": "wfi_verizon",
         "type": "\"boolean\""
        },
        {
         "metadata": "{}",
         "name": "wfi_connectivity_score",
         "type": "\"integer\""
        },
        {
         "metadata": "{}",
         "name": "wfi_ingestion_date",
         "type": "\"timestamp\""
        },
        {
         "metadata": "{}",
         "name": "wfi_source",
         "type": "\"string\""
        }
       ],
       "type": "table"
      }
     },
     "output_type": "display_data"
    }
   ],
   "source": [
    "%sql\n",
    "SELECT * FROM mta_silver.fct_wifi_location LIMIT 10;"
   ]
  },
  {
   "cell_type": "code",
   "execution_count": 0,
   "metadata": {
    "application/vnd.databricks.v1+cell": {
     "cellMetadata": {
      "byteLimit": 2048000,
      "rowLimit": 10000
     },
     "inputWidgets": {},
     "nuid": "e7c40548-7253-4a20-a569-a06b95aad1a7",
     "showTitle": false,
     "tableResultSettingsMap": {},
     "title": ""
    }
   },
   "outputs": [],
   "source": [
    "dbutils.notebook.exit(\"Success\")"
   ]
  }
 ],
 "metadata": {
  "application/vnd.databricks.v1+notebook": {
   "computePreferences": null,
   "dashboards": [],
   "environmentMetadata": {
    "base_environment": "",
    "environment_version": "2"
   },
   "language": "python",
   "notebookMetadata": {
    "mostRecentlyExecutedCommandWithImplicitDF": {
     "commandId": 4043720316056087,
     "dataframes": [
      "_sqldf"
     ]
    },
    "pythonIndentUnit": 4
   },
   "notebookName": "silver_fct_wifi_location",
   "widgets": {}
  },
  "language_info": {
   "name": "python"
  }
 },
 "nbformat": 4,
 "nbformat_minor": 0
}
