{
 "cells": [
  {
   "cell_type": "code",
   "execution_count": 0,
   "metadata": {
    "application/vnd.databricks.v1+cell": {
     "cellMetadata": {
      "byteLimit": 2048000,
      "rowLimit": 10000
     },
     "inputWidgets": {},
     "nuid": "a1605e44-7f2c-4d03-a407-b657daa48818",
     "showTitle": false,
     "tableResultSettingsMap": {},
     "title": ""
    }
   },
   "outputs": [],
   "source": [
    "from pyspark.sql import SparkSession\n",
    "from pyspark.sql.functions import *\n",
    "import pandas as pd"
   ]
  },
  {
   "cell_type": "code",
   "execution_count": 0,
   "metadata": {
    "application/vnd.databricks.v1+cell": {
     "cellMetadata": {
      "byteLimit": 2048000,
      "rowLimit": 10000
     },
     "inputWidgets": {},
     "nuid": "5dc4f2ec-87fd-4977-a95a-f7d190b071ad",
     "showTitle": false,
     "tableResultSettingsMap": {},
     "title": ""
    }
   },
   "outputs": [],
   "source": [
    "start_date = \"2000-01-01\"\n",
    "end_date = \"2099-12-31\""
   ]
  },
  {
   "cell_type": "code",
   "execution_count": 0,
   "metadata": {
    "application/vnd.databricks.v1+cell": {
     "cellMetadata": {
      "byteLimit": 2048000,
      "rowLimit": 10000
     },
     "inputWidgets": {},
     "nuid": "c2d54831-3ee9-45b1-b73f-4a1088336880",
     "showTitle": false,
     "tableResultSettingsMap": {},
     "title": ""
    }
   },
   "outputs": [],
   "source": [
    "dates_df = (spark.range(0, (pd.to_datetime(end_date) - pd.to_datetime(start_date)).days + 1)\n",
    "            .withColumn(\"dte_sk\", (lit(start_date).cast(\"date\") + col(\"id\").cast(\"int\")).cast(\"date\"))\n",
    "            .drop(\"id\")) \\\n",
    "            .withColumn(\"dte_int\", date_format(col(\"dte_sk\"), \"yyyyMMdd\").cast(\"int\")) \\\n",
    "            .withColumn(\"dte_year\", year(col(\"dte_sk\"))) \\\n",
    "            .withColumn(\"dte_month\", month(col(\"dte_sk\"))) \\\n",
    "            .withColumn(\"dte_month_name\", date_format(col(\"dte_sk\"), \"MMMM\")) \\\n",
    "            .withColumn(\"dte_day_of_mth\", dayofmonth(col(\"dte_sk\"))) \\\n",
    "            .withColumn(\"dte_day_name\", date_format(col(\"dte_sk\"), \"EEEE\")) \\\n",
    "            .withColumn(\"dte_day_of_week\", dayofweek(col(\"dte_sk\"))) \\\n",
    "            .withColumn(\"dte_is_weekend\", when(col(\"dte_day_of_week\").isin(1, 7), 1).otherwise(0)) \\\n",
    "            .withColumn(\"dte_week_of_year\", weekofyear(col(\"dte_sk\"))) \\\n",
    "            .withColumn(\"dte_quarter\", quarter(col(\"dte_sk\"))) \\\n",
    "            .withColumn(\"dte_is_leap_year\", when(year(col(\"dte_sk\")) % 4 == 0, 1).otherwise(0)) \\\n",
    "            .orderBy(\"dte_sk\")"
   ]
  },
  {
   "cell_type": "code",
   "execution_count": 0,
   "metadata": {
    "application/vnd.databricks.v1+cell": {
     "cellMetadata": {
      "byteLimit": 2048000,
      "rowLimit": 10000
     },
     "inputWidgets": {},
     "nuid": "a9355de9-67c6-4269-adef-730b3d1f65ee",
     "showTitle": false,
     "tableResultSettingsMap": {},
     "title": ""
    }
   },
   "outputs": [],
   "source": [
    "dates_df.write.format(\"delta\").mode(\"overwrite\").option(\"mergeSchema\", \"true\").saveAsTable(\"mta_silver.dim_date\")"
   ]
  },
  {
   "cell_type": "code",
   "execution_count": 0,
   "metadata": {
    "application/vnd.databricks.v1+cell": {
     "cellMetadata": {
      "byteLimit": 2048000,
      "implicitDf": true,
      "rowLimit": 10000
     },
     "inputWidgets": {},
     "nuid": "7a0eedd4-ef41-4f50-9000-593d6b7cb5c1",
     "showTitle": false,
     "tableResultSettingsMap": {},
     "title": ""
    }
   },
   "outputs": [],
   "source": [
    "%sql\n",
    "SELECT * FROM mta_silver.dim_date LIMIT 20;"
   ]
  },
  {
   "cell_type": "code",
   "execution_count": 0,
   "metadata": {
    "application/vnd.databricks.v1+cell": {
     "cellMetadata": {
      "byteLimit": 2048000,
      "rowLimit": 10000
     },
     "inputWidgets": {},
     "nuid": "cf0828e1-9c85-47cb-bead-ac6329572bfd",
     "showTitle": false,
     "tableResultSettingsMap": {},
     "title": ""
    }
   },
   "outputs": [],
   "source": [
    "dbutils.notebook.exit(\"Success\")"
   ]
  }
 ],
 "metadata": {
  "application/vnd.databricks.v1+notebook": {
   "computePreferences": null,
   "dashboards": [],
   "environmentMetadata": {
    "base_environment": "",
    "environment_version": "2"
   },
   "language": "python",
   "notebookMetadata": {
    "mostRecentlyExecutedCommandWithImplicitDF": {
     "commandId": 4043720316056061,
     "dataframes": [
      "_sqldf"
     ]
    },
    "pythonIndentUnit": 4
   },
   "notebookName": "silver_dim_date",
   "widgets": {}
  },
  "language_info": {
   "name": "python"
  }
 },
 "nbformat": 4,
 "nbformat_minor": 0
}
