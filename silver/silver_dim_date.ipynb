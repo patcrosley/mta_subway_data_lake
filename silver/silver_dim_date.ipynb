{
 "cells": [
  {
   "cell_type": "code",
   "execution_count": 0,
   "metadata": {
    "application/vnd.databricks.v1+cell": {
     "cellMetadata": {
      "byteLimit": 2048000,
      "rowLimit": 10000
     },
     "inputWidgets": {},
     "nuid": "a1605e44-7f2c-4d03-a407-b657daa48818",
     "showTitle": false,
     "tableResultSettingsMap": {},
     "title": ""
    }
   },
   "outputs": [],
   "source": [
    "from pyspark.sql import SparkSession\n",
    "from pyspark.sql.functions import *\n",
    "import pandas as pd"
   ]
  },
  {
   "cell_type": "code",
   "execution_count": 0,
   "metadata": {
    "application/vnd.databricks.v1+cell": {
     "cellMetadata": {
      "byteLimit": 2048000,
      "rowLimit": 10000
     },
     "inputWidgets": {},
     "nuid": "5dc4f2ec-87fd-4977-a95a-f7d190b071ad",
     "showTitle": false,
     "tableResultSettingsMap": {},
     "title": ""
    }
   },
   "outputs": [],
   "source": [
    "start_date = \"2000-01-01\"\n",
    "end_date = \"2099-12-31\""
   ]
  },
  {
   "cell_type": "code",
   "execution_count": 0,
   "metadata": {
    "application/vnd.databricks.v1+cell": {
     "cellMetadata": {
      "byteLimit": 2048000,
      "rowLimit": 10000
     },
     "inputWidgets": {},
     "nuid": "c2d54831-3ee9-45b1-b73f-4a1088336880",
     "showTitle": false,
     "tableResultSettingsMap": {},
     "title": ""
    }
   },
   "outputs": [],
   "source": [
    "dates_df = (spark.range(0, (pd.to_datetime(end_date) - pd.to_datetime(start_date)).days + 1)\n",
    "            .withColumn(\"dte_sk\", (lit(start_date).cast(\"date\") + col(\"id\").cast(\"int\")).cast(\"date\"))\n",
    "            .drop(\"id\")) \\\n",
    "            .withColumn(\"dte_int\", date_format(col(\"dte_sk\"), \"yyyyMMdd\").cast(\"int\")) \\\n",
    "            .withColumn(\"dte_year\", year(col(\"dte_sk\"))) \\\n",
    "            .withColumn(\"dte_month\", month(col(\"dte_sk\"))) \\\n",
    "            .withColumn(\"dte_month_name\", date_format(col(\"dte_sk\"), \"MMMM\")) \\\n",
    "            .withColumn(\"dte_day_of_mth\", dayofmonth(col(\"dte_sk\"))) \\\n",
    "            .withColumn(\"dte_day_name\", date_format(col(\"dte_sk\"), \"EEEE\")) \\\n",
    "            .withColumn(\"dte_day_of_week\", dayofweek(col(\"dte_sk\"))) \\\n",
    "            .withColumn(\"dte_is_weekend\", when(col(\"dte_day_of_week\").isin(1, 7), 1).otherwise(0)) \\\n",
    "            .withColumn(\"dte_week_of_year\", weekofyear(col(\"dte_sk\"))) \\\n",
    "            .withColumn(\"dte_quarter\", quarter(col(\"dte_sk\"))) \\\n",
    "            .withColumn(\"dte_is_leap_year\", when(year(col(\"dte_sk\")) % 4 == 0, 1).otherwise(0)) \\\n",
    "            .orderBy(\"dte_sk\")"
   ]
  },
  {
   "cell_type": "code",
   "execution_count": 0,
   "metadata": {
    "application/vnd.databricks.v1+cell": {
     "cellMetadata": {
      "byteLimit": 2048000,
      "rowLimit": 10000
     },
     "inputWidgets": {},
     "nuid": "a9355de9-67c6-4269-adef-730b3d1f65ee",
     "showTitle": false,
     "tableResultSettingsMap": {},
     "title": ""
    }
   },
   "outputs": [],
   "source": [
    "dates_df.write \\\n",
    "    .format(\"delta\") \\\n",
    "    .mode(\"overwrite\") \\\n",
    "    .option(\"mergeSchema\", \"true\") \\\n",
    "    .saveAsTable(\"mta_silver.dim_date\")"
   ]
  },
  {
   "cell_type": "code",
   "execution_count": 0,
   "metadata": {
    "application/vnd.databricks.v1+cell": {
     "cellMetadata": {
      "byteLimit": 2048000,
      "implicitDf": true,
      "rowLimit": 10000
     },
     "inputWidgets": {},
     "nuid": "7a0eedd4-ef41-4f50-9000-593d6b7cb5c1",
     "showTitle": false,
     "tableResultSettingsMap": {},
     "title": ""
    }
   },
   "outputs": [
    {
     "output_type": "display_data",
     "data": {
      "text/html": [
       "<style scoped>\n",
       "  .table-result-container {\n",
       "    max-height: 300px;\n",
       "    overflow: auto;\n",
       "  }\n",
       "  table, th, td {\n",
       "    border: 1px solid black;\n",
       "    border-collapse: collapse;\n",
       "  }\n",
       "  th, td {\n",
       "    padding: 5px;\n",
       "  }\n",
       "  th {\n",
       "    text-align: left;\n",
       "  }\n",
       "</style><div class='table-result-container'><table class='table-result'><thead style='background-color: white'><tr><th>dte_sk</th><th>dte_int</th><th>dte_year</th><th>dte_month</th><th>dte_month_name</th><th>dte_day_of_mth</th><th>dte_day_name</th><th>dte_day_of_week</th><th>dte_is_weekend</th><th>dte_week_of_year</th><th>dte_quarter</th><th>dte_is_leap_year</th></tr></thead><tbody><tr><td>2000-01-01</td><td>20000101</td><td>2000</td><td>1</td><td>January</td><td>1</td><td>Saturday</td><td>7</td><td>1</td><td>52</td><td>1</td><td>1</td></tr><tr><td>2000-01-02</td><td>20000102</td><td>2000</td><td>1</td><td>January</td><td>2</td><td>Sunday</td><td>1</td><td>1</td><td>52</td><td>1</td><td>1</td></tr><tr><td>2000-01-03</td><td>20000103</td><td>2000</td><td>1</td><td>January</td><td>3</td><td>Monday</td><td>2</td><td>0</td><td>1</td><td>1</td><td>1</td></tr><tr><td>2000-01-04</td><td>20000104</td><td>2000</td><td>1</td><td>January</td><td>4</td><td>Tuesday</td><td>3</td><td>0</td><td>1</td><td>1</td><td>1</td></tr><tr><td>2000-01-05</td><td>20000105</td><td>2000</td><td>1</td><td>January</td><td>5</td><td>Wednesday</td><td>4</td><td>0</td><td>1</td><td>1</td><td>1</td></tr><tr><td>2000-01-06</td><td>20000106</td><td>2000</td><td>1</td><td>January</td><td>6</td><td>Thursday</td><td>5</td><td>0</td><td>1</td><td>1</td><td>1</td></tr><tr><td>2000-01-07</td><td>20000107</td><td>2000</td><td>1</td><td>January</td><td>7</td><td>Friday</td><td>6</td><td>0</td><td>1</td><td>1</td><td>1</td></tr><tr><td>2000-01-08</td><td>20000108</td><td>2000</td><td>1</td><td>January</td><td>8</td><td>Saturday</td><td>7</td><td>1</td><td>1</td><td>1</td><td>1</td></tr><tr><td>2000-01-09</td><td>20000109</td><td>2000</td><td>1</td><td>January</td><td>9</td><td>Sunday</td><td>1</td><td>1</td><td>1</td><td>1</td><td>1</td></tr><tr><td>2000-01-10</td><td>20000110</td><td>2000</td><td>1</td><td>January</td><td>10</td><td>Monday</td><td>2</td><td>0</td><td>2</td><td>1</td><td>1</td></tr></tbody></table></div>"
      ]
     },
     "metadata": {
      "application/vnd.databricks.v1+output": {
       "addedWidgets": {},
       "aggData": [],
       "aggError": "",
       "aggOverflow": false,
       "aggSchema": [],
       "aggSeriesLimitReached": false,
       "aggType": "",
       "arguments": {},
       "columnCustomDisplayInfos": {},
       "data": [
        [
         "2000-01-01",
         20000101,
         2000,
         1,
         "January",
         1,
         "Saturday",
         7,
         1,
         52,
         1,
         1
        ],
        [
         "2000-01-02",
         20000102,
         2000,
         1,
         "January",
         2,
         "Sunday",
         1,
         1,
         52,
         1,
         1
        ],
        [
         "2000-01-03",
         20000103,
         2000,
         1,
         "January",
         3,
         "Monday",
         2,
         0,
         1,
         1,
         1
        ],
        [
         "2000-01-04",
         20000104,
         2000,
         1,
         "January",
         4,
         "Tuesday",
         3,
         0,
         1,
         1,
         1
        ],
        [
         "2000-01-05",
         20000105,
         2000,
         1,
         "January",
         5,
         "Wednesday",
         4,
         0,
         1,
         1,
         1
        ],
        [
         "2000-01-06",
         20000106,
         2000,
         1,
         "January",
         6,
         "Thursday",
         5,
         0,
         1,
         1,
         1
        ],
        [
         "2000-01-07",
         20000107,
         2000,
         1,
         "January",
         7,
         "Friday",
         6,
         0,
         1,
         1,
         1
        ],
        [
         "2000-01-08",
         20000108,
         2000,
         1,
         "January",
         8,
         "Saturday",
         7,
         1,
         1,
         1,
         1
        ],
        [
         "2000-01-09",
         20000109,
         2000,
         1,
         "January",
         9,
         "Sunday",
         1,
         1,
         1,
         1,
         1
        ],
        [
         "2000-01-10",
         20000110,
         2000,
         1,
         "January",
         10,
         "Monday",
         2,
         0,
         2,
         1,
         1
        ]
       ],
       "datasetInfos": [],
       "dbfsResultPath": null,
       "isJsonSchema": true,
       "metadata": {
        "createTempViewForImplicitDf": true,
        "dataframeName": "_sqldf",
        "executionCount": 11
       },
       "overflow": false,
       "plotOptions": {
        "customPlotOptions": {},
        "displayType": "table",
        "pivotAggregation": null,
        "pivotColumns": null,
        "xColumns": null,
        "yColumns": null
       },
       "removedWidgets": [],
       "schema": [
        {
         "metadata": "{}",
         "name": "dte_sk",
         "type": "\"date\""
        },
        {
         "metadata": "{}",
         "name": "dte_int",
         "type": "\"integer\""
        },
        {
         "metadata": "{}",
         "name": "dte_year",
         "type": "\"integer\""
        },
        {
         "metadata": "{}",
         "name": "dte_month",
         "type": "\"integer\""
        },
        {
         "metadata": "{}",
         "name": "dte_month_name",
         "type": "\"string\""
        },
        {
         "metadata": "{}",
         "name": "dte_day_of_mth",
         "type": "\"integer\""
        },
        {
         "metadata": "{}",
         "name": "dte_day_name",
         "type": "\"string\""
        },
        {
         "metadata": "{}",
         "name": "dte_day_of_week",
         "type": "\"integer\""
        },
        {
         "metadata": "{}",
         "name": "dte_is_weekend",
         "type": "\"integer\""
        },
        {
         "metadata": "{}",
         "name": "dte_week_of_year",
         "type": "\"integer\""
        },
        {
         "metadata": "{}",
         "name": "dte_quarter",
         "type": "\"integer\""
        },
        {
         "metadata": "{}",
         "name": "dte_is_leap_year",
         "type": "\"integer\""
        }
       ],
       "type": "table"
      }
     },
     "output_type": "display_data"
    }
   ],
   "source": [
    "%sql\n",
    "SELECT * FROM mta_silver.dim_date LIMIT 10;"
   ]
  },
  {
   "cell_type": "code",
   "execution_count": 0,
   "metadata": {
    "application/vnd.databricks.v1+cell": {
     "cellMetadata": {
      "byteLimit": 2048000,
      "rowLimit": 10000
     },
     "inputWidgets": {},
     "nuid": "cf0828e1-9c85-47cb-bead-ac6329572bfd",
     "showTitle": false,
     "tableResultSettingsMap": {},
     "title": ""
    }
   },
   "outputs": [],
   "source": [
    "dbutils.notebook.exit(\"Success\")"
   ]
  }
 ],
 "metadata": {
  "application/vnd.databricks.v1+notebook": {
   "computePreferences": null,
   "dashboards": [],
   "environmentMetadata": {
    "base_environment": "",
    "environment_version": "2"
   },
   "language": "python",
   "notebookMetadata": {
    "mostRecentlyExecutedCommandWithImplicitDF": {
     "commandId": 4043720316056061,
     "dataframes": [
      "_sqldf"
     ]
    },
    "pythonIndentUnit": 4
   },
   "notebookName": "silver_dim_date",
   "widgets": {}
  },
  "language_info": {
   "name": "python"
  }
 },
 "nbformat": 4,
 "nbformat_minor": 0
}
