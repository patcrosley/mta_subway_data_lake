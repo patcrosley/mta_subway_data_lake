{
 "cells": [
  {
   "cell_type": "code",
   "execution_count": 0,
   "metadata": {
    "application/vnd.databricks.v1+cell": {
     "cellMetadata": {
      "byteLimit": 2048000,
      "rowLimit": 10000
     },
     "inputWidgets": {},
     "nuid": "da047615-0836-4333-b227-99635abf1caa",
     "showTitle": false,
     "tableResultSettingsMap": {},
     "title": ""
    }
   },
   "outputs": [],
   "source": [
    "from pyspark.sql.functions import sum, desc, round, avg, col\n",
    "from pyspark.sql import Window"
   ]
  },
  {
   "cell_type": "code",
   "execution_count": 0,
   "metadata": {
    "application/vnd.databricks.v1+cell": {
     "cellMetadata": {
      "byteLimit": 2048000,
      "rowLimit": 10000
     },
     "inputWidgets": {},
     "nuid": "d8f8a1d5-b74b-4d57-af5f-401040f13b56",
     "showTitle": false,
     "tableResultSettingsMap": {},
     "title": ""
    }
   },
   "outputs": [],
   "source": [
    "major_incident_df = spark.read \\\n",
    "    .table(\"mta_silver.fct_major_incident\")\n",
    "\n",
    "date_df = spark.read \\\n",
    "    .table(\"mta_silver.dim_date\")"
   ]
  },
  {
   "cell_type": "code",
   "execution_count": 0,
   "metadata": {
    "application/vnd.databricks.v1+cell": {
     "cellMetadata": {
      "byteLimit": 2048000,
      "rowLimit": 10000
     },
     "inputWidgets": {},
     "nuid": "b4831419-e8d1-4944-8b8a-b33b163fc72c",
     "showTitle": false,
     "tableResultSettingsMap": {},
     "title": ""
    }
   },
   "outputs": [],
   "source": [
    "window_over_all = Window.orderBy().rowsBetween(Window.unboundedPreceding, Window.unboundedFollowing)\n",
    "\n",
    "inc_by_mth_of_year_t1_df = major_incident_df \\\n",
    "    .join(date_df, major_incident_df.dte_sk == date_df.dte_sk, \"inner\") \\\n",
    "    .select(\n",
    "        \"dte_month\",\n",
    "        \"dte_month_name\",\n",
    "        \"inc_count\"\n",
    "    ).groupBy(\n",
    "        \"dte_month\",\n",
    "        \"dte_month_name\"\n",
    "    ).agg(\n",
    "        sum(\"inc_count\").alias(\"inc_count\")\n",
    "    ).orderBy(desc(\"inc_count\"))\n",
    "\n",
    "inc_by_mth_of_year_t2_df = inc_by_mth_of_year_t1_df \\\n",
    "    .withColumn(\"avg_incidents_per_mth_of_year\", round(avg(col(\"inc_count\")).over(window_over_all), 2)) \\\n",
    "    .withColumn(\"sum_incidents\", round(sum(col(\"inc_count\")).over(window_over_all), 2)) \\\n",
    "    .withColumn(\"inc_fraction_by_mth_of_year\", round((col(\"inc_count\") / col(\"sum_incidents\") * 100), 2))"
   ]
  },
  {
   "cell_type": "code",
   "execution_count": 0,
   "metadata": {
    "application/vnd.databricks.v1+cell": {
     "cellMetadata": {
      "byteLimit": 2048000,
      "rowLimit": 10000
     },
     "inputWidgets": {},
     "nuid": "39cc836c-8e2f-43c5-84a6-38512bfa88e8",
     "showTitle": false,
     "tableResultSettingsMap": {},
     "title": ""
    }
   },
   "outputs": [],
   "source": [
    "inc_by_mth_of_year_final_df = inc_by_mth_of_year_t2_df.select(\n",
    "    col(\"dte_month\").alias(\"imy_month\"),\n",
    "    col(\"dte_month_name\").alias(\"imy_month_name\"),\n",
    "    col(\"inc_count\").alias(\"imy_inc_count\"),\n",
    "    col(\"avg_incidents_per_mth_of_year\").alias(\"imy_avg_incidents_per_mth_of_year\"),\n",
    "    col(\"sum_incidents\").alias(\"imy_sum_incidents\"),\n",
    "    col(\"inc_fraction_by_mth_of_year\").alias(\"imy_inc_percent_by_mth_of_year\")\n",
    ")"
   ]
  },
  {
   "cell_type": "code",
   "execution_count": 0,
   "metadata": {
    "application/vnd.databricks.v1+cell": {
     "cellMetadata": {
      "byteLimit": 2048000,
      "rowLimit": 10000
     },
     "inputWidgets": {},
     "nuid": "0b0f566e-253d-449d-a7ff-d4f7aa860f51",
     "showTitle": false,
     "tableResultSettingsMap": {},
     "title": ""
    }
   },
   "outputs": [],
   "source": [
    "inc_by_mth_of_year_final_df.write.format(\"delta\").mode(\"overwrite\").option(\"mergeSchema\", \"true\").saveAsTable(\"mta_gold.rpt_incidents_by_month_of_year\")"
   ]
  },
  {
   "cell_type": "code",
   "execution_count": 0,
   "metadata": {
    "application/vnd.databricks.v1+cell": {
     "cellMetadata": {
      "byteLimit": 2048000,
      "implicitDf": true,
      "rowLimit": 10000
     },
     "inputWidgets": {},
     "nuid": "27ab0f5c-b813-4157-a8ae-ecac8dc94a45",
     "showTitle": false,
     "tableResultSettingsMap": {},
     "title": ""
    }
   },
   "outputs": [],
   "source": [
    "%sql\n",
    "SELECT * FROM mta_gold.rpt_incidents_by_month_of_year;"
   ]
  },
  {
   "cell_type": "code",
   "execution_count": 0,
   "metadata": {
    "application/vnd.databricks.v1+cell": {
     "cellMetadata": {
      "byteLimit": 2048000,
      "rowLimit": 10000
     },
     "inputWidgets": {},
     "nuid": "d1df162d-ed9d-49b1-8f2c-909f0fbfcb47",
     "showTitle": false,
     "tableResultSettingsMap": {},
     "title": ""
    }
   },
   "outputs": [],
   "source": [
    "dbutils.notebook.exit(\"Success\")"
   ]
  }
 ],
 "metadata": {
  "application/vnd.databricks.v1+notebook": {
   "computePreferences": null,
   "dashboards": [],
   "environmentMetadata": {
    "base_environment": "",
    "environment_version": "2"
   },
   "language": "python",
   "notebookMetadata": {
    "mostRecentlyExecutedCommandWithImplicitDF": {
     "commandId": 215081776633502,
     "dataframes": [
      "_sqldf"
     ]
    },
    "pythonIndentUnit": 4
   },
   "notebookName": "gold_rpt_incidents_by_month_of_year",
   "widgets": {}
  },
  "language_info": {
   "name": "python"
  }
 },
 "nbformat": 4,
 "nbformat_minor": 0
}
