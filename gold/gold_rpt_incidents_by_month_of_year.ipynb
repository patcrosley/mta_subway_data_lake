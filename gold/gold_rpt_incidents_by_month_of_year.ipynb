{
 "cells": [
  {
   "cell_type": "code",
   "execution_count": 0,
   "metadata": {
    "application/vnd.databricks.v1+cell": {
     "cellMetadata": {
      "byteLimit": 2048000,
      "rowLimit": 10000
     },
     "inputWidgets": {},
     "nuid": "da047615-0836-4333-b227-99635abf1caa",
     "showTitle": false,
     "tableResultSettingsMap": {},
     "title": ""
    }
   },
   "outputs": [],
   "source": [
    "from pyspark.sql.functions import sum, desc, round, avg, col\n",
    "from pyspark.sql import Window"
   ]
  },
  {
   "cell_type": "code",
   "execution_count": 0,
   "metadata": {
    "application/vnd.databricks.v1+cell": {
     "cellMetadata": {
      "byteLimit": 2048000,
      "rowLimit": 10000
     },
     "inputWidgets": {},
     "nuid": "d8f8a1d5-b74b-4d57-af5f-401040f13b56",
     "showTitle": false,
     "tableResultSettingsMap": {},
     "title": ""
    }
   },
   "outputs": [],
   "source": [
    "major_incident_df = spark.read \\\n",
    "    .table(\"mta_silver.fct_major_incident\")\n",
    "\n",
    "date_df = spark.read \\\n",
    "    .table(\"mta_silver.dim_date\")"
   ]
  },
  {
   "cell_type": "code",
   "execution_count": 0,
   "metadata": {
    "application/vnd.databricks.v1+cell": {
     "cellMetadata": {
      "byteLimit": 2048000,
      "rowLimit": 10000
     },
     "inputWidgets": {},
     "nuid": "b4831419-e8d1-4944-8b8a-b33b163fc72c",
     "showTitle": false,
     "tableResultSettingsMap": {},
     "title": ""
    }
   },
   "outputs": [],
   "source": [
    "window_over_all = Window.orderBy().rowsBetween(Window.unboundedPreceding, Window.unboundedFollowing)\n",
    "\n",
    "inc_by_mth_of_year_t1_df = major_incident_df \\\n",
    "    .join(date_df, major_incident_df.dte_sk == date_df.dte_sk, \"inner\") \\\n",
    "    .select(\n",
    "        \"dte_month\",\n",
    "        \"dte_month_name\",\n",
    "        \"inc_count\"\n",
    "    ).groupBy(\n",
    "        \"dte_month\",\n",
    "        \"dte_month_name\"\n",
    "    ).agg(\n",
    "        sum(\"inc_count\").alias(\"inc_count\")\n",
    "    ).orderBy(desc(\"inc_count\"))\n",
    "\n",
    "inc_by_mth_of_year_t2_df = inc_by_mth_of_year_t1_df \\\n",
    "    .withColumn(\"avg_incidents_per_mth_of_year\", round(avg(col(\"inc_count\")).over(window_over_all), 2)) \\\n",
    "    .withColumn(\"sum_incidents\", round(sum(col(\"inc_count\")).over(window_over_all), 2)) \\\n",
    "    .withColumn(\"inc_fraction_by_mth_of_year\", round((col(\"inc_count\") / col(\"sum_incidents\") * 100), 2))"
   ]
  },
  {
   "cell_type": "code",
   "execution_count": 0,
   "metadata": {
    "application/vnd.databricks.v1+cell": {
     "cellMetadata": {
      "byteLimit": 2048000,
      "rowLimit": 10000
     },
     "inputWidgets": {},
     "nuid": "39cc836c-8e2f-43c5-84a6-38512bfa88e8",
     "showTitle": false,
     "tableResultSettingsMap": {},
     "title": ""
    }
   },
   "outputs": [],
   "source": [
    "inc_by_mth_of_year_final_df = inc_by_mth_of_year_t2_df.select(\n",
    "    col(\"dte_month\").alias(\"imy_month\"),\n",
    "    col(\"dte_month_name\").alias(\"imy_month_name\"),\n",
    "    col(\"inc_count\").alias(\"imy_inc_count\"),\n",
    "    col(\"avg_incidents_per_mth_of_year\").alias(\"imy_avg_incidents_per_mth_of_year\"),\n",
    "    col(\"sum_incidents\").alias(\"imy_sum_incidents\"),\n",
    "    col(\"inc_fraction_by_mth_of_year\").alias(\"imy_inc_percent_by_mth_of_year\")\n",
    ")"
   ]
  },
  {
   "cell_type": "code",
   "execution_count": 0,
   "metadata": {
    "application/vnd.databricks.v1+cell": {
     "cellMetadata": {
      "byteLimit": 2048000,
      "rowLimit": 10000
     },
     "inputWidgets": {},
     "nuid": "0b0f566e-253d-449d-a7ff-d4f7aa860f51",
     "showTitle": false,
     "tableResultSettingsMap": {},
     "title": ""
    }
   },
   "outputs": [],
   "source": [
    "inc_by_mth_of_year_final_df.write \\\n",
    "    .format(\"delta\") \\\n",
    "    .mode(\"overwrite\") \\\n",
    "    .option(\"mergeSchema\", \"true\") \\\n",
    "    .saveAsTable(\"mta_gold.rpt_incidents_by_month_of_year\")"
   ]
  },
  {
   "cell_type": "code",
   "execution_count": 0,
   "metadata": {
    "application/vnd.databricks.v1+cell": {
     "cellMetadata": {
      "byteLimit": 2048000,
      "implicitDf": true,
      "rowLimit": 10000
     },
     "inputWidgets": {},
     "nuid": "27ab0f5c-b813-4157-a8ae-ecac8dc94a45",
     "showTitle": false,
     "tableResultSettingsMap": {},
     "title": ""
    }
   },
   "outputs": [
    {
     "output_type": "display_data",
     "data": {
      "text/html": [
       "<style scoped>\n",
       "  .table-result-container {\n",
       "    max-height: 300px;\n",
       "    overflow: auto;\n",
       "  }\n",
       "  table, th, td {\n",
       "    border: 1px solid black;\n",
       "    border-collapse: collapse;\n",
       "  }\n",
       "  th, td {\n",
       "    padding: 5px;\n",
       "  }\n",
       "  th {\n",
       "    text-align: left;\n",
       "  }\n",
       "</style><div class='table-result-container'><table class='table-result'><thead style='background-color: white'><tr><th>imy_month</th><th>imy_month_name</th><th>imy_inc_count</th><th>imy_avg_incidents_per_mth_of_year</th><th>imy_sum_incidents</th><th>imy_inc_percent_by_mth_of_year</th></tr></thead><tbody><tr><td>1</td><td>January</td><td>431</td><td>348.0</td><td>4176</td><td>10.32</td></tr><tr><td>3</td><td>March</td><td>378</td><td>348.0</td><td>4176</td><td>9.05</td></tr><tr><td>7</td><td>July</td><td>363</td><td>348.0</td><td>4176</td><td>8.69</td></tr><tr><td>5</td><td>May</td><td>360</td><td>348.0</td><td>4176</td><td>8.62</td></tr><tr><td>6</td><td>June</td><td>357</td><td>348.0</td><td>4176</td><td>8.55</td></tr><tr><td>4</td><td>April</td><td>344</td><td>348.0</td><td>4176</td><td>8.24</td></tr><tr><td>2</td><td>February</td><td>342</td><td>348.0</td><td>4176</td><td>8.19</td></tr><tr><td>12</td><td>December</td><td>334</td><td>348.0</td><td>4176</td><td>8.0</td></tr><tr><td>10</td><td>October</td><td>327</td><td>348.0</td><td>4176</td><td>7.83</td></tr><tr><td>11</td><td>November</td><td>317</td><td>348.0</td><td>4176</td><td>7.59</td></tr><tr><td>9</td><td>September</td><td>314</td><td>348.0</td><td>4176</td><td>7.52</td></tr><tr><td>8</td><td>August</td><td>309</td><td>348.0</td><td>4176</td><td>7.4</td></tr></tbody></table></div>"
      ]
     },
     "metadata": {
      "application/vnd.databricks.v1+output": {
       "addedWidgets": {},
       "aggData": [],
       "aggError": "",
       "aggOverflow": false,
       "aggSchema": [],
       "aggSeriesLimitReached": false,
       "aggType": "",
       "arguments": {},
       "columnCustomDisplayInfos": {},
       "data": [
        [
         1,
         "January",
         431,
         348.0,
         4176,
         10.32
        ],
        [
         3,
         "March",
         378,
         348.0,
         4176,
         9.05
        ],
        [
         7,
         "July",
         363,
         348.0,
         4176,
         8.69
        ],
        [
         5,
         "May",
         360,
         348.0,
         4176,
         8.62
        ],
        [
         6,
         "June",
         357,
         348.0,
         4176,
         8.55
        ],
        [
         4,
         "April",
         344,
         348.0,
         4176,
         8.24
        ],
        [
         2,
         "February",
         342,
         348.0,
         4176,
         8.19
        ],
        [
         12,
         "December",
         334,
         348.0,
         4176,
         8.0
        ],
        [
         10,
         "October",
         327,
         348.0,
         4176,
         7.83
        ],
        [
         11,
         "November",
         317,
         348.0,
         4176,
         7.59
        ],
        [
         9,
         "September",
         314,
         348.0,
         4176,
         7.52
        ],
        [
         8,
         "August",
         309,
         348.0,
         4176,
         7.4
        ]
       ],
       "datasetInfos": [],
       "dbfsResultPath": null,
       "isJsonSchema": true,
       "metadata": {
        "createTempViewForImplicitDf": true,
        "dataframeName": "_sqldf",
        "executionCount": 6
       },
       "overflow": false,
       "plotOptions": {
        "customPlotOptions": {},
        "displayType": "table",
        "pivotAggregation": null,
        "pivotColumns": null,
        "xColumns": null,
        "yColumns": null
       },
       "removedWidgets": [],
       "schema": [
        {
         "metadata": "{}",
         "name": "imy_month",
         "type": "\"integer\""
        },
        {
         "metadata": "{}",
         "name": "imy_month_name",
         "type": "\"string\""
        },
        {
         "metadata": "{}",
         "name": "imy_inc_count",
         "type": "\"long\""
        },
        {
         "metadata": "{}",
         "name": "imy_avg_incidents_per_mth_of_year",
         "type": "\"double\""
        },
        {
         "metadata": "{}",
         "name": "imy_sum_incidents",
         "type": "\"long\""
        },
        {
         "metadata": "{}",
         "name": "imy_inc_percent_by_mth_of_year",
         "type": "\"double\""
        }
       ],
       "type": "table"
      }
     },
     "output_type": "display_data"
    }
   ],
   "source": [
    "%sql\n",
    "SELECT * FROM mta_gold.rpt_incidents_by_month_of_year;"
   ]
  },
  {
   "cell_type": "code",
   "execution_count": 0,
   "metadata": {
    "application/vnd.databricks.v1+cell": {
     "cellMetadata": {
      "byteLimit": 2048000,
      "rowLimit": 10000
     },
     "inputWidgets": {},
     "nuid": "d1df162d-ed9d-49b1-8f2c-909f0fbfcb47",
     "showTitle": false,
     "tableResultSettingsMap": {},
     "title": ""
    }
   },
   "outputs": [],
   "source": [
    "dbutils.notebook.exit(\"Success\")"
   ]
  }
 ],
 "metadata": {
  "application/vnd.databricks.v1+notebook": {
   "computePreferences": null,
   "dashboards": [],
   "environmentMetadata": {
    "base_environment": "",
    "environment_version": "2"
   },
   "language": "python",
   "notebookMetadata": {
    "mostRecentlyExecutedCommandWithImplicitDF": {
     "commandId": 215081776633502,
     "dataframes": [
      "_sqldf"
     ]
    },
    "pythonIndentUnit": 4
   },
   "notebookName": "gold_rpt_incidents_by_month_of_year",
   "widgets": {}
  },
  "language_info": {
   "name": "python"
  }
 },
 "nbformat": 4,
 "nbformat_minor": 0
}
