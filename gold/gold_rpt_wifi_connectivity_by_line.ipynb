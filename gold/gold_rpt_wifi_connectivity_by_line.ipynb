{
 "cells": [
  {
   "cell_type": "code",
   "execution_count": 0,
   "metadata": {
    "application/vnd.databricks.v1+cell": {
     "cellMetadata": {
      "byteLimit": 2048000,
      "rowLimit": 10000
     },
     "inputWidgets": {},
     "nuid": "c63e1233-b1a8-4b84-8bfe-e02fc865e694",
     "showTitle": false,
     "tableResultSettingsMap": {},
     "title": ""
    }
   },
   "outputs": [],
   "source": [
    "from pyspark.sql.functions import sum, desc, avg, col, round\n",
    "from pyspark.sql import Window"
   ]
  },
  {
   "cell_type": "code",
   "execution_count": 0,
   "metadata": {
    "application/vnd.databricks.v1+cell": {
     "cellMetadata": {
      "byteLimit": 2048000,
      "rowLimit": 10000
     },
     "inputWidgets": {},
     "nuid": "6020b061-1583-4a9f-a91f-fe2a61442811",
     "showTitle": false,
     "tableResultSettingsMap": {},
     "title": ""
    }
   },
   "outputs": [],
   "source": [
    "fct_wifi_location_df = spark.read \\\n",
    "    .table(\"mta_silver.fct_wifi_location\")\n",
    "\n",
    "lkp_wifi_line_df = spark.read \\\n",
    "    .table(\"mta_silver.lkp_wifi_line\")\n",
    "\n",
    "dim_line_df = spark.read \\\n",
    "    .table(\"mta_silver.dim_line\")"
   ]
  },
  {
   "cell_type": "code",
   "execution_count": 0,
   "metadata": {
    "application/vnd.databricks.v1+cell": {
     "cellMetadata": {
      "byteLimit": 2048000,
      "rowLimit": 10000
     },
     "inputWidgets": {},
     "nuid": "763b7b2a-4c52-4c3b-aba7-96f68e3300bf",
     "showTitle": false,
     "tableResultSettingsMap": {},
     "title": ""
    }
   },
   "outputs": [],
   "source": [
    "window_operator = Window.partitionBy(\"lin_operator\")\n",
    "window_over_all = Window.orderBy().rowsBetween(Window.unboundedPreceding, Window.unboundedFollowing)\n",
    "\n",
    "\n",
    "wifi_conn_by_line_t1_df = fct_wifi_location_df \\\n",
    "    .join(lkp_wifi_line_df, fct_wifi_location_df.wfi_sk == lkp_wifi_line_df.wfi_sk, \"inner\") \\\n",
    "    .join(dim_line_df, lkp_wifi_line_df.lin_sk == dim_line_df.lin_sk, \"inner\") \\\n",
    "    .select(\n",
    "        \"lin_nk\",\n",
    "        \"lin_name\",\n",
    "        \"lin_operator\",\n",
    "        \"wfi_connectivity_score\",\n",
    "    ).groupBy(\n",
    "        \"lin_nk\",\n",
    "        \"lin_name\",\n",
    "        \"lin_operator\"\n",
    "    ).agg(\n",
    "        sum(\"wfi_connectivity_score\").alias(\"wfi_connectivity_score\")\n",
    "    )\n",
    "\n",
    "wifi_conn_by_line_t2_df = wifi_conn_by_line_t1_df \\\n",
    "    .withColumn(\"avg_operator_conn_score\", round(avg(col(\"wfi_connectivity_score\")).over(window_operator), 2)) \\\n",
    "    .withColumn(\"avg_conn_score_per_line\", round(avg(col(\"wfi_connectivity_score\")).over(window_over_all), 2)) \\\n",
    "    .orderBy(desc(\"wfi_connectivity_score\"))"
   ]
  },
  {
   "cell_type": "code",
   "execution_count": 0,
   "metadata": {
    "application/vnd.databricks.v1+cell": {
     "cellMetadata": {
      "byteLimit": 2048000,
      "rowLimit": 10000
     },
     "inputWidgets": {},
     "nuid": "93860582-f18f-4354-8b9c-a8210e16e532",
     "showTitle": false,
     "tableResultSettingsMap": {},
     "title": ""
    }
   },
   "outputs": [],
   "source": [
    "wifi_conn_by_line_final_df = wifi_conn_by_line_t2_df.select(\n",
    "    col(\"lin_nk\").alias(\"wcl_nk\"),\n",
    "    col(\"lin_name\").alias(\"wcl_line\"),\n",
    "    col(\"lin_operator\").alias(\"wcl_operator\"),\n",
    "    col(\"wfi_connectivity_score\").alias(\"wcl_connectivity_score\"),\n",
    "    col(\"avg_operator_conn_score\").alias(\"wcl_avg_operator_conn_score\"),\n",
    "    col(\"avg_conn_score_per_line\").alias(\"wcl_conn_score_per_line\")\n",
    ")"
   ]
  },
  {
   "cell_type": "code",
   "execution_count": 0,
   "metadata": {
    "application/vnd.databricks.v1+cell": {
     "cellMetadata": {
      "byteLimit": 2048000,
      "rowLimit": 10000
     },
     "inputWidgets": {},
     "nuid": "a328788d-7205-40f8-b0ed-662d59ddcd91",
     "showTitle": false,
     "tableResultSettingsMap": {},
     "title": ""
    }
   },
   "outputs": [],
   "source": [
    "wifi_conn_by_line_final_df.write.format(\"delta\").mode(\"overwrite\").saveAsTable(\"mta_gold.rpt_wifi_connectivity_by_line\")"
   ]
  },
  {
   "cell_type": "code",
   "execution_count": 0,
   "metadata": {
    "application/vnd.databricks.v1+cell": {
     "cellMetadata": {
      "byteLimit": 2048000,
      "implicitDf": true,
      "rowLimit": 10000
     },
     "inputWidgets": {},
     "nuid": "6772860a-4d71-44ea-8eb2-299438e68fd9",
     "showTitle": false,
     "tableResultSettingsMap": {},
     "title": ""
    }
   },
   "outputs": [],
   "source": [
    "%sql\n",
    "SELECT * FROM mta_gold.rpt_wifi_connectivity_by_line;"
   ]
  },
  {
   "cell_type": "code",
   "execution_count": 0,
   "metadata": {
    "application/vnd.databricks.v1+cell": {
     "cellMetadata": {
      "byteLimit": 2048000,
      "rowLimit": 10000
     },
     "inputWidgets": {},
     "nuid": "7335acfa-3de2-4c37-8d33-ce42e77dcecf",
     "showTitle": false,
     "tableResultSettingsMap": {},
     "title": ""
    }
   },
   "outputs": [],
   "source": [
    "dbutils.notebook.exit(\"Success\")"
   ]
  }
 ],
 "metadata": {
  "application/vnd.databricks.v1+notebook": {
   "computePreferences": null,
   "dashboards": [],
   "environmentMetadata": {
    "base_environment": "",
    "environment_version": "2"
   },
   "language": "python",
   "notebookMetadata": {
    "mostRecentlyExecutedCommandWithImplicitDF": {
     "commandId": 559300330669487,
     "dataframes": [
      "_sqldf"
     ]
    },
    "pythonIndentUnit": 4
   },
   "notebookName": "gold_rpt_wifi_connectivity_by_line",
   "widgets": {}
  },
  "language_info": {
   "name": "python"
  }
 },
 "nbformat": 4,
 "nbformat_minor": 0
}
