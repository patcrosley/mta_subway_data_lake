{
 "cells": [
  {
   "cell_type": "code",
   "execution_count": 0,
   "metadata": {
    "application/vnd.databricks.v1+cell": {
     "cellMetadata": {
      "byteLimit": 2048000,
      "rowLimit": 10000
     },
     "inputWidgets": {},
     "nuid": "c63e1233-b1a8-4b84-8bfe-e02fc865e694",
     "showTitle": false,
     "tableResultSettingsMap": {},
     "title": ""
    }
   },
   "outputs": [],
   "source": [
    "from pyspark.sql.functions import sum, desc, avg, col, round\n",
    "from pyspark.sql import Window"
   ]
  },
  {
   "cell_type": "code",
   "execution_count": 0,
   "metadata": {
    "application/vnd.databricks.v1+cell": {
     "cellMetadata": {
      "byteLimit": 2048000,
      "rowLimit": 10000
     },
     "inputWidgets": {},
     "nuid": "6020b061-1583-4a9f-a91f-fe2a61442811",
     "showTitle": false,
     "tableResultSettingsMap": {},
     "title": ""
    }
   },
   "outputs": [],
   "source": [
    "fct_wifi_location_df = spark.read \\\n",
    "    .table(\"mta_silver.fct_wifi_location\")\n",
    "\n",
    "lkp_wifi_line_df = spark.read \\\n",
    "    .table(\"mta_silver.lkp_wifi_line\")\n",
    "\n",
    "dim_line_df = spark.read \\\n",
    "    .table(\"mta_silver.dim_line\")"
   ]
  },
  {
   "cell_type": "code",
   "execution_count": 0,
   "metadata": {
    "application/vnd.databricks.v1+cell": {
     "cellMetadata": {
      "byteLimit": 2048000,
      "rowLimit": 10000
     },
     "inputWidgets": {},
     "nuid": "763b7b2a-4c52-4c3b-aba7-96f68e3300bf",
     "showTitle": false,
     "tableResultSettingsMap": {},
     "title": ""
    }
   },
   "outputs": [],
   "source": [
    "window_operator = Window.partitionBy(\"lin_operator\")\n",
    "window_over_all = Window.orderBy().rowsBetween(Window.unboundedPreceding, Window.unboundedFollowing)\n",
    "\n",
    "\n",
    "wifi_conn_by_line_t1_df = fct_wifi_location_df \\\n",
    "    .join(lkp_wifi_line_df, fct_wifi_location_df.wfi_sk == lkp_wifi_line_df.wfi_sk, \"inner\") \\\n",
    "    .join(dim_line_df, lkp_wifi_line_df.lin_sk == dim_line_df.lin_sk, \"inner\") \\\n",
    "    .select(\n",
    "        \"lin_nk\",\n",
    "        \"lin_name\",\n",
    "        \"lin_operator\",\n",
    "        \"wfi_connectivity_score\",\n",
    "    ).groupBy(\n",
    "        \"lin_nk\",\n",
    "        \"lin_name\",\n",
    "        \"lin_operator\"\n",
    "    ).agg(\n",
    "        sum(\"wfi_connectivity_score\").alias(\"wfi_connectivity_score\")\n",
    "    )\n",
    "\n",
    "wifi_conn_by_line_t2_df = wifi_conn_by_line_t1_df \\\n",
    "    .withColumn(\"avg_operator_conn_score\", round(avg(col(\"wfi_connectivity_score\")).over(window_operator), 2)) \\\n",
    "    .withColumn(\"avg_conn_score_per_line\", round(avg(col(\"wfi_connectivity_score\")).over(window_over_all), 2)) \\\n",
    "    .orderBy(desc(\"wfi_connectivity_score\"))"
   ]
  },
  {
   "cell_type": "code",
   "execution_count": 0,
   "metadata": {
    "application/vnd.databricks.v1+cell": {
     "cellMetadata": {
      "byteLimit": 2048000,
      "rowLimit": 10000
     },
     "inputWidgets": {},
     "nuid": "93860582-f18f-4354-8b9c-a8210e16e532",
     "showTitle": false,
     "tableResultSettingsMap": {},
     "title": ""
    }
   },
   "outputs": [],
   "source": [
    "wifi_conn_by_line_final_df = wifi_conn_by_line_t2_df.select(\n",
    "    col(\"lin_nk\").alias(\"wcl_nk\"),\n",
    "    col(\"lin_name\").alias(\"wcl_line\"),\n",
    "    col(\"lin_operator\").alias(\"wcl_operator\"),\n",
    "    col(\"wfi_connectivity_score\").alias(\"wcl_connectivity_score\"),\n",
    "    col(\"avg_operator_conn_score\").alias(\"wcl_avg_operator_conn_score\"),\n",
    "    col(\"avg_conn_score_per_line\").alias(\"wcl_conn_score_per_line\")\n",
    ")"
   ]
  },
  {
   "cell_type": "code",
   "execution_count": 0,
   "metadata": {
    "application/vnd.databricks.v1+cell": {
     "cellMetadata": {
      "byteLimit": 2048000,
      "rowLimit": 10000
     },
     "inputWidgets": {},
     "nuid": "a328788d-7205-40f8-b0ed-662d59ddcd91",
     "showTitle": false,
     "tableResultSettingsMap": {},
     "title": ""
    }
   },
   "outputs": [],
   "source": [
    "wifi_conn_by_line_final_df.write \\\n",
    "    .format(\"delta\") \\\n",
    "    .mode(\"overwrite\") \\\n",
    "    .saveAsTable(\"mta_gold.rpt_wifi_connectivity_by_line\")"
   ]
  },
  {
   "cell_type": "code",
   "execution_count": 0,
   "metadata": {
    "application/vnd.databricks.v1+cell": {
     "cellMetadata": {
      "byteLimit": 2048000,
      "implicitDf": true,
      "rowLimit": 10000
     },
     "inputWidgets": {},
     "nuid": "6772860a-4d71-44ea-8eb2-299438e68fd9",
     "showTitle": false,
     "tableResultSettingsMap": {},
     "title": ""
    }
   },
   "outputs": [
    {
     "output_type": "display_data",
     "data": {
      "text/html": [
       "<style scoped>\n",
       "  .table-result-container {\n",
       "    max-height: 300px;\n",
       "    overflow: auto;\n",
       "  }\n",
       "  table, th, td {\n",
       "    border: 1px solid black;\n",
       "    border-collapse: collapse;\n",
       "  }\n",
       "  th, td {\n",
       "    padding: 5px;\n",
       "  }\n",
       "  th {\n",
       "    text-align: left;\n",
       "  }\n",
       "</style><div class='table-result-container'><table class='table-result'><thead style='background-color: white'><tr><th>wcl_nk</th><th>wcl_line</th><th>wcl_operator</th><th>wcl_connectivity_score</th><th>wcl_avg_operator_conn_score</th><th>wcl_conn_score_per_line</th></tr></thead><tbody><tr><td>B</td><td>Sixth Avenue Express</td><td>IND</td><td>102</td><td>59.5</td><td>49.0</td></tr><tr><td>R</td><td>Broadway Local</td><td>BMT</td><td>94</td><td>33.17</td><td>49.0</td></tr><tr><td>M</td><td>Sixth Avenue Local</td><td>BMT/IND</td><td>91</td><td>91.0</td><td>49.0</td></tr><tr><td>6</td><td>Lexington Avenue Local</td><td>IRT</td><td>87</td><td>50.43</td><td>49.0</td></tr><tr><td>C</td><td>Eighth Avenue Local</td><td>IND</td><td>84</td><td>59.5</td><td>49.0</td></tr><tr><td>1</td><td>Broadway–Seventh Avenue Line</td><td>IRT</td><td>82</td><td>50.43</td><td>49.0</td></tr><tr><td>F</td><td>Sixth Avenue Local</td><td>IND</td><td>78</td><td>59.5</td><td>49.0</td></tr><tr><td>D</td><td>Sixth Avenue Express</td><td>IND</td><td>74</td><td>59.5</td><td>49.0</td></tr><tr><td>E</td><td>Eighth Avenue Local</td><td>IND</td><td>69</td><td>59.5</td><td>49.0</td></tr><tr><td>2</td><td>Seventh Avenue Express</td><td>IRT</td><td>53</td><td>50.43</td><td>49.0</td></tr></tbody></table></div>"
      ]
     },
     "metadata": {
      "application/vnd.databricks.v1+output": {
       "addedWidgets": {},
       "aggData": [],
       "aggError": "",
       "aggOverflow": false,
       "aggSchema": [],
       "aggSeriesLimitReached": false,
       "aggType": "",
       "arguments": {},
       "columnCustomDisplayInfos": {},
       "data": [
        [
         "B",
         "Sixth Avenue Express",
         "IND",
         102,
         59.5,
         49.0
        ],
        [
         "R",
         "Broadway Local",
         "BMT",
         94,
         33.17,
         49.0
        ],
        [
         "M",
         "Sixth Avenue Local",
         "BMT/IND",
         91,
         91.0,
         49.0
        ],
        [
         "6",
         "Lexington Avenue Local",
         "IRT",
         87,
         50.43,
         49.0
        ],
        [
         "C",
         "Eighth Avenue Local",
         "IND",
         84,
         59.5,
         49.0
        ],
        [
         "1",
         "Broadway–Seventh Avenue Line",
         "IRT",
         82,
         50.43,
         49.0
        ],
        [
         "F",
         "Sixth Avenue Local",
         "IND",
         78,
         59.5,
         49.0
        ],
        [
         "D",
         "Sixth Avenue Express",
         "IND",
         74,
         59.5,
         49.0
        ],
        [
         "E",
         "Eighth Avenue Local",
         "IND",
         69,
         59.5,
         49.0
        ],
        [
         "2",
         "Seventh Avenue Express",
         "IRT",
         53,
         50.43,
         49.0
        ]
       ],
       "datasetInfos": [],
       "dbfsResultPath": null,
       "isJsonSchema": true,
       "metadata": {
        "createTempViewForImplicitDf": true,
        "dataframeName": "_sqldf",
        "executionCount": 13
       },
       "overflow": false,
       "plotOptions": {
        "customPlotOptions": {},
        "displayType": "table",
        "pivotAggregation": null,
        "pivotColumns": null,
        "xColumns": null,
        "yColumns": null
       },
       "removedWidgets": [],
       "schema": [
        {
         "metadata": "{}",
         "name": "wcl_nk",
         "type": "\"string\""
        },
        {
         "metadata": "{}",
         "name": "wcl_line",
         "type": "\"string\""
        },
        {
         "metadata": "{}",
         "name": "wcl_operator",
         "type": "\"string\""
        },
        {
         "metadata": "{}",
         "name": "wcl_connectivity_score",
         "type": "\"long\""
        },
        {
         "metadata": "{}",
         "name": "wcl_avg_operator_conn_score",
         "type": "\"double\""
        },
        {
         "metadata": "{}",
         "name": "wcl_conn_score_per_line",
         "type": "\"double\""
        }
       ],
       "type": "table"
      }
     },
     "output_type": "display_data"
    }
   ],
   "source": [
    "%sql\n",
    "SELECT * FROM mta_gold.rpt_wifi_connectivity_by_line LIMIT 10;"
   ]
  },
  {
   "cell_type": "code",
   "execution_count": 0,
   "metadata": {
    "application/vnd.databricks.v1+cell": {
     "cellMetadata": {
      "byteLimit": 2048000,
      "rowLimit": 10000
     },
     "inputWidgets": {},
     "nuid": "7335acfa-3de2-4c37-8d33-ce42e77dcecf",
     "showTitle": false,
     "tableResultSettingsMap": {},
     "title": ""
    }
   },
   "outputs": [],
   "source": [
    "dbutils.notebook.exit(\"Success\")"
   ]
  }
 ],
 "metadata": {
  "application/vnd.databricks.v1+notebook": {
   "computePreferences": null,
   "dashboards": [],
   "environmentMetadata": {
    "base_environment": "",
    "environment_version": "2"
   },
   "language": "python",
   "notebookMetadata": {
    "mostRecentlyExecutedCommandWithImplicitDF": {
     "commandId": 559300330669487,
     "dataframes": [
      "_sqldf"
     ]
    },
    "pythonIndentUnit": 4
   },
   "notebookName": "gold_rpt_wifi_connectivity_by_line",
   "widgets": {}
  },
  "language_info": {
   "name": "python"
  }
 },
 "nbformat": 4,
 "nbformat_minor": 0
}
