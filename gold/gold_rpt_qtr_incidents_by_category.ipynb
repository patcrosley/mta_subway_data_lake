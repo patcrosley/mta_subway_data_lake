{
 "cells": [
  {
   "cell_type": "code",
   "execution_count": 0,
   "metadata": {
    "application/vnd.databricks.v1+cell": {
     "cellMetadata": {
      "byteLimit": 2048000,
      "rowLimit": 10000
     },
     "inputWidgets": {},
     "nuid": "d561c2bd-6ed0-4431-9556-eff464192808",
     "showTitle": false,
     "tableResultSettingsMap": {},
     "title": ""
    }
   },
   "outputs": [],
   "source": [
    "from pyspark.sql.functions import concat_ws, sum, desc, col, round, lead, coalesce, lit\n",
    "from pyspark.sql import Window"
   ]
  },
  {
   "cell_type": "code",
   "execution_count": 0,
   "metadata": {
    "application/vnd.databricks.v1+cell": {
     "cellMetadata": {
      "byteLimit": 2048000,
      "rowLimit": 10000
     },
     "inputWidgets": {},
     "nuid": "579c0bc2-9539-483a-b5fa-e4522fe64531",
     "showTitle": false,
     "tableResultSettingsMap": {},
     "title": ""
    }
   },
   "outputs": [],
   "source": [
    "major_incident_df = spark.read \\\n",
    "    .table(\"mta_silver.fct_major_incident\")\n",
    "\n",
    "dim_inc_category_df = spark.read \\\n",
    "    .table(\"mta_silver.dim_inc_category\")\n",
    "\n",
    "date_df = spark.read \\\n",
    "    .table(\"mta_silver.dim_date\")"
   ]
  },
  {
   "cell_type": "code",
   "execution_count": 0,
   "metadata": {
    "application/vnd.databricks.v1+cell": {
     "cellMetadata": {
      "byteLimit": 2048000,
      "rowLimit": 10000
     },
     "inputWidgets": {},
     "nuid": "bc630a90-17c5-452e-8192-6539fa003419",
     "showTitle": false,
     "tableResultSettingsMap": {},
     "title": ""
    }
   },
   "outputs": [],
   "source": [
    "window_qtr = Window.partitionBy(\"qtr\")\n",
    "window_pct_increase = Window.partitionBy(\"qtr\").orderBy(col(\"inc_count\").desc())\n",
    "\n",
    "qtr_inc_by_cat_t1_df = major_incident_df \\\n",
    "    .join(dim_inc_category_df, major_incident_df.ict_sk == dim_inc_category_df.ict_sk, \"inner\") \\\n",
    "    .join(date_df, major_incident_df.dte_sk == date_df.dte_sk, \"inner\") \\\n",
    "    .withColumn(\"qtr\", concat_ws(\"_\", \"dte_year\", \"dte_quarter\")) \\\n",
    "    .withColumn(\"qtr_total_incidents\", sum(col(\"inc_count\")).over(window_qtr)) \\\n",
    "    .select(\n",
    "        \"ict_nk\",\n",
    "        \"ict_category\",\n",
    "        \"qtr\",\n",
    "        \"inc_count\",\n",
    "        \"qtr_total_incidents\",\n",
    "    ).groupBy(\n",
    "        \"ict_nk\",\n",
    "        \"ict_category\",\n",
    "        \"qtr\",\n",
    "        \"qtr_total_incidents\"\n",
    "    ).agg(  \n",
    "        sum(\"inc_count\").alias(\"inc_count\")\n",
    "    ).orderBy(\"qtr\", desc(\"inc_count\"))\n",
    "\n",
    "qtr_inc_by_cat_t2_df = qtr_inc_by_cat_t1_df \\\n",
    "    .withColumn(\"qtr_inc_fraction\", round((col(\"inc_count\") / col(\"qtr_total_incidents\") * 100), 2)) \\\n",
    "    .withColumn(\"qic_qtr_inc_percent_diff\", coalesce(round(col(\"qtr_inc_fraction\") - lead(\"qtr_inc_fraction\").over(window_pct_increase), 2), lit(0)))"
   ]
  },
  {
   "cell_type": "code",
   "execution_count": 0,
   "metadata": {
    "application/vnd.databricks.v1+cell": {
     "cellMetadata": {
      "byteLimit": 2048000,
      "rowLimit": 10000
     },
     "inputWidgets": {},
     "nuid": "a3a382c4-a123-478f-907c-57b779620bbf",
     "showTitle": false,
     "tableResultSettingsMap": {},
     "title": ""
    }
   },
   "outputs": [],
   "source": [
    "qtr_inc_by_cat_final_df = qtr_inc_by_cat_t2_df.select(\n",
    "    col(\"ict_nk\"),\n",
    "    col(\"ict_category\").alias(\"qic_inc_category\"),\n",
    "    col(\"qtr\").alias(\"qic_qtr\"),\n",
    "    col(\"inc_count\").alias(\"qic_inc_count\"),\n",
    "    col(\"qtr_total_incidents\").alias(\"qic_qtr_total_incidents\"),\n",
    "    col(\"qtr_inc_fraction\").alias(\"qic_qtr_inc_percent\"),\n",
    "    col(\"qic_qtr_inc_percent_diff\").alias(\"qic_qtr_inc_percent_lead_diff\")\n",
    ")"
   ]
  },
  {
   "cell_type": "code",
   "execution_count": 0,
   "metadata": {
    "application/vnd.databricks.v1+cell": {
     "cellMetadata": {
      "byteLimit": 2048000,
      "rowLimit": 10000
     },
     "inputWidgets": {},
     "nuid": "b227a58e-7104-4d70-a154-9ea351da866b",
     "showTitle": false,
     "tableResultSettingsMap": {},
     "title": ""
    }
   },
   "outputs": [],
   "source": [
    "qtr_inc_by_cat_final_df.write \\\n",
    "    .format(\"delta\") \\\n",
    "    .mode(\"overwrite\") \\\n",
    "    .option(\"mergeSchema\", \"true\") \\\n",
    "    .saveAsTable(\"mta_gold.rpt_qtr_incidents_by_category\")"
   ]
  },
  {
   "cell_type": "code",
   "execution_count": 0,
   "metadata": {
    "application/vnd.databricks.v1+cell": {
     "cellMetadata": {
      "byteLimit": 2048000,
      "implicitDf": true,
      "rowLimit": 10000
     },
     "inputWidgets": {},
     "nuid": "dcbb1f61-4be8-486f-85a9-5a7ec74adc32",
     "showTitle": false,
     "tableResultSettingsMap": {},
     "title": ""
    }
   },
   "outputs": [
    {
     "output_type": "display_data",
     "data": {
      "text/html": [
       "<style scoped>\n",
       "  .table-result-container {\n",
       "    max-height: 300px;\n",
       "    overflow: auto;\n",
       "  }\n",
       "  table, th, td {\n",
       "    border: 1px solid black;\n",
       "    border-collapse: collapse;\n",
       "  }\n",
       "  th, td {\n",
       "    padding: 5px;\n",
       "  }\n",
       "  th {\n",
       "    text-align: left;\n",
       "  }\n",
       "</style><div class='table-result-container'><table class='table-result'><thead style='background-color: white'><tr><th>ict_nk</th><th>qic_inc_category</th><th>qic_qtr</th><th>qic_inc_count</th><th>qic_qtr_total_incidents</th><th>qic_qtr_inc_percent</th><th>qic_qtr_inc_percent_lead_diff</th></tr></thead><tbody><tr><td>1</td><td>Track</td><td>2015_1</td><td>75</td><td>246</td><td>30.49</td><td>3.66</td></tr><tr><td>4</td><td>Signals</td><td>2015_1</td><td>66</td><td>246</td><td>26.83</td><td>6.1</td></tr><tr><td>5</td><td>Persons on Trackbed/Police/Medical</td><td>2015_1</td><td>51</td><td>246</td><td>20.73</td><td>4.47</td></tr><tr><td>6</td><td>Other</td><td>2015_1</td><td>40</td><td>246</td><td>16.26</td><td>12.19</td></tr><tr><td>2</td><td>Subway Car</td><td>2015_1</td><td>10</td><td>246</td><td>4.07</td><td>2.44</td></tr><tr><td>3</td><td>Stations and Structure</td><td>2015_1</td><td>4</td><td>246</td><td>1.63</td><td>0.0</td></tr><tr><td>1</td><td>Track</td><td>2015_2</td><td>63</td><td>193</td><td>32.64</td><td>5.7</td></tr><tr><td>4</td><td>Signals</td><td>2015_2</td><td>52</td><td>193</td><td>26.94</td><td>2.59</td></tr><tr><td>5</td><td>Persons on Trackbed/Police/Medical</td><td>2015_2</td><td>47</td><td>193</td><td>24.35</td><td>16.58</td></tr><tr><td>6</td><td>Other</td><td>2015_2</td><td>15</td><td>193</td><td>7.77</td><td>3.11</td></tr></tbody></table></div>"
      ]
     },
     "metadata": {
      "application/vnd.databricks.v1+output": {
       "addedWidgets": {},
       "aggData": [],
       "aggError": "",
       "aggOverflow": false,
       "aggSchema": [],
       "aggSeriesLimitReached": false,
       "aggType": "",
       "arguments": {},
       "columnCustomDisplayInfos": {},
       "data": [
        [
         1,
         "Track",
         "2015_1",
         75,
         246,
         30.49,
         3.66
        ],
        [
         4,
         "Signals",
         "2015_1",
         66,
         246,
         26.83,
         6.1
        ],
        [
         5,
         "Persons on Trackbed/Police/Medical",
         "2015_1",
         51,
         246,
         20.73,
         4.47
        ],
        [
         6,
         "Other",
         "2015_1",
         40,
         246,
         16.26,
         12.19
        ],
        [
         2,
         "Subway Car",
         "2015_1",
         10,
         246,
         4.07,
         2.44
        ],
        [
         3,
         "Stations and Structure",
         "2015_1",
         4,
         246,
         1.63,
         0.0
        ],
        [
         1,
         "Track",
         "2015_2",
         63,
         193,
         32.64,
         5.7
        ],
        [
         4,
         "Signals",
         "2015_2",
         52,
         193,
         26.94,
         2.59
        ],
        [
         5,
         "Persons on Trackbed/Police/Medical",
         "2015_2",
         47,
         193,
         24.35,
         16.58
        ],
        [
         6,
         "Other",
         "2015_2",
         15,
         193,
         7.77,
         3.11
        ]
       ],
       "datasetInfos": [],
       "dbfsResultPath": null,
       "isJsonSchema": true,
       "metadata": {
        "createTempViewForImplicitDf": true,
        "dataframeName": "_sqldf",
        "executionCount": 13
       },
       "overflow": false,
       "plotOptions": {
        "customPlotOptions": {},
        "displayType": "table",
        "pivotAggregation": null,
        "pivotColumns": null,
        "xColumns": null,
        "yColumns": null
       },
       "removedWidgets": [],
       "schema": [
        {
         "metadata": "{}",
         "name": "ict_nk",
         "type": "\"integer\""
        },
        {
         "metadata": "{}",
         "name": "qic_inc_category",
         "type": "\"string\""
        },
        {
         "metadata": "{}",
         "name": "qic_qtr",
         "type": "\"string\""
        },
        {
         "metadata": "{}",
         "name": "qic_inc_count",
         "type": "\"long\""
        },
        {
         "metadata": "{}",
         "name": "qic_qtr_total_incidents",
         "type": "\"long\""
        },
        {
         "metadata": "{}",
         "name": "qic_qtr_inc_percent",
         "type": "\"double\""
        },
        {
         "metadata": "{}",
         "name": "qic_qtr_inc_percent_lead_diff",
         "type": "\"double\""
        }
       ],
       "type": "table"
      }
     },
     "output_type": "display_data"
    }
   ],
   "source": [
    "%sql\n",
    "SELECT * FROM mta_gold.rpt_qtr_incidents_by_category LIMIT 10;"
   ]
  },
  {
   "cell_type": "code",
   "execution_count": 0,
   "metadata": {
    "application/vnd.databricks.v1+cell": {
     "cellMetadata": {
      "byteLimit": 2048000,
      "rowLimit": 10000
     },
     "inputWidgets": {},
     "nuid": "494686db-0da7-40fe-b34c-83889ee57a32",
     "showTitle": false,
     "tableResultSettingsMap": {},
     "title": ""
    }
   },
   "outputs": [],
   "source": [
    "dbutils.notebook.exit(\"Success\")"
   ]
  }
 ],
 "metadata": {
  "application/vnd.databricks.v1+notebook": {
   "computePreferences": null,
   "dashboards": [],
   "environmentMetadata": {
    "base_environment": "",
    "environment_version": "2"
   },
   "language": "python",
   "notebookMetadata": {
    "mostRecentlyExecutedCommandWithImplicitDF": {
     "commandId": 215081776633494,
     "dataframes": [
      "_sqldf"
     ]
    },
    "pythonIndentUnit": 4
   },
   "notebookName": "gold_rpt_qtr_incidents_by_category",
   "widgets": {}
  },
  "language_info": {
   "name": "python"
  }
 },
 "nbformat": 4,
 "nbformat_minor": 0
}
