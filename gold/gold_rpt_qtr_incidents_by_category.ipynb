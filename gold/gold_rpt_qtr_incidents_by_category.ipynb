{
 "cells": [
  {
   "cell_type": "code",
   "execution_count": 0,
   "metadata": {
    "application/vnd.databricks.v1+cell": {
     "cellMetadata": {
      "byteLimit": 2048000,
      "rowLimit": 10000
     },
     "inputWidgets": {},
     "nuid": "d561c2bd-6ed0-4431-9556-eff464192808",
     "showTitle": false,
     "tableResultSettingsMap": {},
     "title": ""
    }
   },
   "outputs": [],
   "source": [
    "from pyspark.sql.functions import concat_ws, sum, desc, col, round, lead, coalesce, lit\n",
    "from pyspark.sql import Window"
   ]
  },
  {
   "cell_type": "code",
   "execution_count": 0,
   "metadata": {
    "application/vnd.databricks.v1+cell": {
     "cellMetadata": {
      "byteLimit": 2048000,
      "rowLimit": 10000
     },
     "inputWidgets": {},
     "nuid": "579c0bc2-9539-483a-b5fa-e4522fe64531",
     "showTitle": false,
     "tableResultSettingsMap": {},
     "title": ""
    }
   },
   "outputs": [],
   "source": [
    "major_incident_df = spark.read \\\n",
    "    .table(\"mta_silver.fct_major_incident\")\n",
    "\n",
    "dim_inc_category_df = spark.read \\\n",
    "    .table(\"mta_silver.dim_inc_category\")\n",
    "\n",
    "date_df = spark.read \\\n",
    "    .table(\"mta_silver.dim_date\")"
   ]
  },
  {
   "cell_type": "code",
   "execution_count": 0,
   "metadata": {
    "application/vnd.databricks.v1+cell": {
     "cellMetadata": {
      "byteLimit": 2048000,
      "rowLimit": 10000
     },
     "inputWidgets": {},
     "nuid": "bc630a90-17c5-452e-8192-6539fa003419",
     "showTitle": false,
     "tableResultSettingsMap": {},
     "title": ""
    }
   },
   "outputs": [],
   "source": [
    "window_qtr = Window.partitionBy(\"qtr\")\n",
    "window_pct_increase = Window.partitionBy(\"qtr\").orderBy(col(\"inc_count\").desc())\n",
    "\n",
    "qtr_inc_by_cat_t1_df = major_incident_df \\\n",
    "    .join(dim_inc_category_df, major_incident_df.ict_sk == dim_inc_category_df.ict_sk, \"inner\") \\\n",
    "    .join(date_df, major_incident_df.dte_sk == date_df.dte_sk, \"inner\") \\\n",
    "    .withColumn(\"qtr\", concat_ws(\"_\", \"dte_year\", \"dte_quarter\")) \\\n",
    "    .withColumn(\"qtr_total_incidents\", sum(col(\"inc_count\")).over(window_qtr)) \\\n",
    "    .select(\n",
    "        \"ict_nk\",\n",
    "        \"ict_category\",\n",
    "        \"qtr\",\n",
    "        \"inc_count\",\n",
    "        \"qtr_total_incidents\",\n",
    "    ).groupBy(\n",
    "        \"ict_nk\",\n",
    "        \"ict_category\",\n",
    "        \"qtr\",\n",
    "        \"qtr_total_incidents\"\n",
    "    ).agg(  \n",
    "        sum(\"inc_count\").alias(\"inc_count\")\n",
    "    ).orderBy(\"qtr\", desc(\"inc_count\"))\n",
    "\n",
    "qtr_inc_by_cat_t2_df = qtr_inc_by_cat_t1_df \\\n",
    "    .withColumn(\"qtr_inc_fraction\", round((col(\"inc_count\") / col(\"qtr_total_incidents\") * 100), 2)) \\\n",
    "    .withColumn(\"qic_qtr_inc_percent_diff\", coalesce(round(col(\"qtr_inc_fraction\") - lead(\"qtr_inc_fraction\").over(window_pct_increase), 2), lit(0)))"
   ]
  },
  {
   "cell_type": "code",
   "execution_count": 0,
   "metadata": {
    "application/vnd.databricks.v1+cell": {
     "cellMetadata": {
      "byteLimit": 2048000,
      "rowLimit": 10000
     },
     "inputWidgets": {},
     "nuid": "a3a382c4-a123-478f-907c-57b779620bbf",
     "showTitle": false,
     "tableResultSettingsMap": {},
     "title": ""
    }
   },
   "outputs": [],
   "source": [
    "qtr_inc_by_cat_final_df = qtr_inc_by_cat_t2_df.select(\n",
    "    col(\"ict_nk\"),\n",
    "    col(\"ict_category\").alias(\"qic_inc_category\"),\n",
    "    col(\"qtr\").alias(\"qic_qtr\"),\n",
    "    col(\"inc_count\").alias(\"qic_inc_count\"),\n",
    "    col(\"qtr_total_incidents\").alias(\"qic_qtr_total_incidents\"),\n",
    "    col(\"qtr_inc_fraction\").alias(\"qic_qtr_inc_percent\"),\n",
    "    col(\"qic_qtr_inc_percent_diff\").alias(\"qic_qtr_inc_percent_lead_diff\")\n",
    ")"
   ]
  },
  {
   "cell_type": "code",
   "execution_count": 0,
   "metadata": {
    "application/vnd.databricks.v1+cell": {
     "cellMetadata": {
      "byteLimit": 2048000,
      "rowLimit": 10000
     },
     "inputWidgets": {},
     "nuid": "b227a58e-7104-4d70-a154-9ea351da866b",
     "showTitle": false,
     "tableResultSettingsMap": {},
     "title": ""
    }
   },
   "outputs": [],
   "source": [
    "qtr_inc_by_cat_final_df.write \\\n",
    "    .format(\"delta\") \\\n",
    "    .mode(\"overwrite\") \\\n",
    "    .option(\"mergeSchema\", \"true\") \\\n",
    "    .saveAsTable(\"mta_gold.rpt_qtr_incidents_by_category\")"
   ]
  },
  {
   "cell_type": "code",
   "execution_count": 0,
   "metadata": {
    "application/vnd.databricks.v1+cell": {
     "cellMetadata": {
      "byteLimit": 2048000,
      "implicitDf": true,
      "rowLimit": 10000
     },
     "inputWidgets": {},
     "nuid": "dcbb1f61-4be8-486f-85a9-5a7ec74adc32",
     "showTitle": false,
     "tableResultSettingsMap": {},
     "title": ""
    }
   },
   "outputs": [
    {
     "output_type": "display_data",
     "data": {
      "text/html": [
       "<style scoped>\n",
       "  .table-result-container {\n",
       "    max-height: 300px;\n",
       "    overflow: auto;\n",
       "  }\n",
       "  table, th, td {\n",
       "    border: 1px solid black;\n",
       "    border-collapse: collapse;\n",
       "  }\n",
       "  th, td {\n",
       "    padding: 5px;\n",
       "  }\n",
       "  th {\n",
       "    text-align: left;\n",
       "  }\n",
       "</style><div class='table-result-container'><table class='table-result'><thead style='background-color: white'><tr><th>ict_nk</th><th>qic_inc_category</th><th>qic_qtr</th><th>qic_inc_count</th><th>qic_qtr_total_incidents</th><th>qic_qtr_inc_percent</th><th>qic_qtr_inc_percent_lead_diff</th></tr></thead><tbody><tr><td>1</td><td>Track</td><td>2015_1</td><td>75</td><td>246</td><td>30.49</td><td>3.66</td></tr><tr><td>4</td><td>Signals</td><td>2015_1</td><td>66</td><td>246</td><td>26.83</td><td>6.1</td></tr><tr><td>5</td><td>Persons on Trackbed/Police/Medical</td><td>2015_1</td><td>51</td><td>246</td><td>20.73</td><td>4.47</td></tr><tr><td>6</td><td>Other</td><td>2015_1</td><td>40</td><td>246</td><td>16.26</td><td>12.19</td></tr><tr><td>2</td><td>Subway Car</td><td>2015_1</td><td>10</td><td>246</td><td>4.07</td><td>2.44</td></tr><tr><td>3</td><td>Stations and Structure</td><td>2015_1</td><td>4</td><td>246</td><td>1.63</td><td>0.0</td></tr><tr><td>1</td><td>Track</td><td>2015_2</td><td>63</td><td>193</td><td>32.64</td><td>5.7</td></tr><tr><td>4</td><td>Signals</td><td>2015_2</td><td>52</td><td>193</td><td>26.94</td><td>2.59</td></tr><tr><td>5</td><td>Persons on Trackbed/Police/Medical</td><td>2015_2</td><td>47</td><td>193</td><td>24.35</td><td>16.58</td></tr><tr><td>6</td><td>Other</td><td>2015_2</td><td>15</td><td>193</td><td>7.77</td><td>3.11</td></tr><tr><td>3</td><td>Stations and Structure</td><td>2015_2</td><td>9</td><td>193</td><td>4.66</td><td>1.03</td></tr><tr><td>2</td><td>Subway Car</td><td>2015_2</td><td>7</td><td>193</td><td>3.63</td><td>0.0</td></tr><tr><td>4</td><td>Signals</td><td>2015_3</td><td>84</td><td>224</td><td>37.5</td><td>12.05</td></tr><tr><td>1</td><td>Track</td><td>2015_3</td><td>57</td><td>224</td><td>25.45</td><td>6.25</td></tr><tr><td>5</td><td>Persons on Trackbed/Police/Medical</td><td>2015_3</td><td>43</td><td>224</td><td>19.2</td><td>11.61</td></tr><tr><td>6</td><td>Other</td><td>2015_3</td><td>17</td><td>224</td><td>7.59</td><td>0.89</td></tr><tr><td>2</td><td>Subway Car</td><td>2015_3</td><td>15</td><td>224</td><td>6.7</td><td>3.13</td></tr><tr><td>3</td><td>Stations and Structure</td><td>2015_3</td><td>8</td><td>224</td><td>3.57</td><td>0.0</td></tr><tr><td>4</td><td>Signals</td><td>2015_4</td><td>71</td><td>218</td><td>32.57</td><td>4.13</td></tr><tr><td>1</td><td>Track</td><td>2015_4</td><td>62</td><td>218</td><td>28.44</td><td>5.5</td></tr><tr><td>5</td><td>Persons on Trackbed/Police/Medical</td><td>2015_4</td><td>50</td><td>218</td><td>22.94</td><td>17.44</td></tr><tr><td>2</td><td>Subway Car</td><td>2015_4</td><td>12</td><td>218</td><td>5.5</td><td>0.0</td></tr><tr><td>6</td><td>Other</td><td>2015_4</td><td>12</td><td>218</td><td>5.5</td><td>0.45</td></tr><tr><td>3</td><td>Stations and Structure</td><td>2015_4</td><td>11</td><td>218</td><td>5.05</td><td>0.0</td></tr><tr><td>1</td><td>Track</td><td>2016_1</td><td>62</td><td>208</td><td>29.81</td><td>2.41</td></tr><tr><td>4</td><td>Signals</td><td>2016_1</td><td>57</td><td>208</td><td>27.4</td><td>4.8</td></tr><tr><td>5</td><td>Persons on Trackbed/Police/Medical</td><td>2016_1</td><td>47</td><td>208</td><td>22.6</td><td>12.02</td></tr><tr><td>6</td><td>Other</td><td>2016_1</td><td>22</td><td>208</td><td>10.58</td><td>2.89</td></tr><tr><td>2</td><td>Subway Car</td><td>2016_1</td><td>16</td><td>208</td><td>7.69</td><td>5.77</td></tr><tr><td>3</td><td>Stations and Structure</td><td>2016_1</td><td>4</td><td>208</td><td>1.92</td><td>0.0</td></tr><tr><td>1</td><td>Track</td><td>2016_2</td><td>73</td><td>233</td><td>31.33</td><td>3.86</td></tr><tr><td>4</td><td>Signals</td><td>2016_2</td><td>64</td><td>233</td><td>27.47</td><td>3.86</td></tr><tr><td>5</td><td>Persons on Trackbed/Police/Medical</td><td>2016_2</td><td>55</td><td>233</td><td>23.61</td><td>15.46</td></tr><tr><td>2</td><td>Subway Car</td><td>2016_2</td><td>19</td><td>233</td><td>8.15</td><td>3.0</td></tr><tr><td>6</td><td>Other</td><td>2016_2</td><td>12</td><td>233</td><td>5.15</td><td>0.86</td></tr><tr><td>3</td><td>Stations and Structure</td><td>2016_2</td><td>10</td><td>233</td><td>4.29</td><td>0.0</td></tr><tr><td>4</td><td>Signals</td><td>2016_3</td><td>76</td><td>216</td><td>35.19</td><td>12.97</td></tr><tr><td>5</td><td>Persons on Trackbed/Police/Medical</td><td>2016_3</td><td>48</td><td>216</td><td>22.22</td><td>0.0</td></tr><tr><td>1</td><td>Track</td><td>2016_3</td><td>48</td><td>216</td><td>22.22</td><td>13.89</td></tr><tr><td>2</td><td>Subway Car</td><td>2016_3</td><td>18</td><td>216</td><td>8.33</td><td>0.0</td></tr><tr><td>6</td><td>Other</td><td>2016_3</td><td>18</td><td>216</td><td>8.33</td><td>4.63</td></tr><tr><td>3</td><td>Stations and Structure</td><td>2016_3</td><td>8</td><td>216</td><td>3.7</td><td>0.0</td></tr><tr><td>4</td><td>Signals</td><td>2016_4</td><td>85</td><td>242</td><td>35.12</td><td>10.33</td></tr><tr><td>5</td><td>Persons on Trackbed/Police/Medical</td><td>2016_4</td><td>60</td><td>242</td><td>24.79</td><td>4.13</td></tr><tr><td>1</td><td>Track</td><td>2016_4</td><td>50</td><td>242</td><td>20.66</td><td>11.98</td></tr><tr><td>2</td><td>Subway Car</td><td>2016_4</td><td>21</td><td>242</td><td>8.68</td><td>2.07</td></tr><tr><td>6</td><td>Other</td><td>2016_4</td><td>16</td><td>242</td><td>6.61</td><td>2.48</td></tr><tr><td>3</td><td>Stations and Structure</td><td>2016_4</td><td>10</td><td>242</td><td>4.13</td><td>0.0</td></tr><tr><td>4</td><td>Signals</td><td>2017_1</td><td>74</td><td>261</td><td>28.35</td><td>4.6</td></tr><tr><td>1</td><td>Track</td><td>2017_1</td><td>62</td><td>261</td><td>23.75</td><td>3.44</td></tr><tr><td>6</td><td>Other</td><td>2017_1</td><td>53</td><td>261</td><td>20.31</td><td>1.92</td></tr><tr><td>5</td><td>Persons on Trackbed/Police/Medical</td><td>2017_1</td><td>48</td><td>261</td><td>18.39</td><td>13.41</td></tr><tr><td>3</td><td>Stations and Structure</td><td>2017_1</td><td>13</td><td>261</td><td>4.98</td><td>0.77</td></tr><tr><td>2</td><td>Subway Car</td><td>2017_1</td><td>11</td><td>261</td><td>4.21</td><td>0.0</td></tr><tr><td>4</td><td>Signals</td><td>2017_2</td><td>84</td><td>243</td><td>34.57</td><td>14.82</td></tr><tr><td>5</td><td>Persons on Trackbed/Police/Medical</td><td>2017_2</td><td>48</td><td>243</td><td>19.75</td><td>2.88</td></tr><tr><td>1</td><td>Track</td><td>2017_2</td><td>41</td><td>243</td><td>16.87</td><td>5.76</td></tr><tr><td>6</td><td>Other</td><td>2017_2</td><td>27</td><td>243</td><td>11.11</td><td>0.82</td></tr><tr><td>3</td><td>Stations and Structure</td><td>2017_2</td><td>25</td><td>243</td><td>10.29</td><td>2.88</td></tr><tr><td>2</td><td>Subway Car</td><td>2017_2</td><td>18</td><td>243</td><td>7.41</td><td>0.0</td></tr><tr><td>4</td><td>Signals</td><td>2017_3</td><td>61</td><td>205</td><td>29.76</td><td>5.37</td></tr><tr><td>5</td><td>Persons on Trackbed/Police/Medical</td><td>2017_3</td><td>50</td><td>205</td><td>24.39</td><td>0.49</td></tr><tr><td>1</td><td>Track</td><td>2017_3</td><td>49</td><td>205</td><td>23.9</td><td>14.14</td></tr><tr><td>6</td><td>Other</td><td>2017_3</td><td>20</td><td>205</td><td>9.76</td><td>2.44</td></tr><tr><td>2</td><td>Subway Car</td><td>2017_3</td><td>15</td><td>205</td><td>7.32</td><td>2.44</td></tr><tr><td>3</td><td>Stations and Structure</td><td>2017_3</td><td>10</td><td>205</td><td>4.88</td><td>0.0</td></tr><tr><td>4</td><td>Signals</td><td>2017_4</td><td>67</td><td>195</td><td>34.36</td><td>9.74</td></tr><tr><td>1</td><td>Track</td><td>2017_4</td><td>48</td><td>195</td><td>24.62</td><td>2.57</td></tr><tr><td>5</td><td>Persons on Trackbed/Police/Medical</td><td>2017_4</td><td>43</td><td>195</td><td>22.05</td><td>14.36</td></tr><tr><td>6</td><td>Other</td><td>2017_4</td><td>15</td><td>195</td><td>7.69</td><td>1.02</td></tr><tr><td>3</td><td>Stations and Structure</td><td>2017_4</td><td>13</td><td>195</td><td>6.67</td><td>2.05</td></tr><tr><td>2</td><td>Subway Car</td><td>2017_4</td><td>9</td><td>195</td><td>4.62</td><td>0.0</td></tr><tr><td>4</td><td>Signals</td><td>2018_1</td><td>68</td><td>274</td><td>24.82</td><td>0.0</td></tr><tr><td>6</td><td>Other</td><td>2018_1</td><td>68</td><td>274</td><td>24.82</td><td>3.29</td></tr><tr><td>5</td><td>Persons on Trackbed/Police/Medical</td><td>2018_1</td><td>59</td><td>274</td><td>21.53</td><td>3.65</td></tr><tr><td>1</td><td>Track</td><td>2018_1</td><td>49</td><td>274</td><td>17.88</td><td>9.85</td></tr><tr><td>3</td><td>Stations and Structure</td><td>2018_1</td><td>22</td><td>274</td><td>8.03</td><td>5.11</td></tr><tr><td>2</td><td>Subway Car</td><td>2018_1</td><td>8</td><td>274</td><td>2.92</td><td>0.0</td></tr><tr><td>4</td><td>Signals</td><td>2018_2</td><td>83</td><td>239</td><td>34.73</td><td>15.06</td></tr><tr><td>1</td><td>Track</td><td>2018_2</td><td>47</td><td>239</td><td>19.67</td><td>2.93</td></tr><tr><td>5</td><td>Persons on Trackbed/Police/Medical</td><td>2018_2</td><td>40</td><td>239</td><td>16.74</td><td>3.77</td></tr><tr><td>6</td><td>Other</td><td>2018_2</td><td>31</td><td>239</td><td>12.97</td><td>3.76</td></tr><tr><td>3</td><td>Stations and Structure</td><td>2018_2</td><td>22</td><td>239</td><td>9.21</td><td>2.52</td></tr><tr><td>2</td><td>Subway Car</td><td>2018_2</td><td>16</td><td>239</td><td>6.69</td><td>0.0</td></tr><tr><td>4</td><td>Signals</td><td>2018_3</td><td>73</td><td>201</td><td>36.32</td><td>19.9</td></tr><tr><td>3</td><td>Stations and Structure</td><td>2018_3</td><td>33</td><td>201</td><td>16.42</td><td>0.0</td></tr><tr><td>5</td><td>Persons on Trackbed/Police/Medical</td><td>2018_3</td><td>33</td><td>201</td><td>16.42</td><td>1.0</td></tr><tr><td>1</td><td>Track</td><td>2018_3</td><td>31</td><td>201</td><td>15.42</td><td>7.46</td></tr><tr><td>6</td><td>Other</td><td>2018_3</td><td>16</td><td>201</td><td>7.96</td><td>0.5</td></tr><tr><td>2</td><td>Subway Car</td><td>2018_3</td><td>15</td><td>201</td><td>7.46</td><td>0.0</td></tr><tr><td>4</td><td>Signals</td><td>2018_4</td><td>63</td><td>192</td><td>32.81</td><td>8.33</td></tr><tr><td>5</td><td>Persons on Trackbed/Police/Medical</td><td>2018_4</td><td>47</td><td>192</td><td>24.48</td><td>5.73</td></tr><tr><td>1</td><td>Track</td><td>2018_4</td><td>36</td><td>192</td><td>18.75</td><td>5.73</td></tr><tr><td>6</td><td>Other</td><td>2018_4</td><td>25</td><td>192</td><td>13.02</td><td>6.77</td></tr><tr><td>2</td><td>Subway Car</td><td>2018_4</td><td>12</td><td>192</td><td>6.25</td><td>1.56</td></tr><tr><td>3</td><td>Stations and Structure</td><td>2018_4</td><td>9</td><td>192</td><td>4.69</td><td>0.0</td></tr><tr><td>4</td><td>Signals</td><td>2019_1</td><td>49</td><td>162</td><td>30.25</td><td>4.94</td></tr><tr><td>5</td><td>Persons on Trackbed/Police/Medical</td><td>2019_1</td><td>41</td><td>162</td><td>25.31</td><td>6.17</td></tr><tr><td>6</td><td>Other</td><td>2019_1</td><td>31</td><td>162</td><td>19.14</td><td>6.18</td></tr><tr><td>1</td><td>Track</td><td>2019_1</td><td>21</td><td>162</td><td>12.96</td><td>6.17</td></tr><tr><td>2</td><td>Subway Car</td><td>2019_1</td><td>11</td><td>162</td><td>6.79</td><td>1.23</td></tr><tr><td>3</td><td>Stations and Structure</td><td>2019_1</td><td>9</td><td>162</td><td>5.56</td><td>0.0</td></tr><tr><td>4</td><td>Signals</td><td>2019_2</td><td>51</td><td>153</td><td>33.33</td><td>6.53</td></tr><tr><td>5</td><td>Persons on Trackbed/Police/Medical</td><td>2019_2</td><td>41</td><td>153</td><td>26.8</td><td>10.46</td></tr><tr><td>1</td><td>Track</td><td>2019_2</td><td>25</td><td>153</td><td>16.34</td><td>5.23</td></tr><tr><td>6</td><td>Other</td><td>2019_2</td><td>17</td><td>153</td><td>11.11</td><td>0.0</td></tr><tr><td>2</td><td>Subway Car</td><td>2019_2</td><td>17</td><td>153</td><td>11.11</td><td>9.8</td></tr><tr><td>3</td><td>Stations and Structure</td><td>2019_2</td><td>2</td><td>153</td><td>1.31</td><td>0.0</td></tr><tr><td>4</td><td>Signals</td><td>2019_3</td><td>42</td><td>140</td><td>30.0</td><td>6.43</td></tr><tr><td>5</td><td>Persons on Trackbed/Police/Medical</td><td>2019_3</td><td>33</td><td>140</td><td>23.57</td><td>5.71</td></tr><tr><td>6</td><td>Other</td><td>2019_3</td><td>25</td><td>140</td><td>17.86</td><td>4.29</td></tr><tr><td>1</td><td>Track</td><td>2019_3</td><td>19</td><td>140</td><td>13.57</td><td>3.57</td></tr><tr><td>2</td><td>Subway Car</td><td>2019_3</td><td>14</td><td>140</td><td>10.0</td><td>5.0</td></tr><tr><td>3</td><td>Stations and Structure</td><td>2019_3</td><td>7</td><td>140</td><td>5.0</td><td>0.0</td></tr><tr><td>4</td><td>Signals</td><td>2019_4</td><td>48</td><td>131</td><td>36.64</td><td>13.74</td></tr><tr><td>5</td><td>Persons on Trackbed/Police/Medical</td><td>2019_4</td><td>30</td><td>131</td><td>22.9</td><td>6.11</td></tr><tr><td>1</td><td>Track</td><td>2019_4</td><td>22</td><td>131</td><td>16.79</td><td>3.81</td></tr><tr><td>6</td><td>Other</td><td>2019_4</td><td>17</td><td>131</td><td>12.98</td><td>6.87</td></tr><tr><td>2</td><td>Subway Car</td><td>2019_4</td><td>8</td><td>131</td><td>6.11</td><td>1.53</td></tr><tr><td>3</td><td>Stations and Structure</td><td>2019_4</td><td>6</td><td>131</td><td>4.58</td><td>0.0</td></tr></tbody></table></div>"
      ]
     },
     "metadata": {
      "application/vnd.databricks.v1+output": {
       "addedWidgets": {},
       "aggData": [],
       "aggError": "",
       "aggOverflow": false,
       "aggSchema": [],
       "aggSeriesLimitReached": false,
       "aggType": "",
       "arguments": {},
       "columnCustomDisplayInfos": {},
       "data": [
        [
         1,
         "Track",
         "2015_1",
         75,
         246,
         30.49,
         3.66
        ],
        [
         4,
         "Signals",
         "2015_1",
         66,
         246,
         26.83,
         6.1
        ],
        [
         5,
         "Persons on Trackbed/Police/Medical",
         "2015_1",
         51,
         246,
         20.73,
         4.47
        ],
        [
         6,
         "Other",
         "2015_1",
         40,
         246,
         16.26,
         12.19
        ],
        [
         2,
         "Subway Car",
         "2015_1",
         10,
         246,
         4.07,
         2.44
        ],
        [
         3,
         "Stations and Structure",
         "2015_1",
         4,
         246,
         1.63,
         0.0
        ],
        [
         1,
         "Track",
         "2015_2",
         63,
         193,
         32.64,
         5.7
        ],
        [
         4,
         "Signals",
         "2015_2",
         52,
         193,
         26.94,
         2.59
        ],
        [
         5,
         "Persons on Trackbed/Police/Medical",
         "2015_2",
         47,
         193,
         24.35,
         16.58
        ],
        [
         6,
         "Other",
         "2015_2",
         15,
         193,
         7.77,
         3.11
        ],
        [
         3,
         "Stations and Structure",
         "2015_2",
         9,
         193,
         4.66,
         1.03
        ],
        [
         2,
         "Subway Car",
         "2015_2",
         7,
         193,
         3.63,
         0.0
        ],
        [
         4,
         "Signals",
         "2015_3",
         84,
         224,
         37.5,
         12.05
        ],
        [
         1,
         "Track",
         "2015_3",
         57,
         224,
         25.45,
         6.25
        ],
        [
         5,
         "Persons on Trackbed/Police/Medical",
         "2015_3",
         43,
         224,
         19.2,
         11.61
        ],
        [
         6,
         "Other",
         "2015_3",
         17,
         224,
         7.59,
         0.89
        ],
        [
         2,
         "Subway Car",
         "2015_3",
         15,
         224,
         6.7,
         3.13
        ],
        [
         3,
         "Stations and Structure",
         "2015_3",
         8,
         224,
         3.57,
         0.0
        ],
        [
         4,
         "Signals",
         "2015_4",
         71,
         218,
         32.57,
         4.13
        ],
        [
         1,
         "Track",
         "2015_4",
         62,
         218,
         28.44,
         5.5
        ],
        [
         5,
         "Persons on Trackbed/Police/Medical",
         "2015_4",
         50,
         218,
         22.94,
         17.44
        ],
        [
         2,
         "Subway Car",
         "2015_4",
         12,
         218,
         5.5,
         0.0
        ],
        [
         6,
         "Other",
         "2015_4",
         12,
         218,
         5.5,
         0.45
        ],
        [
         3,
         "Stations and Structure",
         "2015_4",
         11,
         218,
         5.05,
         0.0
        ],
        [
         1,
         "Track",
         "2016_1",
         62,
         208,
         29.81,
         2.41
        ],
        [
         4,
         "Signals",
         "2016_1",
         57,
         208,
         27.4,
         4.8
        ],
        [
         5,
         "Persons on Trackbed/Police/Medical",
         "2016_1",
         47,
         208,
         22.6,
         12.02
        ],
        [
         6,
         "Other",
         "2016_1",
         22,
         208,
         10.58,
         2.89
        ],
        [
         2,
         "Subway Car",
         "2016_1",
         16,
         208,
         7.69,
         5.77
        ],
        [
         3,
         "Stations and Structure",
         "2016_1",
         4,
         208,
         1.92,
         0.0
        ],
        [
         1,
         "Track",
         "2016_2",
         73,
         233,
         31.33,
         3.86
        ],
        [
         4,
         "Signals",
         "2016_2",
         64,
         233,
         27.47,
         3.86
        ],
        [
         5,
         "Persons on Trackbed/Police/Medical",
         "2016_2",
         55,
         233,
         23.61,
         15.46
        ],
        [
         2,
         "Subway Car",
         "2016_2",
         19,
         233,
         8.15,
         3.0
        ],
        [
         6,
         "Other",
         "2016_2",
         12,
         233,
         5.15,
         0.86
        ],
        [
         3,
         "Stations and Structure",
         "2016_2",
         10,
         233,
         4.29,
         0.0
        ],
        [
         4,
         "Signals",
         "2016_3",
         76,
         216,
         35.19,
         12.97
        ],
        [
         5,
         "Persons on Trackbed/Police/Medical",
         "2016_3",
         48,
         216,
         22.22,
         0.0
        ],
        [
         1,
         "Track",
         "2016_3",
         48,
         216,
         22.22,
         13.89
        ],
        [
         2,
         "Subway Car",
         "2016_3",
         18,
         216,
         8.33,
         0.0
        ],
        [
         6,
         "Other",
         "2016_3",
         18,
         216,
         8.33,
         4.63
        ],
        [
         3,
         "Stations and Structure",
         "2016_3",
         8,
         216,
         3.7,
         0.0
        ],
        [
         4,
         "Signals",
         "2016_4",
         85,
         242,
         35.12,
         10.33
        ],
        [
         5,
         "Persons on Trackbed/Police/Medical",
         "2016_4",
         60,
         242,
         24.79,
         4.13
        ],
        [
         1,
         "Track",
         "2016_4",
         50,
         242,
         20.66,
         11.98
        ],
        [
         2,
         "Subway Car",
         "2016_4",
         21,
         242,
         8.68,
         2.07
        ],
        [
         6,
         "Other",
         "2016_4",
         16,
         242,
         6.61,
         2.48
        ],
        [
         3,
         "Stations and Structure",
         "2016_4",
         10,
         242,
         4.13,
         0.0
        ],
        [
         4,
         "Signals",
         "2017_1",
         74,
         261,
         28.35,
         4.6
        ],
        [
         1,
         "Track",
         "2017_1",
         62,
         261,
         23.75,
         3.44
        ],
        [
         6,
         "Other",
         "2017_1",
         53,
         261,
         20.31,
         1.92
        ],
        [
         5,
         "Persons on Trackbed/Police/Medical",
         "2017_1",
         48,
         261,
         18.39,
         13.41
        ],
        [
         3,
         "Stations and Structure",
         "2017_1",
         13,
         261,
         4.98,
         0.77
        ],
        [
         2,
         "Subway Car",
         "2017_1",
         11,
         261,
         4.21,
         0.0
        ],
        [
         4,
         "Signals",
         "2017_2",
         84,
         243,
         34.57,
         14.82
        ],
        [
         5,
         "Persons on Trackbed/Police/Medical",
         "2017_2",
         48,
         243,
         19.75,
         2.88
        ],
        [
         1,
         "Track",
         "2017_2",
         41,
         243,
         16.87,
         5.76
        ],
        [
         6,
         "Other",
         "2017_2",
         27,
         243,
         11.11,
         0.82
        ],
        [
         3,
         "Stations and Structure",
         "2017_2",
         25,
         243,
         10.29,
         2.88
        ],
        [
         2,
         "Subway Car",
         "2017_2",
         18,
         243,
         7.41,
         0.0
        ],
        [
         4,
         "Signals",
         "2017_3",
         61,
         205,
         29.76,
         5.37
        ],
        [
         5,
         "Persons on Trackbed/Police/Medical",
         "2017_3",
         50,
         205,
         24.39,
         0.49
        ],
        [
         1,
         "Track",
         "2017_3",
         49,
         205,
         23.9,
         14.14
        ],
        [
         6,
         "Other",
         "2017_3",
         20,
         205,
         9.76,
         2.44
        ],
        [
         2,
         "Subway Car",
         "2017_3",
         15,
         205,
         7.32,
         2.44
        ],
        [
         3,
         "Stations and Structure",
         "2017_3",
         10,
         205,
         4.88,
         0.0
        ],
        [
         4,
         "Signals",
         "2017_4",
         67,
         195,
         34.36,
         9.74
        ],
        [
         1,
         "Track",
         "2017_4",
         48,
         195,
         24.62,
         2.57
        ],
        [
         5,
         "Persons on Trackbed/Police/Medical",
         "2017_4",
         43,
         195,
         22.05,
         14.36
        ],
        [
         6,
         "Other",
         "2017_4",
         15,
         195,
         7.69,
         1.02
        ],
        [
         3,
         "Stations and Structure",
         "2017_4",
         13,
         195,
         6.67,
         2.05
        ],
        [
         2,
         "Subway Car",
         "2017_4",
         9,
         195,
         4.62,
         0.0
        ],
        [
         4,
         "Signals",
         "2018_1",
         68,
         274,
         24.82,
         0.0
        ],
        [
         6,
         "Other",
         "2018_1",
         68,
         274,
         24.82,
         3.29
        ],
        [
         5,
         "Persons on Trackbed/Police/Medical",
         "2018_1",
         59,
         274,
         21.53,
         3.65
        ],
        [
         1,
         "Track",
         "2018_1",
         49,
         274,
         17.88,
         9.85
        ],
        [
         3,
         "Stations and Structure",
         "2018_1",
         22,
         274,
         8.03,
         5.11
        ],
        [
         2,
         "Subway Car",
         "2018_1",
         8,
         274,
         2.92,
         0.0
        ],
        [
         4,
         "Signals",
         "2018_2",
         83,
         239,
         34.73,
         15.06
        ],
        [
         1,
         "Track",
         "2018_2",
         47,
         239,
         19.67,
         2.93
        ],
        [
         5,
         "Persons on Trackbed/Police/Medical",
         "2018_2",
         40,
         239,
         16.74,
         3.77
        ],
        [
         6,
         "Other",
         "2018_2",
         31,
         239,
         12.97,
         3.76
        ],
        [
         3,
         "Stations and Structure",
         "2018_2",
         22,
         239,
         9.21,
         2.52
        ],
        [
         2,
         "Subway Car",
         "2018_2",
         16,
         239,
         6.69,
         0.0
        ],
        [
         4,
         "Signals",
         "2018_3",
         73,
         201,
         36.32,
         19.9
        ],
        [
         3,
         "Stations and Structure",
         "2018_3",
         33,
         201,
         16.42,
         0.0
        ],
        [
         5,
         "Persons on Trackbed/Police/Medical",
         "2018_3",
         33,
         201,
         16.42,
         1.0
        ],
        [
         1,
         "Track",
         "2018_3",
         31,
         201,
         15.42,
         7.46
        ],
        [
         6,
         "Other",
         "2018_3",
         16,
         201,
         7.96,
         0.5
        ],
        [
         2,
         "Subway Car",
         "2018_3",
         15,
         201,
         7.46,
         0.0
        ],
        [
         4,
         "Signals",
         "2018_4",
         63,
         192,
         32.81,
         8.33
        ],
        [
         5,
         "Persons on Trackbed/Police/Medical",
         "2018_4",
         47,
         192,
         24.48,
         5.73
        ],
        [
         1,
         "Track",
         "2018_4",
         36,
         192,
         18.75,
         5.73
        ],
        [
         6,
         "Other",
         "2018_4",
         25,
         192,
         13.02,
         6.77
        ],
        [
         2,
         "Subway Car",
         "2018_4",
         12,
         192,
         6.25,
         1.56
        ],
        [
         3,
         "Stations and Structure",
         "2018_4",
         9,
         192,
         4.69,
         0.0
        ],
        [
         4,
         "Signals",
         "2019_1",
         49,
         162,
         30.25,
         4.94
        ],
        [
         5,
         "Persons on Trackbed/Police/Medical",
         "2019_1",
         41,
         162,
         25.31,
         6.17
        ],
        [
         6,
         "Other",
         "2019_1",
         31,
         162,
         19.14,
         6.18
        ],
        [
         1,
         "Track",
         "2019_1",
         21,
         162,
         12.96,
         6.17
        ],
        [
         2,
         "Subway Car",
         "2019_1",
         11,
         162,
         6.79,
         1.23
        ],
        [
         3,
         "Stations and Structure",
         "2019_1",
         9,
         162,
         5.56,
         0.0
        ],
        [
         4,
         "Signals",
         "2019_2",
         51,
         153,
         33.33,
         6.53
        ],
        [
         5,
         "Persons on Trackbed/Police/Medical",
         "2019_2",
         41,
         153,
         26.8,
         10.46
        ],
        [
         1,
         "Track",
         "2019_2",
         25,
         153,
         16.34,
         5.23
        ],
        [
         6,
         "Other",
         "2019_2",
         17,
         153,
         11.11,
         0.0
        ],
        [
         2,
         "Subway Car",
         "2019_2",
         17,
         153,
         11.11,
         9.8
        ],
        [
         3,
         "Stations and Structure",
         "2019_2",
         2,
         153,
         1.31,
         0.0
        ],
        [
         4,
         "Signals",
         "2019_3",
         42,
         140,
         30.0,
         6.43
        ],
        [
         5,
         "Persons on Trackbed/Police/Medical",
         "2019_3",
         33,
         140,
         23.57,
         5.71
        ],
        [
         6,
         "Other",
         "2019_3",
         25,
         140,
         17.86,
         4.29
        ],
        [
         1,
         "Track",
         "2019_3",
         19,
         140,
         13.57,
         3.57
        ],
        [
         2,
         "Subway Car",
         "2019_3",
         14,
         140,
         10.0,
         5.0
        ],
        [
         3,
         "Stations and Structure",
         "2019_3",
         7,
         140,
         5.0,
         0.0
        ],
        [
         4,
         "Signals",
         "2019_4",
         48,
         131,
         36.64,
         13.74
        ],
        [
         5,
         "Persons on Trackbed/Police/Medical",
         "2019_4",
         30,
         131,
         22.9,
         6.11
        ],
        [
         1,
         "Track",
         "2019_4",
         22,
         131,
         16.79,
         3.81
        ],
        [
         6,
         "Other",
         "2019_4",
         17,
         131,
         12.98,
         6.87
        ],
        [
         2,
         "Subway Car",
         "2019_4",
         8,
         131,
         6.11,
         1.53
        ],
        [
         3,
         "Stations and Structure",
         "2019_4",
         6,
         131,
         4.58,
         0.0
        ]
       ],
       "datasetInfos": [],
       "dbfsResultPath": null,
       "isJsonSchema": true,
       "metadata": {
        "createTempViewForImplicitDf": true,
        "dataframeName": "_sqldf",
        "executionCount": 6
       },
       "overflow": false,
       "plotOptions": {
        "customPlotOptions": {},
        "displayType": "table",
        "pivotAggregation": null,
        "pivotColumns": null,
        "xColumns": null,
        "yColumns": null
       },
       "removedWidgets": [],
       "schema": [
        {
         "metadata": "{}",
         "name": "ict_nk",
         "type": "\"integer\""
        },
        {
         "metadata": "{}",
         "name": "qic_inc_category",
         "type": "\"string\""
        },
        {
         "metadata": "{}",
         "name": "qic_qtr",
         "type": "\"string\""
        },
        {
         "metadata": "{}",
         "name": "qic_inc_count",
         "type": "\"long\""
        },
        {
         "metadata": "{}",
         "name": "qic_qtr_total_incidents",
         "type": "\"long\""
        },
        {
         "metadata": "{}",
         "name": "qic_qtr_inc_percent",
         "type": "\"double\""
        },
        {
         "metadata": "{}",
         "name": "qic_qtr_inc_percent_lead_diff",
         "type": "\"double\""
        }
       ],
       "type": "table"
      }
     },
     "output_type": "display_data"
    }
   ],
   "source": [
    "%sql\n",
    "SELECT * FROM mta_gold.rpt_qtr_incidents_by_category;"
   ]
  },
  {
   "cell_type": "code",
   "execution_count": 0,
   "metadata": {
    "application/vnd.databricks.v1+cell": {
     "cellMetadata": {
      "byteLimit": 2048000,
      "rowLimit": 10000
     },
     "inputWidgets": {},
     "nuid": "494686db-0da7-40fe-b34c-83889ee57a32",
     "showTitle": false,
     "tableResultSettingsMap": {},
     "title": ""
    }
   },
   "outputs": [],
   "source": [
    "dbutils.notebook.exit(\"Success\")"
   ]
  }
 ],
 "metadata": {
  "application/vnd.databricks.v1+notebook": {
   "computePreferences": null,
   "dashboards": [],
   "environmentMetadata": {
    "base_environment": "",
    "environment_version": "2"
   },
   "language": "python",
   "notebookMetadata": {
    "mostRecentlyExecutedCommandWithImplicitDF": {
     "commandId": 215081776633494,
     "dataframes": [
      "_sqldf"
     ]
    },
    "pythonIndentUnit": 4
   },
   "notebookName": "gold_rpt_qtr_incidents_by_category",
   "widgets": {}
  },
  "language_info": {
   "name": "python"
  }
 },
 "nbformat": 4,
 "nbformat_minor": 0
}
