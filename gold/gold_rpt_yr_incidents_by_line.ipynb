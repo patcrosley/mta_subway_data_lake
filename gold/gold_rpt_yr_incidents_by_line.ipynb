{
 "cells": [
  {
   "cell_type": "code",
   "execution_count": 0,
   "metadata": {
    "application/vnd.databricks.v1+cell": {
     "cellMetadata": {
      "byteLimit": 2048000,
      "rowLimit": 10000
     },
     "inputWidgets": {},
     "nuid": "a8bcb171-d2db-4e8e-8458-a73ce839863f",
     "showTitle": false,
     "tableResultSettingsMap": {},
     "title": ""
    }
   },
   "outputs": [],
   "source": [
    "from pyspark.sql.functions import sum, desc, col, avg, round\n",
    "from pyspark.sql import Window"
   ]
  },
  {
   "cell_type": "code",
   "execution_count": 0,
   "metadata": {
    "application/vnd.databricks.v1+cell": {
     "cellMetadata": {
      "byteLimit": 2048000,
      "rowLimit": 10000
     },
     "inputWidgets": {},
     "nuid": "2a36d4e2-f8e6-4c1f-88a1-35737c956dfb",
     "showTitle": false,
     "tableResultSettingsMap": {},
     "title": ""
    }
   },
   "outputs": [],
   "source": [
    "major_incident_df = spark.read \\\n",
    "    .table(\"mta_silver.fct_major_incident\")\n",
    "\n",
    "dim_line_df = spark.read \\\n",
    "    .table(\"mta_silver.dim_line\")\n",
    "\n",
    "date_df = spark.read \\\n",
    "    .table(\"mta_silver.dim_date\")"
   ]
  },
  {
   "cell_type": "code",
   "execution_count": 0,
   "metadata": {
    "application/vnd.databricks.v1+cell": {
     "cellMetadata": {
      "byteLimit": 2048000,
      "rowLimit": 10000
     },
     "inputWidgets": {},
     "nuid": "864eba7b-041d-4013-9819-6751ce79e000",
     "showTitle": false,
     "tableResultSettingsMap": {},
     "title": ""
    }
   },
   "outputs": [],
   "source": [
    "window_year = Window.partitionBy(\"dte_year\")\n",
    "\n",
    "yr_incidents_by_line_t1_df = major_incident_df \\\n",
    "    .join(dim_line_df, major_incident_df.lin_sk == dim_line_df.lin_sk, \"inner\") \\\n",
    "    .join(date_df, major_incident_df.dte_sk == date_df.dte_sk, \"inner\") \\\n",
    "    .withColumn(\"yr_total_incidents\", sum(col(\"inc_count\")).over(window_year)) \\\n",
    "    .select(\n",
    "        \"lin_nk\",\n",
    "        \"lin_name\",\n",
    "        \"lin_type\",\n",
    "        \"dte_year\",\n",
    "        \"inc_count\",\n",
    "        \"yr_total_incidents\"\n",
    "    ).groupBy(\n",
    "        \"lin_nk\",\n",
    "        \"lin_name\",\n",
    "        \"lin_type\",\n",
    "        \"dte_year\",\n",
    "        \"yr_total_incidents\",\n",
    "    ).agg(sum(\"inc_count\").alias(\"yr_incidents\")) \\\n",
    "    .orderBy(\"dte_year\", desc(\"yr_incidents\"))\n",
    "\n",
    "yr_incidents_by_line_t2_df = yr_incidents_by_line_t1_df \\\n",
    "    .withColumn(\"yr_avg_incidents\", round(avg(\"yr_incidents\").over(window_year), 2))"
   ]
  },
  {
   "cell_type": "code",
   "execution_count": 0,
   "metadata": {
    "application/vnd.databricks.v1+cell": {
     "cellMetadata": {
      "byteLimit": 2048000,
      "rowLimit": 10000
     },
     "inputWidgets": {},
     "nuid": "762692be-cd44-4874-ad34-53292961a6a4",
     "showTitle": false,
     "tableResultSettingsMap": {},
     "title": ""
    }
   },
   "outputs": [],
   "source": [
    "yr_incidents_by_line_final_df = yr_incidents_by_line_t2_df.select(\n",
    "    col(\"lin_nk\").alias(\"yil_nk\"),\n",
    "    col(\"lin_name\").alias(\"yil_name\"),\n",
    "    col(\"lin_type\").alias(\"yil_type\"),\n",
    "    col(\"dte_year\").alias(\"yil_year\"),\n",
    "    col(\"yr_incidents\").alias(\"yil_incidents\"),\n",
    "    col(\"yr_avg_incidents\").alias(\"yil_avg_yearly_incidents_per_line\"),\n",
    "    col(\"yr_total_incidents\").alias(\"yil_total_yearly_incidents\")\n",
    ")"
   ]
  },
  {
   "cell_type": "code",
   "execution_count": 0,
   "metadata": {
    "application/vnd.databricks.v1+cell": {
     "cellMetadata": {
      "byteLimit": 2048000,
      "rowLimit": 10000
     },
     "inputWidgets": {},
     "nuid": "30e71873-6608-420d-ad92-85d3ec4dd374",
     "showTitle": false,
     "tableResultSettingsMap": {},
     "title": ""
    }
   },
   "outputs": [],
   "source": [
    "yr_incidents_by_line_final_df.write.format(\"delta\").mode(\"overwrite\").option(\"mergeSchema\", \"true\").saveAsTable(\"mta_gold.rpt_year_incidents_by_line\")"
   ]
  },
  {
   "cell_type": "code",
   "execution_count": 0,
   "metadata": {
    "application/vnd.databricks.v1+cell": {
     "cellMetadata": {
      "byteLimit": 2048000,
      "implicitDf": true,
      "rowLimit": 10000
     },
     "inputWidgets": {},
     "nuid": "60c8b034-dc27-4ce4-8942-a0dc64f644cf",
     "showTitle": false,
     "tableResultSettingsMap": {},
     "title": ""
    }
   },
   "outputs": [
    {
     "output_type": "display_data",
     "data": {
      "text/html": [
       "<style scoped>\n",
       "  .table-result-container {\n",
       "    max-height: 300px;\n",
       "    overflow: auto;\n",
       "  }\n",
       "  table, th, td {\n",
       "    border: 1px solid black;\n",
       "    border-collapse: collapse;\n",
       "  }\n",
       "  th, td {\n",
       "    padding: 5px;\n",
       "  }\n",
       "  th {\n",
       "    text-align: left;\n",
       "  }\n",
       "</style><div class='table-result-container'><table class='table-result'><thead style='background-color: white'><tr><th>yil_nk</th><th>yil_name</th><th>yil_type</th><th>yil_year</th><th>yil_incidents</th><th>yil_avg_yearly_incidents_per_line</th><th>yil_total_yearly_incidents</th></tr></thead><tbody><tr><td>6</td><td>Lexington Avenue Local</td><td>Local</td><td>2015</td><td>87</td><td>40.05</td><td>881</td></tr><tr><td>2</td><td>Seventh Avenue Express</td><td>Express</td><td>2015</td><td>72</td><td>40.05</td><td>881</td></tr><tr><td>F</td><td>Sixth Avenue Local</td><td>Local</td><td>2015</td><td>68</td><td>40.05</td><td>881</td></tr><tr><td>5</td><td>Lexington Avenue Express</td><td>Express</td><td>2015</td><td>66</td><td>40.05</td><td>881</td></tr><tr><td>E</td><td>Eighth Avenue Local</td><td>Local</td><td>2015</td><td>63</td><td>40.05</td><td>881</td></tr><tr><td>4</td><td>Lexington Avenue Express</td><td>Express</td><td>2015</td><td>60</td><td>40.05</td><td>881</td></tr><tr><td>R</td><td>Broadway Local</td><td>Local</td><td>2015</td><td>58</td><td>40.05</td><td>881</td></tr><tr><td>N</td><td>Broadway Express</td><td>Express</td><td>2015</td><td>49</td><td>40.05</td><td>881</td></tr><tr><td>3</td><td>Seventh Avenue Express</td><td>Express</td><td>2015</td><td>43</td><td>40.05</td><td>881</td></tr><tr><td>A</td><td>Eighth Avenue Express</td><td>Express</td><td>2015</td><td>43</td><td>40.05</td><td>881</td></tr><tr><td>M</td><td>Sixth Avenue Local</td><td>Local</td><td>2015</td><td>43</td><td>40.05</td><td>881</td></tr><tr><td>7</td><td>Flushing Local/Express</td><td>Local/Express</td><td>2015</td><td>42</td><td>40.05</td><td>881</td></tr><tr><td>1</td><td>Broadway–Seventh Avenue Line</td><td>Local</td><td>2015</td><td>41</td><td>40.05</td><td>881</td></tr><tr><td>D</td><td>Sixth Avenue Express</td><td>Express</td><td>2015</td><td>29</td><td>40.05</td><td>881</td></tr><tr><td>L</td><td>Canarsie Line</td><td>Local</td><td>2015</td><td>29</td><td>40.05</td><td>881</td></tr><tr><td>Q</td><td>Broadway Express</td><td>Express</td><td>2015</td><td>28</td><td>40.05</td><td>881</td></tr><tr><td>C</td><td>Eighth Avenue Local</td><td>Local</td><td>2015</td><td>25</td><td>40.05</td><td>881</td></tr><tr><td>B</td><td>Sixth Avenue Express</td><td>Express</td><td>2015</td><td>15</td><td>40.05</td><td>881</td></tr><tr><td>JZ</td><td>Nassau Street Express/Local</td><td>Local/Express</td><td>2015</td><td>9</td><td>40.05</td><td>881</td></tr><tr><td>G</td><td>Crosstown Line</td><td>Local</td><td>2015</td><td>8</td><td>40.05</td><td>881</td></tr><tr><td>S 42nd</td><td>42nd Street Shuttle</td><td>Shuttle</td><td>2015</td><td>2</td><td>40.05</td><td>881</td></tr><tr><td>S Rock</td><td>Rockaway Park Shuttle</td><td>Shuttle</td><td>2015</td><td>1</td><td>40.05</td><td>881</td></tr><tr><td>4</td><td>Lexington Avenue Express</td><td>Express</td><td>2016</td><td>86</td><td>40.86</td><td>899</td></tr><tr><td>5</td><td>Lexington Avenue Express</td><td>Express</td><td>2016</td><td>83</td><td>40.86</td><td>899</td></tr><tr><td>6</td><td>Lexington Avenue Local</td><td>Local</td><td>2016</td><td>78</td><td>40.86</td><td>899</td></tr><tr><td>2</td><td>Seventh Avenue Express</td><td>Express</td><td>2016</td><td>65</td><td>40.86</td><td>899</td></tr><tr><td>7</td><td>Flushing Local/Express</td><td>Local/Express</td><td>2016</td><td>58</td><td>40.86</td><td>899</td></tr><tr><td>E</td><td>Eighth Avenue Local</td><td>Local</td><td>2016</td><td>57</td><td>40.86</td><td>899</td></tr><tr><td>F</td><td>Sixth Avenue Local</td><td>Local</td><td>2016</td><td>57</td><td>40.86</td><td>899</td></tr><tr><td>1</td><td>Broadway–Seventh Avenue Line</td><td>Local</td><td>2016</td><td>50</td><td>40.86</td><td>899</td></tr><tr><td>A</td><td>Eighth Avenue Express</td><td>Express</td><td>2016</td><td>48</td><td>40.86</td><td>899</td></tr><tr><td>Q</td><td>Broadway Express</td><td>Express</td><td>2016</td><td>45</td><td>40.86</td><td>899</td></tr><tr><td>N</td><td>Broadway Express</td><td>Express</td><td>2016</td><td>44</td><td>40.86</td><td>899</td></tr><tr><td>3</td><td>Seventh Avenue Express</td><td>Express</td><td>2016</td><td>42</td><td>40.86</td><td>899</td></tr><tr><td>R</td><td>Broadway Local</td><td>Local</td><td>2016</td><td>38</td><td>40.86</td><td>899</td></tr><tr><td>D</td><td>Sixth Avenue Express</td><td>Express</td><td>2016</td><td>30</td><td>40.86</td><td>899</td></tr><tr><td>L</td><td>Canarsie Line</td><td>Local</td><td>2016</td><td>29</td><td>40.86</td><td>899</td></tr><tr><td>M</td><td>Sixth Avenue Local</td><td>Local</td><td>2016</td><td>29</td><td>40.86</td><td>899</td></tr><tr><td>B</td><td>Sixth Avenue Express</td><td>Express</td><td>2016</td><td>19</td><td>40.86</td><td>899</td></tr><tr><td>C</td><td>Eighth Avenue Local</td><td>Local</td><td>2016</td><td>19</td><td>40.86</td><td>899</td></tr><tr><td>JZ</td><td>Nassau Street Express/Local</td><td>Local/Express</td><td>2016</td><td>13</td><td>40.86</td><td>899</td></tr><tr><td>G</td><td>Crosstown Line</td><td>Local</td><td>2016</td><td>6</td><td>40.86</td><td>899</td></tr><tr><td>S 42nd</td><td>42nd Street Shuttle</td><td>Shuttle</td><td>2016</td><td>2</td><td>40.86</td><td>899</td></tr><tr><td>S Rock</td><td>Rockaway Park Shuttle</td><td>Shuttle</td><td>2016</td><td>1</td><td>40.86</td><td>899</td></tr><tr><td>F</td><td>Sixth Avenue Local</td><td>Local</td><td>2017</td><td>87</td><td>43.05</td><td>904</td></tr><tr><td>6</td><td>Lexington Avenue Local</td><td>Local</td><td>2017</td><td>82</td><td>43.05</td><td>904</td></tr><tr><td>5</td><td>Lexington Avenue Express</td><td>Express</td><td>2017</td><td>76</td><td>43.05</td><td>904</td></tr><tr><td>7</td><td>Flushing Local/Express</td><td>Local/Express</td><td>2017</td><td>75</td><td>43.05</td><td>904</td></tr><tr><td>4</td><td>Lexington Avenue Express</td><td>Express</td><td>2017</td><td>70</td><td>43.05</td><td>904</td></tr><tr><td>2</td><td>Seventh Avenue Express</td><td>Express</td><td>2017</td><td>59</td><td>43.05</td><td>904</td></tr><tr><td>N</td><td>Broadway Express</td><td>Express</td><td>2017</td><td>54</td><td>43.05</td><td>904</td></tr><tr><td>3</td><td>Seventh Avenue Express</td><td>Express</td><td>2017</td><td>48</td><td>43.05</td><td>904</td></tr><tr><td>1</td><td>Broadway–Seventh Avenue Line</td><td>Local</td><td>2017</td><td>46</td><td>43.05</td><td>904</td></tr><tr><td>A</td><td>Eighth Avenue Express</td><td>Express</td><td>2017</td><td>45</td><td>43.05</td><td>904</td></tr><tr><td>R</td><td>Broadway Local</td><td>Local</td><td>2017</td><td>45</td><td>43.05</td><td>904</td></tr><tr><td>E</td><td>Eighth Avenue Local</td><td>Local</td><td>2017</td><td>41</td><td>43.05</td><td>904</td></tr><tr><td>Q</td><td>Broadway Express</td><td>Express</td><td>2017</td><td>34</td><td>43.05</td><td>904</td></tr><tr><td>M</td><td>Sixth Avenue Local</td><td>Local</td><td>2017</td><td>32</td><td>43.05</td><td>904</td></tr><tr><td>D</td><td>Sixth Avenue Express</td><td>Express</td><td>2017</td><td>28</td><td>43.05</td><td>904</td></tr><tr><td>B</td><td>Sixth Avenue Express</td><td>Express</td><td>2017</td><td>24</td><td>43.05</td><td>904</td></tr><tr><td>C</td><td>Eighth Avenue Local</td><td>Local</td><td>2017</td><td>21</td><td>43.05</td><td>904</td></tr><tr><td>L</td><td>Canarsie Line</td><td>Local</td><td>2017</td><td>19</td><td>43.05</td><td>904</td></tr><tr><td>JZ</td><td>Nassau Street Express/Local</td><td>Local/Express</td><td>2017</td><td>10</td><td>43.05</td><td>904</td></tr><tr><td>G</td><td>Crosstown Line</td><td>Local</td><td>2017</td><td>4</td><td>43.05</td><td>904</td></tr><tr><td>W</td><td>Broadway Local</td><td>Local</td><td>2017</td><td>4</td><td>43.05</td><td>904</td></tr><tr><td>7</td><td>Flushing Local/Express</td><td>Local/Express</td><td>2018</td><td>96</td><td>39.39</td><td>906</td></tr><tr><td>N</td><td>Broadway Express</td><td>Express</td><td>2018</td><td>75</td><td>39.39</td><td>906</td></tr><tr><td>2</td><td>Seventh Avenue Express</td><td>Express</td><td>2018</td><td>75</td><td>39.39</td><td>906</td></tr><tr><td>F</td><td>Sixth Avenue Local</td><td>Local</td><td>2018</td><td>74</td><td>39.39</td><td>906</td></tr><tr><td>4</td><td>Lexington Avenue Express</td><td>Express</td><td>2018</td><td>69</td><td>39.39</td><td>906</td></tr><tr><td>E</td><td>Eighth Avenue Local</td><td>Local</td><td>2018</td><td>59</td><td>39.39</td><td>906</td></tr><tr><td>6</td><td>Lexington Avenue Local</td><td>Local</td><td>2018</td><td>59</td><td>39.39</td><td>906</td></tr><tr><td>A</td><td>Eighth Avenue Express</td><td>Express</td><td>2018</td><td>43</td><td>39.39</td><td>906</td></tr><tr><td>3</td><td>Seventh Avenue Express</td><td>Express</td><td>2018</td><td>43</td><td>39.39</td><td>906</td></tr><tr><td>R</td><td>Broadway Local</td><td>Local</td><td>2018</td><td>42</td><td>39.39</td><td>906</td></tr><tr><td>5</td><td>Lexington Avenue Express</td><td>Express</td><td>2018</td><td>42</td><td>39.39</td><td>906</td></tr><tr><td>D</td><td>Sixth Avenue Express</td><td>Express</td><td>2018</td><td>39</td><td>39.39</td><td>906</td></tr><tr><td>1</td><td>Broadway–Seventh Avenue Line</td><td>Local</td><td>2018</td><td>35</td><td>39.39</td><td>906</td></tr><tr><td>Q</td><td>Broadway Express</td><td>Express</td><td>2018</td><td>32</td><td>39.39</td><td>906</td></tr><tr><td>L</td><td>Canarsie Line</td><td>Local</td><td>2018</td><td>32</td><td>39.39</td><td>906</td></tr><tr><td>M</td><td>Sixth Avenue Local</td><td>Local</td><td>2018</td><td>29</td><td>39.39</td><td>906</td></tr><tr><td>C</td><td>Eighth Avenue Local</td><td>Local</td><td>2018</td><td>21</td><td>39.39</td><td>906</td></tr><tr><td>B</td><td>Sixth Avenue Express</td><td>Express</td><td>2018</td><td>21</td><td>39.39</td><td>906</td></tr><tr><td>JZ</td><td>Nassau Street Express/Local</td><td>Local/Express</td><td>2018</td><td>12</td><td>39.39</td><td>906</td></tr><tr><td>G</td><td>Crosstown Line</td><td>Local</td><td>2018</td><td>5</td><td>39.39</td><td>906</td></tr><tr><td>W</td><td>Broadway Local</td><td>Local</td><td>2018</td><td>1</td><td>39.39</td><td>906</td></tr><tr><td>S Rock</td><td>Rockaway Park Shuttle</td><td>Shuttle</td><td>2018</td><td>1</td><td>39.39</td><td>906</td></tr><tr><td>S 42nd</td><td>42nd Street Shuttle</td><td>Shuttle</td><td>2018</td><td>1</td><td>39.39</td><td>906</td></tr><tr><td>6</td><td>Lexington Avenue Local</td><td>Local</td><td>2019</td><td>57</td><td>26.64</td><td>586</td></tr><tr><td>4</td><td>Lexington Avenue Express</td><td>Express</td><td>2019</td><td>53</td><td>26.64</td><td>586</td></tr><tr><td>7</td><td>Flushing Local/Express</td><td>Local/Express</td><td>2019</td><td>46</td><td>26.64</td><td>586</td></tr><tr><td>5</td><td>Lexington Avenue Express</td><td>Express</td><td>2019</td><td>42</td><td>26.64</td><td>586</td></tr><tr><td>2</td><td>Seventh Avenue Express</td><td>Express</td><td>2019</td><td>41</td><td>26.64</td><td>586</td></tr><tr><td>F</td><td>Sixth Avenue Local</td><td>Local</td><td>2019</td><td>39</td><td>26.64</td><td>586</td></tr><tr><td>A</td><td>Eighth Avenue Express</td><td>Express</td><td>2019</td><td>33</td><td>26.64</td><td>586</td></tr><tr><td>R</td><td>Broadway Local</td><td>Local</td><td>2019</td><td>31</td><td>26.64</td><td>586</td></tr><tr><td>Q</td><td>Broadway Express</td><td>Express</td><td>2019</td><td>30</td><td>26.64</td><td>586</td></tr><tr><td>N</td><td>Broadway Express</td><td>Express</td><td>2019</td><td>28</td><td>26.64</td><td>586</td></tr><tr><td>E</td><td>Eighth Avenue Local</td><td>Local</td><td>2019</td><td>27</td><td>26.64</td><td>586</td></tr><tr><td>D</td><td>Sixth Avenue Express</td><td>Express</td><td>2019</td><td>26</td><td>26.64</td><td>586</td></tr><tr><td>M</td><td>Sixth Avenue Local</td><td>Local</td><td>2019</td><td>23</td><td>26.64</td><td>586</td></tr><tr><td>1</td><td>Broadway–Seventh Avenue Line</td><td>Local</td><td>2019</td><td>21</td><td>26.64</td><td>586</td></tr><tr><td>B</td><td>Sixth Avenue Express</td><td>Express</td><td>2019</td><td>20</td><td>26.64</td><td>586</td></tr><tr><td>L</td><td>Canarsie Line</td><td>Local</td><td>2019</td><td>20</td><td>26.64</td><td>586</td></tr><tr><td>C</td><td>Eighth Avenue Local</td><td>Local</td><td>2019</td><td>15</td><td>26.64</td><td>586</td></tr><tr><td>JZ</td><td>Nassau Street Express/Local</td><td>Local/Express</td><td>2019</td><td>15</td><td>26.64</td><td>586</td></tr><tr><td>3</td><td>Seventh Avenue Express</td><td>Express</td><td>2019</td><td>15</td><td>26.64</td><td>586</td></tr><tr><td>S Rock</td><td>Rockaway Park Shuttle</td><td>Shuttle</td><td>2019</td><td>2</td><td>26.64</td><td>586</td></tr><tr><td>S Fkln</td><td>Franklin Avenue Shuttle</td><td>Shuttle</td><td>2019</td><td>1</td><td>26.64</td><td>586</td></tr><tr><td>S 42nd</td><td>42nd Street Shuttle</td><td>Shuttle</td><td>2019</td><td>1</td><td>26.64</td><td>586</td></tr></tbody></table></div>"
      ]
     },
     "metadata": {
      "application/vnd.databricks.v1+output": {
       "addedWidgets": {},
       "aggData": [],
       "aggError": "",
       "aggOverflow": false,
       "aggSchema": [],
       "aggSeriesLimitReached": false,
       "aggType": "",
       "arguments": {},
       "columnCustomDisplayInfos": {},
       "data": [
        [
         "6",
         "Lexington Avenue Local",
         "Local",
         2015,
         87,
         40.05,
         881
        ],
        [
         "2",
         "Seventh Avenue Express",
         "Express",
         2015,
         72,
         40.05,
         881
        ],
        [
         "F",
         "Sixth Avenue Local",
         "Local",
         2015,
         68,
         40.05,
         881
        ],
        [
         "5",
         "Lexington Avenue Express",
         "Express",
         2015,
         66,
         40.05,
         881
        ],
        [
         "E",
         "Eighth Avenue Local",
         "Local",
         2015,
         63,
         40.05,
         881
        ],
        [
         "4",
         "Lexington Avenue Express",
         "Express",
         2015,
         60,
         40.05,
         881
        ],
        [
         "R",
         "Broadway Local",
         "Local",
         2015,
         58,
         40.05,
         881
        ],
        [
         "N",
         "Broadway Express",
         "Express",
         2015,
         49,
         40.05,
         881
        ],
        [
         "3",
         "Seventh Avenue Express",
         "Express",
         2015,
         43,
         40.05,
         881
        ],
        [
         "A",
         "Eighth Avenue Express",
         "Express",
         2015,
         43,
         40.05,
         881
        ],
        [
         "M",
         "Sixth Avenue Local",
         "Local",
         2015,
         43,
         40.05,
         881
        ],
        [
         "7",
         "Flushing Local/Express",
         "Local/Express",
         2015,
         42,
         40.05,
         881
        ],
        [
         "1",
         "Broadway–Seventh Avenue Line",
         "Local",
         2015,
         41,
         40.05,
         881
        ],
        [
         "D",
         "Sixth Avenue Express",
         "Express",
         2015,
         29,
         40.05,
         881
        ],
        [
         "L",
         "Canarsie Line",
         "Local",
         2015,
         29,
         40.05,
         881
        ],
        [
         "Q",
         "Broadway Express",
         "Express",
         2015,
         28,
         40.05,
         881
        ],
        [
         "C",
         "Eighth Avenue Local",
         "Local",
         2015,
         25,
         40.05,
         881
        ],
        [
         "B",
         "Sixth Avenue Express",
         "Express",
         2015,
         15,
         40.05,
         881
        ],
        [
         "JZ",
         "Nassau Street Express/Local",
         "Local/Express",
         2015,
         9,
         40.05,
         881
        ],
        [
         "G",
         "Crosstown Line",
         "Local",
         2015,
         8,
         40.05,
         881
        ],
        [
         "S 42nd",
         "42nd Street Shuttle",
         "Shuttle",
         2015,
         2,
         40.05,
         881
        ],
        [
         "S Rock",
         "Rockaway Park Shuttle",
         "Shuttle",
         2015,
         1,
         40.05,
         881
        ],
        [
         "4",
         "Lexington Avenue Express",
         "Express",
         2016,
         86,
         40.86,
         899
        ],
        [
         "5",
         "Lexington Avenue Express",
         "Express",
         2016,
         83,
         40.86,
         899
        ],
        [
         "6",
         "Lexington Avenue Local",
         "Local",
         2016,
         78,
         40.86,
         899
        ],
        [
         "2",
         "Seventh Avenue Express",
         "Express",
         2016,
         65,
         40.86,
         899
        ],
        [
         "7",
         "Flushing Local/Express",
         "Local/Express",
         2016,
         58,
         40.86,
         899
        ],
        [
         "E",
         "Eighth Avenue Local",
         "Local",
         2016,
         57,
         40.86,
         899
        ],
        [
         "F",
         "Sixth Avenue Local",
         "Local",
         2016,
         57,
         40.86,
         899
        ],
        [
         "1",
         "Broadway–Seventh Avenue Line",
         "Local",
         2016,
         50,
         40.86,
         899
        ],
        [
         "A",
         "Eighth Avenue Express",
         "Express",
         2016,
         48,
         40.86,
         899
        ],
        [
         "Q",
         "Broadway Express",
         "Express",
         2016,
         45,
         40.86,
         899
        ],
        [
         "N",
         "Broadway Express",
         "Express",
         2016,
         44,
         40.86,
         899
        ],
        [
         "3",
         "Seventh Avenue Express",
         "Express",
         2016,
         42,
         40.86,
         899
        ],
        [
         "R",
         "Broadway Local",
         "Local",
         2016,
         38,
         40.86,
         899
        ],
        [
         "D",
         "Sixth Avenue Express",
         "Express",
         2016,
         30,
         40.86,
         899
        ],
        [
         "L",
         "Canarsie Line",
         "Local",
         2016,
         29,
         40.86,
         899
        ],
        [
         "M",
         "Sixth Avenue Local",
         "Local",
         2016,
         29,
         40.86,
         899
        ],
        [
         "B",
         "Sixth Avenue Express",
         "Express",
         2016,
         19,
         40.86,
         899
        ],
        [
         "C",
         "Eighth Avenue Local",
         "Local",
         2016,
         19,
         40.86,
         899
        ],
        [
         "JZ",
         "Nassau Street Express/Local",
         "Local/Express",
         2016,
         13,
         40.86,
         899
        ],
        [
         "G",
         "Crosstown Line",
         "Local",
         2016,
         6,
         40.86,
         899
        ],
        [
         "S 42nd",
         "42nd Street Shuttle",
         "Shuttle",
         2016,
         2,
         40.86,
         899
        ],
        [
         "S Rock",
         "Rockaway Park Shuttle",
         "Shuttle",
         2016,
         1,
         40.86,
         899
        ],
        [
         "F",
         "Sixth Avenue Local",
         "Local",
         2017,
         87,
         43.05,
         904
        ],
        [
         "6",
         "Lexington Avenue Local",
         "Local",
         2017,
         82,
         43.05,
         904
        ],
        [
         "5",
         "Lexington Avenue Express",
         "Express",
         2017,
         76,
         43.05,
         904
        ],
        [
         "7",
         "Flushing Local/Express",
         "Local/Express",
         2017,
         75,
         43.05,
         904
        ],
        [
         "4",
         "Lexington Avenue Express",
         "Express",
         2017,
         70,
         43.05,
         904
        ],
        [
         "2",
         "Seventh Avenue Express",
         "Express",
         2017,
         59,
         43.05,
         904
        ],
        [
         "N",
         "Broadway Express",
         "Express",
         2017,
         54,
         43.05,
         904
        ],
        [
         "3",
         "Seventh Avenue Express",
         "Express",
         2017,
         48,
         43.05,
         904
        ],
        [
         "1",
         "Broadway–Seventh Avenue Line",
         "Local",
         2017,
         46,
         43.05,
         904
        ],
        [
         "A",
         "Eighth Avenue Express",
         "Express",
         2017,
         45,
         43.05,
         904
        ],
        [
         "R",
         "Broadway Local",
         "Local",
         2017,
         45,
         43.05,
         904
        ],
        [
         "E",
         "Eighth Avenue Local",
         "Local",
         2017,
         41,
         43.05,
         904
        ],
        [
         "Q",
         "Broadway Express",
         "Express",
         2017,
         34,
         43.05,
         904
        ],
        [
         "M",
         "Sixth Avenue Local",
         "Local",
         2017,
         32,
         43.05,
         904
        ],
        [
         "D",
         "Sixth Avenue Express",
         "Express",
         2017,
         28,
         43.05,
         904
        ],
        [
         "B",
         "Sixth Avenue Express",
         "Express",
         2017,
         24,
         43.05,
         904
        ],
        [
         "C",
         "Eighth Avenue Local",
         "Local",
         2017,
         21,
         43.05,
         904
        ],
        [
         "L",
         "Canarsie Line",
         "Local",
         2017,
         19,
         43.05,
         904
        ],
        [
         "JZ",
         "Nassau Street Express/Local",
         "Local/Express",
         2017,
         10,
         43.05,
         904
        ],
        [
         "G",
         "Crosstown Line",
         "Local",
         2017,
         4,
         43.05,
         904
        ],
        [
         "W",
         "Broadway Local",
         "Local",
         2017,
         4,
         43.05,
         904
        ],
        [
         "7",
         "Flushing Local/Express",
         "Local/Express",
         2018,
         96,
         39.39,
         906
        ],
        [
         "N",
         "Broadway Express",
         "Express",
         2018,
         75,
         39.39,
         906
        ],
        [
         "2",
         "Seventh Avenue Express",
         "Express",
         2018,
         75,
         39.39,
         906
        ],
        [
         "F",
         "Sixth Avenue Local",
         "Local",
         2018,
         74,
         39.39,
         906
        ],
        [
         "4",
         "Lexington Avenue Express",
         "Express",
         2018,
         69,
         39.39,
         906
        ],
        [
         "E",
         "Eighth Avenue Local",
         "Local",
         2018,
         59,
         39.39,
         906
        ],
        [
         "6",
         "Lexington Avenue Local",
         "Local",
         2018,
         59,
         39.39,
         906
        ],
        [
         "A",
         "Eighth Avenue Express",
         "Express",
         2018,
         43,
         39.39,
         906
        ],
        [
         "3",
         "Seventh Avenue Express",
         "Express",
         2018,
         43,
         39.39,
         906
        ],
        [
         "R",
         "Broadway Local",
         "Local",
         2018,
         42,
         39.39,
         906
        ],
        [
         "5",
         "Lexington Avenue Express",
         "Express",
         2018,
         42,
         39.39,
         906
        ],
        [
         "D",
         "Sixth Avenue Express",
         "Express",
         2018,
         39,
         39.39,
         906
        ],
        [
         "1",
         "Broadway–Seventh Avenue Line",
         "Local",
         2018,
         35,
         39.39,
         906
        ],
        [
         "Q",
         "Broadway Express",
         "Express",
         2018,
         32,
         39.39,
         906
        ],
        [
         "L",
         "Canarsie Line",
         "Local",
         2018,
         32,
         39.39,
         906
        ],
        [
         "M",
         "Sixth Avenue Local",
         "Local",
         2018,
         29,
         39.39,
         906
        ],
        [
         "C",
         "Eighth Avenue Local",
         "Local",
         2018,
         21,
         39.39,
         906
        ],
        [
         "B",
         "Sixth Avenue Express",
         "Express",
         2018,
         21,
         39.39,
         906
        ],
        [
         "JZ",
         "Nassau Street Express/Local",
         "Local/Express",
         2018,
         12,
         39.39,
         906
        ],
        [
         "G",
         "Crosstown Line",
         "Local",
         2018,
         5,
         39.39,
         906
        ],
        [
         "W",
         "Broadway Local",
         "Local",
         2018,
         1,
         39.39,
         906
        ],
        [
         "S Rock",
         "Rockaway Park Shuttle",
         "Shuttle",
         2018,
         1,
         39.39,
         906
        ],
        [
         "S 42nd",
         "42nd Street Shuttle",
         "Shuttle",
         2018,
         1,
         39.39,
         906
        ],
        [
         "6",
         "Lexington Avenue Local",
         "Local",
         2019,
         57,
         26.64,
         586
        ],
        [
         "4",
         "Lexington Avenue Express",
         "Express",
         2019,
         53,
         26.64,
         586
        ],
        [
         "7",
         "Flushing Local/Express",
         "Local/Express",
         2019,
         46,
         26.64,
         586
        ],
        [
         "5",
         "Lexington Avenue Express",
         "Express",
         2019,
         42,
         26.64,
         586
        ],
        [
         "2",
         "Seventh Avenue Express",
         "Express",
         2019,
         41,
         26.64,
         586
        ],
        [
         "F",
         "Sixth Avenue Local",
         "Local",
         2019,
         39,
         26.64,
         586
        ],
        [
         "A",
         "Eighth Avenue Express",
         "Express",
         2019,
         33,
         26.64,
         586
        ],
        [
         "R",
         "Broadway Local",
         "Local",
         2019,
         31,
         26.64,
         586
        ],
        [
         "Q",
         "Broadway Express",
         "Express",
         2019,
         30,
         26.64,
         586
        ],
        [
         "N",
         "Broadway Express",
         "Express",
         2019,
         28,
         26.64,
         586
        ],
        [
         "E",
         "Eighth Avenue Local",
         "Local",
         2019,
         27,
         26.64,
         586
        ],
        [
         "D",
         "Sixth Avenue Express",
         "Express",
         2019,
         26,
         26.64,
         586
        ],
        [
         "M",
         "Sixth Avenue Local",
         "Local",
         2019,
         23,
         26.64,
         586
        ],
        [
         "1",
         "Broadway–Seventh Avenue Line",
         "Local",
         2019,
         21,
         26.64,
         586
        ],
        [
         "B",
         "Sixth Avenue Express",
         "Express",
         2019,
         20,
         26.64,
         586
        ],
        [
         "L",
         "Canarsie Line",
         "Local",
         2019,
         20,
         26.64,
         586
        ],
        [
         "C",
         "Eighth Avenue Local",
         "Local",
         2019,
         15,
         26.64,
         586
        ],
        [
         "JZ",
         "Nassau Street Express/Local",
         "Local/Express",
         2019,
         15,
         26.64,
         586
        ],
        [
         "3",
         "Seventh Avenue Express",
         "Express",
         2019,
         15,
         26.64,
         586
        ],
        [
         "S Rock",
         "Rockaway Park Shuttle",
         "Shuttle",
         2019,
         2,
         26.64,
         586
        ],
        [
         "S Fkln",
         "Franklin Avenue Shuttle",
         "Shuttle",
         2019,
         1,
         26.64,
         586
        ],
        [
         "S 42nd",
         "42nd Street Shuttle",
         "Shuttle",
         2019,
         1,
         26.64,
         586
        ]
       ],
       "datasetInfos": [],
       "dbfsResultPath": null,
       "isJsonSchema": true,
       "metadata": {
        "createTempViewForImplicitDf": true,
        "dataframeName": "_sqldf",
        "executionCount": 64
       },
       "overflow": false,
       "plotOptions": {
        "customPlotOptions": {},
        "displayType": "table",
        "pivotAggregation": null,
        "pivotColumns": null,
        "xColumns": null,
        "yColumns": null
       },
       "removedWidgets": [],
       "schema": [
        {
         "metadata": "{}",
         "name": "yil_nk",
         "type": "\"string\""
        },
        {
         "metadata": "{}",
         "name": "yil_name",
         "type": "\"string\""
        },
        {
         "metadata": "{}",
         "name": "yil_type",
         "type": "\"string\""
        },
        {
         "metadata": "{}",
         "name": "yil_year",
         "type": "\"integer\""
        },
        {
         "metadata": "{}",
         "name": "yil_incidents",
         "type": "\"long\""
        },
        {
         "metadata": "{}",
         "name": "yil_avg_yearly_incidents_per_line",
         "type": "\"double\""
        },
        {
         "metadata": "{}",
         "name": "yil_total_yearly_incidents",
         "type": "\"long\""
        }
       ],
       "type": "table"
      }
     },
     "output_type": "display_data"
    }
   ],
   "source": [
    "%sql\n",
    "SELECT * FROM mta_gold.rpt_year_incidents_by_line;"
   ]
  },
  {
   "cell_type": "code",
   "execution_count": 0,
   "metadata": {
    "application/vnd.databricks.v1+cell": {
     "cellMetadata": {
      "byteLimit": 2048000,
      "rowLimit": 10000
     },
     "inputWidgets": {},
     "nuid": "0c549aa6-f9b1-4acd-97b3-154d3281ae94",
     "showTitle": false,
     "tableResultSettingsMap": {},
     "title": ""
    }
   },
   "outputs": [],
   "source": [
    "dbutils.notebook.exit(\"Success\")"
   ]
  }
 ],
 "metadata": {
  "application/vnd.databricks.v1+notebook": {
   "computePreferences": null,
   "dashboards": [],
   "environmentMetadata": {
    "base_environment": "",
    "environment_version": "2"
   },
   "language": "python",
   "notebookMetadata": {
    "mostRecentlyExecutedCommandWithImplicitDF": {
     "commandId": 559300330669460,
     "dataframes": [
      "_sqldf"
     ]
    },
    "pythonIndentUnit": 4
   },
   "notebookName": "gold_rpt_yr_incidents_by_line",
   "widgets": {}
  },
  "language_info": {
   "name": "python"
  }
 },
 "nbformat": 4,
 "nbformat_minor": 0
}
