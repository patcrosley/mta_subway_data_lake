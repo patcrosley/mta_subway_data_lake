{
 "cells": [
  {
   "cell_type": "code",
   "execution_count": 0,
   "metadata": {
    "application/vnd.databricks.v1+cell": {
     "cellMetadata": {
      "byteLimit": 2048000,
      "rowLimit": 10000
     },
     "inputWidgets": {},
     "nuid": "a8bcb171-d2db-4e8e-8458-a73ce839863f",
     "showTitle": false,
     "tableResultSettingsMap": {},
     "title": ""
    }
   },
   "outputs": [],
   "source": [
    "from pyspark.sql.functions import sum, desc, col, avg, round\n",
    "from pyspark.sql import Window"
   ]
  },
  {
   "cell_type": "code",
   "execution_count": 0,
   "metadata": {
    "application/vnd.databricks.v1+cell": {
     "cellMetadata": {
      "byteLimit": 2048000,
      "rowLimit": 10000
     },
     "inputWidgets": {},
     "nuid": "2a36d4e2-f8e6-4c1f-88a1-35737c956dfb",
     "showTitle": false,
     "tableResultSettingsMap": {},
     "title": ""
    }
   },
   "outputs": [],
   "source": [
    "major_incident_df = spark.read \\\n",
    "    .table(\"mta_silver.fct_major_incident\")\n",
    "\n",
    "dim_line_df = spark.read \\\n",
    "    .table(\"mta_silver.dim_line\")\n",
    "\n",
    "date_df = spark.read \\\n",
    "    .table(\"mta_silver.dim_date\")"
   ]
  },
  {
   "cell_type": "code",
   "execution_count": 0,
   "metadata": {
    "application/vnd.databricks.v1+cell": {
     "cellMetadata": {
      "byteLimit": 2048000,
      "rowLimit": 10000
     },
     "inputWidgets": {},
     "nuid": "864eba7b-041d-4013-9819-6751ce79e000",
     "showTitle": false,
     "tableResultSettingsMap": {},
     "title": ""
    }
   },
   "outputs": [],
   "source": [
    "window_year = Window.partitionBy(\"dte_year\")\n",
    "\n",
    "yr_incidents_by_line_t1_df = major_incident_df \\\n",
    "    .join(dim_line_df, major_incident_df.lin_sk == dim_line_df.lin_sk, \"inner\") \\\n",
    "    .join(date_df, major_incident_df.dte_sk == date_df.dte_sk, \"inner\") \\\n",
    "    .withColumn(\"yr_total_incidents\", sum(col(\"inc_count\")).over(window_year)) \\\n",
    "    .select(\n",
    "        \"lin_nk\",\n",
    "        \"lin_name\",\n",
    "        \"lin_type\",\n",
    "        \"dte_year\",\n",
    "        \"inc_count\",\n",
    "        \"yr_total_incidents\"\n",
    "    ).groupBy(\n",
    "        \"lin_nk\",\n",
    "        \"lin_name\",\n",
    "        \"lin_type\",\n",
    "        \"dte_year\",\n",
    "        \"yr_total_incidents\",\n",
    "    ).agg(sum(\"inc_count\").alias(\"yr_incidents\")) \\\n",
    "    .orderBy(\"dte_year\", desc(\"yr_incidents\"))\n",
    "\n",
    "yr_incidents_by_line_t2_df = yr_incidents_by_line_t1_df \\\n",
    "    .withColumn(\"yr_avg_incidents\", round(avg(\"yr_incidents\").over(window_year), 2))"
   ]
  },
  {
   "cell_type": "code",
   "execution_count": 0,
   "metadata": {
    "application/vnd.databricks.v1+cell": {
     "cellMetadata": {
      "byteLimit": 2048000,
      "rowLimit": 10000
     },
     "inputWidgets": {},
     "nuid": "762692be-cd44-4874-ad34-53292961a6a4",
     "showTitle": false,
     "tableResultSettingsMap": {},
     "title": ""
    }
   },
   "outputs": [],
   "source": [
    "yr_incidents_by_line_final_df = yr_incidents_by_line_t2_df.select(\n",
    "    col(\"lin_nk\").alias(\"yil_nk\"),\n",
    "    col(\"lin_name\").alias(\"yil_name\"),\n",
    "    col(\"lin_type\").alias(\"yil_type\"),\n",
    "    col(\"dte_year\").alias(\"yil_year\"),\n",
    "    col(\"yr_incidents\").alias(\"yil_incidents\"),\n",
    "    col(\"yr_avg_incidents\").alias(\"yil_avg_yearly_incidents_per_line\"),\n",
    "    col(\"yr_total_incidents\").alias(\"yil_total_yearly_incidents\")\n",
    ")"
   ]
  },
  {
   "cell_type": "code",
   "execution_count": 0,
   "metadata": {
    "application/vnd.databricks.v1+cell": {
     "cellMetadata": {
      "byteLimit": 2048000,
      "rowLimit": 10000
     },
     "inputWidgets": {},
     "nuid": "30e71873-6608-420d-ad92-85d3ec4dd374",
     "showTitle": false,
     "tableResultSettingsMap": {},
     "title": ""
    }
   },
   "outputs": [],
   "source": [
    "yr_incidents_by_line_final_df.write.format(\"delta\").mode(\"overwrite\").option(\"mergeSchema\", \"true\").saveAsTable(\"mta_gold.rpt_year_incidents_by_line\")"
   ]
  },
  {
   "cell_type": "code",
   "execution_count": 0,
   "metadata": {
    "application/vnd.databricks.v1+cell": {
     "cellMetadata": {
      "byteLimit": 2048000,
      "implicitDf": true,
      "rowLimit": 10000
     },
     "inputWidgets": {},
     "nuid": "60c8b034-dc27-4ce4-8942-a0dc64f644cf",
     "showTitle": false,
     "tableResultSettingsMap": {},
     "title": ""
    }
   },
   "outputs": [
    {
     "output_type": "display_data",
     "data": {
      "text/html": [
       "<style scoped>\n",
       "  .table-result-container {\n",
       "    max-height: 300px;\n",
       "    overflow: auto;\n",
       "  }\n",
       "  table, th, td {\n",
       "    border: 1px solid black;\n",
       "    border-collapse: collapse;\n",
       "  }\n",
       "  th, td {\n",
       "    padding: 5px;\n",
       "  }\n",
       "  th {\n",
       "    text-align: left;\n",
       "  }\n",
       "</style><div class='table-result-container'><table class='table-result'><thead style='background-color: white'><tr><th>yil_nk</th><th>yil_name</th><th>yil_type</th><th>yil_year</th><th>yil_incidents</th><th>yil_avg_yearly_incidents_per_line</th><th>yil_total_yearly_incidents</th></tr></thead><tbody><tr><td>6</td><td>Lexington Avenue Local</td><td>Local</td><td>2015</td><td>87</td><td>40.05</td><td>881</td></tr><tr><td>2</td><td>Seventh Avenue Express</td><td>Express</td><td>2015</td><td>72</td><td>40.05</td><td>881</td></tr><tr><td>F</td><td>Sixth Avenue Local</td><td>Local</td><td>2015</td><td>68</td><td>40.05</td><td>881</td></tr><tr><td>5</td><td>Lexington Avenue Express</td><td>Express</td><td>2015</td><td>66</td><td>40.05</td><td>881</td></tr><tr><td>E</td><td>Eighth Avenue Local</td><td>Local</td><td>2015</td><td>63</td><td>40.05</td><td>881</td></tr><tr><td>4</td><td>Lexington Avenue Express</td><td>Express</td><td>2015</td><td>60</td><td>40.05</td><td>881</td></tr><tr><td>R</td><td>Broadway Local</td><td>Local</td><td>2015</td><td>58</td><td>40.05</td><td>881</td></tr><tr><td>N</td><td>Broadway Express</td><td>Express</td><td>2015</td><td>49</td><td>40.05</td><td>881</td></tr><tr><td>3</td><td>Seventh Avenue Express</td><td>Express</td><td>2015</td><td>43</td><td>40.05</td><td>881</td></tr><tr><td>A</td><td>Eighth Avenue Express</td><td>Express</td><td>2015</td><td>43</td><td>40.05</td><td>881</td></tr></tbody></table></div>"
      ]
     },
     "metadata": {
      "application/vnd.databricks.v1+output": {
       "addedWidgets": {},
       "aggData": [],
       "aggError": "",
       "aggOverflow": false,
       "aggSchema": [],
       "aggSeriesLimitReached": false,
       "aggType": "",
       "arguments": {},
       "columnCustomDisplayInfos": {},
       "data": [
        [
         "6",
         "Lexington Avenue Local",
         "Local",
         2015,
         87,
         40.05,
         881
        ],
        [
         "2",
         "Seventh Avenue Express",
         "Express",
         2015,
         72,
         40.05,
         881
        ],
        [
         "F",
         "Sixth Avenue Local",
         "Local",
         2015,
         68,
         40.05,
         881
        ],
        [
         "5",
         "Lexington Avenue Express",
         "Express",
         2015,
         66,
         40.05,
         881
        ],
        [
         "E",
         "Eighth Avenue Local",
         "Local",
         2015,
         63,
         40.05,
         881
        ],
        [
         "4",
         "Lexington Avenue Express",
         "Express",
         2015,
         60,
         40.05,
         881
        ],
        [
         "R",
         "Broadway Local",
         "Local",
         2015,
         58,
         40.05,
         881
        ],
        [
         "N",
         "Broadway Express",
         "Express",
         2015,
         49,
         40.05,
         881
        ],
        [
         "3",
         "Seventh Avenue Express",
         "Express",
         2015,
         43,
         40.05,
         881
        ],
        [
         "A",
         "Eighth Avenue Express",
         "Express",
         2015,
         43,
         40.05,
         881
        ]
       ],
       "datasetInfos": [],
       "dbfsResultPath": null,
       "isJsonSchema": true,
       "metadata": {
        "createTempViewForImplicitDf": true,
        "dataframeName": "_sqldf",
        "executionCount": 6
       },
       "overflow": false,
       "plotOptions": {
        "customPlotOptions": {},
        "displayType": "table",
        "pivotAggregation": null,
        "pivotColumns": null,
        "xColumns": null,
        "yColumns": null
       },
       "removedWidgets": [],
       "schema": [
        {
         "metadata": "{}",
         "name": "yil_nk",
         "type": "\"string\""
        },
        {
         "metadata": "{}",
         "name": "yil_name",
         "type": "\"string\""
        },
        {
         "metadata": "{}",
         "name": "yil_type",
         "type": "\"string\""
        },
        {
         "metadata": "{}",
         "name": "yil_year",
         "type": "\"integer\""
        },
        {
         "metadata": "{}",
         "name": "yil_incidents",
         "type": "\"long\""
        },
        {
         "metadata": "{}",
         "name": "yil_avg_yearly_incidents_per_line",
         "type": "\"double\""
        },
        {
         "metadata": "{}",
         "name": "yil_total_yearly_incidents",
         "type": "\"long\""
        }
       ],
       "type": "table"
      }
     },
     "output_type": "display_data"
    }
   ],
   "source": [
    "%sql\n",
    "SELECT * FROM mta_gold.rpt_year_incidents_by_line LIMIT 10;"
   ]
  },
  {
   "cell_type": "code",
   "execution_count": 0,
   "metadata": {
    "application/vnd.databricks.v1+cell": {
     "cellMetadata": {
      "byteLimit": 2048000,
      "rowLimit": 10000
     },
     "inputWidgets": {},
     "nuid": "0c549aa6-f9b1-4acd-97b3-154d3281ae94",
     "showTitle": false,
     "tableResultSettingsMap": {},
     "title": ""
    }
   },
   "outputs": [],
   "source": [
    "dbutils.notebook.exit(\"Success\")"
   ]
  }
 ],
 "metadata": {
  "application/vnd.databricks.v1+notebook": {
   "computePreferences": null,
   "dashboards": [],
   "environmentMetadata": {
    "base_environment": "",
    "environment_version": "2"
   },
   "language": "python",
   "notebookMetadata": {
    "mostRecentlyExecutedCommandWithImplicitDF": {
     "commandId": 559300330669460,
     "dataframes": [
      "_sqldf"
     ]
    },
    "pythonIndentUnit": 4
   },
   "notebookName": "gold_rpt_yr_incidents_by_line",
   "widgets": {}
  },
  "language_info": {
   "name": "python"
  }
 },
 "nbformat": 4,
 "nbformat_minor": 0
}
