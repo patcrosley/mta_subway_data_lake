{
 "cells": [
  {
   "cell_type": "code",
   "execution_count": 0,
   "metadata": {
    "application/vnd.databricks.v1+cell": {
     "cellMetadata": {
      "byteLimit": 2048000,
      "rowLimit": 10000
     },
     "inputWidgets": {},
     "nuid": "31835741-a0fb-4655-be81-a301b2ea5545",
     "showTitle": false,
     "tableResultSettingsMap": {},
     "title": ""
    }
   },
   "outputs": [],
   "source": [
    "%run \"../utils/custom_functions\""
   ]
  },
  {
   "cell_type": "code",
   "execution_count": 0,
   "metadata": {
    "application/vnd.databricks.v1+cell": {
     "cellMetadata": {
      "byteLimit": 2048000,
      "rowLimit": 10000
     },
     "inputWidgets": {},
     "nuid": "be76df0e-e8f6-41bc-b6f7-cce8e73f07a5",
     "showTitle": false,
     "tableResultSettingsMap": {},
     "title": ""
    }
   },
   "outputs": [],
   "source": [
    "from pyspark.sql.types import StructType, StructField, IntegerType, StringType, DoubleType, BooleanType\n",
    "from pyspark.sql.functions import *"
   ]
  },
  {
   "cell_type": "code",
   "execution_count": 0,
   "metadata": {
    "application/vnd.databricks.v1+cell": {
     "cellMetadata": {
      "byteLimit": 2048000,
      "rowLimit": 10000
     },
     "inputWidgets": {},
     "nuid": "abedc29c-9e5e-4e59-bb2e-c0c158bc63bc",
     "showTitle": false,
     "tableResultSettingsMap": {},
     "title": ""
    }
   },
   "outputs": [],
   "source": [
    "entrance_exit_raw_df = spark.read \\\n",
    "    .option(\"multiline\", \"true\") \\\n",
    "    .json(\"/mnt/mtasubwaydl/raw/mta_entrances_and_exits.json\")"
   ]
  },
  {
   "cell_type": "code",
   "execution_count": 0,
   "metadata": {
    "application/vnd.databricks.v1+cell": {
     "cellMetadata": {
      "byteLimit": 2048000,
      "rowLimit": 10000
     },
     "inputWidgets": {},
     "nuid": "0aaf7025-1c4b-4780-83e4-5eed0b12e1e3",
     "showTitle": false,
     "tableResultSettingsMap": {},
     "title": ""
    }
   },
   "outputs": [],
   "source": [
    "entrance_exit_expl_df = entrance_exit_raw_df.selectExpr(\"explode(data) as row\")"
   ]
  },
  {
   "cell_type": "code",
   "execution_count": 0,
   "metadata": {
    "application/vnd.databricks.v1+cell": {
     "cellMetadata": {
      "byteLimit": 2048000,
      "rowLimit": 10000
     },
     "inputWidgets": {},
     "nuid": "ba459a0a-8c65-4cd7-b786-00da45a8525c",
     "showTitle": false,
     "tableResultSettingsMap": {},
     "title": ""
    }
   },
   "outputs": [],
   "source": [
    "column_names = entrance_exit_raw_df.selectExpr(\"meta.view.columns.name\").first()[0]\n",
    "column_names = [name for name in column_names]"
   ]
  },
  {
   "cell_type": "code",
   "execution_count": 0,
   "metadata": {
    "application/vnd.databricks.v1+cell": {
     "cellMetadata": {
      "byteLimit": 2048000,
      "rowLimit": 10000
     },
     "inputWidgets": {},
     "nuid": "e7abfa8a-4fff-4e86-8f96-b761db36b104",
     "showTitle": false,
     "tableResultSettingsMap": {},
     "title": ""
    }
   },
   "outputs": [],
   "source": [
    "entrance_exit_flat_df = entrance_exit_expl_df.select([col(\"row\")[i].alias(column_names[i]) for i in range(len(column_names))])"
   ]
  },
  {
   "cell_type": "code",
   "execution_count": 0,
   "metadata": {
    "application/vnd.databricks.v1+cell": {
     "cellMetadata": {
      "byteLimit": 2048000,
      "rowLimit": 10000
     },
     "inputWidgets": {},
     "nuid": "b9630ac4-29a2-42a6-847e-afb70d656e94",
     "showTitle": false,
     "tableResultSettingsMap": {},
     "title": ""
    }
   },
   "outputs": [],
   "source": [
    "# drop JSON metadata columns to adjust the schema to majority of CSV-sourced data\n",
    "\n",
    "entrance_exit_dropped_df = entrance_exit_flat_df \\\n",
    "    .drop(\"sid\") \\\n",
    "    .drop(\"id\") \\\n",
    "    .drop(\"position\") \\\n",
    "    .drop(\"created_at\") \\\n",
    "    .drop(\"created_meta\") \\\n",
    "    .drop(\"updated_at\") \\\n",
    "    .drop(\"updated_meta\") \\\n",
    "    .drop(\"meta\")"
   ]
  },
  {
   "cell_type": "code",
   "execution_count": 0,
   "metadata": {
    "application/vnd.databricks.v1+cell": {
     "cellMetadata": {
      "byteLimit": 2048000,
      "rowLimit": 10000
     },
     "inputWidgets": {},
     "nuid": "e0c65979-16be-4743-a5ff-3658154897a0",
     "showTitle": false,
     "tableResultSettingsMap": {},
     "title": ""
    }
   },
   "outputs": [],
   "source": [
    "entrance_exit_renamed_casted_df = entrance_exit_dropped_df \\\n",
    "    .withColumnRenamed(\"Division\", \"eex_division\") \\\n",
    "    .withColumnRenamed(\"Line\", \"eex_line\") \\\n",
    "    .withColumnRenamed(\"Borough\", \"eex_borough\") \\\n",
    "    .withColumnRenamed(\"Stop Name\", \"eex_stop_name\") \\\n",
    "    .withColumnRenamed(\"Complex ID\", \"eex_complex_id\") \\\n",
    "    .withColumnRenamed(\"Constituent Station Name\", \"eex_constituent_station_name\") \\\n",
    "    .withColumnRenamed(\"Station ID\", \"eex_station_id\") \\\n",
    "    .withColumnRenamed(\"GTFS Stop ID\", \"eex_gtfs_stop_id\") \\\n",
    "    .withColumnRenamed(\"Daytime Routes\", \"eex_daytime_routes\") \\\n",
    "    .withColumnRenamed(\"Entrance Type\", \"eex_entrance_type\") \\\n",
    "    .withColumnRenamed(\"Entry Allowed\", \"eex_entry_allowed\") \\\n",
    "    .withColumnRenamed(\"Exit Allowed\", \"eex_exit_allowed\") \\\n",
    "    .withColumnRenamed(\"Entrance Latitude\", \"eex_entrance_latitude\") \\\n",
    "    .withColumnRenamed(\"Entrance Longitude\", \"eex_entrance_longitude\") \\\n",
    "    .withColumnRenamed(\"entrance_georeference\", \"eex_entrance_georeference\") \\\n",
    "    .withColumn(\"eex_station_id\", col(\"eex_station_id\").cast(IntegerType())) \\\n",
    "    .withColumn(\"eex_entrance_latitude\", col(\"eex_entrance_latitude\").cast(DoubleType())) \\\n",
    "    .withColumn(\"eex_entrance_longitude\", col(\"eex_entrance_longitude\").cast(DoubleType()))"
   ]
  },
  {
   "cell_type": "code",
   "execution_count": 0,
   "metadata": {
    "application/vnd.databricks.v1+cell": {
     "cellMetadata": {
      "byteLimit": 2048000,
      "rowLimit": 10000
     },
     "inputWidgets": {},
     "nuid": "07e72122-fbfd-4c26-a5a3-ed76a7321f80",
     "showTitle": false,
     "tableResultSettingsMap": {},
     "title": ""
    }
   },
   "outputs": [],
   "source": [
    "entrance_exit_final_df = add_ingestion_date(entrance_exit_renamed_casted_df, alias=\"eex\") \\\n",
    "    .withColumn(\"eex_source\", lit(\"data.gov\"))"
   ]
  },
  {
   "cell_type": "code",
   "execution_count": 0,
   "metadata": {
    "application/vnd.databricks.v1+cell": {
     "cellMetadata": {
      "byteLimit": 2048000,
      "rowLimit": 10000
     },
     "inputWidgets": {},
     "nuid": "89116825-a6bb-46d7-87d9-c572cdd7d096",
     "showTitle": false,
     "tableResultSettingsMap": {},
     "title": ""
    }
   },
   "outputs": [],
   "source": [
    "entrance_exit_final_df.write \\\n",
    "    .mode(\"overwrite\") \\\n",
    "    .format(\"delta\") \\\n",
    "    .partitionBy(\"eex_borough\") \\\n",
    "    .save(\"/mnt/mtasubwaydl/bronze/entrance_exit\")\n",
    "\n",
    "if not spark.catalog.tableExists(\"mta_bronze.entrance_exit\"):\n",
    "    spark.catalog.createTable(\n",
    "        tableName=\"mta_bronze.entrance_exit\",\n",
    "        path=\"/mnt/mtasubwaydl/bronze/entrance_exit\",\n",
    "        source=\"delta\"\n",
    ")"
   ]
  },
  {
   "cell_type": "code",
   "execution_count": 0,
   "metadata": {
    "application/vnd.databricks.v1+cell": {
     "cellMetadata": {
      "byteLimit": 2048000,
      "implicitDf": true,
      "rowLimit": 10000
     },
     "inputWidgets": {},
     "nuid": "8f25edf5-b678-465b-8dac-4816fd835bd9",
     "showTitle": false,
     "tableResultSettingsMap": {},
     "title": ""
    }
   },
   "outputs": [],
   "source": [
    "%sql\n",
    "SELECT * FROM mta_bronze.entrance_exit LIMIT 20;"
   ]
  },
  {
   "cell_type": "code",
   "execution_count": 0,
   "metadata": {
    "application/vnd.databricks.v1+cell": {
     "cellMetadata": {
      "byteLimit": 2048000,
      "rowLimit": 10000
     },
     "inputWidgets": {},
     "nuid": "6ee5ac16-23bc-43b2-a9a7-7c2400f5f6f1",
     "showTitle": false,
     "tableResultSettingsMap": {},
     "title": ""
    }
   },
   "outputs": [],
   "source": [
    "dbutils.notebook.exit(\"Success\")"
   ]
  }
 ],
 "metadata": {
  "application/vnd.databricks.v1+notebook": {
   "computePreferences": null,
   "dashboards": [],
   "environmentMetadata": {
    "base_environment": "",
    "environment_version": "2"
   },
   "language": "python",
   "notebookMetadata": {
    "mostRecentlyExecutedCommandWithImplicitDF": {
     "commandId": 559300330669338,
     "dataframes": [
      "_sqldf"
     ]
    },
    "pythonIndentUnit": 4
   },
   "notebookName": "bronze_entrance_exit",
   "widgets": {}
  },
  "language_info": {
   "name": "python"
  }
 },
 "nbformat": 4,
 "nbformat_minor": 0
}
