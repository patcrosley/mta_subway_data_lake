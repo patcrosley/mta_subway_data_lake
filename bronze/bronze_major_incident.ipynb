{
 "cells": [
  {
   "cell_type": "code",
   "execution_count": 0,
   "metadata": {
    "application/vnd.databricks.v1+cell": {
     "cellMetadata": {
      "byteLimit": 2048000,
      "rowLimit": 10000
     },
     "inputWidgets": {},
     "nuid": "d65553c6-9410-4886-9f8b-a121a09db844",
     "showTitle": false,
     "tableResultSettingsMap": {},
     "title": ""
    }
   },
   "outputs": [],
   "source": [
    "%run \"../utils/custom_functions\""
   ]
  },
  {
   "cell_type": "code",
   "execution_count": 0,
   "metadata": {
    "application/vnd.databricks.v1+cell": {
     "cellMetadata": {
      "byteLimit": 2048000,
      "rowLimit": 10000
     },
     "inputWidgets": {},
     "nuid": "037f1565-8f0e-4eac-977e-17153b55920a",
     "showTitle": false,
     "tableResultSettingsMap": {},
     "title": ""
    }
   },
   "outputs": [],
   "source": [
    "from pyspark.sql.types import StructType, StructField, IntegerType, StringType, DoubleType, BooleanType\n",
    "from pyspark.sql.functions import lit, explode, col, year"
   ]
  },
  {
   "cell_type": "code",
   "execution_count": 0,
   "metadata": {
    "application/vnd.databricks.v1+cell": {
     "cellMetadata": {
      "byteLimit": 2048000,
      "rowLimit": 10000
     },
     "inputWidgets": {},
     "nuid": "5657fc75-f1e4-47f7-b8db-3cf7bb7087e3",
     "showTitle": false,
     "tableResultSettingsMap": {},
     "title": ""
    }
   },
   "outputs": [],
   "source": [
    "major_incident_df = spark.read \\\n",
    "    .option(\"rowTag\", \"row\") \\\n",
    "    .option(\"attributePrefix\", \"\") \\\n",
    "    .xml(\"/mnt/mtasubwaydl/raw/mta_major_incidents.xml\")"
   ]
  },
  {
   "cell_type": "code",
   "execution_count": 0,
   "metadata": {
    "application/vnd.databricks.v1+cell": {
     "cellMetadata": {
      "byteLimit": 2048000,
      "rowLimit": 10000
     },
     "inputWidgets": {},
     "nuid": "72fb7cae-d897-4af2-bec0-9f5d1e1d6d38",
     "showTitle": false,
     "tableResultSettingsMap": {},
     "title": ""
    }
   },
   "outputs": [],
   "source": [
    "major_incident_expl_df = major_incident_df.withColumn(\"row\", explode(col(\"row\")))"
   ]
  },
  {
   "cell_type": "code",
   "execution_count": 0,
   "metadata": {
    "application/vnd.databricks.v1+cell": {
     "cellMetadata": {
      "byteLimit": 2048000,
      "rowLimit": 10000
     },
     "inputWidgets": {},
     "nuid": "68ecb9e9-677f-4edb-8325-fb8e8d79e48a",
     "showTitle": false,
     "tableResultSettingsMap": {},
     "title": ""
    }
   },
   "outputs": [],
   "source": [
    "major_incident_flat_renamed_df = major_incident_expl_df.select(\n",
    "    col(\"row.month\").alias(\"inc_month\"),\n",
    "    col(\"row.division\").alias(\"inc_division\"),\n",
    "    col(\"row.line\").alias(\"inc_line\"),\n",
    "    col(\"row.day_type\").alias(\"inc_day_type\"),\n",
    "    col(\"row.category\").alias(\"inc_category\"),\n",
    "    col(\"row.count\").alias(\"inc_count\")\n",
    ")"
   ]
  },
  {
   "cell_type": "code",
   "execution_count": 0,
   "metadata": {
    "application/vnd.databricks.v1+cell": {
     "cellMetadata": {
      "byteLimit": 2048000,
      "rowLimit": 10000
     },
     "inputWidgets": {},
     "nuid": "b1fb8e06-1649-42c9-8181-a2fd78c2a5cc",
     "showTitle": false,
     "tableResultSettingsMap": {},
     "title": ""
    }
   },
   "outputs": [],
   "source": [
    "major_incident_final_df = add_ingestion_date(major_incident_flat_renamed_df, alias=\"inc\") \\\n",
    "    .withColumn(\"inc_source\", lit(\"data.gov\")) \\\n",
    "    .withColumn(\"inc_day_type\", col(\"inc_day_type\").cast(IntegerType())) \\\n",
    "    .withColumn(\"inc_count\", col(\"inc_count\").cast(IntegerType()))"
   ]
  },
  {
   "cell_type": "code",
   "execution_count": 0,
   "metadata": {
    "application/vnd.databricks.v1+cell": {
     "cellMetadata": {
      "byteLimit": 2048000,
      "rowLimit": 10000
     },
     "inputWidgets": {},
     "nuid": "d6071a3a-3aa5-45fd-af48-d52e7f3ed78f",
     "showTitle": false,
     "tableResultSettingsMap": {},
     "title": ""
    }
   },
   "outputs": [],
   "source": [
    "major_incident_final_df.write \\\n",
    "    .mode(\"overwrite\") \\\n",
    "    .format(\"delta\") \\\n",
    "    .partitionBy(\"inc_month\") \\\n",
    "    .save(\"/mnt/mtasubwaydl/bronze/major_incident\")\n",
    "\n",
    "if not spark.catalog.tableExists(\"mta_bronze.major_incident\"):\n",
    "    spark.catalog.createTable(\n",
    "        tableName=\"mta_bronze.major_incident\",\n",
    "        path=\"/mnt/mtasubwaydl/bronze/major_incident\",\n",
    "        source=\"delta\"\n",
    ")"
   ]
  },
  {
   "cell_type": "code",
   "execution_count": 0,
   "metadata": {
    "application/vnd.databricks.v1+cell": {
     "cellMetadata": {
      "byteLimit": 2048000,
      "implicitDf": true,
      "rowLimit": 10000
     },
     "inputWidgets": {},
     "nuid": "d211316a-c9e9-46d5-acbf-9ebdd13098e8",
     "showTitle": false,
     "tableResultSettingsMap": {},
     "title": ""
    }
   },
   "outputs": [
    {
     "output_type": "display_data",
     "data": {
      "text/html": [
       "<style scoped>\n",
       "  .table-result-container {\n",
       "    max-height: 300px;\n",
       "    overflow: auto;\n",
       "  }\n",
       "  table, th, td {\n",
       "    border: 1px solid black;\n",
       "    border-collapse: collapse;\n",
       "  }\n",
       "  th, td {\n",
       "    padding: 5px;\n",
       "  }\n",
       "  th {\n",
       "    text-align: left;\n",
       "  }\n",
       "</style><div class='table-result-container'><table class='table-result'><thead style='background-color: white'><tr><th>inc_month</th><th>inc_division</th><th>inc_line</th><th>inc_day_type</th><th>inc_category</th><th>inc_count</th><th>inc_ingestion_date</th><th>inc_source</th></tr></thead><tbody><tr><td>2015-08-01T00:00:00Z</td><td>B DIVISION</td><td>S Rock</td><td>2</td><td>Other</td><td>1</td><td>2025-03-09T07:18:20.256Z</td><td>data.gov</td></tr><tr><td>2015-08-01T00:00:00Z</td><td>B DIVISION</td><td>R</td><td>2</td><td>Signals</td><td>1</td><td>2025-03-09T07:18:20.256Z</td><td>data.gov</td></tr><tr><td>2015-08-01T00:00:00Z</td><td>B DIVISION</td><td>R</td><td>1</td><td>Subway Car</td><td>1</td><td>2025-03-09T07:18:20.256Z</td><td>data.gov</td></tr><tr><td>2015-08-01T00:00:00Z</td><td>B DIVISION</td><td>R</td><td>1</td><td>Signals</td><td>2</td><td>2025-03-09T07:18:20.256Z</td><td>data.gov</td></tr><tr><td>2015-08-01T00:00:00Z</td><td>B DIVISION</td><td>R</td><td>1</td><td>Other</td><td>1</td><td>2025-03-09T07:18:20.256Z</td><td>data.gov</td></tr><tr><td>2015-08-01T00:00:00Z</td><td>B DIVISION</td><td>Q</td><td>1</td><td>Signals</td><td>1</td><td>2025-03-09T07:18:20.256Z</td><td>data.gov</td></tr><tr><td>2015-08-01T00:00:00Z</td><td>B DIVISION</td><td>N</td><td>1</td><td>Track</td><td>1</td><td>2025-03-09T07:18:20.256Z</td><td>data.gov</td></tr><tr><td>2015-08-01T00:00:00Z</td><td>B DIVISION</td><td>N</td><td>1</td><td>Stations and Structure</td><td>1</td><td>2025-03-09T07:18:20.256Z</td><td>data.gov</td></tr><tr><td>2015-08-01T00:00:00Z</td><td>B DIVISION</td><td>N</td><td>1</td><td>Signals</td><td>1</td><td>2025-03-09T07:18:20.256Z</td><td>data.gov</td></tr><tr><td>2015-08-01T00:00:00Z</td><td>B DIVISION</td><td>N</td><td>1</td><td>Other</td><td>1</td><td>2025-03-09T07:18:20.256Z</td><td>data.gov</td></tr></tbody></table></div>"
      ]
     },
     "metadata": {
      "application/vnd.databricks.v1+output": {
       "addedWidgets": {},
       "aggData": [],
       "aggError": "",
       "aggOverflow": false,
       "aggSchema": [],
       "aggSeriesLimitReached": false,
       "aggType": "",
       "arguments": {},
       "columnCustomDisplayInfos": {},
       "data": [
        [
         "2015-08-01T00:00:00Z",
         "B DIVISION",
         "S Rock",
         2,
         "Other",
         1,
         "2025-03-09T07:18:20.256Z",
         "data.gov"
        ],
        [
         "2015-08-01T00:00:00Z",
         "B DIVISION",
         "R",
         2,
         "Signals",
         1,
         "2025-03-09T07:18:20.256Z",
         "data.gov"
        ],
        [
         "2015-08-01T00:00:00Z",
         "B DIVISION",
         "R",
         1,
         "Subway Car",
         1,
         "2025-03-09T07:18:20.256Z",
         "data.gov"
        ],
        [
         "2015-08-01T00:00:00Z",
         "B DIVISION",
         "R",
         1,
         "Signals",
         2,
         "2025-03-09T07:18:20.256Z",
         "data.gov"
        ],
        [
         "2015-08-01T00:00:00Z",
         "B DIVISION",
         "R",
         1,
         "Other",
         1,
         "2025-03-09T07:18:20.256Z",
         "data.gov"
        ],
        [
         "2015-08-01T00:00:00Z",
         "B DIVISION",
         "Q",
         1,
         "Signals",
         1,
         "2025-03-09T07:18:20.256Z",
         "data.gov"
        ],
        [
         "2015-08-01T00:00:00Z",
         "B DIVISION",
         "N",
         1,
         "Track",
         1,
         "2025-03-09T07:18:20.256Z",
         "data.gov"
        ],
        [
         "2015-08-01T00:00:00Z",
         "B DIVISION",
         "N",
         1,
         "Stations and Structure",
         1,
         "2025-03-09T07:18:20.256Z",
         "data.gov"
        ],
        [
         "2015-08-01T00:00:00Z",
         "B DIVISION",
         "N",
         1,
         "Signals",
         1,
         "2025-03-09T07:18:20.256Z",
         "data.gov"
        ],
        [
         "2015-08-01T00:00:00Z",
         "B DIVISION",
         "N",
         1,
         "Other",
         1,
         "2025-03-09T07:18:20.256Z",
         "data.gov"
        ]
       ],
       "datasetInfos": [],
       "dbfsResultPath": null,
       "isJsonSchema": true,
       "metadata": {
        "createTempViewForImplicitDf": true,
        "dataframeName": "_sqldf",
        "executionCount": 41
       },
       "overflow": false,
       "plotOptions": {
        "customPlotOptions": {},
        "displayType": "table",
        "pivotAggregation": null,
        "pivotColumns": null,
        "xColumns": null,
        "yColumns": null
       },
       "removedWidgets": [],
       "schema": [
        {
         "metadata": "{}",
         "name": "inc_month",
         "type": "\"timestamp\""
        },
        {
         "metadata": "{}",
         "name": "inc_division",
         "type": "\"string\""
        },
        {
         "metadata": "{}",
         "name": "inc_line",
         "type": "\"string\""
        },
        {
         "metadata": "{}",
         "name": "inc_day_type",
         "type": "\"integer\""
        },
        {
         "metadata": "{}",
         "name": "inc_category",
         "type": "\"string\""
        },
        {
         "metadata": "{}",
         "name": "inc_count",
         "type": "\"integer\""
        },
        {
         "metadata": "{}",
         "name": "inc_ingestion_date",
         "type": "\"timestamp\""
        },
        {
         "metadata": "{}",
         "name": "inc_source",
         "type": "\"string\""
        }
       ],
       "type": "table"
      }
     },
     "output_type": "display_data"
    }
   ],
   "source": [
    "%sql\n",
    "SELECT * FROM mta_bronze.major_incident LIMIT 10;"
   ]
  },
  {
   "cell_type": "code",
   "execution_count": 0,
   "metadata": {
    "application/vnd.databricks.v1+cell": {
     "cellMetadata": {
      "byteLimit": 2048000,
      "rowLimit": 10000
     },
     "inputWidgets": {},
     "nuid": "31af6c98-189f-4f5a-a8ed-5ebfd42fde4b",
     "showTitle": false,
     "tableResultSettingsMap": {},
     "title": ""
    }
   },
   "outputs": [],
   "source": [
    "dbutils.notebook.exit(\"Success\")"
   ]
  }
 ],
 "metadata": {
  "application/vnd.databricks.v1+notebook": {
   "computePreferences": null,
   "dashboards": [],
   "environmentMetadata": {
    "base_environment": "",
    "environment_version": "2"
   },
   "language": "python",
   "notebookMetadata": {
    "mostRecentlyExecutedCommandWithImplicitDF": {
     "commandId": 559300330669345,
     "dataframes": [
      "_sqldf"
     ]
    },
    "pythonIndentUnit": 4
   },
   "notebookName": "bronze_major_incident",
   "widgets": {}
  },
  "language_info": {
   "name": "python"
  }
 },
 "nbformat": 4,
 "nbformat_minor": 0
}
