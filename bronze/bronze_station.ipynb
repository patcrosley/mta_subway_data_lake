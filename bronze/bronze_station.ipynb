{
 "cells": [
  {
   "cell_type": "code",
   "execution_count": 0,
   "metadata": {
    "application/vnd.databricks.v1+cell": {
     "cellMetadata": {
      "byteLimit": 2048000,
      "rowLimit": 10000
     },
     "inputWidgets": {},
     "nuid": "8dfecec7-5acb-4da4-badb-ebb79fa0c4e4",
     "showTitle": false,
     "tableResultSettingsMap": {},
     "title": ""
    }
   },
   "outputs": [],
   "source": [
    "%run \"../utils/custom_functions\""
   ]
  },
  {
   "cell_type": "code",
   "execution_count": 0,
   "metadata": {
    "application/vnd.databricks.v1+cell": {
     "cellMetadata": {
      "byteLimit": 2048000,
      "rowLimit": 10000
     },
     "inputWidgets": {},
     "nuid": "03e17867-70f2-47b0-b7e7-21b250336d79",
     "showTitle": false,
     "tableResultSettingsMap": {},
     "title": ""
    }
   },
   "outputs": [],
   "source": [
    "from pyspark.sql.types import StructType, StructField, IntegerType, StringType, DoubleType, BooleanType\n",
    "from pyspark.sql.functions import lit"
   ]
  },
  {
   "cell_type": "code",
   "execution_count": 0,
   "metadata": {
    "application/vnd.databricks.v1+cell": {
     "cellMetadata": {
      "byteLimit": 2048000,
      "rowLimit": 10000
     },
     "inputWidgets": {},
     "nuid": "adab0d02-b113-48f9-8e42-da8d78ca75f1",
     "showTitle": false,
     "tableResultSettingsMap": {},
     "title": ""
    }
   },
   "outputs": [],
   "source": [
    "station_schema = StructType(fields=[\n",
    "    StructField(\"GTFS Stop ID\", StringType(), False),\n",
    "    StructField(\"Station ID\", IntegerType(), False),\n",
    "    StructField(\"Complex ID\", IntegerType(), False),\n",
    "    StructField(\"Division\", StringType(), False),\n",
    "    StructField(\"Line\", StringType(), False),\n",
    "    StructField(\"Stop Name\", StringType(), False),\n",
    "    StructField(\"Borough\", StringType(), False),\n",
    "    StructField(\"CBD\", BooleanType(), False),\n",
    "    StructField(\"Daytime Routes\", StringType(), False),\n",
    "    StructField(\"Structure\", StringType(), False),\n",
    "    StructField(\"GTFS Latitude\", DoubleType(), False),\n",
    "    StructField(\"GTFS Longitude\", DoubleType(), False),\n",
    "    StructField(\"North Direction Label\", StringType(), False),\n",
    "    StructField(\"South Direction Label\", StringType(), False),\n",
    "    StructField(\"ADA\", IntegerType(), False),\n",
    "    StructField(\"ADA Northbound\", IntegerType(), False),\n",
    "    StructField(\"ADA Southbound\", IntegerType(), False),\n",
    "    StructField(\"ADA Notes\", StringType(), True),\n",
    "    StructField(\"Georeference\", StringType(), False)\n",
    "    ])"
   ]
  },
  {
   "cell_type": "code",
   "execution_count": 0,
   "metadata": {
    "application/vnd.databricks.v1+cell": {
     "cellMetadata": {
      "byteLimit": 2048000,
      "rowLimit": 10000
     },
     "inputWidgets": {},
     "nuid": "52af5858-df8f-4873-a367-33ff2d6aac27",
     "showTitle": false,
     "tableResultSettingsMap": {},
     "title": ""
    }
   },
   "outputs": [],
   "source": [
    "station_df = spark.read \\\n",
    "    .option(\"header\", True) \\\n",
    "    .schema(station_schema) \\\n",
    "    .csv(\"/mnt/mtasubwaydl/raw/mta_subway_stations.csv\")"
   ]
  },
  {
   "cell_type": "code",
   "execution_count": 0,
   "metadata": {
    "application/vnd.databricks.v1+cell": {
     "cellMetadata": {
      "byteLimit": 2048000,
      "rowLimit": 10000
     },
     "inputWidgets": {},
     "nuid": "68879b20-e7c1-4e9d-a79d-e123a3d09dbb",
     "showTitle": false,
     "tableResultSettingsMap": {},
     "title": ""
    }
   },
   "outputs": [],
   "source": [
    "station_renamed_df = station_df \\\n",
    "    .withColumnRenamed(\"GTFS Stop ID\", \"stn_gtfs_stop_id\") \\\n",
    "    .withColumnRenamed(\"Station ID\", \"stn_id\") \\\n",
    "    .withColumnRenamed(\"Complex ID\", \"stn_complex_id\") \\\n",
    "    .withColumnRenamed(\"Division\", \"stn_division\") \\\n",
    "    .withColumnRenamed(\"Line\", \"stn_line\") \\\n",
    "    .withColumnRenamed(\"Stop Name\", \"stn_stop_name\") \\\n",
    "    .withColumnRenamed(\"Borough\", \"stn_borough\") \\\n",
    "    .withColumnRenamed(\"CBD\", \"stn_cbd\") \\\n",
    "    .withColumnRenamed(\"Daytime Routes\", \"stn_daytime_routes\") \\\n",
    "    .withColumnRenamed(\"Structure\", \"stn_structure\") \\\n",
    "    .withColumnRenamed(\"GTFS Latitude\", \"stn_gtfs_latitude\") \\\n",
    "    .withColumnRenamed(\"GTFS Longitude\", \"stn_gtfs_longitude\") \\\n",
    "    .withColumnRenamed(\"North Direction Label\", \"stn_north_direction_lbl\") \\\n",
    "    .withColumnRenamed(\"South Direction Label\", \"stn_south_direction_lbl\") \\\n",
    "    .withColumnRenamed(\"ADA\", \"stn_ada\") \\\n",
    "    .withColumnRenamed(\"ADA Northbound\", \"stn_ada_northbound\") \\\n",
    "    .withColumnRenamed(\"ADA Southbound\", \"stn_ada_southbound\") \\\n",
    "    .withColumnRenamed(\"ADA Notes\", \"stn_ada_notes\") \\\n",
    "    .withColumnRenamed(\"Georeference\", \"stn_georeference\")"
   ]
  },
  {
   "cell_type": "code",
   "execution_count": 0,
   "metadata": {
    "application/vnd.databricks.v1+cell": {
     "cellMetadata": {
      "byteLimit": 2048000,
      "rowLimit": 10000
     },
     "inputWidgets": {},
     "nuid": "faa71af2-0ae4-4e5c-9331-422058bdf7f5",
     "showTitle": false,
     "tableResultSettingsMap": {},
     "title": ""
    }
   },
   "outputs": [],
   "source": [
    "station_final_df = add_ingestion_date(station_renamed_df, alias=\"stn\") \\\n",
    "    .withColumn(\"stn_source\", lit(\"data.gov\"))"
   ]
  },
  {
   "cell_type": "code",
   "execution_count": 0,
   "metadata": {
    "application/vnd.databricks.v1+cell": {
     "cellMetadata": {
      "byteLimit": 2048000,
      "rowLimit": 10000
     },
     "inputWidgets": {},
     "nuid": "56ff86e4-8ffb-4e6e-a440-c0eba34df29b",
     "showTitle": false,
     "tableResultSettingsMap": {},
     "title": ""
    }
   },
   "outputs": [],
   "source": [
    "station_final_df.write \\\n",
    "    .mode(\"overwrite\") \\\n",
    "    .format(\"delta\") \\\n",
    "    .partitionBy(\"stn_borough\") \\\n",
    "    .save(\"/mnt/mtasubwaydl/bronze/station\")\n",
    "\n",
    "if not spark.catalog.tableExists(\"mta_bronze.station\"):\n",
    "    spark.catalog.createTable(\n",
    "        tableName=\"mta_bronze.station\",\n",
    "        path=\"/mnt/mtasubwaydl/bronze/station\",\n",
    "        source=\"delta\"\n",
    ")"
   ]
  },
  {
   "cell_type": "code",
   "execution_count": 0,
   "metadata": {
    "application/vnd.databricks.v1+cell": {
     "cellMetadata": {
      "byteLimit": 2048000,
      "implicitDf": true,
      "rowLimit": 10000
     },
     "inputWidgets": {},
     "nuid": "15e3efc3-ab26-41e9-a87c-179a6b188ebd",
     "showTitle": false,
     "tableResultSettingsMap": {},
     "title": ""
    }
   },
   "outputs": [
    {
     "output_type": "display_data",
     "data": {
      "text/html": [
       "<style scoped>\n",
       "  .table-result-container {\n",
       "    max-height: 300px;\n",
       "    overflow: auto;\n",
       "  }\n",
       "  table, th, td {\n",
       "    border: 1px solid black;\n",
       "    border-collapse: collapse;\n",
       "  }\n",
       "  th, td {\n",
       "    padding: 5px;\n",
       "  }\n",
       "  th {\n",
       "    text-align: left;\n",
       "  }\n",
       "</style><div class='table-result-container'><table class='table-result'><thead style='background-color: white'><tr><th>stn_gtfs_stop_id</th><th>stn_id</th><th>stn_complex_id</th><th>stn_division</th><th>stn_line</th><th>stn_stop_name</th><th>stn_borough</th><th>stn_cbd</th><th>stn_daytime_routes</th><th>stn_structure</th><th>stn_gtfs_latitude</th><th>stn_gtfs_longitude</th><th>stn_north_direction_lbl</th><th>stn_south_direction_lbl</th><th>stn_ada</th><th>stn_ada_northbound</th><th>stn_ada_southbound</th><th>stn_ada_notes</th><th>stn_georeference</th><th>stn_ingestion_date</th><th>stn_source</th></tr></thead><tbody><tr><td>S18</td><td>514</td><td>514</td><td>SIR</td><td>Staten Island</td><td>Eltingville</td><td>SI</td><td>false</td><td>SIR</td><td>Embankment</td><td>40.544601</td><td>-74.16457</td><td>Ferry</td><td>South Shore</td><td>0</td><td>0</td><td>0</td><td>null</td><td>POINT (-74.16457 40.544601)</td><td>2025-03-09T07:18:46.888Z</td><td>data.gov</td></tr><tr><td>S28</td><td>504</td><td>504</td><td>SIR</td><td>Staten Island</td><td>Clifton</td><td>SI</td><td>false</td><td>SIR</td><td>Elevated</td><td>40.621319</td><td>-74.071402</td><td>Ferry</td><td>South Shore</td><td>0</td><td>0</td><td>0</td><td>null</td><td>POINT (-74.071402 40.621319)</td><td>2025-03-09T07:18:46.888Z</td><td>data.gov</td></tr><tr><td>S13</td><td>519</td><td>519</td><td>SIR</td><td>Staten Island</td><td>Richmond Valley</td><td>SI</td><td>false</td><td>SIR</td><td>Open Cut</td><td>40.519631</td><td>-74.229141</td><td>Ferry</td><td>Tottenville</td><td>0</td><td>0</td><td>0</td><td>null</td><td>POINT (-74.229141 40.519631)</td><td>2025-03-09T07:18:46.888Z</td><td>data.gov</td></tr><tr><td>S24</td><td>508</td><td>508</td><td>SIR</td><td>Staten Island</td><td>Jefferson Av</td><td>SI</td><td>false</td><td>SIR</td><td>Embankment</td><td>40.583591</td><td>-74.103338</td><td>Ferry</td><td>South Shore</td><td>0</td><td>0</td><td>0</td><td>null</td><td>POINT (-74.103338 40.583591)</td><td>2025-03-09T07:18:46.888Z</td><td>data.gov</td></tr><tr><td>S31</td><td>501</td><td>501</td><td>SIR</td><td>Staten Island</td><td>St George</td><td>SI</td><td>false</td><td>SIR</td><td>Open Cut</td><td>40.643748</td><td>-74.073643</td><td>Last Stop</td><td>South Shore</td><td>1</td><td>1</td><td>1</td><td>null</td><td>POINT (-74.073643 40.643748)</td><td>2025-03-09T07:18:46.888Z</td><td>data.gov</td></tr><tr><td>S14</td><td>518</td><td>518</td><td>SIR</td><td>Staten Island</td><td>Pleasant Plains</td><td>SI</td><td>false</td><td>SIR</td><td>Embankment</td><td>40.52241</td><td>-74.217847</td><td>Ferry</td><td>South Shore</td><td>0</td><td>0</td><td>0</td><td>null</td><td>POINT (-74.217847 40.52241)</td><td>2025-03-09T07:18:46.888Z</td><td>data.gov</td></tr><tr><td>S19</td><td>513</td><td>513</td><td>SIR</td><td>Staten Island</td><td>Great Kills</td><td>SI</td><td>false</td><td>SIR</td><td>Open Cut</td><td>40.551231</td><td>-74.151399</td><td>Ferry</td><td>South Shore</td><td>1</td><td>1</td><td>1</td><td>null</td><td>POINT (-74.151399 40.551231)</td><td>2025-03-09T07:18:46.888Z</td><td>data.gov</td></tr><tr><td>S23</td><td>509</td><td>509</td><td>SIR</td><td>Staten Island</td><td>Grant City</td><td>SI</td><td>false</td><td>SIR</td><td>Open Cut</td><td>40.578965</td><td>-74.109704</td><td>Ferry</td><td>South Shore</td><td>0</td><td>0</td><td>0</td><td>null</td><td>POINT (-74.109704 40.578965)</td><td>2025-03-09T07:18:46.888Z</td><td>data.gov</td></tr><tr><td>S09</td><td>522</td><td>522</td><td>SIR</td><td>Staten Island</td><td>Tottenville</td><td>SI</td><td>false</td><td>SIR</td><td>At Grade</td><td>40.512764</td><td>-74.251961</td><td>Ferry</td><td>Last Stop</td><td>1</td><td>1</td><td>1</td><td>null</td><td>POINT (-74.251961 40.512764)</td><td>2025-03-09T07:18:46.888Z</td><td>data.gov</td></tr><tr><td>S27</td><td>505</td><td>505</td><td>SIR</td><td>Staten Island</td><td>Grasmere</td><td>SI</td><td>false</td><td>SIR</td><td>Open Cut</td><td>40.603117</td><td>-74.084087</td><td>Ferry</td><td>South Shore</td><td>0</td><td>0</td><td>0</td><td>null</td><td>POINT (-74.084087 40.603117)</td><td>2025-03-09T07:18:46.888Z</td><td>data.gov</td></tr></tbody></table></div>"
      ]
     },
     "metadata": {
      "application/vnd.databricks.v1+output": {
       "addedWidgets": {},
       "aggData": [],
       "aggError": "",
       "aggOverflow": false,
       "aggSchema": [],
       "aggSeriesLimitReached": false,
       "aggType": "",
       "arguments": {},
       "columnCustomDisplayInfos": {},
       "data": [
        [
         "S18",
         514,
         514,
         "SIR",
         "Staten Island",
         "Eltingville",
         "SI",
         false,
         "SIR",
         "Embankment",
         40.544601,
         -74.16457,
         "Ferry",
         "South Shore",
         0,
         0,
         0,
         null,
         "POINT (-74.16457 40.544601)",
         "2025-03-09T07:18:46.888Z",
         "data.gov"
        ],
        [
         "S28",
         504,
         504,
         "SIR",
         "Staten Island",
         "Clifton",
         "SI",
         false,
         "SIR",
         "Elevated",
         40.621319,
         -74.071402,
         "Ferry",
         "South Shore",
         0,
         0,
         0,
         null,
         "POINT (-74.071402 40.621319)",
         "2025-03-09T07:18:46.888Z",
         "data.gov"
        ],
        [
         "S13",
         519,
         519,
         "SIR",
         "Staten Island",
         "Richmond Valley",
         "SI",
         false,
         "SIR",
         "Open Cut",
         40.519631,
         -74.229141,
         "Ferry",
         "Tottenville",
         0,
         0,
         0,
         null,
         "POINT (-74.229141 40.519631)",
         "2025-03-09T07:18:46.888Z",
         "data.gov"
        ],
        [
         "S24",
         508,
         508,
         "SIR",
         "Staten Island",
         "Jefferson Av",
         "SI",
         false,
         "SIR",
         "Embankment",
         40.583591,
         -74.103338,
         "Ferry",
         "South Shore",
         0,
         0,
         0,
         null,
         "POINT (-74.103338 40.583591)",
         "2025-03-09T07:18:46.888Z",
         "data.gov"
        ],
        [
         "S31",
         501,
         501,
         "SIR",
         "Staten Island",
         "St George",
         "SI",
         false,
         "SIR",
         "Open Cut",
         40.643748,
         -74.073643,
         "Last Stop",
         "South Shore",
         1,
         1,
         1,
         null,
         "POINT (-74.073643 40.643748)",
         "2025-03-09T07:18:46.888Z",
         "data.gov"
        ],
        [
         "S14",
         518,
         518,
         "SIR",
         "Staten Island",
         "Pleasant Plains",
         "SI",
         false,
         "SIR",
         "Embankment",
         40.52241,
         -74.217847,
         "Ferry",
         "South Shore",
         0,
         0,
         0,
         null,
         "POINT (-74.217847 40.52241)",
         "2025-03-09T07:18:46.888Z",
         "data.gov"
        ],
        [
         "S19",
         513,
         513,
         "SIR",
         "Staten Island",
         "Great Kills",
         "SI",
         false,
         "SIR",
         "Open Cut",
         40.551231,
         -74.151399,
         "Ferry",
         "South Shore",
         1,
         1,
         1,
         null,
         "POINT (-74.151399 40.551231)",
         "2025-03-09T07:18:46.888Z",
         "data.gov"
        ],
        [
         "S23",
         509,
         509,
         "SIR",
         "Staten Island",
         "Grant City",
         "SI",
         false,
         "SIR",
         "Open Cut",
         40.578965,
         -74.109704,
         "Ferry",
         "South Shore",
         0,
         0,
         0,
         null,
         "POINT (-74.109704 40.578965)",
         "2025-03-09T07:18:46.888Z",
         "data.gov"
        ],
        [
         "S09",
         522,
         522,
         "SIR",
         "Staten Island",
         "Tottenville",
         "SI",
         false,
         "SIR",
         "At Grade",
         40.512764,
         -74.251961,
         "Ferry",
         "Last Stop",
         1,
         1,
         1,
         null,
         "POINT (-74.251961 40.512764)",
         "2025-03-09T07:18:46.888Z",
         "data.gov"
        ],
        [
         "S27",
         505,
         505,
         "SIR",
         "Staten Island",
         "Grasmere",
         "SI",
         false,
         "SIR",
         "Open Cut",
         40.603117,
         -74.084087,
         "Ferry",
         "South Shore",
         0,
         0,
         0,
         null,
         "POINT (-74.084087 40.603117)",
         "2025-03-09T07:18:46.888Z",
         "data.gov"
        ]
       ],
       "datasetInfos": [],
       "dbfsResultPath": null,
       "isJsonSchema": true,
       "metadata": {
        "createTempViewForImplicitDf": true,
        "dataframeName": "_sqldf",
        "executionCount": 27
       },
       "overflow": false,
       "plotOptions": {
        "customPlotOptions": {},
        "displayType": "table",
        "pivotAggregation": null,
        "pivotColumns": null,
        "xColumns": null,
        "yColumns": null
       },
       "removedWidgets": [],
       "schema": [
        {
         "metadata": "{}",
         "name": "stn_gtfs_stop_id",
         "type": "\"string\""
        },
        {
         "metadata": "{}",
         "name": "stn_id",
         "type": "\"integer\""
        },
        {
         "metadata": "{}",
         "name": "stn_complex_id",
         "type": "\"integer\""
        },
        {
         "metadata": "{}",
         "name": "stn_division",
         "type": "\"string\""
        },
        {
         "metadata": "{}",
         "name": "stn_line",
         "type": "\"string\""
        },
        {
         "metadata": "{}",
         "name": "stn_stop_name",
         "type": "\"string\""
        },
        {
         "metadata": "{}",
         "name": "stn_borough",
         "type": "\"string\""
        },
        {
         "metadata": "{}",
         "name": "stn_cbd",
         "type": "\"boolean\""
        },
        {
         "metadata": "{}",
         "name": "stn_daytime_routes",
         "type": "\"string\""
        },
        {
         "metadata": "{}",
         "name": "stn_structure",
         "type": "\"string\""
        },
        {
         "metadata": "{}",
         "name": "stn_gtfs_latitude",
         "type": "\"double\""
        },
        {
         "metadata": "{}",
         "name": "stn_gtfs_longitude",
         "type": "\"double\""
        },
        {
         "metadata": "{}",
         "name": "stn_north_direction_lbl",
         "type": "\"string\""
        },
        {
         "metadata": "{}",
         "name": "stn_south_direction_lbl",
         "type": "\"string\""
        },
        {
         "metadata": "{}",
         "name": "stn_ada",
         "type": "\"integer\""
        },
        {
         "metadata": "{}",
         "name": "stn_ada_northbound",
         "type": "\"integer\""
        },
        {
         "metadata": "{}",
         "name": "stn_ada_southbound",
         "type": "\"integer\""
        },
        {
         "metadata": "{}",
         "name": "stn_ada_notes",
         "type": "\"string\""
        },
        {
         "metadata": "{}",
         "name": "stn_georeference",
         "type": "\"string\""
        },
        {
         "metadata": "{}",
         "name": "stn_ingestion_date",
         "type": "\"timestamp\""
        },
        {
         "metadata": "{}",
         "name": "stn_source",
         "type": "\"string\""
        }
       ],
       "type": "table"
      }
     },
     "output_type": "display_data"
    }
   ],
   "source": [
    "%sql\n",
    "SELECT * FROM mta_bronze.station LIMIT 10;"
   ]
  },
  {
   "cell_type": "code",
   "execution_count": 0,
   "metadata": {
    "application/vnd.databricks.v1+cell": {
     "cellMetadata": {
      "byteLimit": 2048000,
      "rowLimit": 10000
     },
     "inputWidgets": {},
     "nuid": "0184d7c3-c959-4a9a-ab0e-78341b10612b",
     "showTitle": false,
     "tableResultSettingsMap": {},
     "title": ""
    }
   },
   "outputs": [],
   "source": [
    "dbutils.notebook.exit(\"Success\")"
   ]
  }
 ],
 "metadata": {
  "application/vnd.databricks.v1+notebook": {
   "computePreferences": null,
   "dashboards": [],
   "environmentMetadata": {
    "base_environment": "",
    "environment_version": "2"
   },
   "language": "python",
   "notebookMetadata": {
    "mostRecentlyExecutedCommandWithImplicitDF": {
     "commandId": 559300330669358,
     "dataframes": [
      "_sqldf"
     ]
    },
    "pythonIndentUnit": 4
   },
   "notebookName": "bronze_station",
   "widgets": {}
  },
  "language_info": {
   "name": "python"
  }
 },
 "nbformat": 4,
 "nbformat_minor": 0
}
