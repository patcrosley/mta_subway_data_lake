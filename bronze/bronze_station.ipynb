{
 "cells": [
  {
   "cell_type": "code",
   "execution_count": 0,
   "metadata": {
    "application/vnd.databricks.v1+cell": {
     "cellMetadata": {
      "byteLimit": 2048000,
      "rowLimit": 10000
     },
     "inputWidgets": {},
     "nuid": "8dfecec7-5acb-4da4-badb-ebb79fa0c4e4",
     "showTitle": false,
     "tableResultSettingsMap": {},
     "title": ""
    }
   },
   "outputs": [],
   "source": [
    "%run \"../utils/custom_functions\""
   ]
  },
  {
   "cell_type": "code",
   "execution_count": 0,
   "metadata": {
    "application/vnd.databricks.v1+cell": {
     "cellMetadata": {
      "byteLimit": 2048000,
      "rowLimit": 10000
     },
     "inputWidgets": {},
     "nuid": "03e17867-70f2-47b0-b7e7-21b250336d79",
     "showTitle": false,
     "tableResultSettingsMap": {},
     "title": ""
    }
   },
   "outputs": [],
   "source": [
    "from pyspark.sql.types import StructType, StructField, IntegerType, StringType, DoubleType, BooleanType\n",
    "from pyspark.sql.functions import lit"
   ]
  },
  {
   "cell_type": "code",
   "execution_count": 0,
   "metadata": {
    "application/vnd.databricks.v1+cell": {
     "cellMetadata": {
      "byteLimit": 2048000,
      "rowLimit": 10000
     },
     "inputWidgets": {},
     "nuid": "adab0d02-b113-48f9-8e42-da8d78ca75f1",
     "showTitle": false,
     "tableResultSettingsMap": {},
     "title": ""
    }
   },
   "outputs": [],
   "source": [
    "station_schema = StructType(fields=[\n",
    "    StructField(\"GTFS Stop ID\", StringType(), False),\n",
    "    StructField(\"Station ID\", IntegerType(), False),\n",
    "    StructField(\"Complex ID\", IntegerType(), False),\n",
    "    StructField(\"Division\", StringType(), False),\n",
    "    StructField(\"Line\", StringType(), False),\n",
    "    StructField(\"Stop Name\", StringType(), False),\n",
    "    StructField(\"Borough\", StringType(), False),\n",
    "    StructField(\"CBD\", BooleanType(), False),\n",
    "    StructField(\"Daytime Routes\", StringType(), False),\n",
    "    StructField(\"Structure\", StringType(), False),\n",
    "    StructField(\"GTFS Latitude\", DoubleType(), False),\n",
    "    StructField(\"GTFS Longitude\", DoubleType(), False),\n",
    "    StructField(\"North Direction Label\", StringType(), False),\n",
    "    StructField(\"South Direction Label\", StringType(), False),\n",
    "    StructField(\"ADA\", IntegerType(), False),\n",
    "    StructField(\"ADA Northbound\", IntegerType(), False),\n",
    "    StructField(\"ADA Southbound\", IntegerType(), False),\n",
    "    StructField(\"ADA Notes\", StringType(), True),\n",
    "    StructField(\"Georeference\", StringType(), False)\n",
    "    ])"
   ]
  },
  {
   "cell_type": "code",
   "execution_count": 0,
   "metadata": {
    "application/vnd.databricks.v1+cell": {
     "cellMetadata": {
      "byteLimit": 2048000,
      "rowLimit": 10000
     },
     "inputWidgets": {},
     "nuid": "52af5858-df8f-4873-a367-33ff2d6aac27",
     "showTitle": false,
     "tableResultSettingsMap": {},
     "title": ""
    }
   },
   "outputs": [],
   "source": [
    "station_df = spark.read \\\n",
    "    .option(\"header\", True) \\\n",
    "    .schema(station_schema) \\\n",
    "    .csv(\"/mnt/mtasubwaydl/raw/mta_subway_stations.csv\")"
   ]
  },
  {
   "cell_type": "code",
   "execution_count": 0,
   "metadata": {
    "application/vnd.databricks.v1+cell": {
     "cellMetadata": {
      "byteLimit": 2048000,
      "rowLimit": 10000
     },
     "inputWidgets": {},
     "nuid": "68879b20-e7c1-4e9d-a79d-e123a3d09dbb",
     "showTitle": false,
     "tableResultSettingsMap": {},
     "title": ""
    }
   },
   "outputs": [],
   "source": [
    "station_renamed_df = station_df \\\n",
    "    .withColumnRenamed(\"GTFS Stop ID\", \"stn_gtfs_stop_id\") \\\n",
    "    .withColumnRenamed(\"Station ID\", \"stn_id\") \\\n",
    "    .withColumnRenamed(\"Complex ID\", \"stn_complex_id\") \\\n",
    "    .withColumnRenamed(\"Division\", \"stn_division\") \\\n",
    "    .withColumnRenamed(\"Line\", \"stn_line\") \\\n",
    "    .withColumnRenamed(\"Stop Name\", \"stn_stop_name\") \\\n",
    "    .withColumnRenamed(\"Borough\", \"stn_borough\") \\\n",
    "    .withColumnRenamed(\"CBD\", \"stn_cbd\") \\\n",
    "    .withColumnRenamed(\"Daytime Routes\", \"stn_daytime_routes\") \\\n",
    "    .withColumnRenamed(\"Structure\", \"stn_structure\") \\\n",
    "    .withColumnRenamed(\"GTFS Latitude\", \"stn_gtfs_latitude\") \\\n",
    "    .withColumnRenamed(\"GTFS Longitude\", \"stn_gtfs_longitude\") \\\n",
    "    .withColumnRenamed(\"North Direction Label\", \"stn_north_direction_lbl\") \\\n",
    "    .withColumnRenamed(\"South Direction Label\", \"stn_south_direction_lbl\") \\\n",
    "    .withColumnRenamed(\"ADA\", \"stn_ada\") \\\n",
    "    .withColumnRenamed(\"ADA Northbound\", \"stn_ada_northbound\") \\\n",
    "    .withColumnRenamed(\"ADA Southbound\", \"stn_ada_southbound\") \\\n",
    "    .withColumnRenamed(\"ADA Notes\", \"stn_ada_notes\") \\\n",
    "    .withColumnRenamed(\"Georeference\", \"stn_georeference\")"
   ]
  },
  {
   "cell_type": "code",
   "execution_count": 0,
   "metadata": {
    "application/vnd.databricks.v1+cell": {
     "cellMetadata": {
      "byteLimit": 2048000,
      "rowLimit": 10000
     },
     "inputWidgets": {},
     "nuid": "faa71af2-0ae4-4e5c-9331-422058bdf7f5",
     "showTitle": false,
     "tableResultSettingsMap": {},
     "title": ""
    }
   },
   "outputs": [],
   "source": [
    "station_final_df = add_ingestion_date(station_renamed_df, alias=\"stn\") \\\n",
    "    .withColumn(\"stn_source\", lit(\"data.gov\"))"
   ]
  },
  {
   "cell_type": "code",
   "execution_count": 0,
   "metadata": {
    "application/vnd.databricks.v1+cell": {
     "cellMetadata": {
      "byteLimit": 2048000,
      "rowLimit": 10000
     },
     "inputWidgets": {},
     "nuid": "56ff86e4-8ffb-4e6e-a440-c0eba34df29b",
     "showTitle": false,
     "tableResultSettingsMap": {},
     "title": ""
    }
   },
   "outputs": [],
   "source": [
    "station_final_df.write.mode(\"overwrite\").format(\"delta\").partitionBy(\"stn_borough\").save(\"/mnt/mtasubwaydl/bronze/station\")\n",
    "\n",
    "if not spark.catalog.tableExists(\"mta_bronze.station\"):\n",
    "    spark.catalog.createTable(\n",
    "        tableName=\"mta_bronze.station\",\n",
    "        path=\"/mnt/mtasubwaydl/bronze/station\",\n",
    "        source=\"delta\"\n",
    ")"
   ]
  },
  {
   "cell_type": "code",
   "execution_count": 0,
   "metadata": {
    "application/vnd.databricks.v1+cell": {
     "cellMetadata": {
      "byteLimit": 2048000,
      "implicitDf": true,
      "rowLimit": 10000
     },
     "inputWidgets": {},
     "nuid": "15e3efc3-ab26-41e9-a87c-179a6b188ebd",
     "showTitle": false,
     "tableResultSettingsMap": {},
     "title": ""
    }
   },
   "outputs": [],
   "source": [
    "%sql\n",
    "SELECT * FROM mta_bronze.station LIMIT 20;"
   ]
  },
  {
   "cell_type": "code",
   "execution_count": 0,
   "metadata": {
    "application/vnd.databricks.v1+cell": {
     "cellMetadata": {
      "byteLimit": 2048000,
      "rowLimit": 10000
     },
     "inputWidgets": {},
     "nuid": "0184d7c3-c959-4a9a-ab0e-78341b10612b",
     "showTitle": false,
     "tableResultSettingsMap": {},
     "title": ""
    }
   },
   "outputs": [],
   "source": [
    "dbutils.notebook.exit(\"Success\")"
   ]
  }
 ],
 "metadata": {
  "application/vnd.databricks.v1+notebook": {
   "computePreferences": null,
   "dashboards": [],
   "environmentMetadata": {
    "base_environment": "",
    "environment_version": "2"
   },
   "language": "python",
   "notebookMetadata": {
    "mostRecentlyExecutedCommandWithImplicitDF": {
     "commandId": 559300330669358,
     "dataframes": [
      "_sqldf"
     ]
    },
    "pythonIndentUnit": 4
   },
   "notebookName": "bronze_station",
   "widgets": {}
  },
  "language_info": {
   "name": "python"
  }
 },
 "nbformat": 4,
 "nbformat_minor": 0
}
