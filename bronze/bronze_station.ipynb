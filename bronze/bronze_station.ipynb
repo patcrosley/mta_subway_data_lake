{
 "cells": [
  {
   "cell_type": "code",
   "execution_count": 0,
   "metadata": {
    "application/vnd.databricks.v1+cell": {
     "cellMetadata": {
      "byteLimit": 2048000,
      "rowLimit": 10000
     },
     "inputWidgets": {},
     "nuid": "8dfecec7-5acb-4da4-badb-ebb79fa0c4e4",
     "showTitle": false,
     "tableResultSettingsMap": {},
     "title": ""
    }
   },
   "outputs": [],
   "source": [
    "%run \"../utils/custom_functions\""
   ]
  },
  {
   "cell_type": "code",
   "execution_count": 0,
   "metadata": {
    "application/vnd.databricks.v1+cell": {
     "cellMetadata": {
      "byteLimit": 2048000,
      "rowLimit": 10000
     },
     "inputWidgets": {},
     "nuid": "03e17867-70f2-47b0-b7e7-21b250336d79",
     "showTitle": false,
     "tableResultSettingsMap": {},
     "title": ""
    }
   },
   "outputs": [],
   "source": [
    "from pyspark.sql.types import StructType, StructField, IntegerType, StringType, DoubleType, BooleanType\n",
    "from pyspark.sql.functions import lit"
   ]
  },
  {
   "cell_type": "code",
   "execution_count": 0,
   "metadata": {
    "application/vnd.databricks.v1+cell": {
     "cellMetadata": {
      "byteLimit": 2048000,
      "rowLimit": 10000
     },
     "inputWidgets": {},
     "nuid": "adab0d02-b113-48f9-8e42-da8d78ca75f1",
     "showTitle": false,
     "tableResultSettingsMap": {},
     "title": ""
    }
   },
   "outputs": [],
   "source": [
    "station_schema = StructType(fields=[\n",
    "    StructField(\"GTFS Stop ID\", StringType(), False),\n",
    "    StructField(\"Station ID\", IntegerType(), False),\n",
    "    StructField(\"Complex ID\", IntegerType(), False),\n",
    "    StructField(\"Division\", StringType(), False),\n",
    "    StructField(\"Line\", StringType(), False),\n",
    "    StructField(\"Stop Name\", StringType(), False),\n",
    "    StructField(\"Borough\", StringType(), False),\n",
    "    StructField(\"CBD\", BooleanType(), False),\n",
    "    StructField(\"Daytime Routes\", StringType(), False),\n",
    "    StructField(\"Structure\", StringType(), False),\n",
    "    StructField(\"GTFS Latitude\", DoubleType(), False),\n",
    "    StructField(\"GTFS Longitude\", DoubleType(), False),\n",
    "    StructField(\"North Direction Label\", StringType(), False),\n",
    "    StructField(\"South Direction Label\", StringType(), False),\n",
    "    StructField(\"ADA\", IntegerType(), False),\n",
    "    StructField(\"ADA Northbound\", IntegerType(), False),\n",
    "    StructField(\"ADA Southbound\", IntegerType(), False),\n",
    "    StructField(\"ADA Notes\", StringType(), True),\n",
    "    StructField(\"Georeference\", StringType(), False)\n",
    "    ])"
   ]
  },
  {
   "cell_type": "code",
   "execution_count": 0,
   "metadata": {
    "application/vnd.databricks.v1+cell": {
     "cellMetadata": {
      "byteLimit": 2048000,
      "rowLimit": 10000
     },
     "inputWidgets": {},
     "nuid": "52af5858-df8f-4873-a367-33ff2d6aac27",
     "showTitle": false,
     "tableResultSettingsMap": {},
     "title": ""
    }
   },
   "outputs": [],
   "source": [
    "station_df = spark.read \\\n",
    "    .option(\"header\", True) \\\n",
    "    .schema(station_schema) \\\n",
    "    .csv(\"/mnt/mtasubwaydl/raw/mta_subway_stations.csv\")"
   ]
  },
  {
   "cell_type": "code",
   "execution_count": 0,
   "metadata": {
    "application/vnd.databricks.v1+cell": {
     "cellMetadata": {
      "byteLimit": 2048000,
      "rowLimit": 10000
     },
     "inputWidgets": {},
     "nuid": "68879b20-e7c1-4e9d-a79d-e123a3d09dbb",
     "showTitle": false,
     "tableResultSettingsMap": {},
     "title": ""
    }
   },
   "outputs": [],
   "source": [
    "station_renamed_df = station_df \\\n",
    "    .withColumnRenamed(\"GTFS Stop ID\", \"stn_gtfs_stop_id\") \\\n",
    "    .withColumnRenamed(\"Station ID\", \"stn_id\") \\\n",
    "    .withColumnRenamed(\"Complex ID\", \"stn_complex_id\") \\\n",
    "    .withColumnRenamed(\"Division\", \"stn_division\") \\\n",
    "    .withColumnRenamed(\"Line\", \"stn_line\") \\\n",
    "    .withColumnRenamed(\"Stop Name\", \"stn_stop_name\") \\\n",
    "    .withColumnRenamed(\"Borough\", \"stn_borough\") \\\n",
    "    .withColumnRenamed(\"CBD\", \"stn_cbd\") \\\n",
    "    .withColumnRenamed(\"Daytime Routes\", \"stn_daytime_routes\") \\\n",
    "    .withColumnRenamed(\"Structure\", \"stn_structure\") \\\n",
    "    .withColumnRenamed(\"GTFS Latitude\", \"stn_gtfs_latitude\") \\\n",
    "    .withColumnRenamed(\"GTFS Longitude\", \"stn_gtfs_longitude\") \\\n",
    "    .withColumnRenamed(\"North Direction Label\", \"stn_north_direction_lbl\") \\\n",
    "    .withColumnRenamed(\"South Direction Label\", \"stn_south_direction_lbl\") \\\n",
    "    .withColumnRenamed(\"ADA\", \"stn_ada\") \\\n",
    "    .withColumnRenamed(\"ADA Northbound\", \"stn_ada_northbound\") \\\n",
    "    .withColumnRenamed(\"ADA Southbound\", \"stn_ada_southbound\") \\\n",
    "    .withColumnRenamed(\"ADA Notes\", \"stn_ada_notes\") \\\n",
    "    .withColumnRenamed(\"Georeference\", \"stn_georeference\")"
   ]
  },
  {
   "cell_type": "code",
   "execution_count": 0,
   "metadata": {
    "application/vnd.databricks.v1+cell": {
     "cellMetadata": {
      "byteLimit": 2048000,
      "rowLimit": 10000
     },
     "inputWidgets": {},
     "nuid": "faa71af2-0ae4-4e5c-9331-422058bdf7f5",
     "showTitle": false,
     "tableResultSettingsMap": {},
     "title": ""
    }
   },
   "outputs": [],
   "source": [
    "station_final_df = add_ingestion_date(station_renamed_df, alias=\"stn\") \\\n",
    "    .withColumn(\"stn_source\", lit(\"data.gov\"))"
   ]
  },
  {
   "cell_type": "code",
   "execution_count": 0,
   "metadata": {
    "application/vnd.databricks.v1+cell": {
     "cellMetadata": {
      "byteLimit": 2048000,
      "rowLimit": 10000
     },
     "inputWidgets": {},
     "nuid": "56ff86e4-8ffb-4e6e-a440-c0eba34df29b",
     "showTitle": false,
     "tableResultSettingsMap": {},
     "title": ""
    }
   },
   "outputs": [],
   "source": [
    "station_final_df.write \\\n",
    "    .mode(\"overwrite\") \\\n",
    "    .format(\"delta\") \\\n",
    "    .partitionBy(\"stn_borough\") \\\n",
    "    .save(\"/mnt/mtasubwaydl/bronze/station\")\n",
    "\n",
    "if not spark.catalog.tableExists(\"mta_bronze.station\"):\n",
    "    spark.catalog.createTable(\n",
    "        tableName=\"mta_bronze.station\",\n",
    "        path=\"/mnt/mtasubwaydl/bronze/station\",\n",
    "        source=\"delta\"\n",
    ")"
   ]
  },
  {
   "cell_type": "code",
   "execution_count": 0,
   "metadata": {
    "application/vnd.databricks.v1+cell": {
     "cellMetadata": {
      "byteLimit": 2048000,
      "implicitDf": true,
      "rowLimit": 10000
     },
     "inputWidgets": {},
     "nuid": "15e3efc3-ab26-41e9-a87c-179a6b188ebd",
     "showTitle": false,
     "tableResultSettingsMap": {},
     "title": ""
    }
   },
   "outputs": [
    {
     "output_type": "display_data",
     "data": {
      "text/html": [
       "<style scoped>\n",
       "  .table-result-container {\n",
       "    max-height: 300px;\n",
       "    overflow: auto;\n",
       "  }\n",
       "  table, th, td {\n",
       "    border: 1px solid black;\n",
       "    border-collapse: collapse;\n",
       "  }\n",
       "  th, td {\n",
       "    padding: 5px;\n",
       "  }\n",
       "  th {\n",
       "    text-align: left;\n",
       "  }\n",
       "</style><div class='table-result-container'><table class='table-result'><thead style='background-color: white'><tr><th>stn_gtfs_stop_id</th><th>stn_id</th><th>stn_complex_id</th><th>stn_division</th><th>stn_line</th><th>stn_stop_name</th><th>stn_borough</th><th>stn_cbd</th><th>stn_daytime_routes</th><th>stn_structure</th><th>stn_gtfs_latitude</th><th>stn_gtfs_longitude</th><th>stn_north_direction_lbl</th><th>stn_south_direction_lbl</th><th>stn_ada</th><th>stn_ada_northbound</th><th>stn_ada_southbound</th><th>stn_ada_notes</th><th>stn_georeference</th><th>stn_ingestion_date</th><th>stn_source</th></tr></thead><tbody><tr><td>J15</td><td>83</td><td>83</td><td>BMT</td><td>Jamaica</td><td>Woodhaven Blvd</td><td>Q</td><td>false</td><td>J Z</td><td>Elevated</td><td>40.693879</td><td>-73.851576</td><td>Jamaica</td><td>Manhattan</td><td>1</td><td>1</td><td>1</td><td>null</td><td>POINT (-73.851576 40.693879)</td><td>2025-03-09T06:42:58.45Z</td><td>data.gov</td></tr><tr><td>718</td><td>461</td><td>461</td><td>IRT</td><td>Flushing</td><td>Queensboro Plaza</td><td>Q</td><td>false</td><td>7</td><td>Elevated</td><td>40.750582</td><td>-73.940202</td><td>Outbound</td><td>Manhattan</td><td>1</td><td>1</td><td>1</td><td>null</td><td>POINT (-73.940202 40.750582)</td><td>2025-03-09T06:42:58.45Z</td><td>data.gov</td></tr><tr><td>H12</td><td>200</td><td>200</td><td>IND</td><td>Rockaway</td><td>Beach 90 St</td><td>Q</td><td>false</td><td>A S</td><td>Viaduct</td><td>40.588034</td><td>-73.813641</td><td>Inbound</td><td>Rockaway Park</td><td>0</td><td>0</td><td>0</td><td>null</td><td>POINT (-73.813641 40.588034)</td><td>2025-03-09T06:42:58.45Z</td><td>data.gov</td></tr><tr><td>G10</td><td>263</td><td>263</td><td>IND</td><td>Queens Blvd</td><td>63 Dr-Rego Park</td><td>Q</td><td>false</td><td>M R</td><td>Subway</td><td>40.729846</td><td>-73.861604</td><td>Outbound</td><td>Manhattan</td><td>0</td><td>0</td><td>0</td><td>null</td><td>POINT (-73.861604 40.729846)</td><td>2025-03-09T06:42:58.45Z</td><td>data.gov</td></tr><tr><td>712</td><td>456</td><td>456</td><td>IRT</td><td>Flushing</td><td>61 St-Woodside</td><td>Q</td><td>false</td><td>7</td><td>Elevated</td><td>40.74563</td><td>-73.902984</td><td>Outbound</td><td>Manhattan</td><td>1</td><td>1</td><td>1</td><td>null</td><td>POINT (-73.902984 40.74563)</td><td>2025-03-09T06:42:58.45Z</td><td>data.gov</td></tr><tr><td>A65</td><td>195</td><td>195</td><td>IND</td><td>Liberty Av</td><td>Ozone Park-Lefferts Blvd</td><td>Q</td><td>false</td><td>A</td><td>Elevated</td><td>40.685951</td><td>-73.825798</td><td>Manhattan</td><td>Last Stop</td><td>1</td><td>1</td><td>1</td><td>null</td><td>POINT (-73.825798 40.685951)</td><td>2025-03-09T06:42:58.45Z</td><td>data.gov</td></tr><tr><td>721</td><td>464</td><td>464</td><td>IRT</td><td>Flushing</td><td>Vernon Blvd-Jackson Av</td><td>Q</td><td>false</td><td>7</td><td>Subway</td><td>40.742626</td><td>-73.953581</td><td>Outbound</td><td>Manhattan</td><td>0</td><td>0</td><td>0</td><td>null</td><td>POINT (-73.953581 40.742626)</td><td>2025-03-09T06:42:58.45Z</td><td>data.gov</td></tr><tr><td>706</td><td>450</td><td>450</td><td>IRT</td><td>Flushing</td><td>103 St-Corona Plaza</td><td>Q</td><td>false</td><td>7</td><td>Elevated</td><td>40.749865</td><td>-73.8627</td><td>Outbound</td><td>Manhattan</td><td>0</td><td>0</td><td>0</td><td>null</td><td>POINT (-73.8627 40.749865)</td><td>2025-03-09T06:42:58.45Z</td><td>data.gov</td></tr><tr><td>R03</td><td>2</td><td>2</td><td>BMT</td><td>Astoria</td><td>Astoria Blvd</td><td>Q</td><td>false</td><td>N W</td><td>Elevated</td><td>40.770258</td><td>-73.917843</td><td>Astoria</td><td>Manhattan</td><td>1</td><td>1</td><td>1</td><td>null</td><td>POINT (-73.917843 40.770258)</td><td>2025-03-09T06:42:58.45Z</td><td>data.gov</td></tr><tr><td>G14</td><td>267</td><td>616</td><td>IND</td><td>Queens Blvd</td><td>Jackson Hts-Roosevelt Av</td><td>Q</td><td>false</td><td>E F M R</td><td>Subway</td><td>40.746644</td><td>-73.891338</td><td>Outbound</td><td>Manhattan</td><td>1</td><td>1</td><td>1</td><td>null</td><td>POINT (-73.891338 40.746644)</td><td>2025-03-09T06:42:58.45Z</td><td>data.gov</td></tr><tr><td>A59</td><td>190</td><td>190</td><td>IND</td><td>Liberty Av</td><td>80 St</td><td>Q</td><td>false</td><td>A</td><td>Elevated</td><td>40.679371</td><td>-73.858992</td><td>Manhattan</td><td>Outbound</td><td>0</td><td>0</td><td>0</td><td>null</td><td>POINT (-73.858992 40.679371)</td><td>2025-03-09T06:42:58.45Z</td><td>data.gov</td></tr><tr><td>G05</td><td>278</td><td>278</td><td>IND</td><td>Queens - Archer</td><td>Jamaica Center-Parsons/Archer</td><td>Q</td><td>false</td><td>E J Z</td><td>Subway</td><td>40.702147</td><td>-73.801109</td><td>Last Stop</td><td>Manhattan</td><td>1</td><td>1</td><td>1</td><td>null</td><td>POINT (-73.801109 40.702147)</td><td>2025-03-09T06:42:58.45Z</td><td>data.gov</td></tr><tr><td>H09</td><td>207</td><td>207</td><td>IND</td><td>Rockaway</td><td>Beach 36 St</td><td>Q</td><td>false</td><td>A</td><td>Viaduct</td><td>40.595398</td><td>-73.768175</td><td>Manhattan</td><td>Far Rockaway</td><td>0</td><td>0</td><td>0</td><td>null</td><td>POINT (-73.768175 40.595398)</td><td>2025-03-09T06:42:58.45Z</td><td>data.gov</td></tr><tr><td>F03</td><td>256</td><td>256</td><td>IND</td><td>Queens Blvd</td><td>Parsons Blvd</td><td>Q</td><td>false</td><td>F</td><td>Subway</td><td>40.707564</td><td>-73.803326</td><td>Jamaica</td><td>Manhattan</td><td>0</td><td>0</td><td>0</td><td>null</td><td>POINT (-73.803326 40.707564)</td><td>2025-03-09T06:42:58.45Z</td><td>data.gov</td></tr><tr><td>G19</td><td>271</td><td>271</td><td>IND</td><td>Queens Blvd</td><td>Steinway St</td><td>Q</td><td>false</td><td>M R</td><td>Subway</td><td>40.756879</td><td>-73.92074</td><td>Outbound</td><td>Manhattan</td><td>0</td><td>0</td><td>0</td><td>null</td><td>POINT (-73.92074 40.756879)</td><td>2025-03-09T06:42:58.45Z</td><td>data.gov</td></tr><tr><td>F09</td><td>274</td><td>606</td><td>IND</td><td>Queens Blvd</td><td>Court Sq-23 St</td><td>Q</td><td>false</td><td>E M</td><td>Subway</td><td>40.747846</td><td>-73.946</td><td>Outbound</td><td>Manhattan</td><td>2</td><td>1</td><td>0</td><td>Manhattan-bound only</td><td>POINT (-73.946 40.747846)</td><td>2025-03-09T06:42:58.45Z</td><td>data.gov</td></tr><tr><td>H15</td><td>203</td><td>203</td><td>IND</td><td>Rockaway</td><td>Rockaway Park-Beach 116 St</td><td>Q</td><td>false</td><td>A S</td><td>At Grade</td><td>40.580903</td><td>-73.835592</td><td>Inbound</td><td>Last Stop</td><td>1</td><td>1</td><td>1</td><td>null</td><td>POINT (-73.835592 40.580903)</td><td>2025-03-09T06:42:58.45Z</td><td>data.gov</td></tr><tr><td>M06</td><td>111</td><td>111</td><td>BMT</td><td>Myrtle Av</td><td>Seneca Av</td><td>Q</td><td>false</td><td>M</td><td>Elevated</td><td>40.702762</td><td>-73.90774</td><td>Inbound</td><td>Middle Village</td><td>0</td><td>0</td><td>0</td><td>null</td><td>POINT (-73.90774 40.702762)</td><td>2025-03-09T06:42:58.45Z</td><td>data.gov</td></tr><tr><td>F06</td><td>259</td><td>259</td><td>IND</td><td>Queens Blvd</td><td>Kew Gardens-Union Tpke</td><td>Q</td><td>false</td><td>E F</td><td>Subway</td><td>40.714441</td><td>-73.831008</td><td>Jamaica</td><td>Manhattan</td><td>1</td><td>1</td><td>1</td><td>null</td><td>POINT (-73.831008 40.714441)</td><td>2025-03-09T06:42:58.45Z</td><td>data.gov</td></tr><tr><td>716</td><td>460</td><td>460</td><td>IRT</td><td>Flushing</td><td>33 St-Rawson St</td><td>Q</td><td>false</td><td>7</td><td>Elevated</td><td>40.744587</td><td>-73.930997</td><td>Outbound</td><td>Manhattan</td><td>0</td><td>0</td><td>0</td><td>null</td><td>POINT (-73.930997 40.744587)</td><td>2025-03-09T06:42:58.45Z</td><td>data.gov</td></tr></tbody></table></div>"
      ]
     },
     "metadata": {
      "application/vnd.databricks.v1+output": {
       "addedWidgets": {},
       "aggData": [],
       "aggError": "",
       "aggOverflow": false,
       "aggSchema": [],
       "aggSeriesLimitReached": false,
       "aggType": "",
       "arguments": {},
       "columnCustomDisplayInfos": {},
       "data": [
        [
         "J15",
         83,
         83,
         "BMT",
         "Jamaica",
         "Woodhaven Blvd",
         "Q",
         false,
         "J Z",
         "Elevated",
         40.693879,
         -73.851576,
         "Jamaica",
         "Manhattan",
         1,
         1,
         1,
         null,
         "POINT (-73.851576 40.693879)",
         "2025-03-09T06:42:58.45Z",
         "data.gov"
        ],
        [
         "718",
         461,
         461,
         "IRT",
         "Flushing",
         "Queensboro Plaza",
         "Q",
         false,
         "7",
         "Elevated",
         40.750582,
         -73.940202,
         "Outbound",
         "Manhattan",
         1,
         1,
         1,
         null,
         "POINT (-73.940202 40.750582)",
         "2025-03-09T06:42:58.45Z",
         "data.gov"
        ],
        [
         "H12",
         200,
         200,
         "IND",
         "Rockaway",
         "Beach 90 St",
         "Q",
         false,
         "A S",
         "Viaduct",
         40.588034,
         -73.813641,
         "Inbound",
         "Rockaway Park",
         0,
         0,
         0,
         null,
         "POINT (-73.813641 40.588034)",
         "2025-03-09T06:42:58.45Z",
         "data.gov"
        ],
        [
         "G10",
         263,
         263,
         "IND",
         "Queens Blvd",
         "63 Dr-Rego Park",
         "Q",
         false,
         "M R",
         "Subway",
         40.729846,
         -73.861604,
         "Outbound",
         "Manhattan",
         0,
         0,
         0,
         null,
         "POINT (-73.861604 40.729846)",
         "2025-03-09T06:42:58.45Z",
         "data.gov"
        ],
        [
         "712",
         456,
         456,
         "IRT",
         "Flushing",
         "61 St-Woodside",
         "Q",
         false,
         "7",
         "Elevated",
         40.74563,
         -73.902984,
         "Outbound",
         "Manhattan",
         1,
         1,
         1,
         null,
         "POINT (-73.902984 40.74563)",
         "2025-03-09T06:42:58.45Z",
         "data.gov"
        ],
        [
         "A65",
         195,
         195,
         "IND",
         "Liberty Av",
         "Ozone Park-Lefferts Blvd",
         "Q",
         false,
         "A",
         "Elevated",
         40.685951,
         -73.825798,
         "Manhattan",
         "Last Stop",
         1,
         1,
         1,
         null,
         "POINT (-73.825798 40.685951)",
         "2025-03-09T06:42:58.45Z",
         "data.gov"
        ],
        [
         "721",
         464,
         464,
         "IRT",
         "Flushing",
         "Vernon Blvd-Jackson Av",
         "Q",
         false,
         "7",
         "Subway",
         40.742626,
         -73.953581,
         "Outbound",
         "Manhattan",
         0,
         0,
         0,
         null,
         "POINT (-73.953581 40.742626)",
         "2025-03-09T06:42:58.45Z",
         "data.gov"
        ],
        [
         "706",
         450,
         450,
         "IRT",
         "Flushing",
         "103 St-Corona Plaza",
         "Q",
         false,
         "7",
         "Elevated",
         40.749865,
         -73.8627,
         "Outbound",
         "Manhattan",
         0,
         0,
         0,
         null,
         "POINT (-73.8627 40.749865)",
         "2025-03-09T06:42:58.45Z",
         "data.gov"
        ],
        [
         "R03",
         2,
         2,
         "BMT",
         "Astoria",
         "Astoria Blvd",
         "Q",
         false,
         "N W",
         "Elevated",
         40.770258,
         -73.917843,
         "Astoria",
         "Manhattan",
         1,
         1,
         1,
         null,
         "POINT (-73.917843 40.770258)",
         "2025-03-09T06:42:58.45Z",
         "data.gov"
        ],
        [
         "G14",
         267,
         616,
         "IND",
         "Queens Blvd",
         "Jackson Hts-Roosevelt Av",
         "Q",
         false,
         "E F M R",
         "Subway",
         40.746644,
         -73.891338,
         "Outbound",
         "Manhattan",
         1,
         1,
         1,
         null,
         "POINT (-73.891338 40.746644)",
         "2025-03-09T06:42:58.45Z",
         "data.gov"
        ],
        [
         "A59",
         190,
         190,
         "IND",
         "Liberty Av",
         "80 St",
         "Q",
         false,
         "A",
         "Elevated",
         40.679371,
         -73.858992,
         "Manhattan",
         "Outbound",
         0,
         0,
         0,
         null,
         "POINT (-73.858992 40.679371)",
         "2025-03-09T06:42:58.45Z",
         "data.gov"
        ],
        [
         "G05",
         278,
         278,
         "IND",
         "Queens - Archer",
         "Jamaica Center-Parsons/Archer",
         "Q",
         false,
         "E J Z",
         "Subway",
         40.702147,
         -73.801109,
         "Last Stop",
         "Manhattan",
         1,
         1,
         1,
         null,
         "POINT (-73.801109 40.702147)",
         "2025-03-09T06:42:58.45Z",
         "data.gov"
        ],
        [
         "H09",
         207,
         207,
         "IND",
         "Rockaway",
         "Beach 36 St",
         "Q",
         false,
         "A",
         "Viaduct",
         40.595398,
         -73.768175,
         "Manhattan",
         "Far Rockaway",
         0,
         0,
         0,
         null,
         "POINT (-73.768175 40.595398)",
         "2025-03-09T06:42:58.45Z",
         "data.gov"
        ],
        [
         "F03",
         256,
         256,
         "IND",
         "Queens Blvd",
         "Parsons Blvd",
         "Q",
         false,
         "F",
         "Subway",
         40.707564,
         -73.803326,
         "Jamaica",
         "Manhattan",
         0,
         0,
         0,
         null,
         "POINT (-73.803326 40.707564)",
         "2025-03-09T06:42:58.45Z",
         "data.gov"
        ],
        [
         "G19",
         271,
         271,
         "IND",
         "Queens Blvd",
         "Steinway St",
         "Q",
         false,
         "M R",
         "Subway",
         40.756879,
         -73.92074,
         "Outbound",
         "Manhattan",
         0,
         0,
         0,
         null,
         "POINT (-73.92074 40.756879)",
         "2025-03-09T06:42:58.45Z",
         "data.gov"
        ],
        [
         "F09",
         274,
         606,
         "IND",
         "Queens Blvd",
         "Court Sq-23 St",
         "Q",
         false,
         "E M",
         "Subway",
         40.747846,
         -73.946,
         "Outbound",
         "Manhattan",
         2,
         1,
         0,
         "Manhattan-bound only",
         "POINT (-73.946 40.747846)",
         "2025-03-09T06:42:58.45Z",
         "data.gov"
        ],
        [
         "H15",
         203,
         203,
         "IND",
         "Rockaway",
         "Rockaway Park-Beach 116 St",
         "Q",
         false,
         "A S",
         "At Grade",
         40.580903,
         -73.835592,
         "Inbound",
         "Last Stop",
         1,
         1,
         1,
         null,
         "POINT (-73.835592 40.580903)",
         "2025-03-09T06:42:58.45Z",
         "data.gov"
        ],
        [
         "M06",
         111,
         111,
         "BMT",
         "Myrtle Av",
         "Seneca Av",
         "Q",
         false,
         "M",
         "Elevated",
         40.702762,
         -73.90774,
         "Inbound",
         "Middle Village",
         0,
         0,
         0,
         null,
         "POINT (-73.90774 40.702762)",
         "2025-03-09T06:42:58.45Z",
         "data.gov"
        ],
        [
         "F06",
         259,
         259,
         "IND",
         "Queens Blvd",
         "Kew Gardens-Union Tpke",
         "Q",
         false,
         "E F",
         "Subway",
         40.714441,
         -73.831008,
         "Jamaica",
         "Manhattan",
         1,
         1,
         1,
         null,
         "POINT (-73.831008 40.714441)",
         "2025-03-09T06:42:58.45Z",
         "data.gov"
        ],
        [
         "716",
         460,
         460,
         "IRT",
         "Flushing",
         "33 St-Rawson St",
         "Q",
         false,
         "7",
         "Elevated",
         40.744587,
         -73.930997,
         "Outbound",
         "Manhattan",
         0,
         0,
         0,
         null,
         "POINT (-73.930997 40.744587)",
         "2025-03-09T06:42:58.45Z",
         "data.gov"
        ]
       ],
       "datasetInfos": [],
       "dbfsResultPath": null,
       "isJsonSchema": true,
       "metadata": {
        "createTempViewForImplicitDf": true,
        "dataframeName": "_sqldf",
        "executionCount": 13
       },
       "overflow": false,
       "plotOptions": {
        "customPlotOptions": {},
        "displayType": "table",
        "pivotAggregation": null,
        "pivotColumns": null,
        "xColumns": null,
        "yColumns": null
       },
       "removedWidgets": [],
       "schema": [
        {
         "metadata": "{}",
         "name": "stn_gtfs_stop_id",
         "type": "\"string\""
        },
        {
         "metadata": "{}",
         "name": "stn_id",
         "type": "\"integer\""
        },
        {
         "metadata": "{}",
         "name": "stn_complex_id",
         "type": "\"integer\""
        },
        {
         "metadata": "{}",
         "name": "stn_division",
         "type": "\"string\""
        },
        {
         "metadata": "{}",
         "name": "stn_line",
         "type": "\"string\""
        },
        {
         "metadata": "{}",
         "name": "stn_stop_name",
         "type": "\"string\""
        },
        {
         "metadata": "{}",
         "name": "stn_borough",
         "type": "\"string\""
        },
        {
         "metadata": "{}",
         "name": "stn_cbd",
         "type": "\"boolean\""
        },
        {
         "metadata": "{}",
         "name": "stn_daytime_routes",
         "type": "\"string\""
        },
        {
         "metadata": "{}",
         "name": "stn_structure",
         "type": "\"string\""
        },
        {
         "metadata": "{}",
         "name": "stn_gtfs_latitude",
         "type": "\"double\""
        },
        {
         "metadata": "{}",
         "name": "stn_gtfs_longitude",
         "type": "\"double\""
        },
        {
         "metadata": "{}",
         "name": "stn_north_direction_lbl",
         "type": "\"string\""
        },
        {
         "metadata": "{}",
         "name": "stn_south_direction_lbl",
         "type": "\"string\""
        },
        {
         "metadata": "{}",
         "name": "stn_ada",
         "type": "\"integer\""
        },
        {
         "metadata": "{}",
         "name": "stn_ada_northbound",
         "type": "\"integer\""
        },
        {
         "metadata": "{}",
         "name": "stn_ada_southbound",
         "type": "\"integer\""
        },
        {
         "metadata": "{}",
         "name": "stn_ada_notes",
         "type": "\"string\""
        },
        {
         "metadata": "{}",
         "name": "stn_georeference",
         "type": "\"string\""
        },
        {
         "metadata": "{}",
         "name": "stn_ingestion_date",
         "type": "\"timestamp\""
        },
        {
         "metadata": "{}",
         "name": "stn_source",
         "type": "\"string\""
        }
       ],
       "type": "table"
      }
     },
     "output_type": "display_data"
    }
   ],
   "source": [
    "%sql\n",
    "SELECT * FROM mta_bronze.station LIMIT 20;"
   ]
  },
  {
   "cell_type": "code",
   "execution_count": 0,
   "metadata": {
    "application/vnd.databricks.v1+cell": {
     "cellMetadata": {
      "byteLimit": 2048000,
      "rowLimit": 10000
     },
     "inputWidgets": {},
     "nuid": "0184d7c3-c959-4a9a-ab0e-78341b10612b",
     "showTitle": false,
     "tableResultSettingsMap": {},
     "title": ""
    }
   },
   "outputs": [],
   "source": [
    "dbutils.notebook.exit(\"Success\")"
   ]
  }
 ],
 "metadata": {
  "application/vnd.databricks.v1+notebook": {
   "computePreferences": null,
   "dashboards": [],
   "environmentMetadata": {
    "base_environment": "",
    "environment_version": "2"
   },
   "language": "python",
   "notebookMetadata": {
    "mostRecentlyExecutedCommandWithImplicitDF": {
     "commandId": 559300330669358,
     "dataframes": [
      "_sqldf"
     ]
    },
    "pythonIndentUnit": 4
   },
   "notebookName": "bronze_station",
   "widgets": {}
  },
  "language_info": {
   "name": "python"
  }
 },
 "nbformat": 4,
 "nbformat_minor": 0
}
