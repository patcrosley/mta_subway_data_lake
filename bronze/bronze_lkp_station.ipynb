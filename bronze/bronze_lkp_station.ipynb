{
 "cells": [
  {
   "cell_type": "code",
   "execution_count": 0,
   "metadata": {
    "application/vnd.databricks.v1+cell": {
     "cellMetadata": {
      "byteLimit": 2048000,
      "rowLimit": 10000
     },
     "inputWidgets": {},
     "nuid": "735bec99-a2df-426e-891d-679b3485e496",
     "showTitle": false,
     "tableResultSettingsMap": {},
     "title": ""
    }
   },
   "outputs": [],
   "source": [
    "%run \"../utils/custom_functions\""
   ]
  },
  {
   "cell_type": "code",
   "execution_count": 0,
   "metadata": {
    "application/vnd.databricks.v1+cell": {
     "cellMetadata": {
      "byteLimit": 2048000,
      "rowLimit": 10000
     },
     "inputWidgets": {},
     "nuid": "404c7e92-caf6-46a9-8c77-03253b14121e",
     "showTitle": false,
     "tableResultSettingsMap": {},
     "title": ""
    }
   },
   "outputs": [],
   "source": [
    "from pyspark.sql.types import StructType, StructField, StringType\n",
    "from pyspark.sql.functions import col, lit"
   ]
  },
  {
   "cell_type": "code",
   "execution_count": 0,
   "metadata": {
    "application/vnd.databricks.v1+cell": {
     "cellMetadata": {
      "byteLimit": 2048000,
      "rowLimit": 10000
     },
     "inputWidgets": {},
     "nuid": "6c381a0b-a087-46cb-94fd-508cf7075a35",
     "showTitle": false,
     "tableResultSettingsMap": {},
     "title": ""
    }
   },
   "outputs": [],
   "source": [
    "lkp_station_schema = StructType(fields=[\n",
    "    StructField(\"abbreviation\", StringType(), False),\n",
    "    StructField(\"name\", StringType(), False)\n",
    "])"
   ]
  },
  {
   "cell_type": "code",
   "execution_count": 0,
   "metadata": {
    "application/vnd.databricks.v1+cell": {
     "cellMetadata": {
      "byteLimit": 2048000,
      "rowLimit": 10000
     },
     "inputWidgets": {},
     "nuid": "a88866fe-0165-47f4-a3e4-6e9673d2ad1c",
     "showTitle": false,
     "tableResultSettingsMap": {},
     "title": ""
    }
   },
   "outputs": [],
   "source": [
    "lkp_station_df = spark.read \\\n",
    "    .option(\"header\", \"true\") \\\n",
    "    .csv(\"/mnt/mtasubwaydl/raw/station_abbreviation.csv\") \\\n",
    "    .select(\n",
    "        col(\"abbreviation\").alias(\"lks_abbr\"),\n",
    "        col(\"name\").alias(\"lks_name\")\n",
    "    )"
   ]
  },
  {
   "cell_type": "code",
   "execution_count": 0,
   "metadata": {
    "application/vnd.databricks.v1+cell": {
     "cellMetadata": {
      "byteLimit": 2048000,
      "rowLimit": 10000
     },
     "inputWidgets": {},
     "nuid": "0ec7ab7a-e46d-4046-9fdc-4036d8b34a3a",
     "showTitle": false,
     "tableResultSettingsMap": {},
     "title": ""
    }
   },
   "outputs": [],
   "source": [
    "lkp_station_final_df = add_ingestion_date(lkp_station_df, alias=\"lks\") \\\n",
    "    .withColumn(\"lks_source\", lit(\"data.gov\"))"
   ]
  },
  {
   "cell_type": "code",
   "execution_count": 0,
   "metadata": {
    "application/vnd.databricks.v1+cell": {
     "cellMetadata": {
      "byteLimit": 2048000,
      "rowLimit": 10000
     },
     "inputWidgets": {},
     "nuid": "8d5616f7-a8ce-498e-b5b4-bded08c48daa",
     "showTitle": false,
     "tableResultSettingsMap": {},
     "title": ""
    }
   },
   "outputs": [],
   "source": [
    "lkp_station_final_df.write \\\n",
    "    .mode(\"overwrite\") \\\n",
    "    .format(\"delta\") \\\n",
    "    .save(\"/mnt/mtasubwaydl/bronze/lkp_station\")\n",
    "\n",
    "if not spark.catalog.tableExists(\"mta_bronze.lkp_station\"):\n",
    "    spark.catalog.createTable(\n",
    "        tableName=\"mta_bronze.lkp_station\",\n",
    "        path=\"/mnt/mtasubwaydl/bronze/lkp_station\",\n",
    "        source=\"delta\"\n",
    ")"
   ]
  },
  {
   "cell_type": "code",
   "execution_count": 0,
   "metadata": {
    "application/vnd.databricks.v1+cell": {
     "cellMetadata": {
      "byteLimit": 2048000,
      "implicitDf": true,
      "rowLimit": 10000
     },
     "inputWidgets": {},
     "nuid": "c618f2d8-460f-4404-8fbc-4fb8cba442fc",
     "showTitle": false,
     "tableResultSettingsMap": {},
     "title": ""
    }
   },
   "outputs": [
    {
     "output_type": "display_data",
     "data": {
      "text/html": [
       "<style scoped>\n",
       "  .table-result-container {\n",
       "    max-height: 300px;\n",
       "    overflow: auto;\n",
       "  }\n",
       "  table, th, td {\n",
       "    border: 1px solid black;\n",
       "    border-collapse: collapse;\n",
       "  }\n",
       "  th, td {\n",
       "    padding: 5px;\n",
       "  }\n",
       "  th {\n",
       "    text-align: left;\n",
       "  }\n",
       "</style><div class='table-result-container'><table class='table-result'><thead style='background-color: white'><tr><th>lks_abbr</th><th>lks_name</th><th>lks_ingestion_date</th><th>lks_source</th></tr></thead><tbody><tr><td>1 Av</td><td>1st Avenue</td><td>2025-03-09T07:17:58.534Z</td><td>data.gov</td></tr><tr><td>103 St</td><td>103rd Street</td><td>2025-03-09T07:17:58.534Z</td><td>data.gov</td></tr><tr><td>103 St-Corona Plaza</td><td>103rd Street-Corona Plaza</td><td>2025-03-09T07:17:58.534Z</td><td>data.gov</td></tr><tr><td>103rd St</td><td>103rd Street</td><td>2025-03-09T07:17:58.534Z</td><td>data.gov</td></tr><tr><td>104 St</td><td>104th Street</td><td>2025-03-09T07:17:58.534Z</td><td>data.gov</td></tr><tr><td>110 St</td><td>110th Street</td><td>2025-03-09T07:17:58.534Z</td><td>data.gov</td></tr><tr><td>110th St</td><td>110th Street</td><td>2025-03-09T07:17:58.534Z</td><td>data.gov</td></tr><tr><td>110th St/Central Park N</td><td>110th Street/Central Park North</td><td>2025-03-09T07:17:58.534Z</td><td>data.gov</td></tr><tr><td>110thSt</td><td>110th Street</td><td>2025-03-09T07:17:58.534Z</td><td>data.gov</td></tr><tr><td>111 St</td><td>111th Street</td><td>2025-03-09T07:17:58.534Z</td><td>data.gov</td></tr></tbody></table></div>"
      ]
     },
     "metadata": {
      "application/vnd.databricks.v1+output": {
       "addedWidgets": {},
       "aggData": [],
       "aggError": "",
       "aggOverflow": false,
       "aggSchema": [],
       "aggSeriesLimitReached": false,
       "aggType": "",
       "arguments": {},
       "columnCustomDisplayInfos": {},
       "data": [
        [
         "1 Av",
         "1st Avenue",
         "2025-03-09T07:17:58.534Z",
         "data.gov"
        ],
        [
         "103 St",
         "103rd Street",
         "2025-03-09T07:17:58.534Z",
         "data.gov"
        ],
        [
         "103 St-Corona Plaza",
         "103rd Street-Corona Plaza",
         "2025-03-09T07:17:58.534Z",
         "data.gov"
        ],
        [
         "103rd St",
         "103rd Street",
         "2025-03-09T07:17:58.534Z",
         "data.gov"
        ],
        [
         "104 St",
         "104th Street",
         "2025-03-09T07:17:58.534Z",
         "data.gov"
        ],
        [
         "110 St",
         "110th Street",
         "2025-03-09T07:17:58.534Z",
         "data.gov"
        ],
        [
         "110th St",
         "110th Street",
         "2025-03-09T07:17:58.534Z",
         "data.gov"
        ],
        [
         "110th St/Central Park N",
         "110th Street/Central Park North",
         "2025-03-09T07:17:58.534Z",
         "data.gov"
        ],
        [
         "110thSt",
         "110th Street",
         "2025-03-09T07:17:58.534Z",
         "data.gov"
        ],
        [
         "111 St",
         "111th Street",
         "2025-03-09T07:17:58.534Z",
         "data.gov"
        ]
       ],
       "datasetInfos": [],
       "dbfsResultPath": null,
       "isJsonSchema": true,
       "metadata": {
        "createTempViewForImplicitDf": true,
        "dataframeName": "_sqldf",
        "executionCount": 25
       },
       "overflow": false,
       "plotOptions": {
        "customPlotOptions": {},
        "displayType": "table",
        "pivotAggregation": null,
        "pivotColumns": null,
        "xColumns": null,
        "yColumns": null
       },
       "removedWidgets": [],
       "schema": [
        {
         "metadata": "{}",
         "name": "lks_abbr",
         "type": "\"string\""
        },
        {
         "metadata": "{}",
         "name": "lks_name",
         "type": "\"string\""
        },
        {
         "metadata": "{}",
         "name": "lks_ingestion_date",
         "type": "\"timestamp\""
        },
        {
         "metadata": "{}",
         "name": "lks_source",
         "type": "\"string\""
        }
       ],
       "type": "table"
      }
     },
     "output_type": "display_data"
    }
   ],
   "source": [
    "%sql\n",
    "SELECT * FROM mta_bronze.lkp_station LIMIT 10;"
   ]
  },
  {
   "cell_type": "code",
   "execution_count": 0,
   "metadata": {
    "application/vnd.databricks.v1+cell": {
     "cellMetadata": {
      "byteLimit": 2048000,
      "rowLimit": 10000
     },
     "inputWidgets": {},
     "nuid": "e431da29-2c27-4d9a-8705-0790ad803e7c",
     "showTitle": false,
     "tableResultSettingsMap": {},
     "title": ""
    }
   },
   "outputs": [],
   "source": [
    "dbutils.notebook.exit(\"Success\")"
   ]
  }
 ],
 "metadata": {
  "application/vnd.databricks.v1+notebook": {
   "computePreferences": null,
   "dashboards": [],
   "environmentMetadata": {
    "base_environment": "",
    "environment_version": "2"
   },
   "language": "python",
   "notebookMetadata": {
    "mostRecentlyExecutedCommandWithImplicitDF": {
     "commandId": 559300330669395,
     "dataframes": [
      "_sqldf"
     ]
    },
    "pythonIndentUnit": 4
   },
   "notebookName": "bronze_lkp_station",
   "widgets": {}
  },
  "language_info": {
   "name": "python"
  }
 },
 "nbformat": 4,
 "nbformat_minor": 0
}
