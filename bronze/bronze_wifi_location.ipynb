{
 "cells": [
  {
   "cell_type": "code",
   "execution_count": 0,
   "metadata": {
    "application/vnd.databricks.v1+cell": {
     "cellMetadata": {
      "byteLimit": 2048000,
      "rowLimit": 10000
     },
     "inputWidgets": {},
     "nuid": "0e246df3-7bda-4283-8580-37b1bffd792f",
     "showTitle": false,
     "tableResultSettingsMap": {},
     "title": ""
    }
   },
   "outputs": [],
   "source": [
    "%run \"../utils/custom_functions\""
   ]
  },
  {
   "cell_type": "code",
   "execution_count": 0,
   "metadata": {
    "application/vnd.databricks.v1+cell": {
     "cellMetadata": {
      "byteLimit": 2048000,
      "rowLimit": 10000
     },
     "inputWidgets": {},
     "nuid": "76347445-c653-416e-8975-b981600692a2",
     "showTitle": false,
     "tableResultSettingsMap": {},
     "title": ""
    }
   },
   "outputs": [],
   "source": [
    "from pyspark.sql.types import StructType, StructField, IntegerType, StringType, DoubleType, BooleanType\n",
    "from pyspark.sql.functions import lit"
   ]
  },
  {
   "cell_type": "code",
   "execution_count": 0,
   "metadata": {
    "application/vnd.databricks.v1+cell": {
     "cellMetadata": {
      "byteLimit": 2048000,
      "rowLimit": 10000
     },
     "inputWidgets": {},
     "nuid": "a2d3caa0-7e7a-47bd-9835-84b4a6610616",
     "showTitle": false,
     "tableResultSettingsMap": {},
     "title": ""
    }
   },
   "outputs": [],
   "source": [
    "wifi_location_schema = StructType(fields=[\n",
    "    StructField(\"STATION\", StringType(), False),\n",
    "    StructField(\"STATION_COMPLEX\", StringType(), False),\n",
    "    StructField(\"LINES\", StringType(), False),\n",
    "    StructField(\"IS_HISTORICAL\", StringType(), False),\n",
    "    StructField(\"BOROUGH\", StringType(), False),\n",
    "    StructField(\"COUNTY\", StringType(), False),\n",
    "    StructField(\"LATITUDE\", DoubleType(), False),\n",
    "    StructField(\"LONGITUDE\", DoubleType(), False),\n",
    "    StructField(\"WIFI_AVAILABLE\", StringType(), False),\n",
    "    StructField(\"ATT\", StringType(), False),\n",
    "    StructField(\"SPRINT\", StringType(), False),\n",
    "    StructField(\"TMOBILE\", StringType(), False),\n",
    "    StructField(\"VERIZON\", StringType(), False),\n",
    "    StructField(\"Location\", StringType(), False),\n",
    "    StructField(\"Georeference\", StringType(), False)\n",
    "    ])"
   ]
  },
  {
   "cell_type": "code",
   "execution_count": 0,
   "metadata": {
    "application/vnd.databricks.v1+cell": {
     "cellMetadata": {
      "byteLimit": 2048000,
      "rowLimit": 10000
     },
     "inputWidgets": {},
     "nuid": "34475b89-43a3-4cc2-9221-d03590b3a4ea",
     "showTitle": false,
     "tableResultSettingsMap": {},
     "title": ""
    }
   },
   "outputs": [],
   "source": [
    "wifi_location_df = spark.read \\\n",
    "    .option(\"header\", True) \\\n",
    "    .option(\"schema\", wifi_location_schema) \\\n",
    "    .csv(\"/mnt/mtasubwaydl/raw/mta_wi-fi_locations.csv\")"
   ]
  },
  {
   "cell_type": "code",
   "execution_count": 0,
   "metadata": {
    "application/vnd.databricks.v1+cell": {
     "cellMetadata": {
      "byteLimit": 2048000,
      "rowLimit": 10000
     },
     "inputWidgets": {},
     "nuid": "6a5e00e6-d9f1-4f69-906a-dec4baa19251",
     "showTitle": false,
     "tableResultSettingsMap": {},
     "title": ""
    }
   },
   "outputs": [],
   "source": [
    "wifi_location_renamed_df = wifi_location_df \\\n",
    "    .withColumnRenamed(\"STATION\", \"wfi_station\") \\\n",
    "    .withColumnRenamed(\"STATION_COMPLEX\", \"wfi_station_complex\") \\\n",
    "    .withColumnRenamed(\"LINES\", \"wfi_lines\") \\\n",
    "    .withColumnRenamed(\"IS_HISTORICAL\", \"wfi_is_historical\") \\\n",
    "    .withColumnRenamed(\"BOROUGH\", \"wfi_borough\") \\\n",
    "    .withColumnRenamed(\"COUNTY\", \"wfi_county\") \\\n",
    "    .withColumnRenamed(\"LATITUDE\", \"wfi_latitude\") \\\n",
    "    .withColumnRenamed(\"LONGITUDE\", \"wfi_longitude\") \\\n",
    "    .withColumnRenamed(\"WIFI_AVAILABLE\", \"wfi_wifi_available\") \\\n",
    "    .withColumnRenamed(\"ATT\", \"wfi_att\") \\\n",
    "    .withColumnRenamed(\"SPRINT\", \"wfi_sprint\") \\\n",
    "    .withColumnRenamed(\"TMOBILE\", \"wfi_tmobile\") \\\n",
    "    .withColumnRenamed(\"VERIZON\", \"wfi_verizon\") \\\n",
    "    .withColumnRenamed(\"Location\", \"wfi_location\") \\\n",
    "    .withColumnRenamed(\"Georeference\", \"wfi_georeference\")"
   ]
  },
  {
   "cell_type": "code",
   "execution_count": 0,
   "metadata": {
    "application/vnd.databricks.v1+cell": {
     "cellMetadata": {
      "byteLimit": 2048000,
      "rowLimit": 10000
     },
     "inputWidgets": {},
     "nuid": "96fd3d3a-0e51-4257-80ba-6fd3a8b8fa77",
     "showTitle": false,
     "tableResultSettingsMap": {},
     "title": ""
    }
   },
   "outputs": [],
   "source": [
    "wifi_location_final_df = add_ingestion_date(wifi_location_renamed_df, alias=\"wfi\") \\\n",
    "    .withColumn(\"wfi_source\", lit(\"data.gov\"))"
   ]
  },
  {
   "cell_type": "code",
   "execution_count": 0,
   "metadata": {
    "application/vnd.databricks.v1+cell": {
     "cellMetadata": {
      "byteLimit": 2048000,
      "rowLimit": 10000
     },
     "inputWidgets": {},
     "nuid": "7f1dae63-70a6-466e-b698-06c0891acdb5",
     "showTitle": false,
     "tableResultSettingsMap": {},
     "title": ""
    }
   },
   "outputs": [],
   "source": [
    "wifi_location_final_df.write \\\n",
    "    .mode(\"overwrite\") \\\n",
    "    .format(\"delta\") \\\n",
    "    .partitionBy(\"wfi_borough\") \\\n",
    "    .save(\"/mnt/mtasubwaydl/bronze/wifi_location\")\n",
    "\n",
    "if not spark.catalog.tableExists(\"mta_bronze.wifi_location\"):\n",
    "    spark.catalog.createTable(\n",
    "        tableName=\"mta_bronze.wifi_location\",\n",
    "        path=\"/mnt/mtasubwaydl/bronze/wifi_location\",\n",
    "        source=\"delta\"\n",
    ")"
   ]
  },
  {
   "cell_type": "code",
   "execution_count": 0,
   "metadata": {
    "application/vnd.databricks.v1+cell": {
     "cellMetadata": {
      "byteLimit": 2048000,
      "implicitDf": true,
      "rowLimit": 10000
     },
     "inputWidgets": {},
     "nuid": "0674b2ae-da3a-4c52-a745-3a10a60029f8",
     "showTitle": false,
     "tableResultSettingsMap": {},
     "title": ""
    }
   },
   "outputs": [
    {
     "output_type": "display_data",
     "data": {
      "text/html": [
       "<style scoped>\n",
       "  .table-result-container {\n",
       "    max-height: 300px;\n",
       "    overflow: auto;\n",
       "  }\n",
       "  table, th, td {\n",
       "    border: 1px solid black;\n",
       "    border-collapse: collapse;\n",
       "  }\n",
       "  th, td {\n",
       "    padding: 5px;\n",
       "  }\n",
       "  th {\n",
       "    text-align: left;\n",
       "  }\n",
       "</style><div class='table-result-container'><table class='table-result'><thead style='background-color: white'><tr><th>wfi_station</th><th>wfi_station_complex</th><th>wfi_lines</th><th>wfi_is_historical</th><th>wfi_borough</th><th>wfi_county</th><th>wfi_latitude</th><th>wfi_longitude</th><th>wfi_wifi_available</th><th>wfi_att</th><th>wfi_sprint</th><th>wfi_tmobile</th><th>wfi_verizon</th><th>wfi_location</th><th>wfi_georeference</th><th>wfi_ingestion_date</th><th>wfi_source</th></tr></thead><tbody><tr><td>135th St</td><td>135 St (B,C)</td><td>BC</td><td>No</td><td>Manhattan</td><td>New York County</td><td>40.817894</td><td>-73.947649</td><td>No</td><td>Yes</td><td>Yes</td><td>Yes</td><td>Yes</td><td>(40.817894, -73.947649)</td><td>POINT (-73.947649 40.817894)</td><td>2025-03-09T07:19:09.019Z</td><td>data.gov</td></tr><tr><td>7th Ave</td><td>7 Av (B,D,E)</td><td>BDE</td><td>No</td><td>Manhattan</td><td>New York County</td><td>40.762862</td><td>-73.981637</td><td>No</td><td>Yes</td><td>Yes</td><td>Yes</td><td>Yes</td><td>(40.762862, -73.981637)</td><td>POINT (-73.981637 40.762862)</td><td>2025-03-09T07:19:09.019Z</td><td>data.gov</td></tr><tr><td>Prince St</td><td>Prince St (N,R)</td><td>R</td><td>No</td><td>Manhattan</td><td>New York County</td><td>40.724329</td><td>-73.997702</td><td>No</td><td>No</td><td>Yes</td><td>No</td><td>No</td><td>(40.724329, -73.997702)</td><td>POINT (-73.997702 40.724329)</td><td>2025-03-09T07:19:09.019Z</td><td>data.gov</td></tr><tr><td>Essex St</td><td>Delancey St (F)/Essex St (J,M,Z)</td><td>JMZ</td><td>No</td><td>Manhattan</td><td>New York County</td><td>40.718315</td><td>-73.987437</td><td>No</td><td>Yes</td><td>Yes</td><td>Yes</td><td>Yes</td><td>(40.718315, -73.987437)</td><td>POINT (-73.987437 40.718315)</td><td>2025-03-09T07:19:09.019Z</td><td>data.gov</td></tr><tr><td>103rd St</td><td>103 St (6)</td><td>6</td><td>No</td><td>Manhattan</td><td>New York County</td><td>40.7906</td><td>-73.947478</td><td>No</td><td>Yes</td><td>Yes</td><td>Yes</td><td>Yes</td><td>(40.7906, -73.947478)</td><td>POINT (-73.947478 40.7906)</td><td>2025-03-09T07:19:09.019Z</td><td>data.gov</td></tr><tr><td>Broadway-Nassau</td><td>Fulton St (J,M,Z,2,3,4,5)/Bway-Nassau St (A,C)</td><td>AC</td><td>No</td><td>Manhattan</td><td>New York County</td><td>40.710197</td><td>-74.007691</td><td>No</td><td>Yes</td><td>Yes</td><td>Yes</td><td>Yes</td><td>(40.710197, -74.007691)</td><td>POINT (-74.007691 40.710197)</td><td>2025-03-09T07:19:09.019Z</td><td>data.gov</td></tr><tr><td>34th St</td><td>34 St-Penn Station (1,2,3)</td><td>123</td><td>No</td><td>Manhattan</td><td>New York County</td><td>40.750373</td><td>-73.991057</td><td>No</td><td>No</td><td>No</td><td>No</td><td>No</td><td>(40.750373, -73.991057)</td><td>POINT (-73.991057 40.750373)</td><td>2025-03-09T07:19:09.019Z</td><td>data.gov</td></tr><tr><td>103rd St</td><td>103 St (B,C)</td><td>BC</td><td>No</td><td>Manhattan</td><td>New York County</td><td>40.796092</td><td>-73.961454</td><td>No</td><td>Yes</td><td>Yes</td><td>Yes</td><td>Yes</td><td>(40.796092, -73.961454)</td><td>POINT (-73.961454 40.796092)</td><td>2025-03-09T07:19:09.019Z</td><td>data.gov</td></tr><tr><td>5th Ave</td><td>42 St-Bryant Pk (B,D,F,M)/5 Av (7)</td><td>7</td><td>No</td><td>Manhattan</td><td>New York County</td><td>40.753821</td><td>-73.981963</td><td>No</td><td>Yes</td><td>Yes</td><td>Yes</td><td>Yes</td><td>(40.753821, -73.981963)</td><td>POINT (-73.981963 40.753821)</td><td>2025-03-09T07:19:09.019Z</td><td>data.gov</td></tr><tr><td>145th St</td><td>145 St (3)</td><td>23</td><td>Yes</td><td>Manhattan</td><td>New York County</td><td>40.820421</td><td>-73.936245</td><td>No</td><td>Yes</td><td>Yes</td><td>Yes</td><td>Yes</td><td>(40.820421, -73.936245)</td><td>POINT (-73.936245 40.820421)</td><td>2025-03-09T07:19:09.019Z</td><td>data.gov</td></tr></tbody></table></div>"
      ]
     },
     "metadata": {
      "application/vnd.databricks.v1+output": {
       "addedWidgets": {},
       "aggData": [],
       "aggError": "",
       "aggOverflow": false,
       "aggSchema": [],
       "aggSeriesLimitReached": false,
       "aggType": "",
       "arguments": {},
       "columnCustomDisplayInfos": {},
       "data": [
        [
         "135th St",
         "135 St (B,C)",
         "BC",
         "No",
         "Manhattan",
         "New York County",
         "40.817894",
         "-73.947649",
         "No",
         "Yes",
         "Yes",
         "Yes",
         "Yes",
         "(40.817894, -73.947649)",
         "POINT (-73.947649 40.817894)",
         "2025-03-09T07:19:09.019Z",
         "data.gov"
        ],
        [
         "7th Ave",
         "7 Av (B,D,E)",
         "BDE",
         "No",
         "Manhattan",
         "New York County",
         "40.762862",
         "-73.981637",
         "No",
         "Yes",
         "Yes",
         "Yes",
         "Yes",
         "(40.762862, -73.981637)",
         "POINT (-73.981637 40.762862)",
         "2025-03-09T07:19:09.019Z",
         "data.gov"
        ],
        [
         "Prince St",
         "Prince St (N,R)",
         "R",
         "No",
         "Manhattan",
         "New York County",
         "40.724329",
         "-73.997702",
         "No",
         "No",
         "Yes",
         "No",
         "No",
         "(40.724329, -73.997702)",
         "POINT (-73.997702 40.724329)",
         "2025-03-09T07:19:09.019Z",
         "data.gov"
        ],
        [
         "Essex St",
         "Delancey St (F)/Essex St (J,M,Z)",
         "JMZ",
         "No",
         "Manhattan",
         "New York County",
         "40.718315",
         "-73.987437",
         "No",
         "Yes",
         "Yes",
         "Yes",
         "Yes",
         "(40.718315, -73.987437)",
         "POINT (-73.987437 40.718315)",
         "2025-03-09T07:19:09.019Z",
         "data.gov"
        ],
        [
         "103rd St",
         "103 St (6)",
         "6",
         "No",
         "Manhattan",
         "New York County",
         "40.7906",
         "-73.947478",
         "No",
         "Yes",
         "Yes",
         "Yes",
         "Yes",
         "(40.7906, -73.947478)",
         "POINT (-73.947478 40.7906)",
         "2025-03-09T07:19:09.019Z",
         "data.gov"
        ],
        [
         "Broadway-Nassau",
         "Fulton St (J,M,Z,2,3,4,5)/Bway-Nassau St (A,C)",
         "AC",
         "No",
         "Manhattan",
         "New York County",
         "40.710197",
         "-74.007691",
         "No",
         "Yes",
         "Yes",
         "Yes",
         "Yes",
         "(40.710197, -74.007691)",
         "POINT (-74.007691 40.710197)",
         "2025-03-09T07:19:09.019Z",
         "data.gov"
        ],
        [
         "34th St",
         "34 St-Penn Station (1,2,3)",
         "123",
         "No",
         "Manhattan",
         "New York County",
         "40.750373",
         "-73.991057",
         "No",
         "No",
         "No",
         "No",
         "No",
         "(40.750373, -73.991057)",
         "POINT (-73.991057 40.750373)",
         "2025-03-09T07:19:09.019Z",
         "data.gov"
        ],
        [
         "103rd St",
         "103 St (B,C)",
         "BC",
         "No",
         "Manhattan",
         "New York County",
         "40.796092",
         "-73.961454",
         "No",
         "Yes",
         "Yes",
         "Yes",
         "Yes",
         "(40.796092, -73.961454)",
         "POINT (-73.961454 40.796092)",
         "2025-03-09T07:19:09.019Z",
         "data.gov"
        ],
        [
         "5th Ave",
         "42 St-Bryant Pk (B,D,F,M)/5 Av (7)",
         "7",
         "No",
         "Manhattan",
         "New York County",
         "40.753821",
         "-73.981963",
         "No",
         "Yes",
         "Yes",
         "Yes",
         "Yes",
         "(40.753821, -73.981963)",
         "POINT (-73.981963 40.753821)",
         "2025-03-09T07:19:09.019Z",
         "data.gov"
        ],
        [
         "145th St",
         "145 St (3)",
         "23",
         "Yes",
         "Manhattan",
         "New York County",
         "40.820421",
         "-73.936245",
         "No",
         "Yes",
         "Yes",
         "Yes",
         "Yes",
         "(40.820421, -73.936245)",
         "POINT (-73.936245 40.820421)",
         "2025-03-09T07:19:09.019Z",
         "data.gov"
        ]
       ],
       "datasetInfos": [],
       "dbfsResultPath": null,
       "isJsonSchema": true,
       "metadata": {
        "createTempViewForImplicitDf": true,
        "dataframeName": "_sqldf",
        "executionCount": 41
       },
       "overflow": false,
       "plotOptions": {
        "customPlotOptions": {},
        "displayType": "table",
        "pivotAggregation": null,
        "pivotColumns": null,
        "xColumns": null,
        "yColumns": null
       },
       "removedWidgets": [],
       "schema": [
        {
         "metadata": "{}",
         "name": "wfi_station",
         "type": "\"string\""
        },
        {
         "metadata": "{}",
         "name": "wfi_station_complex",
         "type": "\"string\""
        },
        {
         "metadata": "{}",
         "name": "wfi_lines",
         "type": "\"string\""
        },
        {
         "metadata": "{}",
         "name": "wfi_is_historical",
         "type": "\"string\""
        },
        {
         "metadata": "{}",
         "name": "wfi_borough",
         "type": "\"string\""
        },
        {
         "metadata": "{}",
         "name": "wfi_county",
         "type": "\"string\""
        },
        {
         "metadata": "{}",
         "name": "wfi_latitude",
         "type": "\"string\""
        },
        {
         "metadata": "{}",
         "name": "wfi_longitude",
         "type": "\"string\""
        },
        {
         "metadata": "{}",
         "name": "wfi_wifi_available",
         "type": "\"string\""
        },
        {
         "metadata": "{}",
         "name": "wfi_att",
         "type": "\"string\""
        },
        {
         "metadata": "{}",
         "name": "wfi_sprint",
         "type": "\"string\""
        },
        {
         "metadata": "{}",
         "name": "wfi_tmobile",
         "type": "\"string\""
        },
        {
         "metadata": "{}",
         "name": "wfi_verizon",
         "type": "\"string\""
        },
        {
         "metadata": "{}",
         "name": "wfi_location",
         "type": "\"string\""
        },
        {
         "metadata": "{}",
         "name": "wfi_georeference",
         "type": "\"string\""
        },
        {
         "metadata": "{}",
         "name": "wfi_ingestion_date",
         "type": "\"timestamp\""
        },
        {
         "metadata": "{}",
         "name": "wfi_source",
         "type": "\"string\""
        }
       ],
       "type": "table"
      }
     },
     "output_type": "display_data"
    }
   ],
   "source": [
    "%sql\n",
    "SELECT * FROM mta_bronze.wifi_location LIMIT 10;"
   ]
  },
  {
   "cell_type": "code",
   "execution_count": 0,
   "metadata": {
    "application/vnd.databricks.v1+cell": {
     "cellMetadata": {
      "byteLimit": 2048000,
      "rowLimit": 10000
     },
     "inputWidgets": {},
     "nuid": "80210270-2291-4755-8047-d7d64b4a099d",
     "showTitle": false,
     "tableResultSettingsMap": {},
     "title": ""
    }
   },
   "outputs": [],
   "source": [
    "dbutils.notebook.exit(\"Success\")"
   ]
  }
 ],
 "metadata": {
  "application/vnd.databricks.v1+notebook": {
   "computePreferences": null,
   "dashboards": [],
   "environmentMetadata": {
    "base_environment": "",
    "environment_version": "2"
   },
   "language": "python",
   "notebookMetadata": {
    "mostRecentlyExecutedCommandWithImplicitDF": {
     "commandId": 559300330669365,
     "dataframes": [
      "_sqldf"
     ]
    },
    "pythonIndentUnit": 4
   },
   "notebookName": "bronze_wifi_location",
   "widgets": {}
  },
  "language_info": {
   "name": "python"
  }
 },
 "nbformat": 4,
 "nbformat_minor": 0
}
