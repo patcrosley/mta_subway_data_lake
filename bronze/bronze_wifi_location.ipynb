{
 "cells": [
  {
   "cell_type": "code",
   "execution_count": 0,
   "metadata": {
    "application/vnd.databricks.v1+cell": {
     "cellMetadata": {
      "byteLimit": 2048000,
      "rowLimit": 10000
     },
     "inputWidgets": {},
     "nuid": "0e246df3-7bda-4283-8580-37b1bffd792f",
     "showTitle": false,
     "tableResultSettingsMap": {},
     "title": ""
    }
   },
   "outputs": [],
   "source": [
    "%run \"../utils/custom_functions\""
   ]
  },
  {
   "cell_type": "code",
   "execution_count": 0,
   "metadata": {
    "application/vnd.databricks.v1+cell": {
     "cellMetadata": {
      "byteLimit": 2048000,
      "rowLimit": 10000
     },
     "inputWidgets": {},
     "nuid": "76347445-c653-416e-8975-b981600692a2",
     "showTitle": false,
     "tableResultSettingsMap": {},
     "title": ""
    }
   },
   "outputs": [],
   "source": [
    "from pyspark.sql.types import StructType, StructField, IntegerType, StringType, DoubleType, BooleanType\n",
    "from pyspark.sql.functions import lit"
   ]
  },
  {
   "cell_type": "code",
   "execution_count": 0,
   "metadata": {
    "application/vnd.databricks.v1+cell": {
     "cellMetadata": {
      "byteLimit": 2048000,
      "rowLimit": 10000
     },
     "inputWidgets": {},
     "nuid": "a2d3caa0-7e7a-47bd-9835-84b4a6610616",
     "showTitle": false,
     "tableResultSettingsMap": {},
     "title": ""
    }
   },
   "outputs": [],
   "source": [
    "wifi_location_schema = StructType(fields=[\n",
    "    StructField(\"STATION\", StringType(), False),\n",
    "    StructField(\"STATION_COMPLEX\", StringType(), False),\n",
    "    StructField(\"LINES\", StringType(), False),\n",
    "    StructField(\"IS_HISTORICAL\", StringType(), False),\n",
    "    StructField(\"BOROUGH\", StringType(), False),\n",
    "    StructField(\"COUNTY\", StringType(), False),\n",
    "    StructField(\"LATITUDE\", DoubleType(), False),\n",
    "    StructField(\"LONGITUDE\", DoubleType(), False),\n",
    "    StructField(\"WIFI_AVAILABLE\", StringType(), False),\n",
    "    StructField(\"ATT\", StringType(), False),\n",
    "    StructField(\"SPRINT\", StringType(), False),\n",
    "    StructField(\"TMOBILE\", StringType(), False),\n",
    "    StructField(\"VERIZON\", StringType(), False),\n",
    "    StructField(\"Location\", StringType(), False),\n",
    "    StructField(\"Georeference\", StringType(), False)\n",
    "    ])"
   ]
  },
  {
   "cell_type": "code",
   "execution_count": 0,
   "metadata": {
    "application/vnd.databricks.v1+cell": {
     "cellMetadata": {
      "byteLimit": 2048000,
      "rowLimit": 10000
     },
     "inputWidgets": {},
     "nuid": "34475b89-43a3-4cc2-9221-d03590b3a4ea",
     "showTitle": false,
     "tableResultSettingsMap": {},
     "title": ""
    }
   },
   "outputs": [],
   "source": [
    "wifi_location_df = spark.read \\\n",
    "    .option(\"header\", True) \\\n",
    "    .option(\"schema\", wifi_location_schema) \\\n",
    "    .csv(\"/mnt/mtasubwaydl/raw/mta_wi-fi_locations.csv\")"
   ]
  },
  {
   "cell_type": "code",
   "execution_count": 0,
   "metadata": {
    "application/vnd.databricks.v1+cell": {
     "cellMetadata": {
      "byteLimit": 2048000,
      "rowLimit": 10000
     },
     "inputWidgets": {},
     "nuid": "6a5e00e6-d9f1-4f69-906a-dec4baa19251",
     "showTitle": false,
     "tableResultSettingsMap": {},
     "title": ""
    }
   },
   "outputs": [],
   "source": [
    "wifi_location_renamed_df = wifi_location_df \\\n",
    "    .withColumnRenamed(\"STATION\", \"wfi_station\") \\\n",
    "    .withColumnRenamed(\"STATION_COMPLEX\", \"wfi_station_complex\") \\\n",
    "    .withColumnRenamed(\"LINES\", \"wfi_lines\") \\\n",
    "    .withColumnRenamed(\"IS_HISTORICAL\", \"wfi_is_historical\") \\\n",
    "    .withColumnRenamed(\"BOROUGH\", \"wfi_borough\") \\\n",
    "    .withColumnRenamed(\"COUNTY\", \"wfi_county\") \\\n",
    "    .withColumnRenamed(\"LATITUDE\", \"wfi_latitude\") \\\n",
    "    .withColumnRenamed(\"LONGITUDE\", \"wfi_longitude\") \\\n",
    "    .withColumnRenamed(\"WIFI_AVAILABLE\", \"wfi_wifi_available\") \\\n",
    "    .withColumnRenamed(\"ATT\", \"wfi_att\") \\\n",
    "    .withColumnRenamed(\"SPRINT\", \"wfi_sprint\") \\\n",
    "    .withColumnRenamed(\"TMOBILE\", \"wfi_tmobile\") \\\n",
    "    .withColumnRenamed(\"VERIZON\", \"wfi_verizon\") \\\n",
    "    .withColumnRenamed(\"Location\", \"wfi_location\") \\\n",
    "    .withColumnRenamed(\"Georeference\", \"wfi_georeference\")"
   ]
  },
  {
   "cell_type": "code",
   "execution_count": 0,
   "metadata": {
    "application/vnd.databricks.v1+cell": {
     "cellMetadata": {
      "byteLimit": 2048000,
      "rowLimit": 10000
     },
     "inputWidgets": {},
     "nuid": "96fd3d3a-0e51-4257-80ba-6fd3a8b8fa77",
     "showTitle": false,
     "tableResultSettingsMap": {},
     "title": ""
    }
   },
   "outputs": [],
   "source": [
    "wifi_location_final_df = add_ingestion_date(wifi_location_renamed_df, alias=\"wfi\") \\\n",
    "    .withColumn(\"wfi_source\", lit(\"data.gov\"))"
   ]
  },
  {
   "cell_type": "code",
   "execution_count": 0,
   "metadata": {
    "application/vnd.databricks.v1+cell": {
     "cellMetadata": {
      "byteLimit": 2048000,
      "rowLimit": 10000
     },
     "inputWidgets": {},
     "nuid": "7f1dae63-70a6-466e-b698-06c0891acdb5",
     "showTitle": false,
     "tableResultSettingsMap": {},
     "title": ""
    }
   },
   "outputs": [],
   "source": [
    "wifi_location_final_df.write \\\n",
    "    .mode(\"overwrite\") \\\n",
    "    .format(\"delta\") \\\n",
    "    .partitionBy(\"wfi_borough\") \\\n",
    "    .save(\"/mnt/mtasubwaydl/bronze/wifi_location\")\n",
    "\n",
    "if not spark.catalog.tableExists(\"mta_bronze.wifi_location\"):\n",
    "    spark.catalog.createTable(\n",
    "        tableName=\"mta_bronze.wifi_location\",\n",
    "        path=\"/mnt/mtasubwaydl/bronze/wifi_location\",\n",
    "        source=\"delta\"\n",
    ")"
   ]
  },
  {
   "cell_type": "code",
   "execution_count": 0,
   "metadata": {
    "application/vnd.databricks.v1+cell": {
     "cellMetadata": {
      "byteLimit": 2048000,
      "implicitDf": true,
      "rowLimit": 10000
     },
     "inputWidgets": {},
     "nuid": "0674b2ae-da3a-4c52-a745-3a10a60029f8",
     "showTitle": false,
     "tableResultSettingsMap": {},
     "title": ""
    }
   },
   "outputs": [
    {
     "output_type": "display_data",
     "data": {
      "text/html": [
       "<style scoped>\n",
       "  .table-result-container {\n",
       "    max-height: 300px;\n",
       "    overflow: auto;\n",
       "  }\n",
       "  table, th, td {\n",
       "    border: 1px solid black;\n",
       "    border-collapse: collapse;\n",
       "  }\n",
       "  th, td {\n",
       "    padding: 5px;\n",
       "  }\n",
       "  th {\n",
       "    text-align: left;\n",
       "  }\n",
       "</style><div class='table-result-container'><table class='table-result'><thead style='background-color: white'><tr><th>wfi_station</th><th>wfi_station_complex</th><th>wfi_lines</th><th>wfi_is_historical</th><th>wfi_borough</th><th>wfi_county</th><th>wfi_latitude</th><th>wfi_longitude</th><th>wfi_wifi_available</th><th>wfi_att</th><th>wfi_sprint</th><th>wfi_tmobile</th><th>wfi_verizon</th><th>wfi_location</th><th>wfi_georeference</th><th>wfi_ingestion_date</th><th>wfi_source</th></tr></thead><tbody><tr><td>149th S. Grand Concourse (LL)</td><td>149 St-Grand Concourse (2,4,5)</td><td>25</td><td>Yes</td><td>Bronx</td><td>Bronx County</td><td>40.81841</td><td>-73.926718</td><td>No</td><td>Yes</td><td>Yes</td><td>No</td><td>Yes</td><td>(40.81841, -73.926718)</td><td>POINT (-73.926718 40.81841)</td><td>2025-03-09T06:46:23.488Z</td><td>data.gov</td></tr><tr><td>Tremont Ave</td><td>Tremont Av (B,D)</td><td>BD</td><td>No</td><td>Bronx</td><td>Bronx County</td><td>40.85041</td><td>-73.905227</td><td>No</td><td>Yes</td><td>Yes</td><td>Yes</td><td>Yes</td><td>(40.85041, -73.905227)</td><td>POINT (-73.905227 40.85041)</td><td>2025-03-09T06:46:23.488Z</td><td>data.gov</td></tr><tr><td>205th St</td><td>Norwood-205 St (D)</td><td>D</td><td>No</td><td>Bronx</td><td>Bronx County</td><td>40.874811</td><td>-73.878855</td><td>No</td><td>Yes</td><td>Yes</td><td>Yes</td><td>Yes</td><td>(40.874811, -73.878855)</td><td>POINT (-73.878855 40.874811)</td><td>2025-03-09T06:46:23.488Z</td><td>data.gov</td></tr><tr><td>170th St</td><td>170 St (B,D)</td><td>BD</td><td>No</td><td>Bronx</td><td>Bronx County</td><td>40.839306</td><td>-73.9134</td><td>No</td><td>Yes</td><td>Yes</td><td>Yes</td><td>Yes</td><td>(40.839306, -73.9134)</td><td>POINT (-73.9134 40.839306)</td><td>2025-03-09T06:46:23.488Z</td><td>data.gov</td></tr><tr><td>Bedford Park Blvd</td><td>Bedford Park Blvd (B,D)</td><td>BD</td><td>No</td><td>Bronx</td><td>Bronx County</td><td>40.873244</td><td>-73.887138</td><td>No</td><td>Yes</td><td>Yes</td><td>Yes</td><td>Yes</td><td>(40.873244, -73.887138)</td><td>POINT (-73.887138 40.873244)</td><td>2025-03-09T06:46:23.488Z</td><td>data.gov</td></tr><tr><td>Cypress Avenue</td><td>Cypress Av (6)</td><td>6</td><td>No</td><td>Bronx</td><td>Bronx County</td><td>40.805368</td><td>-73.914042</td><td>No</td><td>Yes</td><td>Yes</td><td>Yes</td><td>Yes</td><td>(40.805368, -73.914042)</td><td>POINT (-73.914042 40.805368)</td><td>2025-03-09T06:46:23.488Z</td><td>data.gov</td></tr><tr><td>149th St</td><td>149 St-Grand Concourse (2,4,5)</td><td>4</td><td>No</td><td>Bronx</td><td>Bronx County</td><td>40.818375</td><td>-73.927351</td><td>No</td><td>Yes</td><td>Yes</td><td>Yes</td><td>Yes</td><td>(40.818375, -73.927351)</td><td>POINT (-73.927351 40.818375)</td><td>2025-03-09T06:46:23.488Z</td><td>data.gov</td></tr><tr><td>161st St</td><td>161 St-Yankee Stadium (B,D,4)</td><td>BD</td><td>No</td><td>Bronx</td><td>Bronx County</td><td>40.827905</td><td>-73.925651</td><td>No</td><td>Yes</td><td>Yes</td><td>Yes</td><td>Yes</td><td>(40.827905, -73.925651)</td><td>POINT (-73.925651 40.827905)</td><td>2025-03-09T06:46:23.488Z</td><td>data.gov</td></tr><tr><td>167th St</td><td>167 St (B,D)</td><td>BD</td><td>No</td><td>Bronx</td><td>Bronx County</td><td>40.833773</td><td>-73.918438</td><td>No</td><td>Yes</td><td>Yes</td><td>Yes</td><td>Yes</td><td>(40.833773, -73.918438)</td><td>POINT (-73.918438 40.833773)</td><td>2025-03-09T06:46:23.488Z</td><td>data.gov</td></tr><tr><td>Brook Avenue</td><td>Brook Av (6)</td><td>6</td><td>No</td><td>Bronx</td><td>Bronx County</td><td>40.807566</td><td>-73.91924</td><td>No</td><td>Yes</td><td>Yes</td><td>Yes</td><td>Yes</td><td>(40.807566, -73.91924)</td><td>POINT (-73.91924 40.807566)</td><td>2025-03-09T06:46:23.488Z</td><td>data.gov</td></tr><tr><td>Hunts Point Avenue</td><td>Hunts Point Av (6)</td><td>6</td><td>No</td><td>Bronx</td><td>Bronx County</td><td>40.820948</td><td>-73.890549</td><td>No</td><td>Yes</td><td>Yes</td><td>Yes</td><td>Yes</td><td>(40.820948, -73.890549)</td><td>POINT (-73.890549 40.820948)</td><td>2025-03-09T06:46:23.488Z</td><td>data.gov</td></tr><tr><td>182nd-183rd Sr</td><td>182-183 Sts (B,D)</td><td>BD</td><td>No</td><td>Bronx</td><td>Bronx County</td><td>40.856093</td><td>-73.900741</td><td>No</td><td>Yes</td><td>Yes</td><td>Yes</td><td>Yes</td><td>(40.856093, -73.900741)</td><td>POINT (-73.900741 40.856093)</td><td>2025-03-09T06:46:23.488Z</td><td>data.gov</td></tr><tr><td>East 143rd St</td><td>East 143 St-St Mary's St (6)</td><td>6</td><td>No</td><td>Bronx</td><td>Bronx County</td><td>40.808719</td><td>-73.907657</td><td>No</td><td>Yes</td><td>Yes</td><td>Yes</td><td>Yes</td><td>(40.808719, -73.907657)</td><td>POINT (-73.907657 40.808719)</td><td>2025-03-09T06:46:23.488Z</td><td>data.gov</td></tr><tr><td>138th St-3rd Ave</td><td>3 Av-138 St (6)</td><td>6</td><td>No</td><td>Bronx</td><td>Bronx County</td><td>40.810476</td><td>-73.926138</td><td>No</td><td>Yes</td><td>Yes</td><td>Yes</td><td>Yes</td><td>(40.810476, -73.926138)</td><td>POINT (-73.926138 40.810476)</td><td>2025-03-09T06:46:23.488Z</td><td>data.gov</td></tr><tr><td>138th St</td><td>138 St-Grand Concourse (4,5)</td><td>4</td><td>No</td><td>Bronx</td><td>Bronx County</td><td>40.813224</td><td>-73.929849</td><td>No</td><td>Yes</td><td>Yes</td><td>Yes</td><td>Yes</td><td>(40.813224, -73.929849)</td><td>POINT (-73.929849 40.813224)</td><td>2025-03-09T06:46:23.488Z</td><td>data.gov</td></tr><tr><td>Fordham Rd</td><td>Fordham Rd (B,D)</td><td>BD</td><td>No</td><td>Bronx</td><td>Bronx County</td><td>40.861296</td><td>-73.897749</td><td>No</td><td>Yes</td><td>Yes</td><td>Yes</td><td>Yes</td><td>(40.861296, -73.897749)</td><td>POINT (-73.897749 40.861296)</td><td>2025-03-09T06:46:23.488Z</td><td>data.gov</td></tr><tr><td>Kingbridge Rd</td><td>Kingsbridge Rd (B,D)</td><td>BD</td><td>No</td><td>Bronx</td><td>Bronx County</td><td>40.866978</td><td>-73.893509</td><td>No</td><td>Yes</td><td>Yes</td><td>Yes</td><td>Yes</td><td>(40.866978, -73.893509)</td><td>POINT (-73.893509 40.866978)</td><td>2025-03-09T06:46:23.488Z</td><td>data.gov</td></tr><tr><td>Longwood Avenue</td><td>Longwood Av (6)</td><td>6</td><td>No</td><td>Bronx</td><td>Bronx County</td><td>40.816104</td><td>-73.896435</td><td>No</td><td>Yes</td><td>Yes</td><td>Yes</td><td>Yes</td><td>(40.816104, -73.896435)</td><td>POINT (-73.896435 40.816104)</td><td>2025-03-09T06:46:23.488Z</td><td>data.gov</td></tr><tr><td>174th St</td><td>174-175 Sts (B,D)</td><td>BD</td><td>No</td><td>Bronx</td><td>Bronx County</td><td>40.8459</td><td>-73.910136</td><td>No</td><td>Yes</td><td>Yes</td><td>Yes</td><td>Yes</td><td>(40.8459, -73.910136)</td><td>POINT (-73.910136 40.8459)</td><td>2025-03-09T06:46:23.488Z</td><td>data.gov</td></tr><tr><td>East 149th St</td><td>East 149 St (6)</td><td>6</td><td>No</td><td>Bronx</td><td>Bronx County</td><td>40.812118</td><td>-73.904098</td><td>No</td><td>Yes</td><td>Yes</td><td>Yes</td><td>Yes</td><td>(40.812118, -73.904098)</td><td>POINT (-73.904098 40.812118)</td><td>2025-03-09T06:46:23.488Z</td><td>data.gov</td></tr></tbody></table></div>"
      ]
     },
     "metadata": {
      "application/vnd.databricks.v1+output": {
       "addedWidgets": {},
       "aggData": [],
       "aggError": "",
       "aggOverflow": false,
       "aggSchema": [],
       "aggSeriesLimitReached": false,
       "aggType": "",
       "arguments": {},
       "columnCustomDisplayInfos": {},
       "data": [
        [
         "149th S. Grand Concourse (LL)",
         "149 St-Grand Concourse (2,4,5)",
         "25",
         "Yes",
         "Bronx",
         "Bronx County",
         "40.81841",
         "-73.926718",
         "No",
         "Yes",
         "Yes",
         "No",
         "Yes",
         "(40.81841, -73.926718)",
         "POINT (-73.926718 40.81841)",
         "2025-03-09T06:46:23.488Z",
         "data.gov"
        ],
        [
         "Tremont Ave",
         "Tremont Av (B,D)",
         "BD",
         "No",
         "Bronx",
         "Bronx County",
         "40.85041",
         "-73.905227",
         "No",
         "Yes",
         "Yes",
         "Yes",
         "Yes",
         "(40.85041, -73.905227)",
         "POINT (-73.905227 40.85041)",
         "2025-03-09T06:46:23.488Z",
         "data.gov"
        ],
        [
         "205th St",
         "Norwood-205 St (D)",
         "D",
         "No",
         "Bronx",
         "Bronx County",
         "40.874811",
         "-73.878855",
         "No",
         "Yes",
         "Yes",
         "Yes",
         "Yes",
         "(40.874811, -73.878855)",
         "POINT (-73.878855 40.874811)",
         "2025-03-09T06:46:23.488Z",
         "data.gov"
        ],
        [
         "170th St",
         "170 St (B,D)",
         "BD",
         "No",
         "Bronx",
         "Bronx County",
         "40.839306",
         "-73.9134",
         "No",
         "Yes",
         "Yes",
         "Yes",
         "Yes",
         "(40.839306, -73.9134)",
         "POINT (-73.9134 40.839306)",
         "2025-03-09T06:46:23.488Z",
         "data.gov"
        ],
        [
         "Bedford Park Blvd",
         "Bedford Park Blvd (B,D)",
         "BD",
         "No",
         "Bronx",
         "Bronx County",
         "40.873244",
         "-73.887138",
         "No",
         "Yes",
         "Yes",
         "Yes",
         "Yes",
         "(40.873244, -73.887138)",
         "POINT (-73.887138 40.873244)",
         "2025-03-09T06:46:23.488Z",
         "data.gov"
        ],
        [
         "Cypress Avenue",
         "Cypress Av (6)",
         "6",
         "No",
         "Bronx",
         "Bronx County",
         "40.805368",
         "-73.914042",
         "No",
         "Yes",
         "Yes",
         "Yes",
         "Yes",
         "(40.805368, -73.914042)",
         "POINT (-73.914042 40.805368)",
         "2025-03-09T06:46:23.488Z",
         "data.gov"
        ],
        [
         "149th St",
         "149 St-Grand Concourse (2,4,5)",
         "4",
         "No",
         "Bronx",
         "Bronx County",
         "40.818375",
         "-73.927351",
         "No",
         "Yes",
         "Yes",
         "Yes",
         "Yes",
         "(40.818375, -73.927351)",
         "POINT (-73.927351 40.818375)",
         "2025-03-09T06:46:23.488Z",
         "data.gov"
        ],
        [
         "161st St",
         "161 St-Yankee Stadium (B,D,4)",
         "BD",
         "No",
         "Bronx",
         "Bronx County",
         "40.827905",
         "-73.925651",
         "No",
         "Yes",
         "Yes",
         "Yes",
         "Yes",
         "(40.827905, -73.925651)",
         "POINT (-73.925651 40.827905)",
         "2025-03-09T06:46:23.488Z",
         "data.gov"
        ],
        [
         "167th St",
         "167 St (B,D)",
         "BD",
         "No",
         "Bronx",
         "Bronx County",
         "40.833773",
         "-73.918438",
         "No",
         "Yes",
         "Yes",
         "Yes",
         "Yes",
         "(40.833773, -73.918438)",
         "POINT (-73.918438 40.833773)",
         "2025-03-09T06:46:23.488Z",
         "data.gov"
        ],
        [
         "Brook Avenue",
         "Brook Av (6)",
         "6",
         "No",
         "Bronx",
         "Bronx County",
         "40.807566",
         "-73.91924",
         "No",
         "Yes",
         "Yes",
         "Yes",
         "Yes",
         "(40.807566, -73.91924)",
         "POINT (-73.91924 40.807566)",
         "2025-03-09T06:46:23.488Z",
         "data.gov"
        ],
        [
         "Hunts Point Avenue",
         "Hunts Point Av (6)",
         "6",
         "No",
         "Bronx",
         "Bronx County",
         "40.820948",
         "-73.890549",
         "No",
         "Yes",
         "Yes",
         "Yes",
         "Yes",
         "(40.820948, -73.890549)",
         "POINT (-73.890549 40.820948)",
         "2025-03-09T06:46:23.488Z",
         "data.gov"
        ],
        [
         "182nd-183rd Sr",
         "182-183 Sts (B,D)",
         "BD",
         "No",
         "Bronx",
         "Bronx County",
         "40.856093",
         "-73.900741",
         "No",
         "Yes",
         "Yes",
         "Yes",
         "Yes",
         "(40.856093, -73.900741)",
         "POINT (-73.900741 40.856093)",
         "2025-03-09T06:46:23.488Z",
         "data.gov"
        ],
        [
         "East 143rd St",
         "East 143 St-St Mary's St (6)",
         "6",
         "No",
         "Bronx",
         "Bronx County",
         "40.808719",
         "-73.907657",
         "No",
         "Yes",
         "Yes",
         "Yes",
         "Yes",
         "(40.808719, -73.907657)",
         "POINT (-73.907657 40.808719)",
         "2025-03-09T06:46:23.488Z",
         "data.gov"
        ],
        [
         "138th St-3rd Ave",
         "3 Av-138 St (6)",
         "6",
         "No",
         "Bronx",
         "Bronx County",
         "40.810476",
         "-73.926138",
         "No",
         "Yes",
         "Yes",
         "Yes",
         "Yes",
         "(40.810476, -73.926138)",
         "POINT (-73.926138 40.810476)",
         "2025-03-09T06:46:23.488Z",
         "data.gov"
        ],
        [
         "138th St",
         "138 St-Grand Concourse (4,5)",
         "4",
         "No",
         "Bronx",
         "Bronx County",
         "40.813224",
         "-73.929849",
         "No",
         "Yes",
         "Yes",
         "Yes",
         "Yes",
         "(40.813224, -73.929849)",
         "POINT (-73.929849 40.813224)",
         "2025-03-09T06:46:23.488Z",
         "data.gov"
        ],
        [
         "Fordham Rd",
         "Fordham Rd (B,D)",
         "BD",
         "No",
         "Bronx",
         "Bronx County",
         "40.861296",
         "-73.897749",
         "No",
         "Yes",
         "Yes",
         "Yes",
         "Yes",
         "(40.861296, -73.897749)",
         "POINT (-73.897749 40.861296)",
         "2025-03-09T06:46:23.488Z",
         "data.gov"
        ],
        [
         "Kingbridge Rd",
         "Kingsbridge Rd (B,D)",
         "BD",
         "No",
         "Bronx",
         "Bronx County",
         "40.866978",
         "-73.893509",
         "No",
         "Yes",
         "Yes",
         "Yes",
         "Yes",
         "(40.866978, -73.893509)",
         "POINT (-73.893509 40.866978)",
         "2025-03-09T06:46:23.488Z",
         "data.gov"
        ],
        [
         "Longwood Avenue",
         "Longwood Av (6)",
         "6",
         "No",
         "Bronx",
         "Bronx County",
         "40.816104",
         "-73.896435",
         "No",
         "Yes",
         "Yes",
         "Yes",
         "Yes",
         "(40.816104, -73.896435)",
         "POINT (-73.896435 40.816104)",
         "2025-03-09T06:46:23.488Z",
         "data.gov"
        ],
        [
         "174th St",
         "174-175 Sts (B,D)",
         "BD",
         "No",
         "Bronx",
         "Bronx County",
         "40.8459",
         "-73.910136",
         "No",
         "Yes",
         "Yes",
         "Yes",
         "Yes",
         "(40.8459, -73.910136)",
         "POINT (-73.910136 40.8459)",
         "2025-03-09T06:46:23.488Z",
         "data.gov"
        ],
        [
         "East 149th St",
         "East 149 St (6)",
         "6",
         "No",
         "Bronx",
         "Bronx County",
         "40.812118",
         "-73.904098",
         "No",
         "Yes",
         "Yes",
         "Yes",
         "Yes",
         "(40.812118, -73.904098)",
         "POINT (-73.904098 40.812118)",
         "2025-03-09T06:46:23.488Z",
         "data.gov"
        ]
       ],
       "datasetInfos": [],
       "dbfsResultPath": null,
       "isJsonSchema": true,
       "metadata": {
        "createTempViewForImplicitDf": true,
        "dataframeName": "_sqldf",
        "executionCount": 27
       },
       "overflow": false,
       "plotOptions": {
        "customPlotOptions": {},
        "displayType": "table",
        "pivotAggregation": null,
        "pivotColumns": null,
        "xColumns": null,
        "yColumns": null
       },
       "removedWidgets": [],
       "schema": [
        {
         "metadata": "{}",
         "name": "wfi_station",
         "type": "\"string\""
        },
        {
         "metadata": "{}",
         "name": "wfi_station_complex",
         "type": "\"string\""
        },
        {
         "metadata": "{}",
         "name": "wfi_lines",
         "type": "\"string\""
        },
        {
         "metadata": "{}",
         "name": "wfi_is_historical",
         "type": "\"string\""
        },
        {
         "metadata": "{}",
         "name": "wfi_borough",
         "type": "\"string\""
        },
        {
         "metadata": "{}",
         "name": "wfi_county",
         "type": "\"string\""
        },
        {
         "metadata": "{}",
         "name": "wfi_latitude",
         "type": "\"string\""
        },
        {
         "metadata": "{}",
         "name": "wfi_longitude",
         "type": "\"string\""
        },
        {
         "metadata": "{}",
         "name": "wfi_wifi_available",
         "type": "\"string\""
        },
        {
         "metadata": "{}",
         "name": "wfi_att",
         "type": "\"string\""
        },
        {
         "metadata": "{}",
         "name": "wfi_sprint",
         "type": "\"string\""
        },
        {
         "metadata": "{}",
         "name": "wfi_tmobile",
         "type": "\"string\""
        },
        {
         "metadata": "{}",
         "name": "wfi_verizon",
         "type": "\"string\""
        },
        {
         "metadata": "{}",
         "name": "wfi_location",
         "type": "\"string\""
        },
        {
         "metadata": "{}",
         "name": "wfi_georeference",
         "type": "\"string\""
        },
        {
         "metadata": "{}",
         "name": "wfi_ingestion_date",
         "type": "\"timestamp\""
        },
        {
         "metadata": "{}",
         "name": "wfi_source",
         "type": "\"string\""
        }
       ],
       "type": "table"
      }
     },
     "output_type": "display_data"
    }
   ],
   "source": [
    "%sql\n",
    "SELECT * FROM mta_bronze.wifi_location LIMIT 20;"
   ]
  },
  {
   "cell_type": "code",
   "execution_count": 0,
   "metadata": {
    "application/vnd.databricks.v1+cell": {
     "cellMetadata": {
      "byteLimit": 2048000,
      "rowLimit": 10000
     },
     "inputWidgets": {},
     "nuid": "80210270-2291-4755-8047-d7d64b4a099d",
     "showTitle": false,
     "tableResultSettingsMap": {},
     "title": ""
    }
   },
   "outputs": [],
   "source": [
    "dbutils.notebook.exit(\"Success\")"
   ]
  }
 ],
 "metadata": {
  "application/vnd.databricks.v1+notebook": {
   "computePreferences": null,
   "dashboards": [],
   "environmentMetadata": {
    "base_environment": "",
    "environment_version": "2"
   },
   "language": "python",
   "notebookMetadata": {
    "mostRecentlyExecutedCommandWithImplicitDF": {
     "commandId": 559300330669365,
     "dataframes": [
      "_sqldf"
     ]
    },
    "pythonIndentUnit": 4
   },
   "notebookName": "bronze_wifi_location",
   "widgets": {}
  },
  "language_info": {
   "name": "python"
  }
 },
 "nbformat": 4,
 "nbformat_minor": 0
}
