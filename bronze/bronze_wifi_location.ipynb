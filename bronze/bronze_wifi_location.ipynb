{
 "cells": [
  {
   "cell_type": "code",
   "execution_count": 0,
   "metadata": {
    "application/vnd.databricks.v1+cell": {
     "cellMetadata": {
      "byteLimit": 2048000,
      "rowLimit": 10000
     },
     "inputWidgets": {},
     "nuid": "0e246df3-7bda-4283-8580-37b1bffd792f",
     "showTitle": false,
     "tableResultSettingsMap": {},
     "title": ""
    }
   },
   "outputs": [],
   "source": [
    "%run \"../utils/custom_functions\""
   ]
  },
  {
   "cell_type": "code",
   "execution_count": 0,
   "metadata": {
    "application/vnd.databricks.v1+cell": {
     "cellMetadata": {
      "byteLimit": 2048000,
      "rowLimit": 10000
     },
     "inputWidgets": {},
     "nuid": "76347445-c653-416e-8975-b981600692a2",
     "showTitle": false,
     "tableResultSettingsMap": {},
     "title": ""
    }
   },
   "outputs": [],
   "source": [
    "from pyspark.sql.types import StructType, StructField, IntegerType, StringType, DoubleType, BooleanType\n",
    "from pyspark.sql.functions import lit"
   ]
  },
  {
   "cell_type": "code",
   "execution_count": 0,
   "metadata": {
    "application/vnd.databricks.v1+cell": {
     "cellMetadata": {
      "byteLimit": 2048000,
      "rowLimit": 10000
     },
     "inputWidgets": {},
     "nuid": "a2d3caa0-7e7a-47bd-9835-84b4a6610616",
     "showTitle": false,
     "tableResultSettingsMap": {},
     "title": ""
    }
   },
   "outputs": [],
   "source": [
    "wifi_location_schema = StructType(fields=[\n",
    "    StructField(\"STATION\", StringType(), False),\n",
    "    StructField(\"STATION_COMPLEX\", StringType(), False),\n",
    "    StructField(\"LINES\", StringType(), False),\n",
    "    StructField(\"IS_HISTORICAL\", StringType(), False),\n",
    "    StructField(\"BOROUGH\", StringType(), False),\n",
    "    StructField(\"COUNTY\", StringType(), False),\n",
    "    StructField(\"LATITUDE\", DoubleType(), False),\n",
    "    StructField(\"LONGITUDE\", DoubleType(), False),\n",
    "    StructField(\"WIFI_AVAILABLE\", StringType(), False),\n",
    "    StructField(\"ATT\", StringType(), False),\n",
    "    StructField(\"SPRINT\", StringType(), False),\n",
    "    StructField(\"TMOBILE\", StringType(), False),\n",
    "    StructField(\"VERIZON\", StringType(), False),\n",
    "    StructField(\"Location\", StringType(), False),\n",
    "    StructField(\"Georeference\", StringType(), False)\n",
    "    ])"
   ]
  },
  {
   "cell_type": "code",
   "execution_count": 0,
   "metadata": {
    "application/vnd.databricks.v1+cell": {
     "cellMetadata": {
      "byteLimit": 2048000,
      "rowLimit": 10000
     },
     "inputWidgets": {},
     "nuid": "34475b89-43a3-4cc2-9221-d03590b3a4ea",
     "showTitle": false,
     "tableResultSettingsMap": {},
     "title": ""
    }
   },
   "outputs": [],
   "source": [
    "wifi_location_df = spark.read \\\n",
    "    .option(\"header\", True) \\\n",
    "    .option(\"schema\", wifi_location_schema) \\\n",
    "    .csv(\"/mnt/mtasubwaydl/raw/mta_wi-fi_locations.csv\")"
   ]
  },
  {
   "cell_type": "code",
   "execution_count": 0,
   "metadata": {
    "application/vnd.databricks.v1+cell": {
     "cellMetadata": {
      "byteLimit": 2048000,
      "rowLimit": 10000
     },
     "inputWidgets": {},
     "nuid": "6a5e00e6-d9f1-4f69-906a-dec4baa19251",
     "showTitle": false,
     "tableResultSettingsMap": {},
     "title": ""
    }
   },
   "outputs": [],
   "source": [
    "wifi_location_renamed_df = wifi_location_df \\\n",
    "    .withColumnRenamed(\"STATION\", \"wfi_station\") \\\n",
    "    .withColumnRenamed(\"STATION_COMPLEX\", \"wfi_station_complex\") \\\n",
    "    .withColumnRenamed(\"LINES\", \"wfi_lines\") \\\n",
    "    .withColumnRenamed(\"IS_HISTORICAL\", \"wfi_is_historical\") \\\n",
    "    .withColumnRenamed(\"BOROUGH\", \"wfi_borough\") \\\n",
    "    .withColumnRenamed(\"COUNTY\", \"wfi_county\") \\\n",
    "    .withColumnRenamed(\"LATITUDE\", \"wfi_latitude\") \\\n",
    "    .withColumnRenamed(\"LONGITUDE\", \"wfi_longitude\") \\\n",
    "    .withColumnRenamed(\"WIFI_AVAILABLE\", \"wfi_wifi_available\") \\\n",
    "    .withColumnRenamed(\"ATT\", \"wfi_att\") \\\n",
    "    .withColumnRenamed(\"SPRINT\", \"wfi_sprint\") \\\n",
    "    .withColumnRenamed(\"TMOBILE\", \"wfi_tmobile\") \\\n",
    "    .withColumnRenamed(\"VERIZON\", \"wfi_verizon\") \\\n",
    "    .withColumnRenamed(\"Location\", \"wfi_location\") \\\n",
    "    .withColumnRenamed(\"Georeference\", \"wfi_georeference\")"
   ]
  },
  {
   "cell_type": "code",
   "execution_count": 0,
   "metadata": {
    "application/vnd.databricks.v1+cell": {
     "cellMetadata": {
      "byteLimit": 2048000,
      "rowLimit": 10000
     },
     "inputWidgets": {},
     "nuid": "96fd3d3a-0e51-4257-80ba-6fd3a8b8fa77",
     "showTitle": false,
     "tableResultSettingsMap": {},
     "title": ""
    }
   },
   "outputs": [],
   "source": [
    "wifi_location_final_df = add_ingestion_date(wifi_location_renamed_df, alias=\"wfi\") \\\n",
    "    .withColumn(\"wfi_source\", lit(\"data.gov\"))"
   ]
  },
  {
   "cell_type": "code",
   "execution_count": 0,
   "metadata": {
    "application/vnd.databricks.v1+cell": {
     "cellMetadata": {
      "byteLimit": 2048000,
      "rowLimit": 10000
     },
     "inputWidgets": {},
     "nuid": "7f1dae63-70a6-466e-b698-06c0891acdb5",
     "showTitle": false,
     "tableResultSettingsMap": {},
     "title": ""
    }
   },
   "outputs": [],
   "source": [
    "wifi_location_final_df.write.mode(\"overwrite\").format(\"delta\").partitionBy(\"wfi_borough\").save(\"/mnt/mtasubwaydl/bronze/wifi_location\")\n",
    "\n",
    "if not spark.catalog.tableExists(\"mta_bronze.wifi_location\"):\n",
    "    spark.catalog.createTable(\n",
    "        tableName=\"mta_bronze.wifi_location\",\n",
    "        path=\"/mnt/mtasubwaydl/bronze/wifi_location\",\n",
    "        source=\"delta\"\n",
    ")"
   ]
  },
  {
   "cell_type": "code",
   "execution_count": 0,
   "metadata": {
    "application/vnd.databricks.v1+cell": {
     "cellMetadata": {
      "byteLimit": 2048000,
      "implicitDf": true,
      "rowLimit": 10000
     },
     "inputWidgets": {},
     "nuid": "0674b2ae-da3a-4c52-a745-3a10a60029f8",
     "showTitle": false,
     "tableResultSettingsMap": {},
     "title": ""
    }
   },
   "outputs": [],
   "source": [
    "%sql\n",
    "SELECT * FROM mta_bronze.wifi_location LIMIT 20;"
   ]
  },
  {
   "cell_type": "code",
   "execution_count": 0,
   "metadata": {
    "application/vnd.databricks.v1+cell": {
     "cellMetadata": {
      "byteLimit": 2048000,
      "rowLimit": 10000
     },
     "inputWidgets": {},
     "nuid": "80210270-2291-4755-8047-d7d64b4a099d",
     "showTitle": false,
     "tableResultSettingsMap": {},
     "title": ""
    }
   },
   "outputs": [],
   "source": [
    "dbutils.notebook.exit(\"Success\")"
   ]
  }
 ],
 "metadata": {
  "application/vnd.databricks.v1+notebook": {
   "computePreferences": null,
   "dashboards": [],
   "environmentMetadata": {
    "base_environment": "",
    "environment_version": "2"
   },
   "language": "python",
   "notebookMetadata": {
    "mostRecentlyExecutedCommandWithImplicitDF": {
     "commandId": 559300330669365,
     "dataframes": [
      "_sqldf"
     ]
    },
    "pythonIndentUnit": 4
   },
   "notebookName": "bronze_wifi_location",
   "widgets": {}
  },
  "language_info": {
   "name": "python"
  }
 },
 "nbformat": 4,
 "nbformat_minor": 0
}
