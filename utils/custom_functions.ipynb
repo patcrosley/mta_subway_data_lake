{
 "cells": [
  {
   "cell_type": "code",
   "execution_count": 0,
   "metadata": {
    "application/vnd.databricks.v1+cell": {
     "cellMetadata": {
      "byteLimit": 2048000,
      "rowLimit": 10000
     },
     "inputWidgets": {},
     "nuid": "d0d4c71c-68ff-4d28-b348-aee81c97d4c6",
     "showTitle": false,
     "tableResultSettingsMap": {},
     "title": ""
    }
   },
   "outputs": [],
   "source": [
    "from pyspark.sql.functions import current_timestamp"
   ]
  },
  {
   "cell_type": "code",
   "execution_count": 0,
   "metadata": {
    "application/vnd.databricks.v1+cell": {
     "cellMetadata": {
      "byteLimit": 2048000,
      "rowLimit": 10000
     },
     "inputWidgets": {},
     "nuid": "d147d494-763e-40d5-841f-b24e6ecb1c09",
     "showTitle": false,
     "tableResultSettingsMap": {},
     "title": ""
    }
   },
   "outputs": [],
   "source": [
    "def add_ingestion_date(input_df, alias=None):\n",
    "    if alias is None:\n",
    "        output_df = input_df.withColumn(\"ingestion_date\", current_timestamp())\n",
    "    else:\n",
    "        output_df = input_df.withColumn(f\"{alias}_ingestion_date\", current_timestamp())\n",
    "    return output_df"
   ]
  },
  {
   "cell_type": "code",
   "execution_count": 0,
   "metadata": {
    "application/vnd.databricks.v1+cell": {
     "cellMetadata": {
      "byteLimit": 2048000,
      "rowLimit": 10000
     },
     "inputWidgets": {},
     "nuid": "24853d82-9a6a-4aa1-9e57-7925cae9ca44",
     "showTitle": false,
     "tableResultSettingsMap": {},
     "title": ""
    }
   },
   "outputs": [],
   "source": [
    "def re_arrange_partition_column(input_df, partition_column):\n",
    "  column_list = []\n",
    "  for column_name in input_df.schema.names:\n",
    "    if column_name != partition_column:\n",
    "      column_list.append(column_name)\n",
    "  column_list.append(partition_column)\n",
    "  output_df = input_df.select(column_list)\n",
    "  return output_df"
   ]
  },
  {
   "cell_type": "code",
   "execution_count": 0,
   "metadata": {
    "application/vnd.databricks.v1+cell": {
     "cellMetadata": {
      "byteLimit": 2048000,
      "rowLimit": 10000
     },
     "inputWidgets": {},
     "nuid": "f8e88a48-8567-416c-9ab2-215c5d67d5eb",
     "showTitle": false,
     "tableResultSettingsMap": {},
     "title": ""
    }
   },
   "outputs": [],
   "source": [
    "def overwrite_partition(input_df, db_name, table_name, partition_column):\n",
    "  output_df = re_arrange_partition_column(input_df, partition_column)\n",
    "  spark.conf.set(\"spark.sql.sources.partitionOverwriteMode\",\"dynamic\")\n",
    "  if (spark._jsparkSession.catalog().tableExists(f\"{db_name}.{table_name}\")):\n",
    "    output_df.write.mode(\"overwrite\").insertInto(f\"{db_name}.{table_name}\")\n",
    "  else:\n",
    "    output_df.write.mode(\"overwrite\").partitionBy(partition_column).format(\"parquet\").saveAsTable(f\"{db_name}.{table_name}\")"
   ]
  },
  {
   "cell_type": "code",
   "execution_count": 0,
   "metadata": {
    "application/vnd.databricks.v1+cell": {
     "cellMetadata": {
      "byteLimit": 2048000,
      "rowLimit": 10000
     },
     "inputWidgets": {},
     "nuid": "ef1e36de-3c81-4e98-85cd-c2d23dab9c68",
     "showTitle": false,
     "tableResultSettingsMap": {},
     "title": ""
    }
   },
   "outputs": [],
   "source": [
    "def df_column_to_list(input_df, column_name):\n",
    "  df_row_list = input_df.select(column_name) \\\n",
    "                        .distinct() \\\n",
    "                        .collect()\n",
    "  \n",
    "  column_value_list = [row[column_name] for row in df_row_list]\n",
    "  return column_value_list"
   ]
  },
  {
   "cell_type": "code",
   "execution_count": 0,
   "metadata": {
    "application/vnd.databricks.v1+cell": {
     "cellMetadata": {
      "byteLimit": 2048000,
      "rowLimit": 10000
     },
     "inputWidgets": {},
     "nuid": "ea21a9ea-000b-4e6e-8c2b-1c72b1324a48",
     "showTitle": false,
     "tableResultSettingsMap": {},
     "title": ""
    }
   },
   "outputs": [],
   "source": [
    "def merge_delta_data(input_df, db_name, table_name, folder_path, merge_condition, partition_column):\n",
    "  spark.conf.set(\"spark.databricks.optimizer.dynamicPartitionPruning\",\"true\")\n",
    "\n",
    "  from delta.tables import DeltaTable\n",
    "  if (spark._jsparkSession.catalog().tableExists(f\"{db_name}.{table_name}\")):\n",
    "    deltaTable = DeltaTable.forPath(spark, f\"{folder_path}/{table_name}\")\n",
    "    deltaTable.alias(\"tgt\").merge(\n",
    "        input_df.alias(\"src\"),\n",
    "        merge_condition) \\\n",
    "      .whenMatchedUpdateAll()\\\n",
    "      .whenNotMatchedInsertAll()\\\n",
    "      .execute()\n",
    "  else:\n",
    "    input_df.write.mode(\"overwrite\").partitionBy(partition_column).format(\"delta\").saveAsTable(f\"{db_name}.{table_name}\")"
   ]
  }
 ],
 "metadata": {
  "application/vnd.databricks.v1+notebook": {
   "computePreferences": null,
   "dashboards": [],
   "environmentMetadata": {
    "base_environment": "",
    "environment_version": "2"
   },
   "language": "python",
   "notebookMetadata": {
    "pythonIndentUnit": 4
   },
   "notebookName": "custom_functions",
   "widgets": {}
  },
  "language_info": {
   "name": "python"
  }
 },
 "nbformat": 4,
 "nbformat_minor": 0
}
