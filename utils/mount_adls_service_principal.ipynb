{
 "cells": [
  {
   "cell_type": "code",
   "execution_count": 0,
   "metadata": {
    "application/vnd.databricks.v1+cell": {
     "cellMetadata": {
      "byteLimit": 2048000,
      "rowLimit": 10000
     },
     "inputWidgets": {},
     "nuid": "f6c90226-4979-440e-b808-27ebea51c73f",
     "showTitle": false,
     "tableResultSettingsMap": {},
     "title": ""
    }
   },
   "outputs": [],
   "source": [
    "client_id = dbutils.secrets.get(scope='mta-scope', key='mta-client-id')\n",
    "tenant_id = dbutils.secrets.get(scope='mta-scope', key='mta-tenant-id')\n",
    "client_secret = dbutils.secrets.get(scope='mta-scope', key='mta-client-secret')"
   ]
  },
  {
   "cell_type": "code",
   "execution_count": 0,
   "metadata": {
    "application/vnd.databricks.v1+cell": {
     "cellMetadata": {
      "byteLimit": 2048000,
      "rowLimit": 10000
     },
     "inputWidgets": {},
     "nuid": "bfb67641-2bb1-43a6-bb98-4002fd96c587",
     "showTitle": false,
     "tableResultSettingsMap": {},
     "title": ""
    }
   },
   "outputs": [
    {
     "output_type": "execute_result",
     "data": {
      "text/plain": [
       "'\\nspark.conf.set(\"fs.azure.account.auth.type.mtasubwaydl.dfs.core.windows.net\", \"OAuth\")\\nspark.conf.set(\"fs.azure.account.oauth.provider.type.mtasubwaydl.dfs.core.windows.net\", \"org.apache.hadoop.fs.azurebfs.oauth2.ClientCredsTokenProvider\")\\nspark.conf.set(\"fs.azure.account.oauth2.client.id.mtasubwaydl.dfs.core.windows.net\", client_id)\\nspark.conf.set(\"fs.azure.account.oauth2.client.secret.mtasubwaydl.dfs.core.windows.net\", client_secret)\\nspark.conf.set(\"fs.azure.account.oauth2.client.endpoint.mtasubwaydl.dfs.core.windows.net\", f\"https://login.microsoftonline.com/{tenant_id}/oauth2/token\")\\n'"
      ]
     },
     "execution_count": 3,
     "metadata": {},
     "output_type": "execute_result"
    }
   ],
   "source": [
    "#service_credential = dbutils.secrets.get(scope=\"<secret-scope>\",key=\"<service-credential-key>\")\n",
    "\"\"\"\n",
    "spark.conf.set(\"fs.azure.account.auth.type.mtasubwaydl.dfs.core.windows.net\", \"OAuth\")\n",
    "spark.conf.set(\"fs.azure.account.oauth.provider.type.mtasubwaydl.dfs.core.windows.net\", \"org.apache.hadoop.fs.azurebfs.oauth2.ClientCredsTokenProvider\")\n",
    "spark.conf.set(\"fs.azure.account.oauth2.client.id.mtasubwaydl.dfs.core.windows.net\", client_id)\n",
    "spark.conf.set(\"fs.azure.account.oauth2.client.secret.mtasubwaydl.dfs.core.windows.net\", client_secret)\n",
    "spark.conf.set(\"fs.azure.account.oauth2.client.endpoint.mtasubwaydl.dfs.core.windows.net\", f\"https://login.microsoftonline.com/{tenant_id}/oauth2/token\")\n",
    "\"\"\""
   ]
  },
  {
   "cell_type": "code",
   "execution_count": 0,
   "metadata": {
    "application/vnd.databricks.v1+cell": {
     "cellMetadata": {
      "byteLimit": 2048000,
      "rowLimit": 10000
     },
     "inputWidgets": {},
     "nuid": "32c1f98e-2cfc-4be2-b8fa-2d7448af4dae",
     "showTitle": false,
     "tableResultSettingsMap": {},
     "title": ""
    }
   },
   "outputs": [
    {
     "output_type": "execute_result",
     "data": {
      "text/plain": [
       "True"
      ]
     },
     "execution_count": 5,
     "metadata": {},
     "output_type": "execute_result"
    }
   ],
   "source": [
    "configs = {\"fs.azure.account.auth.type\": \"OAuth\",\n",
    "          \"fs.azure.account.oauth.provider.type\": \"org.apache.hadoop.fs.azurebfs.oauth2.ClientCredsTokenProvider\",\n",
    "          \"fs.azure.account.oauth2.client.id\": client_id,\n",
    "          \"fs.azure.account.oauth2.client.secret\": client_secret,\n",
    "          \"fs.azure.account.oauth2.client.endpoint\": f\"https://login.microsoftonline.com/{tenant_id}/oauth2/token\"}\n",
    "\n",
    "#dbutils.fs.mount(\n",
    "#  source = \"abfss://raw@mtasubwaydl.dfs.core.windows.net/\",\n",
    "# mount_point = \"/mnt/mtasubwaydl/raw\",\n",
    "#  extra_configs = configs)\n",
    "\n",
    "dbutils.fs.mount(\n",
    "  source = \"abfss://bronze@mtasubwaydl.dfs.core.windows.net/\",\n",
    "  mount_point = \"/mnt/mtasubwaydl/bronze\",\n",
    "  extra_configs = configs)\n",
    "\n",
    "dbutils.fs.mount(\n",
    "  source = \"abfss://silver@mtasubwaydl.dfs.core.windows.net/\",\n",
    "  mount_point = \"/mnt/mtasubwaydl/silver\",\n",
    "  extra_configs = configs)\n",
    "\n",
    "dbutils.fs.mount(\n",
    "  source = \"abfss://gold@mtasubwaydl.dfs.core.windows.net/\",\n",
    "  mount_point = \"/mnt/mtasubwaydl/gold\",\n",
    "  extra_configs = configs)"
   ]
  },
  {
   "cell_type": "code",
   "execution_count": 0,
   "metadata": {
    "application/vnd.databricks.v1+cell": {
     "cellMetadata": {
      "byteLimit": 2048000,
      "rowLimit": 10000
     },
     "inputWidgets": {},
     "nuid": "8bb33b7b-417f-4210-86d0-ec88c0e774ee",
     "showTitle": false,
     "tableResultSettingsMap": {},
     "title": ""
    }
   },
   "outputs": [
    {
     "output_type": "display_data",
     "data": {
      "text/html": [
       "<style scoped>\n",
       "  .table-result-container {\n",
       "    max-height: 300px;\n",
       "    overflow: auto;\n",
       "  }\n",
       "  table, th, td {\n",
       "    border: 1px solid black;\n",
       "    border-collapse: collapse;\n",
       "  }\n",
       "  th, td {\n",
       "    padding: 5px;\n",
       "  }\n",
       "  th {\n",
       "    text-align: left;\n",
       "  }\n",
       "</style><div class='table-result-container'><table class='table-result'><thead style='background-color: white'><tr><th>path</th><th>name</th><th>size</th><th>modificationTime</th></tr></thead><tbody><tr><td>dbfs:/mnt/mtasubwaydl/raw/mta_daily_ridership_2020_2025.json</td><td>mta_daily_ridership_2020_2025.json</td><td>501969</td><td>1740730500000</td></tr><tr><td>dbfs:/mnt/mtasubwaydl/raw/mta_entrances_and_exits.json</td><td>mta_entrances_and_exits.json</td><td>650980</td><td>1740730501000</td></tr><tr><td>dbfs:/mnt/mtasubwaydl/raw/mta_major_incidents.xml</td><td>mta_major_incidents.xml</td><td>904280</td><td>1741241272000</td></tr><tr><td>dbfs:/mnt/mtasubwaydl/raw/mta_subway_stations.csv</td><td>mta_subway_stations.csv</td><td>67843</td><td>1740730499000</td></tr><tr><td>dbfs:/mnt/mtasubwaydl/raw/mta_wi-fi_locations.csv</td><td>mta_wi-fi_locations.csv</td><td>44275</td><td>1740730499000</td></tr><tr><td>dbfs:/mnt/mtasubwaydl/raw/station_abbreviation.csv</td><td>station_abbreviation.csv</td><td>17284</td><td>1741346588000</td></tr></tbody></table></div>"
      ]
     },
     "metadata": {
      "application/vnd.databricks.v1+output": {
       "addedWidgets": {},
       "aggData": [],
       "aggError": "",
       "aggOverflow": false,
       "aggSchema": [],
       "aggSeriesLimitReached": false,
       "aggType": "",
       "arguments": {},
       "columnCustomDisplayInfos": {},
       "data": [
        [
         "dbfs:/mnt/mtasubwaydl/raw/mta_daily_ridership_2020_2025.json",
         "mta_daily_ridership_2020_2025.json",
         501969,
         1740730500000
        ],
        [
         "dbfs:/mnt/mtasubwaydl/raw/mta_entrances_and_exits.json",
         "mta_entrances_and_exits.json",
         650980,
         1740730501000
        ],
        [
         "dbfs:/mnt/mtasubwaydl/raw/mta_major_incidents.xml",
         "mta_major_incidents.xml",
         904280,
         1741241272000
        ],
        [
         "dbfs:/mnt/mtasubwaydl/raw/mta_subway_stations.csv",
         "mta_subway_stations.csv",
         67843,
         1740730499000
        ],
        [
         "dbfs:/mnt/mtasubwaydl/raw/mta_wi-fi_locations.csv",
         "mta_wi-fi_locations.csv",
         44275,
         1740730499000
        ],
        [
         "dbfs:/mnt/mtasubwaydl/raw/station_abbreviation.csv",
         "station_abbreviation.csv",
         17284,
         1741346588000
        ]
       ],
       "datasetInfos": [],
       "dbfsResultPath": null,
       "isJsonSchema": true,
       "metadata": {},
       "overflow": false,
       "plotOptions": {
        "customPlotOptions": {},
        "displayType": "table",
        "pivotAggregation": null,
        "pivotColumns": null,
        "xColumns": null,
        "yColumns": null
       },
       "removedWidgets": [],
       "schema": [
        {
         "metadata": "{}",
         "name": "path",
         "type": "\"string\""
        },
        {
         "metadata": "{}",
         "name": "name",
         "type": "\"string\""
        },
        {
         "metadata": "{}",
         "name": "size",
         "type": "\"long\""
        },
        {
         "metadata": "{}",
         "name": "modificationTime",
         "type": "\"long\""
        }
       ],
       "type": "table"
      }
     },
     "output_type": "display_data"
    }
   ],
   "source": [
    "display(dbutils.fs.ls(\"/mnt/mtasubwaydl/raw\"))"
   ]
  },
  {
   "cell_type": "code",
   "execution_count": 0,
   "metadata": {
    "application/vnd.databricks.v1+cell": {
     "cellMetadata": {
      "byteLimit": 2048000,
      "rowLimit": 10000
     },
     "inputWidgets": {},
     "nuid": "b5135d37-943c-45e3-bcb3-947129db3e23",
     "showTitle": false,
     "tableResultSettingsMap": {},
     "title": ""
    }
   },
   "outputs": [
    {
     "output_type": "display_data",
     "data": {
      "text/html": [
       "<style scoped>\n",
       "  .table-result-container {\n",
       "    max-height: 300px;\n",
       "    overflow: auto;\n",
       "  }\n",
       "  table, th, td {\n",
       "    border: 1px solid black;\n",
       "    border-collapse: collapse;\n",
       "  }\n",
       "  th, td {\n",
       "    padding: 5px;\n",
       "  }\n",
       "  th {\n",
       "    text-align: left;\n",
       "  }\n",
       "</style><div class='table-result-container'><table class='table-result'><thead style='background-color: white'><tr><th>path</th><th>name</th><th>size</th><th>modificationTime</th></tr></thead><tbody><tr><td>dbfs:/mnt/mtasubwaydl/bronze/entrance_exit/</td><td>entrance_exit/</td><td>0</td><td>1741348290000</td></tr></tbody></table></div>"
      ]
     },
     "metadata": {
      "application/vnd.databricks.v1+output": {
       "addedWidgets": {},
       "aggData": [],
       "aggError": "",
       "aggOverflow": false,
       "aggSchema": [],
       "aggSeriesLimitReached": false,
       "aggType": "",
       "arguments": {},
       "columnCustomDisplayInfos": {},
       "data": [
        [
         "dbfs:/mnt/mtasubwaydl/bronze/entrance_exit/",
         "entrance_exit/",
         0,
         1741348290000
        ]
       ],
       "datasetInfos": [],
       "dbfsResultPath": null,
       "isJsonSchema": true,
       "metadata": {},
       "overflow": false,
       "plotOptions": {
        "customPlotOptions": {},
        "displayType": "table",
        "pivotAggregation": null,
        "pivotColumns": null,
        "xColumns": null,
        "yColumns": null
       },
       "removedWidgets": [],
       "schema": [
        {
         "metadata": "{}",
         "name": "path",
         "type": "\"string\""
        },
        {
         "metadata": "{}",
         "name": "name",
         "type": "\"string\""
        },
        {
         "metadata": "{}",
         "name": "size",
         "type": "\"long\""
        },
        {
         "metadata": "{}",
         "name": "modificationTime",
         "type": "\"long\""
        }
       ],
       "type": "table"
      }
     },
     "output_type": "display_data"
    }
   ],
   "source": [
    "display(dbutils.fs.ls(\"/mnt/mtasubwaydl/bronze\"))"
   ]
  },
  {
   "cell_type": "code",
   "execution_count": 0,
   "metadata": {
    "application/vnd.databricks.v1+cell": {
     "cellMetadata": {},
     "inputWidgets": {},
     "nuid": "1257302e-5d20-4d53-ae78-04e9a2655233",
     "showTitle": false,
     "tableResultSettingsMap": {},
     "title": ""
    }
   },
   "outputs": [],
   "source": []
  }
 ],
 "metadata": {
  "application/vnd.databricks.v1+notebook": {
   "computePreferences": null,
   "dashboards": [],
   "environmentMetadata": {
    "base_environment": "",
    "environment_version": "2"
   },
   "language": "python",
   "notebookMetadata": {
    "pythonIndentUnit": 4
   },
   "notebookName": "mount_adls_service_principal",
   "widgets": {}
  },
  "language_info": {
   "name": "python"
  }
 },
 "nbformat": 4,
 "nbformat_minor": 0
}
